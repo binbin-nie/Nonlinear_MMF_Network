{
  "nbformat": 4,
  "nbformat_minor": 0,
  "metadata": {
    "colab": {
      "name": "NEW_COVID-19_CTImage.ipynb",
      "provenance": [],
      "collapsed_sections": [],
      "machine_shape": "hm",
      "include_colab_link": true
    },
    "kernelspec": {
      "name": "python3",
      "display_name": "Python 3"
    },
    "accelerator": "GPU"
  },
  "cells": [
    {
      "cell_type": "markdown",
      "metadata": {
        "id": "view-in-github",
        "colab_type": "text"
      },
      "source": [
        "<a href=\"https://colab.research.google.com/github/ugurtegin/Nonlinear_MMF_Network/blob/main/Exp_LinReg/NEW_COVID_19_CTImage.ipynb\" target=\"_parent\"><img src=\"https://colab.research.google.com/assets/colab-badge.svg\" alt=\"Open In Colab\"/></a>"
      ]
    },
    {
      "cell_type": "code",
      "metadata": {
        "id": "plRoSF3YWrl5",
        "colab": {
          "base_uri": "https://localhost:8080/"
        },
        "outputId": "af5d8d5e-3771-4a99-91d5-1df16fcfb342"
      },
      "source": [
        "import numpy as np\n",
        "import matplotlib.pyplot as plt\n",
        "import scipy.io as sio\n",
        "import tensorflow as tf\n",
        "\n",
        "\n",
        "from tensorflow import keras\n",
        "from sklearn.model_selection import train_test_split\n",
        "from tensorflow.keras.models import Model,Sequential\n",
        "from tensorflow.keras.layers import Input, Activation, LSTM\n",
        "from tensorflow.keras.layers import Dense, Dropout, Flatten, Conv2D, MaxPooling2D, AveragePooling2D \n",
        "from tensorflow.keras.optimizers import SGD, Adam\n",
        "from tensorflow.keras.utils import to_categorical\n",
        "\n",
        "\n",
        "# Load the Drive helper and mount\n",
        "from google.colab import drive\n",
        "\n",
        "# This will prompt for authorization.\n",
        "drive.mount('/content/drive')"
      ],
      "execution_count": null,
      "outputs": [
        {
          "output_type": "stream",
          "text": [
            "Drive already mounted at /content/drive; to attempt to forcibly remount, call drive.mount(\"/content/drive\", force_remount=True).\n"
          ],
          "name": "stdout"
        }
      ]
    },
    {
      "cell_type": "code",
      "metadata": {
        "id": "PDK63hJmW5D4"
      },
      "source": [
        "import scipy.io as sio\n",
        "f = sio.loadmat('/content/drive/MyDrive/res_sq_flt2_2.mat')\n",
        "inp = f['res_sq_flt']\n",
        "\n",
        "#Load data\n",
        "f2 = sio.loadmat('/content/drive/MyDrive/label.mat')\n",
        "\n",
        "out = f2['label']"
      ],
      "execution_count": null,
      "outputs": []
    },
    {
      "cell_type": "code",
      "metadata": {
        "id": "pYBJB9YglGiX",
        "colab": {
          "base_uri": "https://localhost:8080/"
        },
        "outputId": "b81f871f-3f80-4e6b-f5ad-67763820a65c"
      },
      "source": [
        "input_data = inp\n",
        "output_data = out\n",
        "\n",
        "print('input_data : ', input_data.shape, input_data.dtype)\n",
        "print('output_class : ', output_data.shape, output_data.dtype)\n",
        "print()"
      ],
      "execution_count": null,
      "outputs": [
        {
          "output_type": "stream",
          "text": [
            "input_data :  (2481, 484) float64\n",
            "output_class :  (2481, 1) uint8\n",
            "\n"
          ],
          "name": "stdout"
        }
      ]
    },
    {
      "cell_type": "code",
      "metadata": {
        "id": "kdjC6qIyUMOc",
        "colab": {
          "base_uri": "https://localhost:8080/"
        },
        "outputId": "c96c1e28-895a-4983-b263-6c75cf163299"
      },
      "source": [
        "input_data.shape"
      ],
      "execution_count": null,
      "outputs": [
        {
          "output_type": "execute_result",
          "data": {
            "text/plain": [
              "(2481, 484)"
            ]
          },
          "metadata": {
            "tags": []
          },
          "execution_count": 12
        }
      ]
    },
    {
      "cell_type": "code",
      "metadata": {
        "id": "JMVZ-aoTk1wf",
        "colab": {
          "base_uri": "https://localhost:8080/"
        },
        "outputId": "2147842f-7e1e-4f4a-94ee-b5dcf470dca8"
      },
      "source": [
        "oran = 0.20\n",
        "X_train, X_test, y_train, y_test = train_test_split(input_data, output_data, test_size=oran)\n",
        "\n",
        "print('Test data : ', X_test.shape, X_test.dtype)\n",
        "print('Training data : ', X_train.shape, X_train.dtype)\n",
        "print()"
      ],
      "execution_count": null,
      "outputs": [
        {
          "output_type": "stream",
          "text": [
            "Test data :  (497, 484) float64\n",
            "Training data :  (1984, 484) float64\n",
            "\n"
          ],
          "name": "stdout"
        }
      ]
    },
    {
      "cell_type": "code",
      "metadata": {
        "id": "SycmK62goI2t"
      },
      "source": [
        "model = Sequential()\n",
        "model.add(Dense(1, input_dim=484, activation='sigmoid'))"
      ],
      "execution_count": null,
      "outputs": []
    },
    {
      "cell_type": "code",
      "metadata": {
        "id": "Sg1arrHHoSF1",
        "colab": {
          "base_uri": "https://localhost:8080/"
        },
        "outputId": "23b0c62d-fa4d-4e09-e2d5-5ffc0ae0e82f"
      },
      "source": [
        "loss='binary_crossentropy'\n",
        "metrics = ['accuracy']  # network accuracy metric to be determined after each epoch\n",
        "\n",
        "opt1 = SGD(lr=0.001, momentum=0.9)\n",
        "opt2 = Adam(lr=0.001, beta_1=0.9, beta_2=0.999)\n",
        "\n",
        "model.compile(optimizer=opt2, loss=loss, metrics=metrics)\n",
        "model.summary()"
      ],
      "execution_count": null,
      "outputs": [
        {
          "output_type": "stream",
          "text": [
            "Model: \"sequential\"\n",
            "_________________________________________________________________\n",
            "Layer (type)                 Output Shape              Param #   \n",
            "=================================================================\n",
            "dense (Dense)                (None, 1)                 485       \n",
            "=================================================================\n",
            "Total params: 485\n",
            "Trainable params: 485\n",
            "Non-trainable params: 0\n",
            "_________________________________________________________________\n"
          ],
          "name": "stdout"
        }
      ]
    },
    {
      "cell_type": "code",
      "metadata": {
        "id": "ZavprgepoUEE",
        "colab": {
          "base_uri": "https://localhost:8080/"
        },
        "outputId": "88f5e8ec-6944-48b1-9243-87dd0e2416e6"
      },
      "source": [
        "#setting final parameters for the network and it begins to train\n",
        "number_of_iterations = 30\n",
        "batch_size = 50\n",
        "\n",
        "#history=model.fit(X_train, y_train, validation_data=(X_test, y_test), epochs=3)\n",
        "history=model.fit(X_train, y_train, batch_size=batch_size, epochs=number_of_iterations, verbose=1, validation_data=(X_test, y_test))\n",
        "#Number of iterations run: 900"
      ],
      "execution_count": null,
      "outputs": [
        {
          "output_type": "stream",
          "text": [
            "Epoch 1/30\n",
            "40/40 [==============================] - 0s 7ms/step - loss: 0.7775 - accuracy: 0.5222 - val_loss: 0.6764 - val_accuracy: 0.5855\n",
            "Epoch 2/30\n",
            "40/40 [==============================] - 0s 3ms/step - loss: 0.6082 - accuracy: 0.6754 - val_loss: 0.5564 - val_accuracy: 0.7344\n",
            "Epoch 3/30\n",
            "40/40 [==============================] - 0s 3ms/step - loss: 0.5087 - accuracy: 0.7737 - val_loss: 0.4819 - val_accuracy: 0.7867\n",
            "Epoch 4/30\n",
            "40/40 [==============================] - 0s 3ms/step - loss: 0.4446 - accuracy: 0.8261 - val_loss: 0.4290 - val_accuracy: 0.8350\n",
            "Epoch 5/30\n",
            "40/40 [==============================] - 0s 3ms/step - loss: 0.3960 - accuracy: 0.8493 - val_loss: 0.3964 - val_accuracy: 0.8431\n",
            "Epoch 6/30\n",
            "40/40 [==============================] - 0s 3ms/step - loss: 0.3599 - accuracy: 0.8669 - val_loss: 0.3585 - val_accuracy: 0.8853\n",
            "Epoch 7/30\n",
            "40/40 [==============================] - 0s 3ms/step - loss: 0.3320 - accuracy: 0.8805 - val_loss: 0.3341 - val_accuracy: 0.8934\n",
            "Epoch 8/30\n",
            "40/40 [==============================] - 0s 3ms/step - loss: 0.3089 - accuracy: 0.8926 - val_loss: 0.3149 - val_accuracy: 0.9054\n",
            "Epoch 9/30\n",
            "40/40 [==============================] - 0s 3ms/step - loss: 0.2930 - accuracy: 0.8992 - val_loss: 0.3028 - val_accuracy: 0.9014\n",
            "Epoch 10/30\n",
            "40/40 [==============================] - 0s 3ms/step - loss: 0.2761 - accuracy: 0.9037 - val_loss: 0.2879 - val_accuracy: 0.9135\n",
            "Epoch 11/30\n",
            "40/40 [==============================] - 0s 3ms/step - loss: 0.2620 - accuracy: 0.9113 - val_loss: 0.2746 - val_accuracy: 0.9175\n",
            "Epoch 12/30\n",
            "40/40 [==============================] - 0s 3ms/step - loss: 0.2513 - accuracy: 0.9183 - val_loss: 0.2672 - val_accuracy: 0.9256\n",
            "Epoch 13/30\n",
            "40/40 [==============================] - 0s 3ms/step - loss: 0.2416 - accuracy: 0.9244 - val_loss: 0.2589 - val_accuracy: 0.9175\n",
            "Epoch 14/30\n",
            "40/40 [==============================] - 0s 3ms/step - loss: 0.2327 - accuracy: 0.9259 - val_loss: 0.2509 - val_accuracy: 0.9296\n",
            "Epoch 15/30\n",
            "40/40 [==============================] - 0s 3ms/step - loss: 0.2271 - accuracy: 0.9274 - val_loss: 0.2477 - val_accuracy: 0.9235\n",
            "Epoch 16/30\n",
            "40/40 [==============================] - 0s 3ms/step - loss: 0.2187 - accuracy: 0.9269 - val_loss: 0.2383 - val_accuracy: 0.9276\n",
            "Epoch 17/30\n",
            "40/40 [==============================] - 0s 3ms/step - loss: 0.2122 - accuracy: 0.9315 - val_loss: 0.2327 - val_accuracy: 0.9256\n",
            "Epoch 18/30\n",
            "40/40 [==============================] - 0s 3ms/step - loss: 0.2055 - accuracy: 0.9340 - val_loss: 0.2296 - val_accuracy: 0.9155\n",
            "Epoch 19/30\n",
            "40/40 [==============================] - 0s 3ms/step - loss: 0.2018 - accuracy: 0.9340 - val_loss: 0.2248 - val_accuracy: 0.9175\n",
            "Epoch 20/30\n",
            "40/40 [==============================] - 0s 3ms/step - loss: 0.1956 - accuracy: 0.9365 - val_loss: 0.2203 - val_accuracy: 0.9235\n",
            "Epoch 21/30\n",
            "40/40 [==============================] - 0s 3ms/step - loss: 0.1916 - accuracy: 0.9375 - val_loss: 0.2163 - val_accuracy: 0.9276\n",
            "Epoch 22/30\n",
            "40/40 [==============================] - 0s 3ms/step - loss: 0.1865 - accuracy: 0.9395 - val_loss: 0.2154 - val_accuracy: 0.9336\n",
            "Epoch 23/30\n",
            "40/40 [==============================] - 0s 3ms/step - loss: 0.1834 - accuracy: 0.9441 - val_loss: 0.2114 - val_accuracy: 0.9276\n",
            "Epoch 24/30\n",
            "40/40 [==============================] - 0s 3ms/step - loss: 0.1785 - accuracy: 0.9441 - val_loss: 0.2074 - val_accuracy: 0.9235\n",
            "Epoch 25/30\n",
            "40/40 [==============================] - 0s 3ms/step - loss: 0.1749 - accuracy: 0.9476 - val_loss: 0.2104 - val_accuracy: 0.9235\n",
            "Epoch 26/30\n",
            "40/40 [==============================] - 0s 3ms/step - loss: 0.1724 - accuracy: 0.9466 - val_loss: 0.2036 - val_accuracy: 0.9296\n",
            "Epoch 27/30\n",
            "40/40 [==============================] - 0s 3ms/step - loss: 0.1682 - accuracy: 0.9486 - val_loss: 0.2009 - val_accuracy: 0.9336\n",
            "Epoch 28/30\n",
            "40/40 [==============================] - 0s 3ms/step - loss: 0.1654 - accuracy: 0.9506 - val_loss: 0.2006 - val_accuracy: 0.9296\n",
            "Epoch 29/30\n",
            "40/40 [==============================] - 0s 3ms/step - loss: 0.1637 - accuracy: 0.9541 - val_loss: 0.1961 - val_accuracy: 0.9336\n",
            "Epoch 30/30\n",
            "40/40 [==============================] - 0s 3ms/step - loss: 0.1603 - accuracy: 0.9506 - val_loss: 0.1941 - val_accuracy: 0.9316\n"
          ],
          "name": "stdout"
        }
      ]
    },
    {
      "cell_type": "code",
      "metadata": {
        "id": "32jFj14Qz_qx",
        "colab": {
          "base_uri": "https://localhost:8080/",
          "height": 573
        },
        "outputId": "dbf42a6e-ed4e-4c71-90fc-3f02ef8036ca"
      },
      "source": [
        "from google.colab import files\n",
        "ac=plt.figure()\n",
        "plt.plot(history.history['accuracy'])\n",
        "plt.plot(history.history['val_accuracy'])\n",
        "plt.title('model accuracy')\n",
        "plt.ylabel('accuracy')\n",
        "plt.xlabel('epoch')\n",
        "plt.legend(['train', 'test'], loc='upper left')\n",
        "ac.show()\n",
        "#ac.savefig('acc-1.png')\n",
        "#files.download('acc-1.png')\n",
        "\n",
        "# summarize history for loss\n",
        "ls=plt.figure()\n",
        "plt.plot(history.history['loss'])\n",
        "plt.plot(history.history['val_loss'])\n",
        "plt.title('model loss')\n",
        "plt.ylabel('loss')\n",
        "plt.xlabel('epoch')\n",
        "plt.legend(['train', 'test'], loc='upper left')\n",
        "ls.show()\n",
        "#ls.savefig('loss-1.png')\n",
        "#files.download('loss-1.png')"
      ],
      "execution_count": null,
      "outputs": [
        {
          "output_type": "display_data",
          "data": {
            "image/png": "[encoded data removed]",
            "text/plain": [
              "<Figure size 432x288 with 1 Axes>"
            ]
          },
          "metadata": {
            "tags": [],
            "needs_background": "light"
          }
        },
        {
          "output_type": "display_data",
          "data": {
            "image/png": "[encoded data removed]",
            "text/plain": [
              "<Figure size 432x288 with 1 Axes>"
            ]
          },
          "metadata": {
            "tags": [],
            "needs_background": "light"
          }
        }
      ]
    },
    {
      "cell_type": "code",
      "metadata": {
        "id": "yExu5w-b_pk5"
      },
      "source": [
        "sio.savemat('/content/drive/My Drive/Research/MMF_Reservoir/covid/network_res.mat', {'y':out, 'X_test':X_test, 'X_train':X_train, 'y_test':y_test, 'y_train':y_train, 'acc':history.history['accuracy'], 'val_acc':history.history['val_accuracy'], 'loss':history.history['loss'], 'val_loss':history.history['val_loss']})"
      ],
      "execution_count": null,
      "outputs": []
    },
    {
      "cell_type": "code",
      "metadata": {
        "id": "gSIIagkbcyLK",
        "colab": {
          "base_uri": "https://localhost:8080/",
          "height": 367
        },
        "outputId": "92a6ac7e-fb28-4e2f-a932-35878ed12c2e"
      },
      "source": [
        "def plot_confusion_matrix(cm, classes,\n",
        "\n",
        "                        normalize=False,\n",
        "\n",
        "                        title='Confusion matrix',\n",
        "\n",
        "                        cmap=plt.cm.Blues):\n",
        "\n",
        "    \"\"\"\n",
        "\n",
        "    This function prints and plots the confusion matrix.\n",
        "\n",
        "    Normalization can be applied by setting `normalize=True`.\n",
        "\n",
        "    \"\"\"\n",
        "\n",
        "    plt.imshow(cm, interpolation='nearest', cmap=cmap)\n",
        "\n",
        "    plt.title(title)\n",
        "\n",
        "    plt.colorbar()\n",
        "\n",
        "    tick_marks = np.arange(len(classes))\n",
        "\n",
        "    plt.xticks(tick_marks, classes, rotation=45)\n",
        "\n",
        "    plt.yticks(tick_marks, classes)\n",
        "\n",
        "\n",
        "\n",
        "    if normalize:\n",
        "\n",
        "        cm = cm.astype('float') / cm.sum(axis=1)[:, np.newaxis]\n",
        "\n",
        "        print(\"Normalized confusion matrix\")\n",
        "\n",
        "    else:\n",
        "\n",
        "        print('Confusion matrix, without normalization')\n",
        "\n",
        "\n",
        "\n",
        "    print(cm)\n",
        "\n",
        "\n",
        "\n",
        "    thresh = cm.max() / 2.\n",
        "\n",
        "    for i, j in itertools.product(range(cm.shape[0]), range(cm.shape[1])):\n",
        "\n",
        "        plt.text(j, i, cm[i, j],\n",
        "\n",
        "            horizontalalignment=\"center\",\n",
        "\n",
        "            color=\"white\" if cm[i, j] > thresh else \"black\")\n",
        "\n",
        "\n",
        "\n",
        "    plt.tight_layout()\n",
        "\n",
        "    plt.ylabel('True label')\n",
        "\n",
        "    plt.xlabel('Predicted label')\n",
        "\n",
        "\n",
        "\n",
        "\n",
        "%matplotlib inline\n",
        "\n",
        "from sklearn.metrics import confusion_matrix\n",
        "\n",
        "import itertools\n",
        "\n",
        "import matplotlib.pyplot as plt\n",
        "\n",
        "\n",
        "\n",
        "cm_plot_labels = ['no_side_effects','had_side_effects']\n",
        "\n",
        "\n",
        "\n",
        "cm = confusion_matrix(y_true=y_test, y_pred=np.round(model.predict(X_test)))\n",
        "\n",
        "\n",
        "\n",
        "plot_confusion_matrix(cm=cm, classes=cm_plot_labels, title='Confusion Matrix')"
      ],
      "execution_count": null,
      "outputs": [
        {
          "output_type": "stream",
          "text": [
            "Confusion matrix, without normalization\n",
            "[[225  16]\n",
            " [ 18 238]]\n"
          ],
          "name": "stdout"
        },
        {
          "output_type": "display_data",
          "data": {
            "image/png": "[encoded data removed]",
            "text/plain": [
              "<Figure size 432x288 with 2 Axes>"
            ]
          },
          "metadata": {
            "tags": [],
            "needs_background": "light"
          }
        }
      ]
    },
    {
      "cell_type": "code",
      "metadata": {
        "id": "Ja4N5r2n8KtW",
        "colab": {
          "base_uri": "https://localhost:8080/",
          "height": 284
        },
        "outputId": "639d5ba2-9b07-4ddd-da23-f75552520f50"
      },
      "source": [
        "y_pred=np.round(model.predict(X_test))\n",
        "y_true=np.argmax(y_test,1)\n",
        "\n",
        "plt.plot(y_pred)"
      ],
      "execution_count": null,
      "outputs": [
        {
          "output_type": "execute_result",
          "data": {
            "text/plain": [
              "[<matplotlib.lines.Line2D at 0x7fd5311ac8d0>]"
            ]
          },
          "metadata": {
            "tags": []
          },
          "execution_count": 24
        },
        {
          "output_type": "display_data",
          "data": {
            "image/png": "[encoded data removed]",
            "text/plain": [
              "<Figure size 432x288 with 1 Axes>"
            ]
          },
          "metadata": {
            "tags": [],
            "needs_background": "light"
          }
        }
      ]
    }
  ]
}
