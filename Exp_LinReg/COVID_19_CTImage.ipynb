{
  "nbformat": 4,
  "nbformat_minor": 0,
  "metadata": {
    "colab": {
      "name": "COVID-19_CTImage.ipynb",
      "provenance": [],
      "collapsed_sections": [],
      "machine_shape": "hm",
      "include_colab_link": true
    },
    "kernelspec": {
      "name": "python3",
      "display_name": "Python 3"
    },
    "accelerator": "GPU"
  },
  "cells": [
    {
      "cell_type": "markdown",
      "metadata": {
        "id": "view-in-github",
        "colab_type": "text"
      },
      "source": [
        "<a href=\"https://colab.research.google.com/github/ugurtegin/Nonlinear_MMF_Network/blob/main/Exp_LinReg/COVID_19_CTImage.ipynb\" target=\"_parent\"><img src=\"https://colab.research.google.com/assets/colab-badge.svg\" alt=\"Open In Colab\"/></a>"
      ]
    },
    {
      "cell_type": "code",
      "metadata": {
        "id": "plRoSF3YWrl5",
        "colab": {
          "base_uri": "https://localhost:8080/"
        },
        "outputId": "c1ff8473-5458-47cb-ffda-2b90afa42691"
      },
      "source": [
        "import numpy as np\n",
        "import matplotlib.pyplot as plt\n",
        "import scipy.io as sio\n",
        "import tensorflow as tf\n",
        "\n",
        "\n",
        "from tensorflow import keras\n",
        "from sklearn.model_selection import train_test_split\n",
        "from tensorflow.keras.models import Model,Sequential\n",
        "from tensorflow.keras.layers import Input, Activation, LSTM\n",
        "from tensorflow.keras.layers import Dense, Dropout, Flatten, Conv2D, MaxPooling2D, AveragePooling2D \n",
        "from tensorflow.keras.optimizers import SGD, Adam\n",
        "from tensorflow.keras.utils import to_categorical\n",
        "\n",
        "\n",
        "# Load the Drive helper and mount\n",
        "from google.colab import drive\n",
        "\n",
        "# This will prompt for authorization.\n",
        "drive.mount('/content/drive')"
      ],
      "execution_count": 1,
      "outputs": [
        {
          "output_type": "stream",
          "text": [
            "Drive already mounted at /content/drive; to attempt to forcibly remount, call drive.mount(\"/content/drive\", force_remount=True).\n"
          ],
          "name": "stdout"
        }
      ]
    },
    {
      "cell_type": "code",
      "metadata": {
        "id": "PDK63hJmW5D4"
      },
      "source": [
        "import scipy.io as sio\n",
        "f = sio.loadmat('/content/drive/My Drive/Research/MMF_Reservoir/covid/res_sq_flt4.mat')\n",
        "inp = f['res_sq_flt']\n",
        "\n",
        "#Load data\n",
        "f2 = sio.loadmat('/content/drive/My Drive/Research/MMF_Reservoir/covid/label.mat')\n",
        "\n",
        "out = f2['y']"
      ],
      "execution_count": 2,
      "outputs": []
    },
    {
      "cell_type": "code",
      "metadata": {
        "id": "pYBJB9YglGiX",
        "colab": {
          "base_uri": "https://localhost:8080/"
        },
        "outputId": "b78c158f-0a95-497b-9db0-22f3a4d665ed"
      },
      "source": [
        "input_data = inp\n",
        "output_data = out\n",
        "\n",
        "print('input_data : ', input_data.shape, input_data.dtype)\n",
        "print('output_class : ', output_data.shape, output_data.dtype)\n",
        "print()"
      ],
      "execution_count": 3,
      "outputs": [
        {
          "output_type": "stream",
          "text": [
            "input_data :  (544, 484) float64\n",
            "output_class :  (544, 1) uint8\n",
            "\n"
          ],
          "name": "stdout"
        }
      ]
    },
    {
      "cell_type": "code",
      "metadata": {
        "id": "kdjC6qIyUMOc",
        "colab": {
          "base_uri": "https://localhost:8080/"
        },
        "outputId": "7fe08b5e-20d6-41f8-cf70-9bcd4e072852"
      },
      "source": [
        "input_data.shape"
      ],
      "execution_count": 4,
      "outputs": [
        {
          "output_type": "execute_result",
          "data": {
            "text/plain": [
              "(544, 484)"
            ]
          },
          "metadata": {
            "tags": []
          },
          "execution_count": 4
        }
      ]
    },
    {
      "cell_type": "code",
      "metadata": {
        "id": "JMVZ-aoTk1wf",
        "colab": {
          "base_uri": "https://localhost:8080/"
        },
        "outputId": "0ee21719-5f35-4ba3-aca1-01727d3590ab"
      },
      "source": [
        "oran = 0.20\n",
        "X_train, X_test, y_train, y_test = train_test_split(input_data, output_data, test_size=oran)\n",
        "\n",
        "print('Test data : ', X_test.shape, X_test.dtype)\n",
        "print('Training data : ', X_train.shape, X_train.dtype)\n",
        "print()"
      ],
      "execution_count": 5,
      "outputs": [
        {
          "output_type": "stream",
          "text": [
            "Test data :  (109, 484) float64\n",
            "Training data :  (435, 484) float64\n",
            "\n"
          ],
          "name": "stdout"
        }
      ]
    },
    {
      "cell_type": "code",
      "metadata": {
        "id": "SycmK62goI2t"
      },
      "source": [
        "model = Sequential()\n",
        "model.add(Dense(1, input_dim=484, activation='sigmoid'))"
      ],
      "execution_count": 6,
      "outputs": []
    },
    {
      "cell_type": "code",
      "metadata": {
        "id": "Sg1arrHHoSF1",
        "colab": {
          "base_uri": "https://localhost:8080/"
        },
        "outputId": "f113a2a2-df0d-441f-8fc4-fb2e28843ef4"
      },
      "source": [
        "loss='binary_crossentropy'\n",
        "metrics = ['accuracy']  # network accuracy metric to be determined after each epoch\n",
        "\n",
        "opt1 = SGD(lr=0.001, momentum=0.9)\n",
        "opt2 = Adam(lr=0.001, beta_1=0.9, beta_2=0.999)\n",
        "\n",
        "model.compile(optimizer=opt2, loss=loss, metrics=metrics)\n",
        "model.summary()"
      ],
      "execution_count": 7,
      "outputs": [
        {
          "output_type": "stream",
          "text": [
            "Model: \"sequential\"\n",
            "_________________________________________________________________\n",
            "Layer (type)                 Output Shape              Param #   \n",
            "=================================================================\n",
            "dense (Dense)                (None, 1)                 485       \n",
            "=================================================================\n",
            "Total params: 485\n",
            "Trainable params: 485\n",
            "Non-trainable params: 0\n",
            "_________________________________________________________________\n"
          ],
          "name": "stdout"
        }
      ]
    },
    {
      "cell_type": "code",
      "metadata": {
        "id": "ZavprgepoUEE",
        "colab": {
          "base_uri": "https://localhost:8080/"
        },
        "outputId": "357e1e2b-7628-4858-a57b-48b3c5832f07"
      },
      "source": [
        "#setting final parameters for the network and it begins to train\n",
        "number_of_iterations = 30\n",
        "batch_size = 50\n",
        "\n",
        "#history=model.fit(X_train, y_train, validation_data=(X_test, y_test), epochs=3)\n",
        "history=model.fit(X_train, y_train, batch_size=batch_size, epochs=number_of_iterations, verbose=1, validation_data=(X_test, y_test))\n",
        "#Number of iterations run: 900"
      ],
      "execution_count": 8,
      "outputs": [
        {
          "output_type": "stream",
          "text": [
            "Epoch 1/30\n",
            "9/9 [==============================] - 0s 17ms/step - loss: 0.7948 - accuracy: 0.5471 - val_loss: 0.7420 - val_accuracy: 0.5505\n",
            "Epoch 2/30\n",
            "9/9 [==============================] - 0s 4ms/step - loss: 0.7414 - accuracy: 0.5862 - val_loss: 0.7088 - val_accuracy: 0.5780\n",
            "Epoch 3/30\n",
            "9/9 [==============================] - 0s 4ms/step - loss: 0.7022 - accuracy: 0.6115 - val_loss: 0.6727 - val_accuracy: 0.6239\n",
            "Epoch 4/30\n",
            "9/9 [==============================] - 0s 4ms/step - loss: 0.6693 - accuracy: 0.6299 - val_loss: 0.6513 - val_accuracy: 0.6422\n",
            "Epoch 5/30\n",
            "9/9 [==============================] - 0s 4ms/step - loss: 0.6433 - accuracy: 0.6644 - val_loss: 0.6238 - val_accuracy: 0.6789\n",
            "Epoch 6/30\n",
            "9/9 [==============================] - 0s 4ms/step - loss: 0.6201 - accuracy: 0.6736 - val_loss: 0.6043 - val_accuracy: 0.7064\n",
            "Epoch 7/30\n",
            "9/9 [==============================] - 0s 4ms/step - loss: 0.6000 - accuracy: 0.6851 - val_loss: 0.5919 - val_accuracy: 0.7064\n",
            "Epoch 8/30\n",
            "9/9 [==============================] - 0s 4ms/step - loss: 0.5826 - accuracy: 0.7080 - val_loss: 0.5728 - val_accuracy: 0.7248\n",
            "Epoch 9/30\n",
            "9/9 [==============================] - 0s 4ms/step - loss: 0.5686 - accuracy: 0.7310 - val_loss: 0.5611 - val_accuracy: 0.7339\n",
            "Epoch 10/30\n",
            "9/9 [==============================] - 0s 4ms/step - loss: 0.5532 - accuracy: 0.7494 - val_loss: 0.5477 - val_accuracy: 0.7523\n",
            "Epoch 11/30\n",
            "9/9 [==============================] - 0s 4ms/step - loss: 0.5384 - accuracy: 0.7517 - val_loss: 0.5427 - val_accuracy: 0.7523\n",
            "Epoch 12/30\n",
            "9/9 [==============================] - 0s 4ms/step - loss: 0.5266 - accuracy: 0.7678 - val_loss: 0.5350 - val_accuracy: 0.7523\n",
            "Epoch 13/30\n",
            "9/9 [==============================] - 0s 4ms/step - loss: 0.5210 - accuracy: 0.7678 - val_loss: 0.5206 - val_accuracy: 0.7706\n",
            "Epoch 14/30\n",
            "9/9 [==============================] - 0s 4ms/step - loss: 0.5061 - accuracy: 0.7862 - val_loss: 0.5257 - val_accuracy: 0.7431\n",
            "Epoch 15/30\n",
            "9/9 [==============================] - 0s 4ms/step - loss: 0.4976 - accuracy: 0.7954 - val_loss: 0.5045 - val_accuracy: 0.7706\n",
            "Epoch 16/30\n",
            "9/9 [==============================] - 0s 4ms/step - loss: 0.4863 - accuracy: 0.8092 - val_loss: 0.5052 - val_accuracy: 0.7798\n",
            "Epoch 17/30\n",
            "9/9 [==============================] - 0s 4ms/step - loss: 0.4782 - accuracy: 0.7977 - val_loss: 0.5046 - val_accuracy: 0.7431\n",
            "Epoch 18/30\n",
            "9/9 [==============================] - 0s 4ms/step - loss: 0.4658 - accuracy: 0.8115 - val_loss: 0.4884 - val_accuracy: 0.7706\n",
            "Epoch 19/30\n",
            "9/9 [==============================] - 0s 4ms/step - loss: 0.4662 - accuracy: 0.8161 - val_loss: 0.4799 - val_accuracy: 0.7706\n",
            "Epoch 20/30\n",
            "9/9 [==============================] - 0s 4ms/step - loss: 0.4580 - accuracy: 0.8000 - val_loss: 0.5092 - val_accuracy: 0.7339\n",
            "Epoch 21/30\n",
            "9/9 [==============================] - 0s 4ms/step - loss: 0.4471 - accuracy: 0.8092 - val_loss: 0.4786 - val_accuracy: 0.7706\n",
            "Epoch 22/30\n",
            "9/9 [==============================] - 0s 4ms/step - loss: 0.4365 - accuracy: 0.8391 - val_loss: 0.4732 - val_accuracy: 0.7798\n",
            "Epoch 23/30\n",
            "9/9 [==============================] - 0s 4ms/step - loss: 0.4290 - accuracy: 0.8368 - val_loss: 0.4700 - val_accuracy: 0.7798\n",
            "Epoch 24/30\n",
            "9/9 [==============================] - 0s 4ms/step - loss: 0.4218 - accuracy: 0.8414 - val_loss: 0.4719 - val_accuracy: 0.7798\n",
            "Epoch 25/30\n",
            "9/9 [==============================] - 0s 4ms/step - loss: 0.4152 - accuracy: 0.8460 - val_loss: 0.4680 - val_accuracy: 0.7798\n",
            "Epoch 26/30\n",
            "9/9 [==============================] - 0s 4ms/step - loss: 0.4090 - accuracy: 0.8598 - val_loss: 0.4645 - val_accuracy: 0.7798\n",
            "Epoch 27/30\n",
            "9/9 [==============================] - 0s 5ms/step - loss: 0.4026 - accuracy: 0.8621 - val_loss: 0.4630 - val_accuracy: 0.8073\n",
            "Epoch 28/30\n",
            "9/9 [==============================] - 0s 4ms/step - loss: 0.3969 - accuracy: 0.8644 - val_loss: 0.4661 - val_accuracy: 0.8073\n",
            "Epoch 29/30\n",
            "9/9 [==============================] - 0s 4ms/step - loss: 0.3910 - accuracy: 0.8736 - val_loss: 0.4592 - val_accuracy: 0.8165\n",
            "Epoch 30/30\n",
            "9/9 [==============================] - 0s 5ms/step - loss: 0.3854 - accuracy: 0.8782 - val_loss: 0.4588 - val_accuracy: 0.8073\n"
          ],
          "name": "stdout"
        }
      ]
    },
    {
      "cell_type": "code",
      "metadata": {
        "id": "32jFj14Qz_qx",
        "colab": {
          "base_uri": "https://localhost:8080/",
          "height": 573
        },
        "outputId": "56d14a03-d280-46e6-ecfb-552b9d091b1c"
      },
      "source": [
        "from google.colab import files\n",
        "ac=plt.figure()\n",
        "plt.plot(history.history['accuracy'])\n",
        "plt.plot(history.history['val_accuracy'])\n",
        "plt.title('model accuracy')\n",
        "plt.ylabel('accuracy')\n",
        "plt.xlabel('epoch')\n",
        "plt.legend(['train', 'test'], loc='upper left')\n",
        "ac.show()\n",
        "#ac.savefig('acc-1.png')\n",
        "#files.download('acc-1.png')\n",
        "\n",
        "# summarize history for loss\n",
        "ls=plt.figure()\n",
        "plt.plot(history.history['loss'])\n",
        "plt.plot(history.history['val_loss'])\n",
        "plt.title('model loss')\n",
        "plt.ylabel('loss')\n",
        "plt.xlabel('epoch')\n",
        "plt.legend(['train', 'test'], loc='upper left')\n",
        "ls.show()\n",
        "#ls.savefig('loss-1.png')\n",
        "#files.download('loss-1.png')"
      ],
      "execution_count": 9,
      "outputs": [
        {
          "output_type": "display_data",
          "data": {
            "image/png": "[encoded data removed]",
            "text/plain": [
              "<Figure size 432x288 with 1 Axes>"
            ]
          },
          "metadata": {
            "tags": [],
            "needs_background": "light"
          }
        },
        {
          "output_type": "display_data",
          "data": {
            "image/png": "[encoded data removed]",
            "text/plain": [
              "<Figure size 432x288 with 1 Axes>"
            ]
          },
          "metadata": {
            "tags": [],
            "needs_background": "light"
          }
        }
      ]
    },
    {
      "cell_type": "code",
      "metadata": {
        "id": "yExu5w-b_pk5"
      },
      "source": [
        "sio.savemat('/content/drive/My Drive/Research/MMF_Reservoir/covid/network_res.mat', {'y':out, 'X_test':X_test, 'X_train':X_train, 'y_test':y_test, 'y_train':y_train, 'acc':history.history['accuracy'], 'val_acc':history.history['val_accuracy'], 'loss':history.history['loss'], 'val_loss':history.history['val_loss']})"
      ],
      "execution_count": 11,
      "outputs": []
    },
    {
      "cell_type": "code",
      "metadata": {
        "id": "gSIIagkbcyLK"
      },
      "source": [
        ""
      ],
      "execution_count": 10,
      "outputs": []
    }
  ]
}