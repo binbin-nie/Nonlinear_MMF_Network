{
  "nbformat": 4,
  "nbformat_minor": 0,
  "metadata": {
    "colab": {
      "name": "COVID-19_CTImage.ipynb",
      "provenance": [],
      "collapsed_sections": [],
      "machine_shape": "hm",
      "include_colab_link": true
    },
    "kernelspec": {
      "name": "python3",
      "display_name": "Python 3"
    },
    "accelerator": "GPU"
  },
  "cells": [
    {
      "cell_type": "markdown",
      "metadata": {
        "id": "view-in-github",
        "colab_type": "text"
      },
      "source": [
        "<a href=\"https://colab.research.google.com/github/ugurtegin/Nonlinear_MMF_Network/blob/main/Exp_LinReg/COVID_19_CTImage.ipynb\" target=\"_parent\"><img src=\"https://colab.research.google.com/assets/colab-badge.svg\" alt=\"Open In Colab\"/></a>"
      ]
    },
    {
      "cell_type": "code",
      "metadata": {
        "id": "plRoSF3YWrl5",
        "outputId": "ac9ae1b0-b43a-495c-c6a6-0cdc1bc0a41c",
        "colab": {
          "base_uri": "https://localhost:8080/"
        }
      },
      "source": [
        "import numpy as np\n",
        "import matplotlib.pyplot as plt\n",
        "import scipy.io as sio\n",
        "import tensorflow as tf\n",
        "\n",
        "\n",
        "\n",
        "from tensorflow import keras\n",
        "from sklearn.model_selection import train_test_split\n",
        "from tensorflow.keras.models import Model,Sequential\n",
        "from tensorflow.keras.layers import Input, Activation, LSTM\n",
        "from tensorflow.keras.layers import Dense, Dropout, Flatten, Conv2D, MaxPooling2D, AveragePooling2D \n",
        "from tensorflow.keras.optimizers import SGD, Adam\n",
        "from tensorflow.keras.utils import to_categorical\n",
        "\n",
        "\n",
        "\n",
        "# Load the Drive helper and mount\n",
        "from google.colab import drive\n",
        "\n",
        "# This will prompt for authorization.\n",
        "drive.mount('/content/drive')"
      ],
      "execution_count": 1,
      "outputs": [
        {
          "output_type": "stream",
          "text": [
            "Drive already mounted at /content/drive; to attempt to forcibly remount, call drive.mount(\"/content/drive\", force_remount=True).\n"
          ],
          "name": "stdout"
        }
      ]
    },
    {
      "cell_type": "code",
      "metadata": {
        "id": "PDK63hJmW5D4"
      },
      "source": [
        "import scipy.io as sio\n",
        "f = sio.loadmat('/content/drive/My Drive/Research/MMF_Reservoir/covid/res_sq_flt4.mat')\n",
        "inp = f['res_sq_flt']\n",
        "\n",
        "#Load data\n",
        "f2 = sio.loadmat('/content/drive/My Drive/Research/MMF_Reservoir/covid/label.mat')\n",
        "\n",
        "out = f2['y']"
      ],
      "execution_count": 2,
      "outputs": []
    },
    {
      "cell_type": "code",
      "metadata": {
        "id": "pYBJB9YglGiX",
        "outputId": "86636c57-e7cd-43b1-aeb3-2a756d0eeacf",
        "colab": {
          "base_uri": "https://localhost:8080/"
        }
      },
      "source": [
        "input_data = inp\n",
        "output_data = out\n",
        "\n",
        "print('input_data : ', input_data.shape, input_data.dtype)\n",
        "print('output_class : ', output_data.shape, output_data.dtype)\n",
        "print()"
      ],
      "execution_count": 3,
      "outputs": [
        {
          "output_type": "stream",
          "text": [
            "input_data :  (544, 484) float64\n",
            "output_class :  (544, 1) uint8\n",
            "\n"
          ],
          "name": "stdout"
        }
      ]
    },
    {
      "cell_type": "code",
      "metadata": {
        "id": "kdjC6qIyUMOc",
        "outputId": "3221f6d0-a740-426c-f2dc-0135277b72a2",
        "colab": {
          "base_uri": "https://localhost:8080/"
        }
      },
      "source": [
        "input_data.shape"
      ],
      "execution_count": 4,
      "outputs": [
        {
          "output_type": "execute_result",
          "data": {
            "text/plain": [
              "(544, 484)"
            ]
          },
          "metadata": {
            "tags": []
          },
          "execution_count": 4
        }
      ]
    },
    {
      "cell_type": "code",
      "metadata": {
        "id": "JMVZ-aoTk1wf",
        "outputId": "0af40f5d-f5c8-4c9b-e437-433a644bc82b",
        "colab": {
          "base_uri": "https://localhost:8080/"
        }
      },
      "source": [
        "oran = 0.20\n",
        "X_train, X_test, y_train, y_test = train_test_split(input_data, output_data, test_size=oran)\n",
        "\n",
        "print('Test data : ', X_test.shape, X_test.dtype)\n",
        "print('Training data : ', X_train.shape, X_train.dtype)\n",
        "print()"
      ],
      "execution_count": 5,
      "outputs": [
        {
          "output_type": "stream",
          "text": [
            "Test data :  (109, 484) float64\n",
            "Training data :  (435, 484) float64\n",
            "\n"
          ],
          "name": "stdout"
        }
      ]
    },
    {
      "cell_type": "code",
      "metadata": {
        "id": "SycmK62goI2t"
      },
      "source": [
        "model = Sequential()\n",
        "#model.add(Dense(2048*5, input_dim=10, activation='linear'))\n",
        "model.add(Dense(1, input_dim=484, activation='sigmoid'))\n",
        "#model.add(Dense(10, activation='softmax'))"
      ],
      "execution_count": 6,
      "outputs": []
    },
    {
      "cell_type": "code",
      "metadata": {
        "id": "Sg1arrHHoSF1",
        "outputId": "61a6fc55-5b88-4c47-b521-ea0639ff6649",
        "colab": {
          "base_uri": "https://localhost:8080/"
        }
      },
      "source": [
        "#loss='mean_squared_error' # mean_absolute_error, cosine_proximity\n",
        "loss='binary_crossentropy'\n",
        "#metrics = ['mean_squared_error']  # network accuracy metric to be determined after each epoch, mean_absolute_error, cosine_proximity\n",
        "metrics = ['accuracy']  # network accuracy metric to be determined after each epoch\n",
        "\n",
        "opt1 = SGD(lr=0.001, momentum=0.9)\n",
        "opt2 = Adam(lr=0.001, beta_1=0.9, beta_2=0.999)\n",
        "\n",
        "model.compile(optimizer=opt2, loss=loss, metrics=metrics)\n",
        "model.summary()"
      ],
      "execution_count": 7,
      "outputs": [
        {
          "output_type": "stream",
          "text": [
            "Model: \"sequential\"\n",
            "_________________________________________________________________\n",
            "Layer (type)                 Output Shape              Param #   \n",
            "=================================================================\n",
            "dense (Dense)                (None, 1)                 485       \n",
            "=================================================================\n",
            "Total params: 485\n",
            "Trainable params: 485\n",
            "Non-trainable params: 0\n",
            "_________________________________________________________________\n"
          ],
          "name": "stdout"
        }
      ]
    },
    {
      "cell_type": "code",
      "metadata": {
        "id": "ZavprgepoUEE",
        "outputId": "371d9ffb-16ae-4b3d-abf0-64e033502710",
        "colab": {
          "base_uri": "https://localhost:8080/"
        }
      },
      "source": [
        "#setting final parameters for the network and it begins to train\n",
        "number_of_iterations = 20\n",
        "batch_size = 50\n",
        "\n",
        "#history=model.fit(X_train, y_train, validation_data=(X_test, y_test), epochs=3)\n",
        "history=model.fit(X_train, y_train, batch_size=batch_size, epochs=number_of_iterations, verbose=1, validation_data=(X_test, y_test))\n",
        "#Number of iterations run: 900"
      ],
      "execution_count": 8,
      "outputs": [
        {
          "output_type": "stream",
          "text": [
            "Epoch 1/20\n",
            "9/9 [==============================] - 0s 15ms/step - loss: 0.8264 - accuracy: 0.5609 - val_loss: 0.7265 - val_accuracy: 0.5596\n",
            "Epoch 2/20\n",
            "9/9 [==============================] - 0s 3ms/step - loss: 0.7568 - accuracy: 0.5517 - val_loss: 0.6546 - val_accuracy: 0.6147\n",
            "Epoch 3/20\n",
            "9/9 [==============================] - 0s 4ms/step - loss: 0.7043 - accuracy: 0.5885 - val_loss: 0.6042 - val_accuracy: 0.6422\n",
            "Epoch 4/20\n",
            "9/9 [==============================] - 0s 4ms/step - loss: 0.6722 - accuracy: 0.6138 - val_loss: 0.5806 - val_accuracy: 0.6697\n",
            "Epoch 5/20\n",
            "9/9 [==============================] - 0s 4ms/step - loss: 0.6440 - accuracy: 0.6322 - val_loss: 0.5575 - val_accuracy: 0.7156\n",
            "Epoch 6/20\n",
            "9/9 [==============================] - 0s 4ms/step - loss: 0.6192 - accuracy: 0.6552 - val_loss: 0.5522 - val_accuracy: 0.7248\n",
            "Epoch 7/20\n",
            "9/9 [==============================] - 0s 4ms/step - loss: 0.6000 - accuracy: 0.6713 - val_loss: 0.5393 - val_accuracy: 0.7248\n",
            "Epoch 8/20\n",
            "9/9 [==============================] - 0s 4ms/step - loss: 0.5820 - accuracy: 0.6920 - val_loss: 0.5249 - val_accuracy: 0.7339\n",
            "Epoch 9/20\n",
            "9/9 [==============================] - 0s 3ms/step - loss: 0.5666 - accuracy: 0.7103 - val_loss: 0.5163 - val_accuracy: 0.7431\n",
            "Epoch 10/20\n",
            "9/9 [==============================] - 0s 3ms/step - loss: 0.5526 - accuracy: 0.7172 - val_loss: 0.5137 - val_accuracy: 0.7615\n",
            "Epoch 11/20\n",
            "9/9 [==============================] - 0s 3ms/step - loss: 0.5399 - accuracy: 0.7333 - val_loss: 0.4998 - val_accuracy: 0.7431\n",
            "Epoch 12/20\n",
            "9/9 [==============================] - 0s 4ms/step - loss: 0.5252 - accuracy: 0.7655 - val_loss: 0.4981 - val_accuracy: 0.7431\n",
            "Epoch 13/20\n",
            "9/9 [==============================] - 0s 4ms/step - loss: 0.5187 - accuracy: 0.7540 - val_loss: 0.4976 - val_accuracy: 0.7798\n",
            "Epoch 14/20\n",
            "9/9 [==============================] - 0s 3ms/step - loss: 0.5021 - accuracy: 0.7793 - val_loss: 0.4842 - val_accuracy: 0.7798\n",
            "Epoch 15/20\n",
            "9/9 [==============================] - 0s 4ms/step - loss: 0.4931 - accuracy: 0.7862 - val_loss: 0.4812 - val_accuracy: 0.7798\n",
            "Epoch 16/20\n",
            "9/9 [==============================] - 0s 4ms/step - loss: 0.4828 - accuracy: 0.7885 - val_loss: 0.4797 - val_accuracy: 0.7798\n",
            "Epoch 17/20\n",
            "9/9 [==============================] - 0s 4ms/step - loss: 0.4732 - accuracy: 0.7931 - val_loss: 0.4760 - val_accuracy: 0.7890\n",
            "Epoch 18/20\n",
            "9/9 [==============================] - 0s 4ms/step - loss: 0.4646 - accuracy: 0.7977 - val_loss: 0.4682 - val_accuracy: 0.8165\n",
            "Epoch 19/20\n",
            "9/9 [==============================] - 0s 4ms/step - loss: 0.4563 - accuracy: 0.8069 - val_loss: 0.4666 - val_accuracy: 0.8165\n",
            "Epoch 20/20\n",
            "9/9 [==============================] - 0s 4ms/step - loss: 0.4494 - accuracy: 0.8138 - val_loss: 0.4609 - val_accuracy: 0.8257\n"
          ],
          "name": "stdout"
        }
      ]
    },
    {
      "cell_type": "code",
      "metadata": {
        "id": "32jFj14Qz_qx",
        "outputId": "4818b986-8261-4ee9-b044-5a8566674f5c",
        "colab": {
          "base_uri": "https://localhost:8080/",
          "height": 573
        }
      },
      "source": [
        "from google.colab import files\n",
        "ac=plt.figure()\n",
        "plt.plot(history.history['accuracy'])\n",
        "plt.plot(history.history['val_accuracy'])\n",
        "plt.title('model accuracy')\n",
        "plt.ylabel('accuracy')\n",
        "plt.xlabel('epoch')\n",
        "plt.legend(['train', 'test'], loc='upper left')\n",
        "ac.show()\n",
        "#ac.savefig('acc-1.png')\n",
        "#files.download('acc-1.png')\n",
        "\n",
        "# summarize history for loss\n",
        "ls=plt.figure()\n",
        "plt.plot(history.history['loss'])\n",
        "plt.plot(history.history['val_loss'])\n",
        "plt.title('model loss')\n",
        "plt.ylabel('loss')\n",
        "plt.xlabel('epoch')\n",
        "plt.legend(['train', 'test'], loc='upper left')\n",
        "ls.show()\n",
        "#ls.savefig('loss-1.png')\n",
        "#files.download('loss-1.png')"
      ],
      "execution_count": 9,
      "outputs": [
        {
          "output_type": "display_data",
          "data": {
            "image/png": "[encoded data removed]",
            "text/plain": [
              "<Figure size 432x288 with 1 Axes>"
            ]
          },
          "metadata": {
            "tags": [],
            "needs_background": "light"
          }
        },
        {
          "output_type": "display_data",
          "data": {
            "image/png": "[encoded data removed]",
            "text/plain": [
              "<Figure size 432x288 with 1 Axes>"
            ]
          },
          "metadata": {
            "tags": [],
            "needs_background": "light"
          }
        }
      ]
    },
    {
      "cell_type": "code",
      "metadata": {
        "id": "75Zj0HNC-R8E",
        "outputId": "f79b0134-a860-4a91-fd29-0dffb64012f2",
        "colab": {
          "base_uri": "https://localhost:8080/"
        }
      },
      "source": [
        "abit = model.predict(X_test)\n",
        "abit.shape"
      ],
      "execution_count": 10,
      "outputs": [
        {
          "output_type": "execute_result",
          "data": {
            "text/plain": [
              "(109, 1)"
            ]
          },
          "metadata": {
            "tags": []
          },
          "execution_count": 10
        }
      ]
    },
    {
      "cell_type": "code",
      "metadata": {
        "id": "bU-pUaj3VCWC",
        "outputId": "597d9472-4fa0-46a2-db64-fe84ab747ddb",
        "colab": {
          "base_uri": "https://localhost:8080/"
        }
      },
      "source": [
        "print(np.round(abit[1]))\n",
        "print(y_test[1])"
      ],
      "execution_count": 11,
      "outputs": [
        {
          "output_type": "stream",
          "text": [
            "[1.]\n",
            "[1]\n"
          ],
          "name": "stdout"
        }
      ]
    },
    {
      "cell_type": "code",
      "metadata": {
        "id": "14-INgDU9Ar3",
        "outputId": "34e165fe-38e6-4994-bd5c-db88f3af7a7a",
        "colab": {
          "base_uri": "https://localhost:8080/"
        }
      },
      "source": [
        "from sklearn.metrics import mean_squared_error\n",
        "mean_squared_error(np.round(abit), y_test)"
      ],
      "execution_count": 12,
      "outputs": [
        {
          "output_type": "execute_result",
          "data": {
            "text/plain": [
              "0.17431192"
            ]
          },
          "metadata": {
            "tags": []
          },
          "execution_count": 12
        }
      ]
    },
    {
      "cell_type": "code",
      "metadata": {
        "id": "6e1oKddQy6vx",
        "outputId": "fbf30dbc-e8dc-47d7-b40d-33f74a5f75cd",
        "colab": {
          "base_uri": "https://localhost:8080/",
          "height": 295
        }
      },
      "source": [
        "bbs=plt.figure()\n",
        "plt.plot(np.round(abit), 'o')\n",
        "plt.plot(y_test, 'o')\n",
        "plt.title('Comparison')\n",
        "plt.ylabel('Mag of mode weight')\n",
        "plt.xlabel('Mode numbers')\n",
        "plt.legend(['DNNs prediction', 'Ground Truth'], loc='upper right')\n",
        "plt.show()\n",
        "#bbs.savefig('compa-1.png')\n",
        "#files.download('compa-1.png')"
      ],
      "execution_count": 13,
      "outputs": [
        {
          "output_type": "display_data",
          "data": {
            "image/png": "[encoded data removed]",
            "text/plain": [
              "<Figure size 432x288 with 1 Axes>"
            ]
          },
          "metadata": {
            "tags": [],
            "needs_background": "light"
          }
        }
      ]
    },
    {
      "cell_type": "code",
      "metadata": {
        "id": "yExu5w-b_pk5"
      },
      "source": [
        ""
      ],
      "execution_count": 13,
      "outputs": []
    }
  ]
}