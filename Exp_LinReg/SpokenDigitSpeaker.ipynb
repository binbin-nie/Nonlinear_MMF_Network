{
  "nbformat": 4,
  "nbformat_minor": 0,
  "metadata": {
    "colab": {
      "name": "SpokenDigitSpoker.ipynb",
      "provenance": [],
      "collapsed_sections": [],
      "machine_shape": "hm",
      "include_colab_link": true
    },
    "kernelspec": {
      "name": "python3",
      "display_name": "Python 3"
    },
    "accelerator": "GPU"
  },
  "cells": [
    {
      "cell_type": "markdown",
      "metadata": {
        "id": "view-in-github",
        "colab_type": "text"
      },
      "source": [
        "<a href=\"https://colab.research.google.com/github/ugurtegin/Nonlinear_MMF_Network/blob/main/Exp_LinReg/SpokenDigitSpeaker.ipynb\" target=\"_parent\"><img src=\"https://colab.research.google.com/assets/colab-badge.svg\" alt=\"Open In Colab\"/></a>"
      ]
    },
    {
      "cell_type": "code",
      "metadata": {
        "id": "plRoSF3YWrl5",
        "colab": {
          "base_uri": "https://localhost:8080/"
        },
        "outputId": "d1c0fc82-980e-4e28-dc5a-da3a97edd7a3"
      },
      "source": [
        "import numpy as np\n",
        "import matplotlib.pyplot as plt\n",
        "import scipy.io as sio\n",
        "import tensorflow as tf\n",
        "\n",
        "\n",
        "from tensorflow import keras\n",
        "from sklearn.model_selection import train_test_split\n",
        "from tensorflow.keras.models import Model,Sequential\n",
        "from tensorflow.keras.layers import Input, Activation, LSTM\n",
        "from tensorflow.keras.layers import Dense, Dropout, Flatten, Conv2D, MaxPooling2D, AveragePooling2D \n",
        "from tensorflow.keras.optimizers import SGD, Adam\n",
        "from tensorflow.keras.utils import to_categorical, normalize\n",
        "\n",
        "# Load the Drive helper and mount\n",
        "from google.colab import drive\n",
        "\n",
        "# This will prompt for authorization.\n",
        "drive.mount('/content/drive')"
      ],
      "execution_count": 1,
      "outputs": [
        {
          "output_type": "stream",
          "text": [
            "Mounted at /content/drive\n"
          ],
          "name": "stdout"
        }
      ]
    },
    {
      "cell_type": "code",
      "metadata": {
        "id": "PDK63hJmW5D4"
      },
      "source": [
        "import scipy.io as sio\n",
        "f = sio.loadmat('/content/drive/My Drive/Research/MMF_Reservoir/SpokenDigit/res_sq_flt2_2.mat')\n",
        "inp2 = f['res_sq_flt']\n",
        "\n",
        "#Load data\n",
        "f2 = sio.loadmat('/content/drive/My Drive/Research/MMF_Reservoir/SpokenDigit/label2_2.mat')\n",
        "\n",
        "out = f2['label2_2']\n"
      ],
      "execution_count": 2,
      "outputs": []
    },
    {
      "cell_type": "code",
      "metadata": {
        "id": "NsrEaZif34wA"
      },
      "source": [
        "#inp2 = inp / np.linalg.norm(inp)\n",
        "#inp2 = inp2*1000"
      ],
      "execution_count": 3,
      "outputs": []
    },
    {
      "cell_type": "code",
      "metadata": {
        "id": "pYBJB9YglGiX",
        "colab": {
          "base_uri": "https://localhost:8080/"
        },
        "outputId": "fcfe2aaa-d4b9-4752-d3fa-590cfa68aa64"
      },
      "source": [
        "input_data = inp2\n",
        "output_data = to_categorical(out-1)\n",
        "\n",
        "print('input_data : ', input_data.shape, input_data.dtype)\n",
        "print('output_class : ', output_data.shape, output_data.dtype)\n",
        "print()"
      ],
      "execution_count": 4,
      "outputs": [
        {
          "output_type": "stream",
          "text": [
            "input_data :  (3000, 484) float64\n",
            "output_class :  (3000, 6) float32\n",
            "\n"
          ],
          "name": "stdout"
        }
      ]
    },
    {
      "cell_type": "code",
      "metadata": {
        "id": "JMVZ-aoTk1wf",
        "colab": {
          "base_uri": "https://localhost:8080/"
        },
        "outputId": "cac2f018-985b-4ab2-c20a-a2c938ea6d43"
      },
      "source": [
        "oran = 0.20\n",
        "X_train, X_test, y_train, y_test = train_test_split(input_data, output_data, test_size=oran)\n",
        "\n",
        "print('Test data : ', X_test.shape, X_test.dtype)\n",
        "print('Training data : ', X_train.shape, X_train.dtype)\n",
        "print()"
      ],
      "execution_count": 5,
      "outputs": [
        {
          "output_type": "stream",
          "text": [
            "Test data :  (600, 484) float64\n",
            "Training data :  (2400, 484) float64\n",
            "\n"
          ],
          "name": "stdout"
        }
      ]
    },
    {
      "cell_type": "code",
      "metadata": {
        "id": "SycmK62goI2t"
      },
      "source": [
        "model = Sequential()\n",
        "model.add(Dense(6, input_dim=484, activation='softmax'))"
      ],
      "execution_count": 6,
      "outputs": []
    },
    {
      "cell_type": "code",
      "metadata": {
        "id": "Sg1arrHHoSF1",
        "colab": {
          "base_uri": "https://localhost:8080/"
        },
        "outputId": "131c820e-fbd7-452a-89df-b1ece835ffa2"
      },
      "source": [
        "loss='categorical_crossentropy' # mean_absolute_error, cosine_proximity\n",
        "metrics = ['accuracy']  # network accuracy metric to be determined after each epoch, mean_absolute_error, cosine_proximity\n",
        "\n",
        "opt1 = SGD(lr=0.001, momentum=0.9)\n",
        "opt2 = Adam(lr=0.001, beta_1=0.9, beta_2=0.999)\n",
        "\n",
        "model.compile(optimizer=opt2, loss=loss, metrics=metrics)\n",
        "model.summary()"
      ],
      "execution_count": 7,
      "outputs": [
        {
          "output_type": "stream",
          "text": [
            "Model: \"sequential\"\n",
            "_________________________________________________________________\n",
            "Layer (type)                 Output Shape              Param #   \n",
            "=================================================================\n",
            "dense (Dense)                (None, 6)                 2910      \n",
            "=================================================================\n",
            "Total params: 2,910\n",
            "Trainable params: 2,910\n",
            "Non-trainable params: 0\n",
            "_________________________________________________________________\n"
          ],
          "name": "stdout"
        }
      ]
    },
    {
      "cell_type": "code",
      "metadata": {
        "id": "ZavprgepoUEE",
        "colab": {
          "base_uri": "https://localhost:8080/"
        },
        "outputId": "0ce3ab2b-dfa8-42af-b6d4-1c737d6eeb27"
      },
      "source": [
        "#setting final parameters for the network and it begins to train\n",
        "number_of_iterations = 50\n",
        "batch_size = 50\n",
        "\n",
        "#history=model.fit(X_train, y_train, validation_data=(X_test, y_test), epochs=number_of_iterations)\n",
        "history=model.fit(X_train, y_train, batch_size=batch_size, epochs=number_of_iterations, verbose=1, validation_data=(X_test, y_test))\n",
        "#Number of iterations run: 900"
      ],
      "execution_count": 8,
      "outputs": [
        {
          "output_type": "stream",
          "text": [
            "Epoch 1/50\n",
            "48/48 [==============================] - 0s 4ms/step - loss: 1.6352 - accuracy: 0.3867 - val_loss: 1.3195 - val_accuracy: 0.5067\n",
            "Epoch 2/50\n",
            "48/48 [==============================] - 0s 2ms/step - loss: 1.0526 - accuracy: 0.6233 - val_loss: 1.0148 - val_accuracy: 0.6250\n",
            "Epoch 3/50\n",
            "48/48 [==============================] - 0s 2ms/step - loss: 0.8446 - accuracy: 0.7121 - val_loss: 0.8682 - val_accuracy: 0.7000\n",
            "Epoch 4/50\n",
            "48/48 [==============================] - 0s 2ms/step - loss: 0.7205 - accuracy: 0.7575 - val_loss: 0.7808 - val_accuracy: 0.7450\n",
            "Epoch 5/50\n",
            "48/48 [==============================] - 0s 2ms/step - loss: 0.6362 - accuracy: 0.7971 - val_loss: 0.7176 - val_accuracy: 0.7583\n",
            "Epoch 6/50\n",
            "48/48 [==============================] - 0s 2ms/step - loss: 0.5700 - accuracy: 0.8175 - val_loss: 0.6717 - val_accuracy: 0.7750\n",
            "Epoch 7/50\n",
            "48/48 [==============================] - 0s 2ms/step - loss: 0.5217 - accuracy: 0.8388 - val_loss: 0.6334 - val_accuracy: 0.7867\n",
            "Epoch 8/50\n",
            "48/48 [==============================] - 0s 2ms/step - loss: 0.4826 - accuracy: 0.8487 - val_loss: 0.6096 - val_accuracy: 0.7933\n",
            "Epoch 9/50\n",
            "48/48 [==============================] - 0s 2ms/step - loss: 0.4490 - accuracy: 0.8617 - val_loss: 0.5914 - val_accuracy: 0.7983\n",
            "Epoch 10/50\n",
            "48/48 [==============================] - 0s 2ms/step - loss: 0.4227 - accuracy: 0.8692 - val_loss: 0.5735 - val_accuracy: 0.8083\n",
            "Epoch 11/50\n",
            "48/48 [==============================] - 0s 2ms/step - loss: 0.4015 - accuracy: 0.8850 - val_loss: 0.5683 - val_accuracy: 0.8083\n",
            "Epoch 12/50\n",
            "48/48 [==============================] - 0s 2ms/step - loss: 0.3785 - accuracy: 0.8921 - val_loss: 0.5529 - val_accuracy: 0.8100\n",
            "Epoch 13/50\n",
            "48/48 [==============================] - 0s 2ms/step - loss: 0.3605 - accuracy: 0.8950 - val_loss: 0.5383 - val_accuracy: 0.8100\n",
            "Epoch 14/50\n",
            "48/48 [==============================] - 0s 2ms/step - loss: 0.3440 - accuracy: 0.9008 - val_loss: 0.5309 - val_accuracy: 0.8183\n",
            "Epoch 15/50\n",
            "48/48 [==============================] - 0s 2ms/step - loss: 0.3280 - accuracy: 0.9087 - val_loss: 0.5256 - val_accuracy: 0.8250\n",
            "Epoch 16/50\n",
            "48/48 [==============================] - 0s 2ms/step - loss: 0.3156 - accuracy: 0.9121 - val_loss: 0.5179 - val_accuracy: 0.8183\n",
            "Epoch 17/50\n",
            "48/48 [==============================] - 0s 2ms/step - loss: 0.3028 - accuracy: 0.9183 - val_loss: 0.5060 - val_accuracy: 0.8317\n",
            "Epoch 18/50\n",
            "48/48 [==============================] - 0s 2ms/step - loss: 0.2916 - accuracy: 0.9212 - val_loss: 0.5041 - val_accuracy: 0.8267\n",
            "Epoch 19/50\n",
            "48/48 [==============================] - 0s 2ms/step - loss: 0.2826 - accuracy: 0.9221 - val_loss: 0.4986 - val_accuracy: 0.8300\n",
            "Epoch 20/50\n",
            "48/48 [==============================] - 0s 2ms/step - loss: 0.2721 - accuracy: 0.9233 - val_loss: 0.5000 - val_accuracy: 0.8283\n",
            "Epoch 21/50\n",
            "48/48 [==============================] - 0s 2ms/step - loss: 0.2628 - accuracy: 0.9279 - val_loss: 0.4926 - val_accuracy: 0.8317\n",
            "Epoch 22/50\n",
            "48/48 [==============================] - 0s 2ms/step - loss: 0.2532 - accuracy: 0.9354 - val_loss: 0.4927 - val_accuracy: 0.8417\n",
            "Epoch 23/50\n",
            "48/48 [==============================] - 0s 2ms/step - loss: 0.2444 - accuracy: 0.9392 - val_loss: 0.4877 - val_accuracy: 0.8400\n",
            "Epoch 24/50\n",
            "48/48 [==============================] - 0s 2ms/step - loss: 0.2411 - accuracy: 0.9396 - val_loss: 0.4866 - val_accuracy: 0.8383\n",
            "Epoch 25/50\n",
            "48/48 [==============================] - 0s 2ms/step - loss: 0.2313 - accuracy: 0.9429 - val_loss: 0.4907 - val_accuracy: 0.8367\n",
            "Epoch 26/50\n",
            "48/48 [==============================] - 0s 2ms/step - loss: 0.2252 - accuracy: 0.9454 - val_loss: 0.4895 - val_accuracy: 0.8350\n",
            "Epoch 27/50\n",
            "48/48 [==============================] - 0s 2ms/step - loss: 0.2196 - accuracy: 0.9450 - val_loss: 0.4826 - val_accuracy: 0.8400\n",
            "Epoch 28/50\n",
            "48/48 [==============================] - 0s 2ms/step - loss: 0.2127 - accuracy: 0.9488 - val_loss: 0.4817 - val_accuracy: 0.8400\n",
            "Epoch 29/50\n",
            "48/48 [==============================] - 0s 2ms/step - loss: 0.2072 - accuracy: 0.9513 - val_loss: 0.4813 - val_accuracy: 0.8400\n",
            "Epoch 30/50\n",
            "48/48 [==============================] - 0s 2ms/step - loss: 0.2014 - accuracy: 0.9538 - val_loss: 0.4849 - val_accuracy: 0.8417\n",
            "Epoch 31/50\n",
            "48/48 [==============================] - 0s 2ms/step - loss: 0.1964 - accuracy: 0.9571 - val_loss: 0.4849 - val_accuracy: 0.8333\n",
            "Epoch 32/50\n",
            "48/48 [==============================] - 0s 2ms/step - loss: 0.1931 - accuracy: 0.9567 - val_loss: 0.4871 - val_accuracy: 0.8450\n",
            "Epoch 33/50\n",
            "48/48 [==============================] - 0s 2ms/step - loss: 0.1887 - accuracy: 0.9567 - val_loss: 0.4877 - val_accuracy: 0.8367\n",
            "Epoch 34/50\n",
            "48/48 [==============================] - 0s 2ms/step - loss: 0.1849 - accuracy: 0.9613 - val_loss: 0.4859 - val_accuracy: 0.8383\n",
            "Epoch 35/50\n",
            "48/48 [==============================] - 0s 2ms/step - loss: 0.1772 - accuracy: 0.9608 - val_loss: 0.4790 - val_accuracy: 0.8467\n",
            "Epoch 36/50\n",
            "48/48 [==============================] - 0s 2ms/step - loss: 0.1755 - accuracy: 0.9629 - val_loss: 0.4888 - val_accuracy: 0.8383\n",
            "Epoch 37/50\n",
            "48/48 [==============================] - 0s 2ms/step - loss: 0.1717 - accuracy: 0.9617 - val_loss: 0.4835 - val_accuracy: 0.8433\n",
            "Epoch 38/50\n",
            "48/48 [==============================] - 0s 2ms/step - loss: 0.1670 - accuracy: 0.9667 - val_loss: 0.4879 - val_accuracy: 0.8433\n",
            "Epoch 39/50\n",
            "48/48 [==============================] - 0s 2ms/step - loss: 0.1631 - accuracy: 0.9675 - val_loss: 0.4828 - val_accuracy: 0.8450\n",
            "Epoch 40/50\n",
            "48/48 [==============================] - 0s 2ms/step - loss: 0.1581 - accuracy: 0.9721 - val_loss: 0.4876 - val_accuracy: 0.8450\n",
            "Epoch 41/50\n",
            "48/48 [==============================] - 0s 2ms/step - loss: 0.1560 - accuracy: 0.9679 - val_loss: 0.4862 - val_accuracy: 0.8383\n",
            "Epoch 42/50\n",
            "48/48 [==============================] - 0s 2ms/step - loss: 0.1530 - accuracy: 0.9700 - val_loss: 0.4897 - val_accuracy: 0.8433\n",
            "Epoch 43/50\n",
            "48/48 [==============================] - 0s 2ms/step - loss: 0.1511 - accuracy: 0.9696 - val_loss: 0.4873 - val_accuracy: 0.8400\n",
            "Epoch 44/50\n",
            "48/48 [==============================] - 0s 2ms/step - loss: 0.1470 - accuracy: 0.9729 - val_loss: 0.4885 - val_accuracy: 0.8483\n",
            "Epoch 45/50\n",
            "48/48 [==============================] - 0s 2ms/step - loss: 0.1435 - accuracy: 0.9725 - val_loss: 0.4901 - val_accuracy: 0.8450\n",
            "Epoch 46/50\n",
            "48/48 [==============================] - 0s 2ms/step - loss: 0.1411 - accuracy: 0.9754 - val_loss: 0.4916 - val_accuracy: 0.8450\n",
            "Epoch 47/50\n",
            "48/48 [==============================] - 0s 2ms/step - loss: 0.1378 - accuracy: 0.9771 - val_loss: 0.4934 - val_accuracy: 0.8483\n",
            "Epoch 48/50\n",
            "48/48 [==============================] - 0s 2ms/step - loss: 0.1348 - accuracy: 0.9771 - val_loss: 0.4933 - val_accuracy: 0.8550\n",
            "Epoch 49/50\n",
            "48/48 [==============================] - 0s 2ms/step - loss: 0.1331 - accuracy: 0.9767 - val_loss: 0.4930 - val_accuracy: 0.8517\n",
            "Epoch 50/50\n",
            "48/48 [==============================] - 0s 2ms/step - loss: 0.1304 - accuracy: 0.9771 - val_loss: 0.4889 - val_accuracy: 0.8533\n"
          ],
          "name": "stdout"
        }
      ]
    },
    {
      "cell_type": "code",
      "metadata": {
        "id": "32jFj14Qz_qx",
        "colab": {
          "base_uri": "https://localhost:8080/",
          "height": 573
        },
        "outputId": "8b25f48a-68e3-4f04-e12a-a8d5b6569b53"
      },
      "source": [
        "from google.colab import files\n",
        "# summarize history for loss\n",
        "ls=plt.figure()\n",
        "plt.plot(history.history['accuracy'])\n",
        "plt.plot(history.history['val_accuracy'])\n",
        "plt.title('model accuracy')\n",
        "plt.ylabel('accuracy')\n",
        "plt.xlabel('epoch')\n",
        "plt.legend(['train', 'test'], loc='upper left')\n",
        "#plt.ylim(0.02,0.4)\n",
        "ls.show()\n",
        "\n",
        "ls=plt.figure()\n",
        "plt.plot(history.history['loss'])\n",
        "plt.plot(history.history['val_loss'])\n",
        "plt.title('model loss')\n",
        "plt.ylabel('loss')\n",
        "plt.xlabel('epoch')\n",
        "plt.legend(['train', 'test'], loc='upper left')\n",
        "#plt.ylim(0.02,0.4)\n",
        "ls.show()\n",
        "#ls.savefig('/content/drive/My Drive/Sinc/loss-exp.png')\n",
        "#files.download('loss-1.png')"
      ],
      "execution_count": 9,
      "outputs": [
        {
          "output_type": "display_data",
          "data": {
            "image/png": "[encoded data removed]",
            "text/plain": [
              "<Figure size 432x288 with 1 Axes>"
            ]
          },
          "metadata": {
            "tags": [],
            "needs_background": "light"
          }
        },
        {
          "output_type": "display_data",
          "data": {
            "image/png": "[encoded data removed]",
            "text/plain": [
              "<Figure size 432x288 with 1 Axes>"
            ]
          },
          "metadata": {
            "tags": [],
            "needs_background": "light"
          }
        }
      ]
    },
    {
      "cell_type": "code",
      "metadata": {
        "id": "w2ePFauUMPfj"
      },
      "source": [
        "sio.savemat('/content/drive/My Drive/Research/MMF_Reservoir/SpokenDigit/network_res_speaker.mat', {'y':out, 'X_test':X_test, 'X_train':X_train, 'y_test':y_test, 'y_train':y_train, 'acc':history.history['accuracy'], 'val_acc':history.history['val_accuracy'], 'loss':history.history['loss'], 'val_loss':history.history['val_loss']})"
      ],
      "execution_count": 10,
      "outputs": []
    }
  ]
}