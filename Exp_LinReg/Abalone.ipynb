{
  "nbformat": 4,
  "nbformat_minor": 0,
  "metadata": {
    "accelerator": "GPU",
    "colab": {
      "name": "Abalone.ipynb",
      "provenance": [],
      "collapsed_sections": [],
      "machine_shape": "hm",
      "include_colab_link": true
    },
    "kernelspec": {
      "display_name": "Python 3",
      "name": "python3"
    }
  },
  "cells": [
    {
      "cell_type": "markdown",
      "metadata": {
        "id": "view-in-github",
        "colab_type": "text"
      },
      "source": [
        "<a href=\"https://colab.research.google.com/github/ugurtegin/Nonlinear_MMF_Network/blob/main/Exp_LinReg/Abalone.ipynb\" target=\"_parent\"><img src=\"https://colab.research.google.com/assets/colab-badge.svg\" alt=\"Open In Colab\"/></a>"
      ]
    },
    {
      "cell_type": "code",
      "metadata": {
        "id": "plRoSF3YWrl5",
        "outputId": "65224107-e071-44e2-d160-1cd6fabba886",
        "colab": {
          "base_uri": "https://localhost:8080/"
        }
      },
      "source": [
        "import numpy as np\n",
        "import matplotlib.pyplot as plt\n",
        "import scipy.io as sio\n",
        "import tensorflow as tf\n",
        "\n",
        "from tensorflow import keras\n",
        "from sklearn.model_selection import train_test_split\n",
        "from tensorflow.keras.models import Model,Sequential\n",
        "from tensorflow.keras.layers import Input, Activation, LSTM\n",
        "from tensorflow.keras.layers import Dense, Dropout, Flatten, Conv2D, MaxPooling2D, AveragePooling2D \n",
        "from tensorflow.keras.optimizers import SGD, Adam\n",
        "from tensorflow.keras.utils import to_categorical\n",
        "\n",
        "# Load the Drive helper and mount\n",
        "from google.colab import drive\n",
        "\n",
        "# This will prompt for authorization.\n",
        "drive.mount('/content/drive')"
      ],
      "execution_count": 1,
      "outputs": [
        {
          "output_type": "stream",
          "text": [
            "Mounted at /content/drive\n"
          ],
          "name": "stdout"
        }
      ]
    },
    {
      "cell_type": "code",
      "metadata": {
        "id": "PDK63hJmW5D4"
      },
      "source": [
        "import scipy.io as sio\n",
        "f = sio.loadmat('/content/drive/My Drive/Research/MMF_Reservoir/abalonev2/res_sq_flt2_2.mat')\n",
        "inp = f['res_sq_flt']\n",
        "\n",
        "\n",
        "f2 = sio.loadmat('/content/drive/My Drive/Research/MMF_Reservoir/abalonev2/label.mat')\n",
        "out = f2['label']\n"
      ],
      "execution_count": 2,
      "outputs": []
    },
    {
      "cell_type": "markdown",
      "metadata": {
        "id": "0rh1E24b81ts"
      },
      "source": [
        "# Experimental Data"
      ]
    },
    {
      "cell_type": "code",
      "metadata": {
        "id": "NtdxGhVx2A9V"
      },
      "source": [
        "datasize = len(np.transpose(inp))"
      ],
      "execution_count": 17,
      "outputs": []
    },
    {
      "cell_type": "code",
      "metadata": {
        "id": "mv8CWwe1-pp3"
      },
      "source": [
        "zbam = out.T\n",
        "out = zbam/np.max(zbam)\n",
        "#out = out.T"
      ],
      "execution_count": 18,
      "outputs": []
    },
    {
      "cell_type": "code",
      "metadata": {
        "id": "pYBJB9YglGiX",
        "outputId": "3ea0a361-3768-452b-fcf1-96dc9330f36c",
        "colab": {
          "base_uri": "https://localhost:8080/"
        }
      },
      "source": [
        "input_data = inp\n",
        "output_data = out\n",
        "#output_data = to_categorical(out)\n",
        "\n",
        "print('input_data : ', input_data.shape, input_data.dtype)\n",
        "print('output_class : ', output_data.shape, output_data.dtype)\n",
        "print()"
      ],
      "execution_count": 19,
      "outputs": [
        {
          "output_type": "stream",
          "text": [
            "input_data :  (3000, 484) float64\n",
            "output_class :  (3000, 1) float64\n",
            "\n"
          ],
          "name": "stdout"
        }
      ]
    },
    {
      "cell_type": "code",
      "metadata": {
        "id": "JMVZ-aoTk1wf",
        "outputId": "b8114e86-6b0e-477b-d49d-fa7460d206fa",
        "colab": {
          "base_uri": "https://localhost:8080/"
        }
      },
      "source": [
        "oran = 0.20\n",
        "X_train, X_test, y_train, y_test = train_test_split(input_data, output_data, test_size=oran)\n",
        "\n",
        "print('Test data : ', X_test.shape, X_test.dtype)\n",
        "print('Training data : ', X_train.shape, X_train.dtype)\n",
        "print()"
      ],
      "execution_count": 20,
      "outputs": [
        {
          "output_type": "stream",
          "text": [
            "Test data :  (600, 484) float64\n",
            "Training data :  (2400, 484) float64\n",
            "\n"
          ],
          "name": "stdout"
        }
      ]
    },
    {
      "cell_type": "code",
      "metadata": {
        "id": "SycmK62goI2t"
      },
      "source": [
        "model = Sequential()\n",
        "model.add(Dense(1, input_dim=datasize, activation='linear'))"
      ],
      "execution_count": 21,
      "outputs": []
    },
    {
      "cell_type": "code",
      "metadata": {
        "id": "Sg1arrHHoSF1",
        "outputId": "9e5b650b-90e8-4087-dbd2-5af65d9f061e",
        "colab": {
          "base_uri": "https://localhost:8080/"
        }
      },
      "source": [
        "loss='mean_squared_error' # mean_absolute_error, cosine_proximity\n",
        "#loss='categorical_crossentropy'\n",
        "metrics = ['mean_squared_error']  # network accuracy metric to be determined after each epoch, mean_absolute_error, cosine_proximity\n",
        "#metrics = ['accuracy']  # network accuracy metric to be determined after each epoch\n",
        "\n",
        "opt1 = SGD(lr=0.001, momentum=0.9)\n",
        "opt2 = Adam(lr=0.001, beta_1=0.9, beta_2=0.999)\n",
        "\n",
        "model.compile(optimizer=opt2, loss=loss, metrics=metrics)\n",
        "model.summary()"
      ],
      "execution_count": 22,
      "outputs": [
        {
          "output_type": "stream",
          "text": [
            "Model: \"sequential_2\"\n",
            "_________________________________________________________________\n",
            "Layer (type)                 Output Shape              Param #   \n",
            "=================================================================\n",
            "dense_2 (Dense)              (None, 1)                 485       \n",
            "=================================================================\n",
            "Total params: 485\n",
            "Trainable params: 485\n",
            "Non-trainable params: 0\n",
            "_________________________________________________________________\n"
          ],
          "name": "stdout"
        }
      ]
    },
    {
      "cell_type": "code",
      "metadata": {
        "id": "ZavprgepoUEE"
      },
      "source": [
        "#setting final parameters for the network and it begins to train\n",
        "number_of_iterations = 20\n",
        "batch_size = 32\n",
        "\n",
        "#history=model.fit(X_train, y_train, validation_data=(X_test, y_test), epochs=number_of_iterations)\n",
        "history=model.fit(X_train, y_train, batch_size=batch_size, epochs=number_of_iterations, verbose=0, validation_data=(X_test, y_test))\n",
        "#Number of iterations run: 900"
      ],
      "execution_count": 23,
      "outputs": []
    },
    {
      "cell_type": "code",
      "metadata": {
        "id": "32jFj14Qz_qx",
        "outputId": "04ce1d36-85e2-4d47-e4d0-cb38eb9f1673",
        "colab": {
          "base_uri": "https://localhost:8080/",
          "height": 295
        }
      },
      "source": [
        "from google.colab import files\n",
        "ls=plt.figure()\n",
        "plt.plot(history.history['loss'])\n",
        "plt.plot(history.history['val_loss'])\n",
        "plt.title('model loss')\n",
        "plt.ylabel('loss')\n",
        "plt.xlabel('epoch')\n",
        "plt.legend(['train', 'test'], loc='upper left')\n",
        "ls.show()\n",
        "#ls.savefig('/content/drive/My Drive/MMF_Reservoir/Stock_Intel35/loss-expset_apple.png')\n",
        "#files.download('loss-1.png')"
      ],
      "execution_count": 24,
      "outputs": [
        {
          "output_type": "display_data",
          "data": {
            "image/png": "[encoded data removed]",
            "text/plain": [
              "<Figure size 432x288 with 1 Axes>"
            ]
          },
          "metadata": {
            "tags": [],
            "needs_background": "light"
          }
        }
      ]
    },
    {
      "cell_type": "code",
      "metadata": {
        "id": "ofMIsQfS3slr",
        "outputId": "aaaacd14-6734-4e43-d270-27159562f299",
        "colab": {
          "base_uri": "https://localhost:8080/"
        }
      },
      "source": [
        "abit = model.predict(X_test)\n",
        "from sklearn.metrics import mean_squared_error\n",
        "print('MSE ' + str(mean_squared_error(abit, y_test)))\n",
        "print('RMSE ' + str(np.sqrt(mean_squared_error(abit, y_test))))"
      ],
      "execution_count": 25,
      "outputs": [
        {
          "output_type": "stream",
          "text": [
            "MSE 0.0221278870487636\n",
            "RMSE 0.1487544521981228\n"
          ],
          "name": "stdout"
        }
      ]
    },
    {
      "cell_type": "code",
      "metadata": {
        "id": "sv0iP24XOhHK",
        "outputId": "270e0602-1cea-48fb-8036-864d36ddcbb9",
        "colab": {
          "base_uri": "https://localhost:8080/",
          "height": 265
        }
      },
      "source": [
        "ls=plt.figure()\n",
        "plt.plot(abit,'ro')\n",
        "plt.plot(y_test,'bo')\n",
        "plt.legend(['DNNs prediction', 'Ground Truth'], loc='upper right')\n",
        "ls.show()\n",
        "#ls.savefig('/content/drive/My Drive/MMF_Reservoir/Stock_Intel35/loss-expset_res_apple.png')\n"
      ],
      "execution_count": 26,
      "outputs": [
        {
          "output_type": "display_data",
          "data": {
            "image/png": "[encoded data removed]",
            "text/plain": [
              "<Figure size 432x288 with 1 Axes>"
            ]
          },
          "metadata": {
            "tags": [],
            "needs_background": "light"
          }
        }
      ]
    },
    {
      "cell_type": "code",
      "metadata": {
        "id": "DXy42VNzHGSi",
        "outputId": "9d554e86-2b26-4898-a6a0-fd1974b9ae43",
        "colab": {
          "base_uri": "https://localhost:8080/"
        }
      },
      "source": [
        "abit = model.predict(inp)\n",
        "from sklearn.metrics import mean_squared_error\n",
        "print('MSE ' + str(mean_squared_error(abit, out)))\n",
        "print('RMSE ' + str(np.sqrt(mean_squared_error(abit, out))))"
      ],
      "execution_count": 27,
      "outputs": [
        {
          "output_type": "stream",
          "text": [
            "MSE 0.017957364819341695\n",
            "RMSE 0.13400509251271644\n"
          ],
          "name": "stdout"
        }
      ]
    },
    {
      "cell_type": "code",
      "metadata": {
        "id": "TSBwguZlwYOM",
        "outputId": "15da3d11-ceed-4cbb-e655-7cebb62ea4fe",
        "colab": {
          "base_uri": "https://localhost:8080/",
          "height": 265
        }
      },
      "source": [
        "ls=plt.figure()\n",
        "plt.plot(abit,'ro')\n",
        "plt.plot(out,'bo')\n",
        "plt.legend(['DNNs prediction', 'Ground Truth'], loc='upper right')\n",
        "ls.show()\n",
        "#ls.savefig('/content/drive/My Drive/MMF_Reservoir/Stock_Intel35/loss-expset_res_alldata_apple.png')"
      ],
      "execution_count": 28,
      "outputs": [
        {
          "output_type": "display_data",
          "data": {
            "image/png": "[encoded data removed]",
            "text/plain": [
              "<Figure size 432x288 with 1 Axes>"
            ]
          },
          "metadata": {
            "tags": [],
            "needs_background": "light"
          }
        }
      ]
    }
  ]
}