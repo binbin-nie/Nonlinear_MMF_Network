{
  "nbformat": 4,
  "nbformat_minor": 0,
  "metadata": {
    "colab": {
      "name": "Sinc_binary.ipynb",
      "provenance": [],
      "collapsed_sections": [],
      "machine_shape": "hm",
      "include_colab_link": true
    },
    "kernelspec": {
      "name": "python3",
      "display_name": "Python 3"
    },
    "accelerator": "GPU"
  },
  "cells": [
    {
      "cell_type": "markdown",
      "metadata": {
        "id": "view-in-github",
        "colab_type": "text"
      },
      "source": [
        "<a href=\"https://colab.research.google.com/github/ugurtegin/Nonlinear_MMF_Network/blob/main/Exp_LinReg/SpokenDigitSpoker.ipynb\" target=\"_parent\"><img src=\"https://colab.research.google.com/assets/colab-badge.svg\" alt=\"Open In Colab\"/></a>"
      ]
    },
    {
      "cell_type": "code",
      "metadata": {
        "id": "plRoSF3YWrl5",
        "outputId": "65c6557f-0354-4a37-efc2-3f5fde3ff6ff",
        "colab": {
          "base_uri": "https://localhost:8080/"
        }
      },
      "source": [
        "import numpy as np\n",
        "import matplotlib.pyplot as plt\n",
        "import scipy.io as sio\n",
        "import tensorflow as tf\n",
        "\n",
        "\n",
        "from tensorflow import keras\n",
        "from sklearn.model_selection import train_test_split\n",
        "from tensorflow.keras.models import Model,Sequential\n",
        "from tensorflow.keras.layers import Input, Activation, LSTM\n",
        "from tensorflow.keras.layers import Dense, Dropout, Flatten, Conv2D, MaxPooling2D, AveragePooling2D \n",
        "from tensorflow.keras.optimizers import SGD, Adam\n",
        "from tensorflow.keras.utils import to_categorical, normalize\n",
        "\n",
        "# Load the Drive helper and mount\n",
        "from google.colab import drive\n",
        "\n",
        "# This will prompt for authorization.\n",
        "drive.mount('/content/drive')"
      ],
      "execution_count": 1,
      "outputs": [
        {
          "output_type": "stream",
          "text": [
            "Drive already mounted at /content/drive; to attempt to forcibly remount, call drive.mount(\"/content/drive\", force_remount=True).\n"
          ],
          "name": "stdout"
        }
      ]
    },
    {
      "cell_type": "code",
      "metadata": {
        "id": "PDK63hJmW5D4"
      },
      "source": [
        "import scipy.io as sio\n",
        "f = sio.loadmat('/content/drive/My Drive/Research/MMF_Reservoir/SpokenDigit/res_sq_flt2_2.mat')\n",
        "inp2 = f['res_sq_flt']\n",
        "\n",
        "#Load data\n",
        "f2 = sio.loadmat('/content/drive/My Drive/Research/MMF_Reservoir/SpokenDigit/label2_2.mat')\n",
        "\n",
        "out = f2['label2_2']\n"
      ],
      "execution_count": 2,
      "outputs": []
    },
    {
      "cell_type": "code",
      "metadata": {
        "id": "NsrEaZif34wA"
      },
      "source": [
        "#inp2 = inp / np.linalg.norm(inp)\n",
        "#inp2 = inp2*1000"
      ],
      "execution_count": 3,
      "outputs": []
    },
    {
      "cell_type": "code",
      "metadata": {
        "id": "pYBJB9YglGiX",
        "outputId": "7b45e156-551e-4107-d06d-d8ebf9cd156c",
        "colab": {
          "base_uri": "https://localhost:8080/"
        }
      },
      "source": [
        "input_data = inp2\n",
        "output_data = to_categorical(out-1)\n",
        "\n",
        "print('input_data : ', input_data.shape, input_data.dtype)\n",
        "print('output_class : ', output_data.shape, output_data.dtype)\n",
        "print()"
      ],
      "execution_count": 4,
      "outputs": [
        {
          "output_type": "stream",
          "text": [
            "input_data :  (3000, 484) float64\n",
            "output_class :  (3000, 6) float32\n",
            "\n"
          ],
          "name": "stdout"
        }
      ]
    },
    {
      "cell_type": "code",
      "metadata": {
        "id": "JMVZ-aoTk1wf",
        "outputId": "8ebd35d3-4b44-4ca2-bc7f-aeb86c1bb2ee",
        "colab": {
          "base_uri": "https://localhost:8080/"
        }
      },
      "source": [
        "oran = 0.20\n",
        "X_train, X_test, y_train, y_test = train_test_split(input_data, output_data, test_size=oran)\n",
        "\n",
        "print('Test data : ', X_test.shape, X_test.dtype)\n",
        "print('Training data : ', X_train.shape, X_train.dtype)\n",
        "print()"
      ],
      "execution_count": 5,
      "outputs": [
        {
          "output_type": "stream",
          "text": [
            "Test data :  (600, 484) float64\n",
            "Training data :  (2400, 484) float64\n",
            "\n"
          ],
          "name": "stdout"
        }
      ]
    },
    {
      "cell_type": "code",
      "metadata": {
        "id": "SycmK62goI2t"
      },
      "source": [
        "model = Sequential()\n",
        "model.add(Dense(6, input_dim=484, activation='softmax'))"
      ],
      "execution_count": 6,
      "outputs": []
    },
    {
      "cell_type": "code",
      "metadata": {
        "id": "Sg1arrHHoSF1",
        "outputId": "c01665d3-34c3-4d09-89f9-384be3893539",
        "colab": {
          "base_uri": "https://localhost:8080/"
        }
      },
      "source": [
        "loss='categorical_crossentropy' # mean_absolute_error, cosine_proximity\n",
        "metrics = ['accuracy']  # network accuracy metric to be determined after each epoch, mean_absolute_error, cosine_proximity\n",
        "\n",
        "opt1 = SGD(lr=0.001, momentum=0.9)\n",
        "opt2 = Adam(lr=0.001, beta_1=0.9, beta_2=0.999)\n",
        "\n",
        "model.compile(optimizer=opt2, loss=loss, metrics=metrics)\n",
        "model.summary()"
      ],
      "execution_count": 7,
      "outputs": [
        {
          "output_type": "stream",
          "text": [
            "Model: \"sequential\"\n",
            "_________________________________________________________________\n",
            "Layer (type)                 Output Shape              Param #   \n",
            "=================================================================\n",
            "dense (Dense)                (None, 6)                 2910      \n",
            "=================================================================\n",
            "Total params: 2,910\n",
            "Trainable params: 2,910\n",
            "Non-trainable params: 0\n",
            "_________________________________________________________________\n"
          ],
          "name": "stdout"
        }
      ]
    },
    {
      "cell_type": "code",
      "metadata": {
        "id": "ZavprgepoUEE",
        "outputId": "6d650807-e1e5-43af-f1af-1c32758554e2",
        "colab": {
          "base_uri": "https://localhost:8080/"
        }
      },
      "source": [
        "#setting final parameters for the network and it begins to train\n",
        "number_of_iterations = 50\n",
        "batch_size = 50\n",
        "\n",
        "#history=model.fit(X_train, y_train, validation_data=(X_test, y_test), epochs=number_of_iterations)\n",
        "history=model.fit(X_train, y_train, batch_size=batch_size, epochs=number_of_iterations, verbose=1, validation_data=(X_test, y_test))\n",
        "#Number of iterations run: 900"
      ],
      "execution_count": 8,
      "outputs": [
        {
          "output_type": "stream",
          "text": [
            "Epoch 1/50\n",
            "48/48 [==============================] - 0s 5ms/step - loss: 1.7353 - accuracy: 0.3646 - val_loss: 1.2981 - val_accuracy: 0.5483\n",
            "Epoch 2/50\n",
            "48/48 [==============================] - 0s 2ms/step - loss: 1.0758 - accuracy: 0.6162 - val_loss: 1.0353 - val_accuracy: 0.6400\n",
            "Epoch 3/50\n",
            "48/48 [==============================] - 0s 2ms/step - loss: 0.8503 - accuracy: 0.7063 - val_loss: 0.9063 - val_accuracy: 0.6717\n",
            "Epoch 4/50\n",
            "48/48 [==============================] - 0s 2ms/step - loss: 0.7161 - accuracy: 0.7550 - val_loss: 0.8251 - val_accuracy: 0.7067\n",
            "Epoch 5/50\n",
            "48/48 [==============================] - 0s 3ms/step - loss: 0.6291 - accuracy: 0.7942 - val_loss: 0.7632 - val_accuracy: 0.7467\n",
            "Epoch 6/50\n",
            "48/48 [==============================] - 0s 3ms/step - loss: 0.5618 - accuracy: 0.8229 - val_loss: 0.7471 - val_accuracy: 0.7450\n",
            "Epoch 7/50\n",
            "48/48 [==============================] - 0s 3ms/step - loss: 0.5127 - accuracy: 0.8450 - val_loss: 0.6980 - val_accuracy: 0.7683\n",
            "Epoch 8/50\n",
            "48/48 [==============================] - 0s 2ms/step - loss: 0.4709 - accuracy: 0.8592 - val_loss: 0.6830 - val_accuracy: 0.7683\n",
            "Epoch 9/50\n",
            "48/48 [==============================] - 0s 3ms/step - loss: 0.4361 - accuracy: 0.8742 - val_loss: 0.6532 - val_accuracy: 0.7883\n",
            "Epoch 10/50\n",
            "48/48 [==============================] - 0s 3ms/step - loss: 0.4135 - accuracy: 0.8800 - val_loss: 0.6346 - val_accuracy: 0.7933\n",
            "Epoch 11/50\n",
            "48/48 [==============================] - 0s 3ms/step - loss: 0.3872 - accuracy: 0.8888 - val_loss: 0.6227 - val_accuracy: 0.7917\n",
            "Epoch 12/50\n",
            "48/48 [==============================] - 0s 3ms/step - loss: 0.3651 - accuracy: 0.8963 - val_loss: 0.6187 - val_accuracy: 0.8017\n",
            "Epoch 13/50\n",
            "48/48 [==============================] - 0s 3ms/step - loss: 0.3487 - accuracy: 0.9025 - val_loss: 0.6177 - val_accuracy: 0.8000\n",
            "Epoch 14/50\n",
            "48/48 [==============================] - 0s 3ms/step - loss: 0.3322 - accuracy: 0.9137 - val_loss: 0.6072 - val_accuracy: 0.7967\n",
            "Epoch 15/50\n",
            "48/48 [==============================] - 0s 2ms/step - loss: 0.3191 - accuracy: 0.9121 - val_loss: 0.5971 - val_accuracy: 0.8050\n",
            "Epoch 16/50\n",
            "48/48 [==============================] - 0s 3ms/step - loss: 0.3045 - accuracy: 0.9196 - val_loss: 0.5964 - val_accuracy: 0.7983\n",
            "Epoch 17/50\n",
            "48/48 [==============================] - 0s 3ms/step - loss: 0.2924 - accuracy: 0.9212 - val_loss: 0.5871 - val_accuracy: 0.8017\n",
            "Epoch 18/50\n",
            "48/48 [==============================] - 0s 3ms/step - loss: 0.2820 - accuracy: 0.9254 - val_loss: 0.5977 - val_accuracy: 0.8017\n",
            "Epoch 19/50\n",
            "48/48 [==============================] - 0s 2ms/step - loss: 0.2734 - accuracy: 0.9296 - val_loss: 0.5771 - val_accuracy: 0.8067\n",
            "Epoch 20/50\n",
            "48/48 [==============================] - 0s 3ms/step - loss: 0.2617 - accuracy: 0.9321 - val_loss: 0.5736 - val_accuracy: 0.8200\n",
            "Epoch 21/50\n",
            "48/48 [==============================] - 0s 3ms/step - loss: 0.2550 - accuracy: 0.9358 - val_loss: 0.5736 - val_accuracy: 0.8117\n",
            "Epoch 22/50\n",
            "48/48 [==============================] - 0s 3ms/step - loss: 0.2492 - accuracy: 0.9358 - val_loss: 0.5777 - val_accuracy: 0.8150\n",
            "Epoch 23/50\n",
            "48/48 [==============================] - 0s 3ms/step - loss: 0.2379 - accuracy: 0.9429 - val_loss: 0.5701 - val_accuracy: 0.8267\n",
            "Epoch 24/50\n",
            "48/48 [==============================] - 0s 3ms/step - loss: 0.2297 - accuracy: 0.9446 - val_loss: 0.5807 - val_accuracy: 0.8067\n",
            "Epoch 25/50\n",
            "48/48 [==============================] - 0s 3ms/step - loss: 0.2230 - accuracy: 0.9442 - val_loss: 0.5649 - val_accuracy: 0.8150\n",
            "Epoch 26/50\n",
            "48/48 [==============================] - 0s 3ms/step - loss: 0.2169 - accuracy: 0.9467 - val_loss: 0.5649 - val_accuracy: 0.8150\n",
            "Epoch 27/50\n",
            "48/48 [==============================] - 0s 3ms/step - loss: 0.2101 - accuracy: 0.9492 - val_loss: 0.5669 - val_accuracy: 0.8200\n",
            "Epoch 28/50\n",
            "48/48 [==============================] - 0s 3ms/step - loss: 0.2055 - accuracy: 0.9471 - val_loss: 0.5664 - val_accuracy: 0.8133\n",
            "Epoch 29/50\n",
            "48/48 [==============================] - 0s 3ms/step - loss: 0.1979 - accuracy: 0.9554 - val_loss: 0.5715 - val_accuracy: 0.8117\n",
            "Epoch 30/50\n",
            "48/48 [==============================] - 0s 3ms/step - loss: 0.1939 - accuracy: 0.9558 - val_loss: 0.5687 - val_accuracy: 0.8133\n",
            "Epoch 31/50\n",
            "48/48 [==============================] - 0s 3ms/step - loss: 0.1897 - accuracy: 0.9546 - val_loss: 0.5668 - val_accuracy: 0.8133\n",
            "Epoch 32/50\n",
            "48/48 [==============================] - 0s 3ms/step - loss: 0.1869 - accuracy: 0.9596 - val_loss: 0.5682 - val_accuracy: 0.8200\n",
            "Epoch 33/50\n",
            "48/48 [==============================] - 0s 2ms/step - loss: 0.1794 - accuracy: 0.9621 - val_loss: 0.5633 - val_accuracy: 0.8167\n",
            "Epoch 34/50\n",
            "48/48 [==============================] - 0s 3ms/step - loss: 0.1758 - accuracy: 0.9613 - val_loss: 0.5680 - val_accuracy: 0.8167\n",
            "Epoch 35/50\n",
            "48/48 [==============================] - 0s 3ms/step - loss: 0.1716 - accuracy: 0.9658 - val_loss: 0.5661 - val_accuracy: 0.8133\n",
            "Epoch 36/50\n",
            "48/48 [==============================] - 0s 3ms/step - loss: 0.1668 - accuracy: 0.9650 - val_loss: 0.5640 - val_accuracy: 0.8217\n",
            "Epoch 37/50\n",
            "48/48 [==============================] - 0s 3ms/step - loss: 0.1646 - accuracy: 0.9663 - val_loss: 0.5673 - val_accuracy: 0.8117\n",
            "Epoch 38/50\n",
            "48/48 [==============================] - 0s 3ms/step - loss: 0.1598 - accuracy: 0.9700 - val_loss: 0.5736 - val_accuracy: 0.8183\n",
            "Epoch 39/50\n",
            "48/48 [==============================] - 0s 2ms/step - loss: 0.1561 - accuracy: 0.9717 - val_loss: 0.5720 - val_accuracy: 0.8167\n",
            "Epoch 40/50\n",
            "48/48 [==============================] - 0s 3ms/step - loss: 0.1543 - accuracy: 0.9737 - val_loss: 0.5707 - val_accuracy: 0.8167\n",
            "Epoch 41/50\n",
            "48/48 [==============================] - 0s 3ms/step - loss: 0.1498 - accuracy: 0.9737 - val_loss: 0.5700 - val_accuracy: 0.8167\n",
            "Epoch 42/50\n",
            "48/48 [==============================] - 0s 2ms/step - loss: 0.1469 - accuracy: 0.9746 - val_loss: 0.5727 - val_accuracy: 0.8183\n",
            "Epoch 43/50\n",
            "48/48 [==============================] - 0s 2ms/step - loss: 0.1426 - accuracy: 0.9771 - val_loss: 0.5735 - val_accuracy: 0.8183\n",
            "Epoch 44/50\n",
            "48/48 [==============================] - 0s 3ms/step - loss: 0.1401 - accuracy: 0.9787 - val_loss: 0.5669 - val_accuracy: 0.8183\n",
            "Epoch 45/50\n",
            "48/48 [==============================] - 0s 2ms/step - loss: 0.1373 - accuracy: 0.9771 - val_loss: 0.5719 - val_accuracy: 0.8100\n",
            "Epoch 46/50\n",
            "48/48 [==============================] - 0s 3ms/step - loss: 0.1353 - accuracy: 0.9771 - val_loss: 0.5693 - val_accuracy: 0.8167\n",
            "Epoch 47/50\n",
            "48/48 [==============================] - 0s 3ms/step - loss: 0.1335 - accuracy: 0.9746 - val_loss: 0.5718 - val_accuracy: 0.8117\n",
            "Epoch 48/50\n",
            "48/48 [==============================] - 0s 2ms/step - loss: 0.1289 - accuracy: 0.9800 - val_loss: 0.5749 - val_accuracy: 0.8217\n",
            "Epoch 49/50\n",
            "48/48 [==============================] - 0s 3ms/step - loss: 0.1256 - accuracy: 0.9804 - val_loss: 0.5743 - val_accuracy: 0.8083\n",
            "Epoch 50/50\n",
            "48/48 [==============================] - 0s 3ms/step - loss: 0.1226 - accuracy: 0.9829 - val_loss: 0.5887 - val_accuracy: 0.8117\n"
          ],
          "name": "stdout"
        }
      ]
    },
    {
      "cell_type": "code",
      "metadata": {
        "id": "32jFj14Qz_qx",
        "outputId": "5d6b289f-e248-4335-c0b2-8477e8baa524",
        "colab": {
          "base_uri": "https://localhost:8080/",
          "height": 573
        }
      },
      "source": [
        "from google.colab import files\n",
        "# summarize history for loss\n",
        "ls=plt.figure()\n",
        "plt.plot(history.history['accuracy'])\n",
        "plt.plot(history.history['val_accuracy'])\n",
        "plt.title('model accuracy')\n",
        "plt.ylabel('accuracy')\n",
        "plt.xlabel('epoch')\n",
        "plt.legend(['train', 'test'], loc='upper left')\n",
        "#plt.ylim(0.02,0.4)\n",
        "ls.show()\n",
        "\n",
        "ls=plt.figure()\n",
        "plt.plot(history.history['loss'])\n",
        "plt.plot(history.history['val_loss'])\n",
        "plt.title('model loss')\n",
        "plt.ylabel('loss')\n",
        "plt.xlabel('epoch')\n",
        "plt.legend(['train', 'test'], loc='upper left')\n",
        "#plt.ylim(0.02,0.4)\n",
        "ls.show()\n",
        "#ls.savefig('/content/drive/My Drive/Sinc/loss-exp.png')\n",
        "#files.download('loss-1.png')"
      ],
      "execution_count": 9,
      "outputs": [
        {
          "output_type": "display_data",
          "data": {
            "image/png": "[encoded data removed]",
            "text/plain": [
              "<Figure size 432x288 with 1 Axes>"
            ]
          },
          "metadata": {
            "tags": [],
            "needs_background": "light"
          }
        },
        {
          "output_type": "display_data",
          "data": {
            "image/png": "[encoded data removed]",
            "text/plain": [
              "<Figure size 432x288 with 1 Axes>"
            ]
          },
          "metadata": {
            "tags": [],
            "needs_background": "light"
          }
        }
      ]
    },
    {
      "cell_type": "code",
      "metadata": {
        "id": "Cm1EwzISl5PA",
        "outputId": "b9d2191f-6654-46d4-8163-11326fcdb0a0",
        "colab": {
          "base_uri": "https://localhost:8080/"
        }
      },
      "source": [
        "abit = model.predict(inp2)\n",
        "abit.shape"
      ],
      "execution_count": 10,
      "outputs": [
        {
          "output_type": "execute_result",
          "data": {
            "text/plain": [
              "(3000, 6)"
            ]
          },
          "metadata": {
            "tags": []
          },
          "execution_count": 10
        }
      ]
    },
    {
      "cell_type": "code",
      "metadata": {
        "id": "cbPuN-5HZEKy",
        "outputId": "9caa7d88-f4e8-4637-883d-17b5fd57e0d9",
        "colab": {
          "base_uri": "https://localhost:8080/"
        }
      },
      "source": [
        "abit = model.predict(X_test)\n",
        "from sklearn.metrics import mean_squared_error\n",
        "print('MSE ' + str(mean_squared_error(abit, y_test)))\n",
        "print('RMSE ' + str(np.sqrt(mean_squared_error(abit, y_test))))"
      ],
      "execution_count": 11,
      "outputs": [
        {
          "output_type": "stream",
          "text": [
            "MSE 0.04518782\n",
            "RMSE 0.21257427\n"
          ],
          "name": "stdout"
        }
      ]
    },
    {
      "cell_type": "code",
      "metadata": {
        "id": "e-gZuJM1MJpd",
        "outputId": "6b6c11a9-c9b1-4c33-a5a9-9a7522bc1c8c",
        "colab": {
          "base_uri": "https://localhost:8080/"
        }
      },
      "source": [
        "abit = model.predict(inp2)\n",
        "from sklearn.metrics import mean_squared_error\n",
        "print('MSE ' + str(mean_squared_error(abit, output_data)))\n",
        "print('RMSE ' + str(np.sqrt(mean_squared_error(abit, output_data))))"
      ],
      "execution_count": 12,
      "outputs": [
        {
          "output_type": "stream",
          "text": [
            "MSE 0.015110922\n",
            "RMSE 0.12292649\n"
          ],
          "name": "stdout"
        }
      ]
    },
    {
      "cell_type": "code",
      "metadata": {
        "id": "w2ePFauUMPfj"
      },
      "source": [
        ""
      ],
      "execution_count": 12,
      "outputs": []
    }
  ]
}