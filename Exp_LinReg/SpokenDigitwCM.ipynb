{
  "nbformat": 4,
  "nbformat_minor": 0,
  "metadata": {
    "colab": {
      "name": "SpokenDigit.ipynb",
      "provenance": [],
      "collapsed_sections": [],
      "machine_shape": "hm",
      "include_colab_link": true
    },
    "kernelspec": {
      "name": "python3",
      "display_name": "Python 3"
    },
    "accelerator": "GPU"
  },
  "cells": [
    {
      "cell_type": "markdown",
      "metadata": {
        "id": "view-in-github",
        "colab_type": "text"
      },
      "source": [
        "<a href=\"https://colab.research.google.com/github/ugurtegin/Nonlinear_MMF_Network/blob/main/Exp_LinReg/SpokenDigitwCM.ipynb\" target=\"_parent\"><img src=\"https://colab.research.google.com/assets/colab-badge.svg\" alt=\"Open In Colab\"/></a>"
      ]
    },
    {
      "cell_type": "code",
      "metadata": {
        "id": "plRoSF3YWrl5",
        "colab": {
          "base_uri": "https://localhost:8080/"
        },
        "outputId": "fba93fbc-48bb-4027-d686-fcb6e27e1857"
      },
      "source": [
        "import numpy as np\n",
        "import matplotlib.pyplot as plt\n",
        "import scipy.io as sio\n",
        "import tensorflow as tf\n",
        "\n",
        "\n",
        "from tensorflow import keras\n",
        "from sklearn.model_selection import train_test_split\n",
        "from tensorflow.keras.models import Model,Sequential\n",
        "from tensorflow.keras.layers import Input, Activation, LSTM\n",
        "from tensorflow.keras.layers import Dense, Dropout, Flatten, Conv2D, MaxPooling2D, AveragePooling2D \n",
        "from tensorflow.keras.optimizers import SGD, Adam\n",
        "from tensorflow.keras.utils import to_categorical, normalize\n",
        "\n",
        "# Load the Drive helper and mount\n",
        "from google.colab import drive\n",
        "\n",
        "# This will prompt for authorization.\n",
        "drive.mount('/content/drive')"
      ],
      "execution_count": 1,
      "outputs": [
        {
          "output_type": "stream",
          "text": [
            "Drive already mounted at /content/drive; to attempt to forcibly remount, call drive.mount(\"/content/drive\", force_remount=True).\n"
          ],
          "name": "stdout"
        }
      ]
    },
    {
      "cell_type": "code",
      "metadata": {
        "id": "PDK63hJmW5D4"
      },
      "source": [
        "import scipy.io as sio\n",
        "f = sio.loadmat('/content/drive/My Drive/Research/MMF_Reservoir/SpokenDigit/res_sq_flt2_2.mat')\n",
        "inp2 = f['res_sq_flt']\n",
        "\n",
        "#Load data\n",
        "f2 = sio.loadmat('/content/drive/My Drive/Research/MMF_Reservoir/SpokenDigit/label1.mat')\n",
        "\n",
        "out = f2['label1']\n"
      ],
      "execution_count": 2,
      "outputs": []
    },
    {
      "cell_type": "code",
      "metadata": {
        "id": "pYBJB9YglGiX",
        "colab": {
          "base_uri": "https://localhost:8080/"
        },
        "outputId": "c99678a7-8f1d-4bce-e689-74b02491ad06"
      },
      "source": [
        "input_data = inp2\n",
        "output_data = to_categorical(out.T)\n",
        "\n",
        "print('input_data : ', input_data.shape, input_data.dtype)\n",
        "print('output_class : ', output_data.shape, output_data.dtype)\n",
        "print()"
      ],
      "execution_count": 3,
      "outputs": [
        {
          "output_type": "stream",
          "text": [
            "input_data :  (3000, 484) float64\n",
            "output_class :  (3000, 10) float32\n",
            "\n"
          ],
          "name": "stdout"
        }
      ]
    },
    {
      "cell_type": "code",
      "metadata": {
        "id": "JMVZ-aoTk1wf",
        "colab": {
          "base_uri": "https://localhost:8080/"
        },
        "outputId": "e0358855-3caa-4753-84a4-5207aafa77a4"
      },
      "source": [
        "oran = 0.20\n",
        "X_train, X_test, y_train, y_test = train_test_split(input_data, output_data, test_size=oran)\n",
        "\n",
        "print('Test data : ', X_test.shape, X_test.dtype)\n",
        "print('Training data : ', X_train.shape, X_train.dtype)\n",
        "print()"
      ],
      "execution_count": 4,
      "outputs": [
        {
          "output_type": "stream",
          "text": [
            "Test data :  (600, 484) float64\n",
            "Training data :  (2400, 484) float64\n",
            "\n"
          ],
          "name": "stdout"
        }
      ]
    },
    {
      "cell_type": "code",
      "metadata": {
        "id": "SycmK62goI2t"
      },
      "source": [
        "model = Sequential()\n",
        "model.add(Dense(10, input_dim=484, activation='softmax'))"
      ],
      "execution_count": 5,
      "outputs": []
    },
    {
      "cell_type": "code",
      "metadata": {
        "id": "Sg1arrHHoSF1",
        "colab": {
          "base_uri": "https://localhost:8080/"
        },
        "outputId": "b0f597d3-78ea-40ff-e146-5f2b6db7cb47"
      },
      "source": [
        "loss='categorical_crossentropy' # mean_absolute_error, cosine_proximity\n",
        "metrics = ['accuracy']  # network accuracy metric to be determined after each epoch, mean_absolute_error, cosine_proximity\n",
        "\n",
        "opt1 = SGD(lr=0.001, momentum=0.9)\n",
        "opt2 = Adam(lr=0.001, beta_1=0.9, beta_2=0.999)\n",
        "\n",
        "model.compile(optimizer=opt2, loss=loss, metrics=metrics)\n",
        "model.summary()"
      ],
      "execution_count": 6,
      "outputs": [
        {
          "output_type": "stream",
          "text": [
            "Model: \"sequential\"\n",
            "_________________________________________________________________\n",
            "Layer (type)                 Output Shape              Param #   \n",
            "=================================================================\n",
            "dense (Dense)                (None, 10)                4850      \n",
            "=================================================================\n",
            "Total params: 4,850\n",
            "Trainable params: 4,850\n",
            "Non-trainable params: 0\n",
            "_________________________________________________________________\n"
          ],
          "name": "stdout"
        }
      ]
    },
    {
      "cell_type": "code",
      "metadata": {
        "id": "ZavprgepoUEE",
        "colab": {
          "base_uri": "https://localhost:8080/"
        },
        "outputId": "aae4d93b-3db5-49a7-e285-bd0f95c5b369"
      },
      "source": [
        "#setting final parameters for the network and it begins to train\n",
        "number_of_iterations = 50\n",
        "batch_size = 50\n",
        "\n",
        "#history=model.fit(X_train, y_train, validation_data=(X_test, y_test), epochs=number_of_iterations)\n",
        "history=model.fit(X_train, y_train, batch_size=batch_size, epochs=number_of_iterations, verbose=1, validation_data=(X_test, y_test))\n",
        "#Number of iterations run: 900"
      ],
      "execution_count": 7,
      "outputs": [
        {
          "output_type": "stream",
          "text": [
            "Epoch 1/50\n",
            "48/48 [==============================] - 0s 5ms/step - loss: 1.8446 - accuracy: 0.3842 - val_loss: 1.2274 - val_accuracy: 0.5917\n",
            "Epoch 2/50\n",
            "48/48 [==============================] - 0s 3ms/step - loss: 1.0280 - accuracy: 0.6658 - val_loss: 0.8660 - val_accuracy: 0.7250\n",
            "Epoch 3/50\n",
            "48/48 [==============================] - 0s 2ms/step - loss: 0.7535 - accuracy: 0.7663 - val_loss: 0.6993 - val_accuracy: 0.7950\n",
            "Epoch 4/50\n",
            "48/48 [==============================] - 0s 2ms/step - loss: 0.6025 - accuracy: 0.8213 - val_loss: 0.6100 - val_accuracy: 0.8067\n",
            "Epoch 5/50\n",
            "48/48 [==============================] - 0s 2ms/step - loss: 0.5100 - accuracy: 0.8567 - val_loss: 0.5454 - val_accuracy: 0.8367\n",
            "Epoch 6/50\n",
            "48/48 [==============================] - 0s 2ms/step - loss: 0.4362 - accuracy: 0.8838 - val_loss: 0.4960 - val_accuracy: 0.8450\n",
            "Epoch 7/50\n",
            "48/48 [==============================] - 0s 2ms/step - loss: 0.3863 - accuracy: 0.8983 - val_loss: 0.4639 - val_accuracy: 0.8550\n",
            "Epoch 8/50\n",
            "48/48 [==============================] - 0s 2ms/step - loss: 0.3417 - accuracy: 0.9087 - val_loss: 0.4348 - val_accuracy: 0.8650\n",
            "Epoch 9/50\n",
            "48/48 [==============================] - 0s 2ms/step - loss: 0.3089 - accuracy: 0.9246 - val_loss: 0.4201 - val_accuracy: 0.8667\n",
            "Epoch 10/50\n",
            "48/48 [==============================] - 0s 2ms/step - loss: 0.2772 - accuracy: 0.9333 - val_loss: 0.3959 - val_accuracy: 0.8767\n",
            "Epoch 11/50\n",
            "48/48 [==============================] - 0s 2ms/step - loss: 0.2516 - accuracy: 0.9438 - val_loss: 0.3841 - val_accuracy: 0.8717\n",
            "Epoch 12/50\n",
            "48/48 [==============================] - 0s 3ms/step - loss: 0.2295 - accuracy: 0.9517 - val_loss: 0.3696 - val_accuracy: 0.8833\n",
            "Epoch 13/50\n",
            "48/48 [==============================] - 0s 3ms/step - loss: 0.2120 - accuracy: 0.9583 - val_loss: 0.3643 - val_accuracy: 0.8817\n",
            "Epoch 14/50\n",
            "48/48 [==============================] - 0s 2ms/step - loss: 0.1964 - accuracy: 0.9642 - val_loss: 0.3551 - val_accuracy: 0.8867\n",
            "Epoch 15/50\n",
            "48/48 [==============================] - 0s 2ms/step - loss: 0.1808 - accuracy: 0.9675 - val_loss: 0.3450 - val_accuracy: 0.8833\n",
            "Epoch 16/50\n",
            "48/48 [==============================] - 0s 2ms/step - loss: 0.1688 - accuracy: 0.9729 - val_loss: 0.3416 - val_accuracy: 0.8867\n",
            "Epoch 17/50\n",
            "48/48 [==============================] - 0s 2ms/step - loss: 0.1566 - accuracy: 0.9746 - val_loss: 0.3324 - val_accuracy: 0.8867\n",
            "Epoch 18/50\n",
            "48/48 [==============================] - 0s 2ms/step - loss: 0.1450 - accuracy: 0.9783 - val_loss: 0.3264 - val_accuracy: 0.8933\n",
            "Epoch 19/50\n",
            "48/48 [==============================] - 0s 3ms/step - loss: 0.1350 - accuracy: 0.9825 - val_loss: 0.3215 - val_accuracy: 0.8917\n",
            "Epoch 20/50\n",
            "48/48 [==============================] - 0s 3ms/step - loss: 0.1278 - accuracy: 0.9842 - val_loss: 0.3169 - val_accuracy: 0.8900\n",
            "Epoch 21/50\n",
            "48/48 [==============================] - 0s 2ms/step - loss: 0.1200 - accuracy: 0.9879 - val_loss: 0.3146 - val_accuracy: 0.8933\n",
            "Epoch 22/50\n",
            "48/48 [==============================] - 0s 2ms/step - loss: 0.1124 - accuracy: 0.9912 - val_loss: 0.3114 - val_accuracy: 0.9000\n",
            "Epoch 23/50\n",
            "48/48 [==============================] - 0s 2ms/step - loss: 0.1061 - accuracy: 0.9921 - val_loss: 0.3050 - val_accuracy: 0.8933\n",
            "Epoch 24/50\n",
            "48/48 [==============================] - 0s 3ms/step - loss: 0.1004 - accuracy: 0.9921 - val_loss: 0.3029 - val_accuracy: 0.8967\n",
            "Epoch 25/50\n",
            "48/48 [==============================] - 0s 2ms/step - loss: 0.0950 - accuracy: 0.9950 - val_loss: 0.3013 - val_accuracy: 0.8967\n",
            "Epoch 26/50\n",
            "48/48 [==============================] - 0s 3ms/step - loss: 0.0896 - accuracy: 0.9950 - val_loss: 0.2975 - val_accuracy: 0.8950\n",
            "Epoch 27/50\n",
            "48/48 [==============================] - 0s 3ms/step - loss: 0.0851 - accuracy: 0.9971 - val_loss: 0.3015 - val_accuracy: 0.9000\n",
            "Epoch 28/50\n",
            "48/48 [==============================] - 0s 3ms/step - loss: 0.0818 - accuracy: 0.9971 - val_loss: 0.2973 - val_accuracy: 0.8983\n",
            "Epoch 29/50\n",
            "48/48 [==============================] - 0s 3ms/step - loss: 0.0767 - accuracy: 0.9983 - val_loss: 0.2951 - val_accuracy: 0.9000\n",
            "Epoch 30/50\n",
            "48/48 [==============================] - 0s 3ms/step - loss: 0.0732 - accuracy: 0.9992 - val_loss: 0.2934 - val_accuracy: 0.8950\n",
            "Epoch 31/50\n",
            "48/48 [==============================] - 0s 3ms/step - loss: 0.0695 - accuracy: 0.9992 - val_loss: 0.2902 - val_accuracy: 0.8983\n",
            "Epoch 32/50\n",
            "48/48 [==============================] - 0s 2ms/step - loss: 0.0663 - accuracy: 0.9983 - val_loss: 0.2918 - val_accuracy: 0.8967\n",
            "Epoch 33/50\n",
            "48/48 [==============================] - 0s 2ms/step - loss: 0.0631 - accuracy: 0.9996 - val_loss: 0.2875 - val_accuracy: 0.9033\n",
            "Epoch 34/50\n",
            "48/48 [==============================] - 0s 2ms/step - loss: 0.0607 - accuracy: 0.9996 - val_loss: 0.2907 - val_accuracy: 0.9017\n",
            "Epoch 35/50\n",
            "48/48 [==============================] - 0s 3ms/step - loss: 0.0577 - accuracy: 1.0000 - val_loss: 0.2842 - val_accuracy: 0.9017\n",
            "Epoch 36/50\n",
            "48/48 [==============================] - 0s 3ms/step - loss: 0.0551 - accuracy: 0.9996 - val_loss: 0.2816 - val_accuracy: 0.9000\n",
            "Epoch 37/50\n",
            "48/48 [==============================] - 0s 3ms/step - loss: 0.0528 - accuracy: 1.0000 - val_loss: 0.2816 - val_accuracy: 0.9017\n",
            "Epoch 38/50\n",
            "48/48 [==============================] - 0s 2ms/step - loss: 0.0505 - accuracy: 1.0000 - val_loss: 0.2820 - val_accuracy: 0.9017\n",
            "Epoch 39/50\n",
            "48/48 [==============================] - 0s 2ms/step - loss: 0.0487 - accuracy: 1.0000 - val_loss: 0.2834 - val_accuracy: 0.9000\n",
            "Epoch 40/50\n",
            "48/48 [==============================] - 0s 2ms/step - loss: 0.0467 - accuracy: 1.0000 - val_loss: 0.2830 - val_accuracy: 0.9000\n",
            "Epoch 41/50\n",
            "48/48 [==============================] - 0s 2ms/step - loss: 0.0447 - accuracy: 1.0000 - val_loss: 0.2811 - val_accuracy: 0.8983\n",
            "Epoch 42/50\n",
            "48/48 [==============================] - 0s 2ms/step - loss: 0.0431 - accuracy: 1.0000 - val_loss: 0.2819 - val_accuracy: 0.9017\n",
            "Epoch 43/50\n",
            "48/48 [==============================] - 0s 2ms/step - loss: 0.0413 - accuracy: 1.0000 - val_loss: 0.2799 - val_accuracy: 0.9050\n",
            "Epoch 44/50\n",
            "48/48 [==============================] - 0s 3ms/step - loss: 0.0401 - accuracy: 1.0000 - val_loss: 0.2781 - val_accuracy: 0.9033\n",
            "Epoch 45/50\n",
            "48/48 [==============================] - 0s 3ms/step - loss: 0.0387 - accuracy: 1.0000 - val_loss: 0.2788 - val_accuracy: 0.9067\n",
            "Epoch 46/50\n",
            "48/48 [==============================] - 0s 3ms/step - loss: 0.0371 - accuracy: 1.0000 - val_loss: 0.2792 - val_accuracy: 0.9017\n",
            "Epoch 47/50\n",
            "48/48 [==============================] - 0s 3ms/step - loss: 0.0357 - accuracy: 1.0000 - val_loss: 0.2739 - val_accuracy: 0.9033\n",
            "Epoch 48/50\n",
            "48/48 [==============================] - 0s 3ms/step - loss: 0.0344 - accuracy: 1.0000 - val_loss: 0.2777 - val_accuracy: 0.9033\n",
            "Epoch 49/50\n",
            "48/48 [==============================] - 0s 3ms/step - loss: 0.0331 - accuracy: 1.0000 - val_loss: 0.2769 - val_accuracy: 0.9000\n",
            "Epoch 50/50\n",
            "48/48 [==============================] - 0s 2ms/step - loss: 0.0320 - accuracy: 1.0000 - val_loss: 0.2753 - val_accuracy: 0.8967\n"
          ],
          "name": "stdout"
        }
      ]
    },
    {
      "cell_type": "code",
      "metadata": {
        "id": "32jFj14Qz_qx",
        "colab": {
          "base_uri": "https://localhost:8080/",
          "height": 573
        },
        "outputId": "2926e085-4bf2-447f-fa5b-2d2da029d9cf"
      },
      "source": [
        "from google.colab import files\n",
        "# summarize history for loss\n",
        "ls=plt.figure()\n",
        "plt.plot(history.history['accuracy'])\n",
        "plt.plot(history.history['val_accuracy'])\n",
        "plt.title('model accuracy')\n",
        "plt.ylabel('accuracy')\n",
        "plt.xlabel('epoch')\n",
        "plt.legend(['train', 'test'], loc='upper left')\n",
        "#plt.ylim(0.02,0.4)\n",
        "ls.show()\n",
        "\n",
        "ls=plt.figure()\n",
        "plt.plot(history.history['loss'])\n",
        "plt.plot(history.history['val_loss'])\n",
        "plt.title('model loss')\n",
        "plt.ylabel('loss')\n",
        "plt.xlabel('epoch')\n",
        "plt.legend(['train', 'test'], loc='upper left')\n",
        "#plt.ylim(0.02,0.4)\n",
        "ls.show()\n",
        "#ls.savefig('/content/drive/My Drive/Sinc/loss-exp.png')\n",
        "#files.download('loss-1.png')"
      ],
      "execution_count": 8,
      "outputs": [
        {
          "output_type": "display_data",
          "data": {
            "image/png": "[encoded data removed]",
            "text/plain": [
              "<Figure size 432x288 with 1 Axes>"
            ]
          },
          "metadata": {
            "tags": [],
            "needs_background": "light"
          }
        },
        {
          "output_type": "display_data",
          "data": {
            "image/png": "[encoded data removed]",
            "text/plain": [
              "<Figure size 432x288 with 1 Axes>"
            ]
          },
          "metadata": {
            "tags": [],
            "needs_background": "light"
          }
        }
      ]
    },
    {
      "cell_type": "code",
      "metadata": {
        "id": "YyK-ZDqzXaIH",
        "outputId": "596a9941-7a40-45cc-95ee-c7d89ce14b4d",
        "colab": {
          "base_uri": "https://localhost:8080/",
          "height": 502
        }
      },
      "source": [
        "def plot_confusion_matrix(cm, classes,\n",
        "\n",
        "                        normalize=False,\n",
        "\n",
        "                        title='Confusion matrix',\n",
        "\n",
        "                        cmap=plt.cm.Blues):\n",
        "\n",
        "    \"\"\"\n",
        "\n",
        "    This function prints and plots the confusion matrix.\n",
        "\n",
        "    Normalization can be applied by setting `normalize=True`.\n",
        "\n",
        "    \"\"\"\n",
        "\n",
        "    plt.imshow(cm, interpolation='nearest', cmap=cmap)\n",
        "\n",
        "    plt.title(title)\n",
        "\n",
        "    plt.colorbar()\n",
        "\n",
        "    tick_marks = np.arange(len(classes))\n",
        "\n",
        "    plt.xticks(tick_marks, classes, rotation=45)\n",
        "\n",
        "    plt.yticks(tick_marks, classes)\n",
        "\n",
        "\n",
        "\n",
        "    if normalize:\n",
        "\n",
        "        cm = cm.astype('float') / cm.sum(axis=1)[:, np.newaxis]\n",
        "\n",
        "        print(\"Normalized confusion matrix\")\n",
        "\n",
        "    else:\n",
        "\n",
        "        print('Confusion matrix, without normalization')\n",
        "\n",
        "\n",
        "\n",
        "    print(cm)\n",
        "\n",
        "\n",
        "\n",
        "    thresh = cm.max() / 2.\n",
        "\n",
        "    for i, j in itertools.product(range(cm.shape[0]), range(cm.shape[1])):\n",
        "\n",
        "        plt.text(j, i, cm[i, j],\n",
        "\n",
        "            horizontalalignment=\"center\",\n",
        "\n",
        "            color=\"white\" if cm[i, j] > thresh else \"black\")\n",
        "\n",
        "\n",
        "\n",
        "    plt.tight_layout()\n",
        "\n",
        "    plt.ylabel('True label')\n",
        "\n",
        "    plt.xlabel('Predicted label')\n",
        "\n",
        "\n",
        "\n",
        "\n",
        "%matplotlib inline\n",
        "\n",
        "from sklearn.metrics import confusion_matrix\n",
        "\n",
        "import itertools\n",
        "\n",
        "import matplotlib.pyplot as plt\n",
        "\n",
        "\n",
        "\n",
        "cm_plot_labels = ['no_side_effects','had_side_effects']\n",
        "\n",
        "\n",
        "\n",
        "cm = confusion_matrix(y_true=np.argmax(y_test,1), y_pred=np.argmax(model.predict(X_test),1))\n",
        "\n",
        "\n",
        "\n",
        "plot_confusion_matrix(cm=cm, classes=cm_plot_labels, title='Confusion Matrix')"
      ],
      "execution_count": 10,
      "outputs": [
        {
          "output_type": "stream",
          "text": [
            "Confusion matrix, without normalization\n",
            "[[48  1  1  1  0  0  0  0  0  0]\n",
            " [ 0 66  1  0  0  1  0  0  0  0]\n",
            " [ 1  2 52  2  0  0  3  0  0  0]\n",
            " [ 1  0  1 60  0  0  2  0  2  0]\n",
            " [ 0  0  0  0 53  1  0  1  0  0]\n",
            " [ 0  1  1  2  2 53  1  0  0  1]\n",
            " [ 1  0  0  5  1  2 49  0  1  0]\n",
            " [ 0  0  0  0  1  1  2 51  0  1]\n",
            " [ 0  0  0  1  0  0  6  2 48  2]\n",
            " [ 0  0  0  1  0  1  0  2  3 58]]\n"
          ],
          "name": "stdout"
        },
        {
          "output_type": "display_data",
          "data": {
            "image/png": "[encoded data removed]",
            "text/plain": [
              "<Figure size 432x288 with 2 Axes>"
            ]
          },
          "metadata": {
            "tags": [],
            "needs_background": "light"
          }
        }
      ]
    },
    {
      "cell_type": "code",
      "metadata": {
        "id": "ofUti1MIIrsh"
      },
      "source": [
        "sio.savemat('/content/drive/My Drive/Research/MMF_Reservoir/SpokenDigit/network_res_last.mat', {'y':out, 'X_test':X_test, 'X_train':X_train, 'y_test':y_test, 'y_train':y_train, 'acc':history.history['accuracy'], 'cm':cm, 'val_acc':history.history['val_accuracy'], 'loss':history.history['loss'], 'val_loss':history.history['val_loss']})"
      ],
      "execution_count": 12,
      "outputs": []
    },
    {
      "cell_type": "code",
      "metadata": {
        "id": "4LdWDwRpI2Xh"
      },
      "source": [
        ""
      ],
      "execution_count": null,
      "outputs": []
    }
  ]
}