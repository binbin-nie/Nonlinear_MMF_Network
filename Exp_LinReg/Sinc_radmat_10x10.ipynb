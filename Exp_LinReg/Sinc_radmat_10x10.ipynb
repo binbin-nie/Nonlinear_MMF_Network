{
  "nbformat": 4,
  "nbformat_minor": 0,
  "metadata": {
    "colab": {
      "name": "Sinc_radmat_10x10.ipynb",
      "provenance": [],
      "collapsed_sections": [],
      "machine_shape": "hm",
      "include_colab_link": true
    },
    "kernelspec": {
      "name": "python3",
      "display_name": "Python 3"
    },
    "accelerator": "GPU"
  },
  "cells": [
    {
      "cell_type": "markdown",
      "metadata": {
        "id": "view-in-github",
        "colab_type": "text"
      },
      "source": [
        "<a href=\"https://colab.research.google.com/github/ugurtegin/Nonlinear_MMF_Network/blob/main/Exp_LinReg/Sinc_radmat_10x10.ipynb\" target=\"_parent\"><img src=\"https://colab.research.google.com/assets/colab-badge.svg\" alt=\"Open In Colab\"/></a>"
      ]
    },
    {
      "cell_type": "code",
      "metadata": {
        "id": "plRoSF3YWrl5",
        "outputId": "ca2aee3f-a786-4b3d-b53c-8614a194397b",
        "colab": {
          "base_uri": "https://localhost:8080/"
        }
      },
      "source": [
        "import numpy as np\n",
        "import matplotlib.pyplot as plt\n",
        "import scipy.io as sio\n",
        "import tensorflow as tf\n",
        "\n",
        "\n",
        "from tensorflow import keras\n",
        "from sklearn.model_selection import train_test_split\n",
        "from tensorflow.keras.models import Model,Sequential\n",
        "from tensorflow.keras.layers import Input, Activation, LSTM\n",
        "from tensorflow.keras.layers import Dense, Dropout, Flatten, Conv2D, MaxPooling2D, AveragePooling2D \n",
        "from tensorflow.keras.optimizers import SGD, Adam\n",
        "from tensorflow.keras.utils import to_categorical, normalize\n",
        "\n",
        "# Load the Drive helper and mount\n",
        "from google.colab import drive\n",
        "\n",
        "# This will prompt for authorization.\n",
        "drive.mount('/content/drive')"
      ],
      "execution_count": 1,
      "outputs": [
        {
          "output_type": "stream",
          "text": [
            "Drive already mounted at /content/drive; to attempt to forcibly remount, call drive.mount(\"/content/drive\", force_remount=True).\n"
          ],
          "name": "stdout"
        }
      ]
    },
    {
      "cell_type": "code",
      "metadata": {
        "id": "PDK63hJmW5D4"
      },
      "source": [
        "import scipy.io as sio\n",
        "f = sio.loadmat('/content/drive/My Drive/Research/MMF_Reservoir/sinc3/res_sq_flt2_2.mat')\n",
        "inp2 = f['res_sq_flt']\n",
        "\n",
        "#Load data\n",
        "f2 = sio.loadmat('/content/drive/My Drive/Research/MMF_Reservoir/sinc3/data.mat')\n",
        "\n",
        "out = f2['y']\n",
        "xx = f2['x']"
      ],
      "execution_count": 2,
      "outputs": []
    },
    {
      "cell_type": "code",
      "metadata": {
        "id": "NsrEaZif34wA"
      },
      "source": [
        "#inp2 = inp / np.linalg.norm(inp)\n",
        "#inp2 = inp2*1000"
      ],
      "execution_count": 3,
      "outputs": []
    },
    {
      "cell_type": "code",
      "metadata": {
        "id": "pYBJB9YglGiX",
        "outputId": "4d4b26b9-d3ce-4bcc-a6bb-8643f131e556",
        "colab": {
          "base_uri": "https://localhost:8080/"
        }
      },
      "source": [
        "input_data = inp2\n",
        "output_data = out\n",
        "\n",
        "print('input_data : ', input_data.shape, input_data.dtype)\n",
        "print('output_class : ', output_data.shape, output_data.dtype)\n",
        "print()"
      ],
      "execution_count": 4,
      "outputs": [
        {
          "output_type": "stream",
          "text": [
            "input_data :  (3000, 484) float64\n",
            "output_class :  (3000, 1) float64\n",
            "\n"
          ],
          "name": "stdout"
        }
      ]
    },
    {
      "cell_type": "code",
      "metadata": {
        "id": "JMVZ-aoTk1wf",
        "outputId": "0c4f97c5-a5d0-47d0-f5db-cf02279d74f2",
        "colab": {
          "base_uri": "https://localhost:8080/"
        }
      },
      "source": [
        "oran = 0.20\n",
        "X_train, X_test, y_train, y_test = train_test_split(input_data, output_data, test_size=oran)\n",
        "\n",
        "print('Test data : ', X_test.shape, X_test.dtype)\n",
        "print('Training data : ', X_train.shape, X_train.dtype)\n",
        "print()"
      ],
      "execution_count": 5,
      "outputs": [
        {
          "output_type": "stream",
          "text": [
            "Test data :  (600, 484) float64\n",
            "Training data :  (2400, 484) float64\n",
            "\n"
          ],
          "name": "stdout"
        }
      ]
    },
    {
      "cell_type": "code",
      "metadata": {
        "id": "SycmK62goI2t"
      },
      "source": [
        "model = Sequential()\n",
        "model.add(Dense(1, input_dim=484, activation='linear'))"
      ],
      "execution_count": 6,
      "outputs": []
    },
    {
      "cell_type": "code",
      "metadata": {
        "id": "Sg1arrHHoSF1",
        "outputId": "866bb37b-5a3f-4494-f42d-38182ab79724",
        "colab": {
          "base_uri": "https://localhost:8080/"
        }
      },
      "source": [
        "loss='mean_squared_error' # mean_absolute_error, cosine_proximity\n",
        "metrics = ['mean_squared_error']  # network accuracy metric to be determined after each epoch, mean_absolute_error, cosine_proximity\n",
        "\n",
        "opt1 = SGD(lr=0.001, momentum=0.9)\n",
        "opt2 = Adam(lr=0.001, beta_1=0.9, beta_2=0.999)\n",
        "\n",
        "model.compile(optimizer=opt2, loss=loss, metrics=metrics)\n",
        "model.summary()"
      ],
      "execution_count": 7,
      "outputs": [
        {
          "output_type": "stream",
          "text": [
            "Model: \"sequential\"\n",
            "_________________________________________________________________\n",
            "Layer (type)                 Output Shape              Param #   \n",
            "=================================================================\n",
            "dense (Dense)                (None, 1)                 485       \n",
            "=================================================================\n",
            "Total params: 485\n",
            "Trainable params: 485\n",
            "Non-trainable params: 0\n",
            "_________________________________________________________________\n"
          ],
          "name": "stdout"
        }
      ]
    },
    {
      "cell_type": "code",
      "metadata": {
        "id": "ZavprgepoUEE",
        "outputId": "6cc34756-81ce-4412-d479-cf5be124351a",
        "colab": {
          "base_uri": "https://localhost:8080/"
        }
      },
      "source": [
        "#setting final parameters for the network and it begins to train\n",
        "number_of_iterations = 50\n",
        "#batch_size = 50\n",
        "\n",
        "history=model.fit(X_train, y_train, validation_data=(X_test, y_test), epochs=number_of_iterations)\n",
        "#history=model.fit(X_train, y_train, batch_size=batch_size, epochs=number_of_iterations, verbose=1, validation_data=(X_test, y_test))\n",
        "#Number of iterations run: 900"
      ],
      "execution_count": 8,
      "outputs": [
        {
          "output_type": "stream",
          "text": [
            "Epoch 1/50\n",
            "75/75 [==============================] - 0s 4ms/step - loss: 0.5340 - mean_squared_error: 0.5340 - val_loss: 0.4270 - val_mean_squared_error: 0.4270\n",
            "Epoch 2/50\n",
            "75/75 [==============================] - 0s 3ms/step - loss: 0.2961 - mean_squared_error: 0.2961 - val_loss: 0.2450 - val_mean_squared_error: 0.2450\n",
            "Epoch 3/50\n",
            "75/75 [==============================] - 0s 3ms/step - loss: 0.1874 - mean_squared_error: 0.1874 - val_loss: 0.1714 - val_mean_squared_error: 0.1714\n",
            "Epoch 4/50\n",
            "75/75 [==============================] - 0s 3ms/step - loss: 0.1272 - mean_squared_error: 0.1272 - val_loss: 0.1220 - val_mean_squared_error: 0.1220\n",
            "Epoch 5/50\n",
            "75/75 [==============================] - 0s 3ms/step - loss: 0.0890 - mean_squared_error: 0.0890 - val_loss: 0.0890 - val_mean_squared_error: 0.0890\n",
            "Epoch 6/50\n",
            "75/75 [==============================] - 0s 3ms/step - loss: 0.0636 - mean_squared_error: 0.0636 - val_loss: 0.0636 - val_mean_squared_error: 0.0636\n",
            "Epoch 7/50\n",
            "75/75 [==============================] - 0s 3ms/step - loss: 0.0479 - mean_squared_error: 0.0479 - val_loss: 0.0519 - val_mean_squared_error: 0.0519\n",
            "Epoch 8/50\n",
            "75/75 [==============================] - 0s 3ms/step - loss: 0.0365 - mean_squared_error: 0.0365 - val_loss: 0.0413 - val_mean_squared_error: 0.0413\n",
            "Epoch 9/50\n",
            "75/75 [==============================] - 0s 3ms/step - loss: 0.0287 - mean_squared_error: 0.0287 - val_loss: 0.0324 - val_mean_squared_error: 0.0324\n",
            "Epoch 10/50\n",
            "75/75 [==============================] - 0s 3ms/step - loss: 0.0245 - mean_squared_error: 0.0245 - val_loss: 0.0276 - val_mean_squared_error: 0.0276\n",
            "Epoch 11/50\n",
            "75/75 [==============================] - 0s 3ms/step - loss: 0.0207 - mean_squared_error: 0.0207 - val_loss: 0.0248 - val_mean_squared_error: 0.0248\n",
            "Epoch 12/50\n",
            "75/75 [==============================] - 0s 3ms/step - loss: 0.0182 - mean_squared_error: 0.0182 - val_loss: 0.0217 - val_mean_squared_error: 0.0217\n",
            "Epoch 13/50\n",
            "75/75 [==============================] - 0s 3ms/step - loss: 0.0160 - mean_squared_error: 0.0160 - val_loss: 0.0179 - val_mean_squared_error: 0.0179\n",
            "Epoch 14/50\n",
            "75/75 [==============================] - 0s 3ms/step - loss: 0.0141 - mean_squared_error: 0.0141 - val_loss: 0.0170 - val_mean_squared_error: 0.0170\n",
            "Epoch 15/50\n",
            "75/75 [==============================] - 0s 3ms/step - loss: 0.0126 - mean_squared_error: 0.0126 - val_loss: 0.0160 - val_mean_squared_error: 0.0160\n",
            "Epoch 16/50\n",
            "75/75 [==============================] - 0s 3ms/step - loss: 0.0117 - mean_squared_error: 0.0117 - val_loss: 0.0138 - val_mean_squared_error: 0.0138\n",
            "Epoch 17/50\n",
            "75/75 [==============================] - 0s 2ms/step - loss: 0.0106 - mean_squared_error: 0.0106 - val_loss: 0.0124 - val_mean_squared_error: 0.0124\n",
            "Epoch 18/50\n",
            "75/75 [==============================] - 0s 2ms/step - loss: 0.0096 - mean_squared_error: 0.0096 - val_loss: 0.0127 - val_mean_squared_error: 0.0127\n",
            "Epoch 19/50\n",
            "75/75 [==============================] - 0s 2ms/step - loss: 0.0096 - mean_squared_error: 0.0096 - val_loss: 0.0111 - val_mean_squared_error: 0.0111\n",
            "Epoch 20/50\n",
            "75/75 [==============================] - 0s 2ms/step - loss: 0.0084 - mean_squared_error: 0.0084 - val_loss: 0.0118 - val_mean_squared_error: 0.0118\n",
            "Epoch 21/50\n",
            "75/75 [==============================] - 0s 2ms/step - loss: 0.0083 - mean_squared_error: 0.0083 - val_loss: 0.0120 - val_mean_squared_error: 0.0120\n",
            "Epoch 22/50\n",
            "75/75 [==============================] - 0s 2ms/step - loss: 0.0076 - mean_squared_error: 0.0076 - val_loss: 0.0091 - val_mean_squared_error: 0.0091\n",
            "Epoch 23/50\n",
            "75/75 [==============================] - 0s 2ms/step - loss: 0.0073 - mean_squared_error: 0.0073 - val_loss: 0.0101 - val_mean_squared_error: 0.0101\n",
            "Epoch 24/50\n",
            "75/75 [==============================] - 0s 2ms/step - loss: 0.0077 - mean_squared_error: 0.0077 - val_loss: 0.0082 - val_mean_squared_error: 0.0082\n",
            "Epoch 25/50\n",
            "75/75 [==============================] - 0s 2ms/step - loss: 0.0065 - mean_squared_error: 0.0065 - val_loss: 0.0084 - val_mean_squared_error: 0.0084\n",
            "Epoch 26/50\n",
            "75/75 [==============================] - 0s 2ms/step - loss: 0.0068 - mean_squared_error: 0.0068 - val_loss: 0.0078 - val_mean_squared_error: 0.0078\n",
            "Epoch 27/50\n",
            "75/75 [==============================] - 0s 2ms/step - loss: 0.0067 - mean_squared_error: 0.0067 - val_loss: 0.0077 - val_mean_squared_error: 0.0077\n",
            "Epoch 28/50\n",
            "75/75 [==============================] - 0s 2ms/step - loss: 0.0057 - mean_squared_error: 0.0057 - val_loss: 0.0085 - val_mean_squared_error: 0.0085\n",
            "Epoch 29/50\n",
            "75/75 [==============================] - 0s 2ms/step - loss: 0.0055 - mean_squared_error: 0.0055 - val_loss: 0.0074 - val_mean_squared_error: 0.0074\n",
            "Epoch 30/50\n",
            "75/75 [==============================] - 0s 2ms/step - loss: 0.0060 - mean_squared_error: 0.0060 - val_loss: 0.0100 - val_mean_squared_error: 0.0100\n",
            "Epoch 31/50\n",
            "75/75 [==============================] - 0s 2ms/step - loss: 0.0077 - mean_squared_error: 0.0077 - val_loss: 0.0069 - val_mean_squared_error: 0.0069\n",
            "Epoch 32/50\n",
            "75/75 [==============================] - 0s 2ms/step - loss: 0.0052 - mean_squared_error: 0.0052 - val_loss: 0.0061 - val_mean_squared_error: 0.0061\n",
            "Epoch 33/50\n",
            "75/75 [==============================] - 0s 2ms/step - loss: 0.0050 - mean_squared_error: 0.0050 - val_loss: 0.0062 - val_mean_squared_error: 0.0062\n",
            "Epoch 34/50\n",
            "75/75 [==============================] - 0s 2ms/step - loss: 0.0052 - mean_squared_error: 0.0052 - val_loss: 0.0061 - val_mean_squared_error: 0.0061\n",
            "Epoch 35/50\n",
            "75/75 [==============================] - 0s 2ms/step - loss: 0.0046 - mean_squared_error: 0.0046 - val_loss: 0.0057 - val_mean_squared_error: 0.0057\n",
            "Epoch 36/50\n",
            "75/75 [==============================] - 0s 2ms/step - loss: 0.0045 - mean_squared_error: 0.0045 - val_loss: 0.0056 - val_mean_squared_error: 0.0056\n",
            "Epoch 37/50\n",
            "75/75 [==============================] - 0s 2ms/step - loss: 0.0044 - mean_squared_error: 0.0044 - val_loss: 0.0063 - val_mean_squared_error: 0.0063\n",
            "Epoch 38/50\n",
            "75/75 [==============================] - 0s 2ms/step - loss: 0.0043 - mean_squared_error: 0.0043 - val_loss: 0.0053 - val_mean_squared_error: 0.0053\n",
            "Epoch 39/50\n",
            "75/75 [==============================] - 0s 2ms/step - loss: 0.0042 - mean_squared_error: 0.0042 - val_loss: 0.0065 - val_mean_squared_error: 0.0065\n",
            "Epoch 40/50\n",
            "75/75 [==============================] - 0s 2ms/step - loss: 0.0054 - mean_squared_error: 0.0054 - val_loss: 0.0053 - val_mean_squared_error: 0.0053\n",
            "Epoch 41/50\n",
            "75/75 [==============================] - 0s 2ms/step - loss: 0.0048 - mean_squared_error: 0.0048 - val_loss: 0.0051 - val_mean_squared_error: 0.0051\n",
            "Epoch 42/50\n",
            "75/75 [==============================] - 0s 2ms/step - loss: 0.0042 - mean_squared_error: 0.0042 - val_loss: 0.0049 - val_mean_squared_error: 0.0049\n",
            "Epoch 43/50\n",
            "75/75 [==============================] - 0s 2ms/step - loss: 0.0042 - mean_squared_error: 0.0042 - val_loss: 0.0047 - val_mean_squared_error: 0.0047\n",
            "Epoch 44/50\n",
            "75/75 [==============================] - 0s 2ms/step - loss: 0.0045 - mean_squared_error: 0.0045 - val_loss: 0.0055 - val_mean_squared_error: 0.0055\n",
            "Epoch 45/50\n",
            "75/75 [==============================] - 0s 2ms/step - loss: 0.0037 - mean_squared_error: 0.0037 - val_loss: 0.0050 - val_mean_squared_error: 0.0050\n",
            "Epoch 46/50\n",
            "75/75 [==============================] - 0s 2ms/step - loss: 0.0050 - mean_squared_error: 0.0050 - val_loss: 0.0044 - val_mean_squared_error: 0.0044\n",
            "Epoch 47/50\n",
            "75/75 [==============================] - 0s 2ms/step - loss: 0.0046 - mean_squared_error: 0.0046 - val_loss: 0.0053 - val_mean_squared_error: 0.0053\n",
            "Epoch 48/50\n",
            "75/75 [==============================] - 0s 2ms/step - loss: 0.0044 - mean_squared_error: 0.0044 - val_loss: 0.0053 - val_mean_squared_error: 0.0053\n",
            "Epoch 49/50\n",
            "75/75 [==============================] - 0s 2ms/step - loss: 0.0052 - mean_squared_error: 0.0052 - val_loss: 0.0059 - val_mean_squared_error: 0.0059\n",
            "Epoch 50/50\n",
            "75/75 [==============================] - 0s 2ms/step - loss: 0.0039 - mean_squared_error: 0.0039 - val_loss: 0.0047 - val_mean_squared_error: 0.0047\n"
          ],
          "name": "stdout"
        }
      ]
    },
    {
      "cell_type": "code",
      "metadata": {
        "id": "32jFj14Qz_qx",
        "outputId": "597813bd-6996-4872-ff8d-d0c0f0bbe388",
        "colab": {
          "base_uri": "https://localhost:8080/",
          "height": 295
        }
      },
      "source": [
        "from google.colab import files\n",
        "# summarize history for loss\n",
        "ls=plt.figure()\n",
        "plt.plot(history.history['loss'])\n",
        "plt.plot(history.history['val_loss'])\n",
        "plt.title('model loss')\n",
        "plt.ylabel('loss')\n",
        "plt.xlabel('epoch')\n",
        "plt.legend(['train', 'test'], loc='upper left')\n",
        "#plt.ylim(0.02,0.4)\n",
        "ls.show()\n",
        "#ls.savefig('/content/drive/My Drive/Sinc/loss-exp.png')\n",
        "#files.download('loss-1.png')"
      ],
      "execution_count": 9,
      "outputs": [
        {
          "output_type": "display_data",
          "data": {
            "image/png": "[encoded data removed]",
            "text/plain": [
              "<Figure size 432x288 with 1 Axes>"
            ]
          },
          "metadata": {
            "tags": [],
            "needs_background": "light"
          }
        }
      ]
    },
    {
      "cell_type": "code",
      "metadata": {
        "id": "Cm1EwzISl5PA",
        "outputId": "73615b51-7161-4cf2-eedb-14af347159dd",
        "colab": {
          "base_uri": "https://localhost:8080/"
        }
      },
      "source": [
        "abit = model.predict(inp2)\n",
        "abit.shape"
      ],
      "execution_count": 10,
      "outputs": [
        {
          "output_type": "execute_result",
          "data": {
            "text/plain": [
              "(3000, 1)"
            ]
          },
          "metadata": {
            "tags": []
          },
          "execution_count": 10
        }
      ]
    },
    {
      "cell_type": "code",
      "metadata": {
        "id": "pSRbcIY8pfsW",
        "outputId": "b7b0f086-6889-4288-b406-34249b00115f",
        "colab": {
          "base_uri": "https://localhost:8080/",
          "height": 279
        }
      },
      "source": [
        "ls=plt.figure()\n",
        "plt.plot(abit)\n",
        "plt.plot(output_data)\n",
        "plt.ylabel('Value')\n",
        "plt.xlabel('Sample')\n",
        "plt.legend(['Network Prediction', 'Ground truth'], loc='upper left')\n",
        "ls.show()\n",
        "#ls.savefig('/content/drive/My Drive/Sinc/est-exp.png')\n"
      ],
      "execution_count": 11,
      "outputs": [
        {
          "output_type": "display_data",
          "data": {
            "image/png": "[encoded data removed]",
            "text/plain": [
              "<Figure size 432x288 with 1 Axes>"
            ]
          },
          "metadata": {
            "tags": [],
            "needs_background": "light"
          }
        }
      ]
    },
    {
      "cell_type": "code",
      "metadata": {
        "id": "f8CWwj-FpiEQ",
        "outputId": "1a5b3e3e-03ec-4a01-9dc8-01c287a6c06e",
        "colab": {
          "base_uri": "https://localhost:8080/",
          "height": 265
        }
      },
      "source": [
        "plt.plot(output_data)\n",
        "plt.plot(abit)\n",
        "ls.show()\n"
      ],
      "execution_count": 12,
      "outputs": [
        {
          "output_type": "display_data",
          "data": {
            "image/png": "[encoded data removed]",
            "text/plain": [
              "<Figure size 432x288 with 1 Axes>"
            ]
          },
          "metadata": {
            "tags": [],
            "needs_background": "light"
          }
        }
      ]
    },
    {
      "cell_type": "code",
      "metadata": {
        "id": "0PPswgKNobBx",
        "outputId": "793a068e-9223-4302-ee49-6dbc9e65beaf",
        "colab": {
          "base_uri": "https://localhost:8080/",
          "height": 279
        }
      },
      "source": [
        "ls=plt.figure()\n",
        "plt.scatter(xx,abit)\n",
        "plt.scatter(xx,np.sinc(xx))\n",
        "plt.ylabel('Y')\n",
        "plt.xlabel('X')\n",
        "plt.legend(['Ground truth', 'Network prediction'], loc='upper left')\n",
        "plt.show()\n",
        "#ls.savefig('/content/drive/My Drive/Sinc/sinc-exp.png')\n"
      ],
      "execution_count": 13,
      "outputs": [
        {
          "output_type": "display_data",
          "data": {
            "image/png": "[encoded data removed]",
            "text/plain": [
              "<Figure size 432x288 with 1 Axes>"
            ]
          },
          "metadata": {
            "tags": [],
            "needs_background": "light"
          }
        }
      ]
    },
    {
      "cell_type": "code",
      "metadata": {
        "id": "cbPuN-5HZEKy",
        "outputId": "3ef467ff-abdd-4fe4-b828-ead117b75111",
        "colab": {
          "base_uri": "https://localhost:8080/"
        }
      },
      "source": [
        "abit = model.predict(X_test)\n",
        "from sklearn.metrics import mean_squared_error\n",
        "print('MSE ' + str(mean_squared_error(abit, y_test)))\n",
        "print('RMSE ' + str(np.sqrt(mean_squared_error(abit, y_test))))"
      ],
      "execution_count": 14,
      "outputs": [
        {
          "output_type": "stream",
          "text": [
            "MSE 0.004662936527180574\n",
            "RMSE 0.06828569782304765\n"
          ],
          "name": "stdout"
        }
      ]
    },
    {
      "cell_type": "code",
      "metadata": {
        "id": "e-gZuJM1MJpd",
        "outputId": "e36a649b-07d5-41cc-ba1d-0dfaa58ff027",
        "colab": {
          "base_uri": "https://localhost:8080/"
        }
      },
      "source": [
        "abit = model.predict(inp2)\n",
        "from sklearn.metrics import mean_squared_error\n",
        "print('MSE ' + str(mean_squared_error(abit, output_data)))\n",
        "print('RMSE ' + str(np.sqrt(mean_squared_error(abit, output_data))))"
      ],
      "execution_count": 15,
      "outputs": [
        {
          "output_type": "stream",
          "text": [
            "MSE 0.003710062231094334\n",
            "RMSE 0.06091028017579901\n"
          ],
          "name": "stdout"
        }
      ]
    },
    {
      "cell_type": "code",
      "metadata": {
        "id": "w2ePFauUMPfj"
      },
      "source": [
        ""
      ],
      "execution_count": 15,
      "outputs": []
    }
  ]
}