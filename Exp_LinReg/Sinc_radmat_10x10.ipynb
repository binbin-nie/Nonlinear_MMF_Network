{
  "nbformat": 4,
  "nbformat_minor": 0,
  "metadata": {
    "colab": {
      "name": "Sinc_radmat_10x10.ipynb",
      "provenance": [],
      "collapsed_sections": [],
      "machine_shape": "hm",
      "include_colab_link": true
    },
    "kernelspec": {
      "name": "python3",
      "display_name": "Python 3"
    },
    "accelerator": "GPU"
  },
  "cells": [
    {
      "cell_type": "markdown",
      "metadata": {
        "id": "view-in-github",
        "colab_type": "text"
      },
      "source": [
        "<a href=\"https://colab.research.google.com/github/ugurtegin/Nonlinear_MMF_Network/blob/main/Exp_LinReg/Sinc_radmat_10x10.ipynb\" target=\"_parent\"><img src=\"https://colab.research.google.com/assets/colab-badge.svg\" alt=\"Open In Colab\"/></a>"
      ]
    },
    {
      "cell_type": "code",
      "metadata": {
        "id": "plRoSF3YWrl5",
        "colab": {
          "base_uri": "https://localhost:8080/"
        },
        "outputId": "d6306ffa-d6bf-4b9f-c8cd-2eb1964ab9a7"
      },
      "source": [
        "import numpy as np\n",
        "import matplotlib.pyplot as plt\n",
        "import scipy.io as sio\n",
        "import tensorflow as tf\n",
        "\n",
        "\n",
        "from tensorflow import keras\n",
        "from sklearn.model_selection import train_test_split\n",
        "from tensorflow.keras.models import Model,Sequential\n",
        "from tensorflow.keras.layers import Input, Activation, LSTM\n",
        "from tensorflow.keras.layers import Dense, Dropout, Flatten, Conv2D, MaxPooling2D, AveragePooling2D \n",
        "from tensorflow.keras.optimizers import SGD, Adam\n",
        "from tensorflow.keras.utils import to_categorical, normalize\n",
        "\n",
        "# Load the Drive helper and mount\n",
        "from google.colab import drive\n",
        "\n",
        "# This will prompt for authorization.\n",
        "drive.mount('/content/drive')"
      ],
      "execution_count": 1,
      "outputs": [
        {
          "output_type": "stream",
          "text": [
            "Drive already mounted at /content/drive; to attempt to forcibly remount, call drive.mount(\"/content/drive\", force_remount=True).\n"
          ],
          "name": "stdout"
        }
      ]
    },
    {
      "cell_type": "code",
      "metadata": {
        "id": "PDK63hJmW5D4"
      },
      "source": [
        "import scipy.io as sio\n",
        "f = sio.loadmat('/content/drive/My Drive/Research/MMF_Reservoir/sinctry/res_sq_flt2_2.mat')\n",
        "inp2 = f['res_sq_flt']\n",
        "\n",
        "#Load data\n",
        "f2 = sio.loadmat('/content/drive/My Drive/Research/MMF_Reservoir/sinctry/data.mat')\n",
        "\n",
        "out = f2['y']\n",
        "xx = f2['x']"
      ],
      "execution_count": 2,
      "outputs": []
    },
    {
      "cell_type": "code",
      "metadata": {
        "id": "NsrEaZif34wA"
      },
      "source": [
        "#inp2 = inp / np.linalg.norm(inp)\n",
        "#inp2 = inp2*1000"
      ],
      "execution_count": 3,
      "outputs": []
    },
    {
      "cell_type": "code",
      "metadata": {
        "id": "pYBJB9YglGiX",
        "colab": {
          "base_uri": "https://localhost:8080/"
        },
        "outputId": "49d44207-1c5b-4e3c-fc5d-7003fb4a45c0"
      },
      "source": [
        "input_data = inp2\n",
        "output_data = out\n",
        "\n",
        "print('input_data : ', input_data.shape, input_data.dtype)\n",
        "print('output_class : ', output_data.shape, output_data.dtype)\n",
        "print()"
      ],
      "execution_count": 4,
      "outputs": [
        {
          "output_type": "stream",
          "text": [
            "input_data :  (3000, 484) float64\n",
            "output_class :  (3000, 1) float64\n",
            "\n"
          ],
          "name": "stdout"
        }
      ]
    },
    {
      "cell_type": "code",
      "metadata": {
        "id": "JMVZ-aoTk1wf",
        "colab": {
          "base_uri": "https://localhost:8080/"
        },
        "outputId": "591388b9-c3a0-440b-9455-7dfe017d4e02"
      },
      "source": [
        "oran = 0.20\n",
        "X_train, X_test, y_train, y_test = train_test_split(input_data, output_data, test_size=oran)\n",
        "\n",
        "print('Test data : ', X_test.shape, X_test.dtype)\n",
        "print('Training data : ', X_train.shape, X_train.dtype)\n",
        "print()"
      ],
      "execution_count": 5,
      "outputs": [
        {
          "output_type": "stream",
          "text": [
            "Test data :  (600, 484) float64\n",
            "Training data :  (2400, 484) float64\n",
            "\n"
          ],
          "name": "stdout"
        }
      ]
    },
    {
      "cell_type": "code",
      "metadata": {
        "id": "SycmK62goI2t"
      },
      "source": [
        "model = Sequential()\n",
        "model.add(Dense(1, input_dim=484, activation='linear'))"
      ],
      "execution_count": 6,
      "outputs": []
    },
    {
      "cell_type": "code",
      "metadata": {
        "id": "Sg1arrHHoSF1",
        "colab": {
          "base_uri": "https://localhost:8080/"
        },
        "outputId": "b0303424-fac7-4fdd-acc7-65c37f49f5bd"
      },
      "source": [
        "loss='mean_squared_error' # mean_absolute_error, cosine_proximity\n",
        "metrics = ['mean_squared_error']  # network accuracy metric to be determined after each epoch, mean_absolute_error, cosine_proximity\n",
        "\n",
        "opt1 = SGD(lr=0.001, momentum=0.9)\n",
        "opt2 = Adam(lr=0.001, beta_1=0.9, beta_2=0.999)\n",
        "\n",
        "model.compile(optimizer=opt2, loss=loss, metrics=metrics)\n",
        "model.summary()"
      ],
      "execution_count": 7,
      "outputs": [
        {
          "output_type": "stream",
          "text": [
            "Model: \"sequential\"\n",
            "_________________________________________________________________\n",
            "Layer (type)                 Output Shape              Param #   \n",
            "=================================================================\n",
            "dense (Dense)                (None, 1)                 485       \n",
            "=================================================================\n",
            "Total params: 485\n",
            "Trainable params: 485\n",
            "Non-trainable params: 0\n",
            "_________________________________________________________________\n"
          ],
          "name": "stdout"
        }
      ]
    },
    {
      "cell_type": "code",
      "metadata": {
        "id": "ZavprgepoUEE",
        "colab": {
          "base_uri": "https://localhost:8080/"
        },
        "outputId": "b693ceff-e7f0-4317-989a-e6e45d5391ad"
      },
      "source": [
        "#setting final parameters for the network and it begins to train\n",
        "number_of_iterations = 50\n",
        "#batch_size = 50\n",
        "\n",
        "history=model.fit(X_train, y_train, validation_data=(X_test, y_test), verbose=1, epochs=number_of_iterations)\n",
        "#history=model.fit(X_train, y_train, batch_size=batch_size, epochs=number_of_iterations, verbose=1, validation_data=(X_test, y_test))\n",
        "#Number of iterations run: 900"
      ],
      "execution_count": 8,
      "outputs": [
        {
          "output_type": "stream",
          "text": [
            "Epoch 1/50\n",
            "75/75 [==============================] - 0s 3ms/step - loss: 0.6186 - mean_squared_error: 0.6186 - val_loss: 0.3966 - val_mean_squared_error: 0.3966\n",
            "Epoch 2/50\n",
            "75/75 [==============================] - 0s 2ms/step - loss: 0.3047 - mean_squared_error: 0.3047 - val_loss: 0.2525 - val_mean_squared_error: 0.2525\n",
            "Epoch 3/50\n",
            "75/75 [==============================] - 0s 2ms/step - loss: 0.1849 - mean_squared_error: 0.1849 - val_loss: 0.1787 - val_mean_squared_error: 0.1787\n",
            "Epoch 4/50\n",
            "75/75 [==============================] - 0s 2ms/step - loss: 0.1206 - mean_squared_error: 0.1206 - val_loss: 0.1137 - val_mean_squared_error: 0.1137\n",
            "Epoch 5/50\n",
            "75/75 [==============================] - 0s 2ms/step - loss: 0.0801 - mean_squared_error: 0.0801 - val_loss: 0.0822 - val_mean_squared_error: 0.0822\n",
            "Epoch 6/50\n",
            "75/75 [==============================] - 0s 2ms/step - loss: 0.0577 - mean_squared_error: 0.0577 - val_loss: 0.0627 - val_mean_squared_error: 0.0627\n",
            "Epoch 7/50\n",
            "75/75 [==============================] - 0s 2ms/step - loss: 0.0434 - mean_squared_error: 0.0434 - val_loss: 0.0545 - val_mean_squared_error: 0.0545\n",
            "Epoch 8/50\n",
            "75/75 [==============================] - 0s 2ms/step - loss: 0.0343 - mean_squared_error: 0.0343 - val_loss: 0.0400 - val_mean_squared_error: 0.0400\n",
            "Epoch 9/50\n",
            "75/75 [==============================] - 0s 2ms/step - loss: 0.0277 - mean_squared_error: 0.0277 - val_loss: 0.0335 - val_mean_squared_error: 0.0335\n",
            "Epoch 10/50\n",
            "75/75 [==============================] - 0s 2ms/step - loss: 0.0236 - mean_squared_error: 0.0236 - val_loss: 0.0300 - val_mean_squared_error: 0.0300\n",
            "Epoch 11/50\n",
            "75/75 [==============================] - 0s 2ms/step - loss: 0.0205 - mean_squared_error: 0.0205 - val_loss: 0.0279 - val_mean_squared_error: 0.0279\n",
            "Epoch 12/50\n",
            "75/75 [==============================] - 0s 2ms/step - loss: 0.0187 - mean_squared_error: 0.0187 - val_loss: 0.0246 - val_mean_squared_error: 0.0246\n",
            "Epoch 13/50\n",
            "75/75 [==============================] - 0s 2ms/step - loss: 0.0160 - mean_squared_error: 0.0160 - val_loss: 0.0211 - val_mean_squared_error: 0.0211\n",
            "Epoch 14/50\n",
            "75/75 [==============================] - 0s 2ms/step - loss: 0.0146 - mean_squared_error: 0.0146 - val_loss: 0.0196 - val_mean_squared_error: 0.0196\n",
            "Epoch 15/50\n",
            "75/75 [==============================] - 0s 2ms/step - loss: 0.0133 - mean_squared_error: 0.0133 - val_loss: 0.0176 - val_mean_squared_error: 0.0176\n",
            "Epoch 16/50\n",
            "75/75 [==============================] - 0s 2ms/step - loss: 0.0132 - mean_squared_error: 0.0132 - val_loss: 0.0179 - val_mean_squared_error: 0.0179\n",
            "Epoch 17/50\n",
            "75/75 [==============================] - 0s 2ms/step - loss: 0.0124 - mean_squared_error: 0.0124 - val_loss: 0.0151 - val_mean_squared_error: 0.0151\n",
            "Epoch 18/50\n",
            "75/75 [==============================] - 0s 2ms/step - loss: 0.0108 - mean_squared_error: 0.0108 - val_loss: 0.0138 - val_mean_squared_error: 0.0138\n",
            "Epoch 19/50\n",
            "75/75 [==============================] - 0s 2ms/step - loss: 0.0095 - mean_squared_error: 0.0095 - val_loss: 0.0136 - val_mean_squared_error: 0.0136\n",
            "Epoch 20/50\n",
            "75/75 [==============================] - 0s 2ms/step - loss: 0.0100 - mean_squared_error: 0.0100 - val_loss: 0.0171 - val_mean_squared_error: 0.0171\n",
            "Epoch 21/50\n",
            "75/75 [==============================] - 0s 2ms/step - loss: 0.0100 - mean_squared_error: 0.0100 - val_loss: 0.0125 - val_mean_squared_error: 0.0125\n",
            "Epoch 22/50\n",
            "75/75 [==============================] - 0s 2ms/step - loss: 0.0083 - mean_squared_error: 0.0083 - val_loss: 0.0163 - val_mean_squared_error: 0.0163\n",
            "Epoch 23/50\n",
            "75/75 [==============================] - 0s 2ms/step - loss: 0.0080 - mean_squared_error: 0.0080 - val_loss: 0.0104 - val_mean_squared_error: 0.0104\n",
            "Epoch 24/50\n",
            "75/75 [==============================] - 0s 2ms/step - loss: 0.0086 - mean_squared_error: 0.0086 - val_loss: 0.0102 - val_mean_squared_error: 0.0102\n",
            "Epoch 25/50\n",
            "75/75 [==============================] - 0s 2ms/step - loss: 0.0066 - mean_squared_error: 0.0066 - val_loss: 0.0094 - val_mean_squared_error: 0.0094\n",
            "Epoch 26/50\n",
            "75/75 [==============================] - 0s 2ms/step - loss: 0.0068 - mean_squared_error: 0.0068 - val_loss: 0.0089 - val_mean_squared_error: 0.0089\n",
            "Epoch 27/50\n",
            "75/75 [==============================] - 0s 2ms/step - loss: 0.0066 - mean_squared_error: 0.0066 - val_loss: 0.0103 - val_mean_squared_error: 0.0103\n",
            "Epoch 28/50\n",
            "75/75 [==============================] - 0s 2ms/step - loss: 0.0066 - mean_squared_error: 0.0066 - val_loss: 0.0089 - val_mean_squared_error: 0.0089\n",
            "Epoch 29/50\n",
            "75/75 [==============================] - 0s 2ms/step - loss: 0.0062 - mean_squared_error: 0.0062 - val_loss: 0.0111 - val_mean_squared_error: 0.0111\n",
            "Epoch 30/50\n",
            "75/75 [==============================] - 0s 2ms/step - loss: 0.0062 - mean_squared_error: 0.0062 - val_loss: 0.0079 - val_mean_squared_error: 0.0079\n",
            "Epoch 31/50\n",
            "75/75 [==============================] - 0s 2ms/step - loss: 0.0051 - mean_squared_error: 0.0051 - val_loss: 0.0072 - val_mean_squared_error: 0.0072\n",
            "Epoch 32/50\n",
            "75/75 [==============================] - 0s 2ms/step - loss: 0.0054 - mean_squared_error: 0.0054 - val_loss: 0.0072 - val_mean_squared_error: 0.0072\n",
            "Epoch 33/50\n",
            "75/75 [==============================] - 0s 2ms/step - loss: 0.0050 - mean_squared_error: 0.0050 - val_loss: 0.0069 - val_mean_squared_error: 0.0069\n",
            "Epoch 34/50\n",
            "75/75 [==============================] - 0s 2ms/step - loss: 0.0050 - mean_squared_error: 0.0050 - val_loss: 0.0068 - val_mean_squared_error: 0.0068\n",
            "Epoch 35/50\n",
            "75/75 [==============================] - 0s 2ms/step - loss: 0.0047 - mean_squared_error: 0.0047 - val_loss: 0.0064 - val_mean_squared_error: 0.0064\n",
            "Epoch 36/50\n",
            "75/75 [==============================] - 0s 2ms/step - loss: 0.0062 - mean_squared_error: 0.0062 - val_loss: 0.0062 - val_mean_squared_error: 0.0062\n",
            "Epoch 37/50\n",
            "75/75 [==============================] - 0s 2ms/step - loss: 0.0047 - mean_squared_error: 0.0047 - val_loss: 0.0058 - val_mean_squared_error: 0.0058\n",
            "Epoch 38/50\n",
            "75/75 [==============================] - 0s 2ms/step - loss: 0.0042 - mean_squared_error: 0.0042 - val_loss: 0.0054 - val_mean_squared_error: 0.0054\n",
            "Epoch 39/50\n",
            "75/75 [==============================] - 0s 2ms/step - loss: 0.0044 - mean_squared_error: 0.0044 - val_loss: 0.0072 - val_mean_squared_error: 0.0072\n",
            "Epoch 40/50\n",
            "75/75 [==============================] - 0s 2ms/step - loss: 0.0047 - mean_squared_error: 0.0047 - val_loss: 0.0056 - val_mean_squared_error: 0.0056\n",
            "Epoch 41/50\n",
            "75/75 [==============================] - 0s 2ms/step - loss: 0.0043 - mean_squared_error: 0.0043 - val_loss: 0.0054 - val_mean_squared_error: 0.0054\n",
            "Epoch 42/50\n",
            "75/75 [==============================] - 0s 2ms/step - loss: 0.0041 - mean_squared_error: 0.0041 - val_loss: 0.0052 - val_mean_squared_error: 0.0052\n",
            "Epoch 43/50\n",
            "75/75 [==============================] - 0s 2ms/step - loss: 0.0036 - mean_squared_error: 0.0036 - val_loss: 0.0053 - val_mean_squared_error: 0.0053\n",
            "Epoch 44/50\n",
            "75/75 [==============================] - 0s 2ms/step - loss: 0.0043 - mean_squared_error: 0.0043 - val_loss: 0.0054 - val_mean_squared_error: 0.0054\n",
            "Epoch 45/50\n",
            "75/75 [==============================] - 0s 2ms/step - loss: 0.0037 - mean_squared_error: 0.0037 - val_loss: 0.0065 - val_mean_squared_error: 0.0065\n",
            "Epoch 46/50\n",
            "75/75 [==============================] - 0s 2ms/step - loss: 0.0038 - mean_squared_error: 0.0038 - val_loss: 0.0051 - val_mean_squared_error: 0.0051\n",
            "Epoch 47/50\n",
            "75/75 [==============================] - 0s 2ms/step - loss: 0.0045 - mean_squared_error: 0.0045 - val_loss: 0.0048 - val_mean_squared_error: 0.0048\n",
            "Epoch 48/50\n",
            "75/75 [==============================] - 0s 2ms/step - loss: 0.0044 - mean_squared_error: 0.0044 - val_loss: 0.0074 - val_mean_squared_error: 0.0074\n",
            "Epoch 49/50\n",
            "75/75 [==============================] - 0s 2ms/step - loss: 0.0036 - mean_squared_error: 0.0036 - val_loss: 0.0046 - val_mean_squared_error: 0.0046\n",
            "Epoch 50/50\n",
            "75/75 [==============================] - 0s 2ms/step - loss: 0.0038 - mean_squared_error: 0.0038 - val_loss: 0.0045 - val_mean_squared_error: 0.0045\n"
          ],
          "name": "stdout"
        }
      ]
    },
    {
      "cell_type": "code",
      "metadata": {
        "id": "32jFj14Qz_qx",
        "colab": {
          "base_uri": "https://localhost:8080/",
          "height": 295
        },
        "outputId": "36aa4343-20e2-4350-fc2b-bb63258d0c34"
      },
      "source": [
        "from google.colab import files\n",
        "# summarize history for loss\n",
        "ls=plt.figure()\n",
        "plt.plot(history.history['loss'])\n",
        "plt.plot(history.history['val_loss'])\n",
        "plt.title('model loss')\n",
        "plt.ylabel('loss')\n",
        "plt.xlabel('epoch')\n",
        "plt.legend(['train', 'test'], loc='upper left')\n",
        "#plt.ylim(0.02,0.4)\n",
        "ls.show()\n",
        "#ls.savefig('/content/drive/My Drive/Sinc/loss-exp.png')\n",
        "#files.download('loss-1.png')"
      ],
      "execution_count": 9,
      "outputs": [
        {
          "output_type": "display_data",
          "data": {
            "image/png": "[encoded data removed]",
            "text/plain": [
              "<Figure size 432x288 with 1 Axes>"
            ]
          },
          "metadata": {
            "tags": [],
            "needs_background": "light"
          }
        }
      ]
    },
    {
      "cell_type": "code",
      "metadata": {
        "id": "Cm1EwzISl5PA",
        "colab": {
          "base_uri": "https://localhost:8080/"
        },
        "outputId": "7c3bc293-faef-43c4-bde7-47eaaf221fc5"
      },
      "source": [
        "abit = model.predict(inp2)\n",
        "abit.shape"
      ],
      "execution_count": 10,
      "outputs": [
        {
          "output_type": "execute_result",
          "data": {
            "text/plain": [
              "(3000, 1)"
            ]
          },
          "metadata": {
            "tags": []
          },
          "execution_count": 10
        }
      ]
    },
    {
      "cell_type": "code",
      "metadata": {
        "id": "pSRbcIY8pfsW",
        "colab": {
          "base_uri": "https://localhost:8080/",
          "height": 279
        },
        "outputId": "91085095-09b2-47a5-fb38-351d86ce4bcc"
      },
      "source": [
        "ls=plt.figure()\n",
        "plt.plot(abit)\n",
        "plt.plot(output_data)\n",
        "plt.ylabel('Value')\n",
        "plt.xlabel('Sample')\n",
        "plt.legend(['Network Prediction', 'Ground truth'], loc='upper left')\n",
        "ls.show()\n",
        "#ls.savefig('/content/drive/My Drive/Sinc/est-exp.png')\n"
      ],
      "execution_count": 11,
      "outputs": [
        {
          "output_type": "display_data",
          "data": {
            "image/png": "[encoded data removed]",
            "text/plain": [
              "<Figure size 432x288 with 1 Axes>"
            ]
          },
          "metadata": {
            "tags": [],
            "needs_background": "light"
          }
        }
      ]
    },
    {
      "cell_type": "code",
      "metadata": {
        "id": "f8CWwj-FpiEQ",
        "colab": {
          "base_uri": "https://localhost:8080/",
          "height": 265
        },
        "outputId": "e54b11dd-3f75-406c-8bb0-03b585f9461a"
      },
      "source": [
        "plt.plot(output_data)\n",
        "plt.plot(abit)\n",
        "ls.show()\n"
      ],
      "execution_count": 12,
      "outputs": [
        {
          "output_type": "display_data",
          "data": {
            "image/png": "[encoded data removed]",
            "text/plain": [
              "<Figure size 432x288 with 1 Axes>"
            ]
          },
          "metadata": {
            "tags": [],
            "needs_background": "light"
          }
        }
      ]
    },
    {
      "cell_type": "code",
      "metadata": {
        "id": "0PPswgKNobBx",
        "colab": {
          "base_uri": "https://localhost:8080/",
          "height": 279
        },
        "outputId": "97a3a1d1-1779-4fec-f0f5-eddfb929fb7b"
      },
      "source": [
        "ls=plt.figure()\n",
        "plt.scatter(xx,abit)\n",
        "plt.scatter(xx,np.sinc(xx))\n",
        "plt.ylabel('Y')\n",
        "plt.xlabel('X')\n",
        "plt.legend(['Ground truth', 'Network prediction'], loc='upper left')\n",
        "plt.show()\n",
        "#ls.savefig('/content/drive/My Drive/Sinc/sinc-exp.png')\n"
      ],
      "execution_count": 13,
      "outputs": [
        {
          "output_type": "display_data",
          "data": {
            "image/png": "[encoded data removed]",
            "text/plain": [
              "<Figure size 432x288 with 1 Axes>"
            ]
          },
          "metadata": {
            "tags": [],
            "needs_background": "light"
          }
        }
      ]
    },
    {
      "cell_type": "code",
      "metadata": {
        "id": "cbPuN-5HZEKy",
        "colab": {
          "base_uri": "https://localhost:8080/"
        },
        "outputId": "f10bb05c-38ff-4034-8503-c315e9f38d3b"
      },
      "source": [
        "abit = model.predict(X_test)\n",
        "from sklearn.metrics import mean_squared_error\n",
        "print('MSE ' + str(mean_squared_error(abit, y_test)))\n",
        "print('RMSE ' + str(np.sqrt(mean_squared_error(abit, y_test))))"
      ],
      "execution_count": 14,
      "outputs": [
        {
          "output_type": "stream",
          "text": [
            "MSE 0.004508743900769029\n",
            "RMSE 0.06714718088474772\n"
          ],
          "name": "stdout"
        }
      ]
    },
    {
      "cell_type": "code",
      "metadata": {
        "id": "e-gZuJM1MJpd",
        "colab": {
          "base_uri": "https://localhost:8080/"
        },
        "outputId": "f40ff50d-5dbc-47bc-fddf-a68c10b7ee17"
      },
      "source": [
        "abit = model.predict(inp2)\n",
        "from sklearn.metrics import mean_squared_error\n",
        "print('MSE ' + str(mean_squared_error(abit, output_data)))\n",
        "print('RMSE ' + str(np.sqrt(mean_squared_error(abit, output_data))))"
      ],
      "execution_count": 15,
      "outputs": [
        {
          "output_type": "stream",
          "text": [
            "MSE 0.003184176838330344\n",
            "RMSE 0.056428510864015756\n"
          ],
          "name": "stdout"
        }
      ]
    },
    {
      "cell_type": "code",
      "metadata": {
        "id": "w2ePFauUMPfj"
      },
      "source": [
        "sio.savemat('/content/drive/My Drive/Research/MMF_Reservoir/sinctry/network_res.mat', {'y':out, 'x':xx, 'X_test':X_test, 'X_train':X_train, 'y_test':y_test, 'y_train':y_train,  'pred':abit})"
      ],
      "execution_count": 17,
      "outputs": []
    },
    {
      "cell_type": "code",
      "metadata": {
        "id": "jmi2E0avG4Wq"
      },
      "source": [
        ""
      ],
      "execution_count": 16,
      "outputs": []
    }
  ]
}