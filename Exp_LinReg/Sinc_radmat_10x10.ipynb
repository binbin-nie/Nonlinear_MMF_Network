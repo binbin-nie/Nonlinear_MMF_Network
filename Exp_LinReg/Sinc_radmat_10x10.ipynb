{
  "nbformat": 4,
  "nbformat_minor": 0,
  "metadata": {
    "colab": {
      "name": "Sinc_radmat_10x10.ipynb",
      "provenance": [],
      "collapsed_sections": [],
      "machine_shape": "hm",
      "include_colab_link": true
    },
    "kernelspec": {
      "name": "python3",
      "display_name": "Python 3"
    },
    "accelerator": "GPU"
  },
  "cells": [
    {
      "cell_type": "markdown",
      "metadata": {
        "id": "view-in-github",
        "colab_type": "text"
      },
      "source": [
        "<a href=\"https://colab.research.google.com/github/ugurtegin/Nonlinear_MMF_Network/blob/main/Exp_LinReg/Sinc_radmat_10x10.ipynb\" target=\"_parent\"><img src=\"https://colab.research.google.com/assets/colab-badge.svg\" alt=\"Open In Colab\"/></a>"
      ]
    },
    {
      "cell_type": "code",
      "metadata": {
        "id": "plRoSF3YWrl5",
        "outputId": "fa8ba8e8-a72e-4160-ea23-aa5c56b578d6",
        "colab": {
          "base_uri": "https://localhost:8080/"
        }
      },
      "source": [
        "import numpy as np\n",
        "import matplotlib.pyplot as plt\n",
        "import scipy.io as sio\n",
        "import tensorflow as tf\n",
        "\n",
        "\n",
        "from tensorflow import keras\n",
        "from sklearn.model_selection import train_test_split\n",
        "from tensorflow.keras.models import Model,Sequential\n",
        "from tensorflow.keras.layers import Input, Activation, LSTM\n",
        "from tensorflow.keras.layers import Dense, Dropout, Flatten, Conv2D, MaxPooling2D, AveragePooling2D \n",
        "from tensorflow.keras.optimizers import SGD, Adam\n",
        "from tensorflow.keras.utils import to_categorical, normalize\n",
        "\n",
        "# Load the Drive helper and mount\n",
        "from google.colab import drive\n",
        "\n",
        "# This will prompt for authorization.\n",
        "drive.mount('/content/drive')"
      ],
      "execution_count": 1,
      "outputs": [
        {
          "output_type": "stream",
          "text": [
            "Drive already mounted at /content/drive; to attempt to forcibly remount, call drive.mount(\"/content/drive\", force_remount=True).\n"
          ],
          "name": "stdout"
        }
      ]
    },
    {
      "cell_type": "code",
      "metadata": {
        "id": "PDK63hJmW5D4"
      },
      "source": [
        "import scipy.io as sio\n",
        "f = sio.loadmat('/content/drive/My Drive/Research/MMF_Reservoir/sinctry/res_sq_flt2_2.mat')\n",
        "inp2 = f['res_sq_flt']\n",
        "\n",
        "#Load data\n",
        "f2 = sio.loadmat('/content/drive/My Drive/Research/MMF_Reservoir/sinctry/data.mat')\n",
        "\n",
        "out = f2['y']\n",
        "xx = f2['x']"
      ],
      "execution_count": 2,
      "outputs": []
    },
    {
      "cell_type": "code",
      "metadata": {
        "id": "NsrEaZif34wA"
      },
      "source": [
        "#inp2 = inp / np.linalg.norm(inp)\n",
        "#inp2 = inp2*1000"
      ],
      "execution_count": 3,
      "outputs": []
    },
    {
      "cell_type": "code",
      "metadata": {
        "id": "pYBJB9YglGiX",
        "outputId": "b6c29c56-862c-42b5-e748-502ac449fc2d",
        "colab": {
          "base_uri": "https://localhost:8080/"
        }
      },
      "source": [
        "input_data = inp2\n",
        "output_data = out\n",
        "\n",
        "print('input_data : ', input_data.shape, input_data.dtype)\n",
        "print('output_class : ', output_data.shape, output_data.dtype)\n",
        "print()"
      ],
      "execution_count": 4,
      "outputs": [
        {
          "output_type": "stream",
          "text": [
            "input_data :  (3000, 484) float64\n",
            "output_class :  (3000, 1) float64\n",
            "\n"
          ],
          "name": "stdout"
        }
      ]
    },
    {
      "cell_type": "code",
      "metadata": {
        "id": "JMVZ-aoTk1wf",
        "outputId": "478b9cd8-5cbb-44fe-b27e-9ed04ff41744",
        "colab": {
          "base_uri": "https://localhost:8080/"
        }
      },
      "source": [
        "oran = 0.20\n",
        "X_train, X_test, y_train, y_test = train_test_split(input_data, output_data, test_size=oran)\n",
        "\n",
        "print('Test data : ', X_test.shape, X_test.dtype)\n",
        "print('Training data : ', X_train.shape, X_train.dtype)\n",
        "print()"
      ],
      "execution_count": 5,
      "outputs": [
        {
          "output_type": "stream",
          "text": [
            "Test data :  (600, 484) float64\n",
            "Training data :  (2400, 484) float64\n",
            "\n"
          ],
          "name": "stdout"
        }
      ]
    },
    {
      "cell_type": "code",
      "metadata": {
        "id": "SycmK62goI2t"
      },
      "source": [
        "model = Sequential()\n",
        "model.add(Dense(1, input_dim=484, activation='linear'))"
      ],
      "execution_count": 6,
      "outputs": []
    },
    {
      "cell_type": "code",
      "metadata": {
        "id": "Sg1arrHHoSF1",
        "outputId": "dbe47085-7791-4dbb-bcf5-f4ad211aad11",
        "colab": {
          "base_uri": "https://localhost:8080/"
        }
      },
      "source": [
        "loss='mean_squared_error' # mean_absolute_error, cosine_proximity\n",
        "metrics = ['mean_squared_error']  # network accuracy metric to be determined after each epoch, mean_absolute_error, cosine_proximity\n",
        "\n",
        "opt1 = SGD(lr=0.001, momentum=0.9)\n",
        "opt2 = Adam(lr=0.001, beta_1=0.9, beta_2=0.999)\n",
        "\n",
        "model.compile(optimizer=opt2, loss=loss, metrics=metrics)\n",
        "model.summary()"
      ],
      "execution_count": 7,
      "outputs": [
        {
          "output_type": "stream",
          "text": [
            "Model: \"sequential\"\n",
            "_________________________________________________________________\n",
            "Layer (type)                 Output Shape              Param #   \n",
            "=================================================================\n",
            "dense (Dense)                (None, 1)                 485       \n",
            "=================================================================\n",
            "Total params: 485\n",
            "Trainable params: 485\n",
            "Non-trainable params: 0\n",
            "_________________________________________________________________\n"
          ],
          "name": "stdout"
        }
      ]
    },
    {
      "cell_type": "code",
      "metadata": {
        "id": "ZavprgepoUEE",
        "outputId": "44af3987-5877-4609-9e67-83210cd83bb3",
        "colab": {
          "base_uri": "https://localhost:8080/"
        }
      },
      "source": [
        "#setting final parameters for the network and it begins to train\n",
        "number_of_iterations = 50\n",
        "#batch_size = 50\n",
        "\n",
        "history=model.fit(X_train, y_train, validation_data=(X_test, y_test), epochs=number_of_iterations)\n",
        "#history=model.fit(X_train, y_train, batch_size=batch_size, epochs=number_of_iterations, verbose=1, validation_data=(X_test, y_test))\n",
        "#Number of iterations run: 900"
      ],
      "execution_count": 8,
      "outputs": [
        {
          "output_type": "stream",
          "text": [
            "Epoch 1/50\n",
            "75/75 [==============================] - 0s 4ms/step - loss: 0.6479 - mean_squared_error: 0.6479 - val_loss: 0.4567 - val_mean_squared_error: 0.4567\n",
            "Epoch 2/50\n",
            "75/75 [==============================] - 0s 2ms/step - loss: 0.3579 - mean_squared_error: 0.3579 - val_loss: 0.2933 - val_mean_squared_error: 0.2933\n",
            "Epoch 3/50\n",
            "75/75 [==============================] - 0s 2ms/step - loss: 0.2304 - mean_squared_error: 0.2304 - val_loss: 0.2397 - val_mean_squared_error: 0.2397\n",
            "Epoch 4/50\n",
            "75/75 [==============================] - 0s 2ms/step - loss: 0.1534 - mean_squared_error: 0.1534 - val_loss: 0.1540 - val_mean_squared_error: 0.1540\n",
            "Epoch 5/50\n",
            "75/75 [==============================] - 0s 2ms/step - loss: 0.1042 - mean_squared_error: 0.1042 - val_loss: 0.1099 - val_mean_squared_error: 0.1099\n",
            "Epoch 6/50\n",
            "75/75 [==============================] - 0s 2ms/step - loss: 0.0751 - mean_squared_error: 0.0751 - val_loss: 0.0775 - val_mean_squared_error: 0.0775\n",
            "Epoch 7/50\n",
            "75/75 [==============================] - 0s 2ms/step - loss: 0.0554 - mean_squared_error: 0.0554 - val_loss: 0.0620 - val_mean_squared_error: 0.0620\n",
            "Epoch 8/50\n",
            "75/75 [==============================] - 0s 2ms/step - loss: 0.0431 - mean_squared_error: 0.0431 - val_loss: 0.0488 - val_mean_squared_error: 0.0488\n",
            "Epoch 9/50\n",
            "75/75 [==============================] - 0s 2ms/step - loss: 0.0344 - mean_squared_error: 0.0344 - val_loss: 0.0390 - val_mean_squared_error: 0.0390\n",
            "Epoch 10/50\n",
            "75/75 [==============================] - 0s 2ms/step - loss: 0.0281 - mean_squared_error: 0.0281 - val_loss: 0.0327 - val_mean_squared_error: 0.0327\n",
            "Epoch 11/50\n",
            "75/75 [==============================] - 0s 2ms/step - loss: 0.0239 - mean_squared_error: 0.0239 - val_loss: 0.0271 - val_mean_squared_error: 0.0271\n",
            "Epoch 12/50\n",
            "75/75 [==============================] - 0s 2ms/step - loss: 0.0205 - mean_squared_error: 0.0205 - val_loss: 0.0272 - val_mean_squared_error: 0.0272\n",
            "Epoch 13/50\n",
            "75/75 [==============================] - 0s 2ms/step - loss: 0.0184 - mean_squared_error: 0.0184 - val_loss: 0.0221 - val_mean_squared_error: 0.0221\n",
            "Epoch 14/50\n",
            "75/75 [==============================] - 0s 2ms/step - loss: 0.0160 - mean_squared_error: 0.0160 - val_loss: 0.0187 - val_mean_squared_error: 0.0187\n",
            "Epoch 15/50\n",
            "75/75 [==============================] - 0s 2ms/step - loss: 0.0143 - mean_squared_error: 0.0143 - val_loss: 0.0186 - val_mean_squared_error: 0.0186\n",
            "Epoch 16/50\n",
            "75/75 [==============================] - 0s 2ms/step - loss: 0.0131 - mean_squared_error: 0.0131 - val_loss: 0.0180 - val_mean_squared_error: 0.0180\n",
            "Epoch 17/50\n",
            "75/75 [==============================] - 0s 2ms/step - loss: 0.0118 - mean_squared_error: 0.0118 - val_loss: 0.0146 - val_mean_squared_error: 0.0146\n",
            "Epoch 18/50\n",
            "75/75 [==============================] - 0s 2ms/step - loss: 0.0112 - mean_squared_error: 0.0112 - val_loss: 0.0135 - val_mean_squared_error: 0.0135\n",
            "Epoch 19/50\n",
            "75/75 [==============================] - 0s 2ms/step - loss: 0.0105 - mean_squared_error: 0.0105 - val_loss: 0.0142 - val_mean_squared_error: 0.0142\n",
            "Epoch 20/50\n",
            "75/75 [==============================] - 0s 2ms/step - loss: 0.0098 - mean_squared_error: 0.0098 - val_loss: 0.0133 - val_mean_squared_error: 0.0133\n",
            "Epoch 21/50\n",
            "75/75 [==============================] - 0s 2ms/step - loss: 0.0101 - mean_squared_error: 0.0101 - val_loss: 0.0155 - val_mean_squared_error: 0.0155\n",
            "Epoch 22/50\n",
            "75/75 [==============================] - 0s 2ms/step - loss: 0.0087 - mean_squared_error: 0.0087 - val_loss: 0.0096 - val_mean_squared_error: 0.0096\n",
            "Epoch 23/50\n",
            "75/75 [==============================] - 0s 2ms/step - loss: 0.0081 - mean_squared_error: 0.0081 - val_loss: 0.0101 - val_mean_squared_error: 0.0101\n",
            "Epoch 24/50\n",
            "75/75 [==============================] - 0s 2ms/step - loss: 0.0077 - mean_squared_error: 0.0077 - val_loss: 0.0102 - val_mean_squared_error: 0.0102\n",
            "Epoch 25/50\n",
            "75/75 [==============================] - 0s 2ms/step - loss: 0.0073 - mean_squared_error: 0.0073 - val_loss: 0.0083 - val_mean_squared_error: 0.0083\n",
            "Epoch 26/50\n",
            "75/75 [==============================] - 0s 2ms/step - loss: 0.0069 - mean_squared_error: 0.0069 - val_loss: 0.0097 - val_mean_squared_error: 0.0097\n",
            "Epoch 27/50\n",
            "75/75 [==============================] - 0s 2ms/step - loss: 0.0073 - mean_squared_error: 0.0073 - val_loss: 0.0093 - val_mean_squared_error: 0.0093\n",
            "Epoch 28/50\n",
            "75/75 [==============================] - 0s 2ms/step - loss: 0.0066 - mean_squared_error: 0.0066 - val_loss: 0.0103 - val_mean_squared_error: 0.0103\n",
            "Epoch 29/50\n",
            "75/75 [==============================] - 0s 2ms/step - loss: 0.0062 - mean_squared_error: 0.0062 - val_loss: 0.0077 - val_mean_squared_error: 0.0077\n",
            "Epoch 30/50\n",
            "75/75 [==============================] - 0s 2ms/step - loss: 0.0062 - mean_squared_error: 0.0062 - val_loss: 0.0104 - val_mean_squared_error: 0.0104\n",
            "Epoch 31/50\n",
            "75/75 [==============================] - 0s 2ms/step - loss: 0.0058 - mean_squared_error: 0.0058 - val_loss: 0.0064 - val_mean_squared_error: 0.0064\n",
            "Epoch 32/50\n",
            "75/75 [==============================] - 0s 2ms/step - loss: 0.0053 - mean_squared_error: 0.0053 - val_loss: 0.0061 - val_mean_squared_error: 0.0061\n",
            "Epoch 33/50\n",
            "75/75 [==============================] - 0s 2ms/step - loss: 0.0053 - mean_squared_error: 0.0053 - val_loss: 0.0067 - val_mean_squared_error: 0.0067\n",
            "Epoch 34/50\n",
            "75/75 [==============================] - 0s 2ms/step - loss: 0.0053 - mean_squared_error: 0.0053 - val_loss: 0.0081 - val_mean_squared_error: 0.0081\n",
            "Epoch 35/50\n",
            "75/75 [==============================] - 0s 2ms/step - loss: 0.0054 - mean_squared_error: 0.0054 - val_loss: 0.0065 - val_mean_squared_error: 0.0065\n",
            "Epoch 36/50\n",
            "75/75 [==============================] - 0s 2ms/step - loss: 0.0056 - mean_squared_error: 0.0056 - val_loss: 0.0058 - val_mean_squared_error: 0.0058\n",
            "Epoch 37/50\n",
            "75/75 [==============================] - 0s 2ms/step - loss: 0.0049 - mean_squared_error: 0.0049 - val_loss: 0.0052 - val_mean_squared_error: 0.0052\n",
            "Epoch 38/50\n",
            "75/75 [==============================] - 0s 2ms/step - loss: 0.0049 - mean_squared_error: 0.0049 - val_loss: 0.0053 - val_mean_squared_error: 0.0053\n",
            "Epoch 39/50\n",
            "75/75 [==============================] - 0s 2ms/step - loss: 0.0047 - mean_squared_error: 0.0047 - val_loss: 0.0058 - val_mean_squared_error: 0.0058\n",
            "Epoch 40/50\n",
            "75/75 [==============================] - 0s 2ms/step - loss: 0.0044 - mean_squared_error: 0.0044 - val_loss: 0.0069 - val_mean_squared_error: 0.0069\n",
            "Epoch 41/50\n",
            "75/75 [==============================] - 0s 2ms/step - loss: 0.0045 - mean_squared_error: 0.0045 - val_loss: 0.0056 - val_mean_squared_error: 0.0056\n",
            "Epoch 42/50\n",
            "75/75 [==============================] - 0s 2ms/step - loss: 0.0062 - mean_squared_error: 0.0062 - val_loss: 0.0050 - val_mean_squared_error: 0.0050\n",
            "Epoch 43/50\n",
            "75/75 [==============================] - 0s 2ms/step - loss: 0.0053 - mean_squared_error: 0.0053 - val_loss: 0.0053 - val_mean_squared_error: 0.0053\n",
            "Epoch 44/50\n",
            "75/75 [==============================] - 0s 2ms/step - loss: 0.0053 - mean_squared_error: 0.0053 - val_loss: 0.0063 - val_mean_squared_error: 0.0063\n",
            "Epoch 45/50\n",
            "75/75 [==============================] - 0s 2ms/step - loss: 0.0046 - mean_squared_error: 0.0046 - val_loss: 0.0047 - val_mean_squared_error: 0.0047\n",
            "Epoch 46/50\n",
            "75/75 [==============================] - 0s 2ms/step - loss: 0.0043 - mean_squared_error: 0.0043 - val_loss: 0.0048 - val_mean_squared_error: 0.0048\n",
            "Epoch 47/50\n",
            "75/75 [==============================] - 0s 2ms/step - loss: 0.0041 - mean_squared_error: 0.0041 - val_loss: 0.0043 - val_mean_squared_error: 0.0043\n",
            "Epoch 48/50\n",
            "75/75 [==============================] - 0s 2ms/step - loss: 0.0038 - mean_squared_error: 0.0038 - val_loss: 0.0089 - val_mean_squared_error: 0.0089\n",
            "Epoch 49/50\n",
            "75/75 [==============================] - 0s 2ms/step - loss: 0.0052 - mean_squared_error: 0.0052 - val_loss: 0.0050 - val_mean_squared_error: 0.0050\n",
            "Epoch 50/50\n",
            "75/75 [==============================] - 0s 2ms/step - loss: 0.0041 - mean_squared_error: 0.0041 - val_loss: 0.0056 - val_mean_squared_error: 0.0056\n"
          ],
          "name": "stdout"
        }
      ]
    },
    {
      "cell_type": "code",
      "metadata": {
        "id": "32jFj14Qz_qx",
        "outputId": "a384cca0-0c32-460e-de1c-1b6cdbe89472",
        "colab": {
          "base_uri": "https://localhost:8080/",
          "height": 295
        }
      },
      "source": [
        "from google.colab import files\n",
        "# summarize history for loss\n",
        "ls=plt.figure()\n",
        "plt.plot(history.history['loss'])\n",
        "plt.plot(history.history['val_loss'])\n",
        "plt.title('model loss')\n",
        "plt.ylabel('loss')\n",
        "plt.xlabel('epoch')\n",
        "plt.legend(['train', 'test'], loc='upper left')\n",
        "#plt.ylim(0.02,0.4)\n",
        "ls.show()\n",
        "#ls.savefig('/content/drive/My Drive/Sinc/loss-exp.png')\n",
        "#files.download('loss-1.png')"
      ],
      "execution_count": 9,
      "outputs": [
        {
          "output_type": "display_data",
          "data": {
            "image/png": "[encoded data removed]",
            "text/plain": [
              "<Figure size 432x288 with 1 Axes>"
            ]
          },
          "metadata": {
            "tags": [],
            "needs_background": "light"
          }
        }
      ]
    },
    {
      "cell_type": "code",
      "metadata": {
        "id": "Cm1EwzISl5PA",
        "outputId": "4ea9aa7b-9197-4824-eead-ab2c79f531c9",
        "colab": {
          "base_uri": "https://localhost:8080/"
        }
      },
      "source": [
        "abit = model.predict(inp2)\n",
        "abit.shape"
      ],
      "execution_count": 10,
      "outputs": [
        {
          "output_type": "execute_result",
          "data": {
            "text/plain": [
              "(3000, 1)"
            ]
          },
          "metadata": {
            "tags": []
          },
          "execution_count": 10
        }
      ]
    },
    {
      "cell_type": "code",
      "metadata": {
        "id": "pSRbcIY8pfsW",
        "outputId": "c8043d28-1fe4-4a21-9140-d104e00f277b",
        "colab": {
          "base_uri": "https://localhost:8080/",
          "height": 283
        }
      },
      "source": [
        "ls=plt.figure()\n",
        "plt.plot(abit)\n",
        "plt.plot(output_data)\n",
        "plt.ylabel('Value')\n",
        "plt.xlabel('Sample')\n",
        "plt.legend(['Network Prediction', 'Ground truth'], loc='upper left')\n",
        "ls.show()\n",
        "#ls.savefig('/content/drive/My Drive/Sinc/est-exp.png')\n"
      ],
      "execution_count": 11,
      "outputs": [
        {
          "output_type": "display_data",
          "data": {
            "image/png": "[encoded data removed]",
            "text/plain": [
              "<Figure size 432x288 with 1 Axes>"
            ]
          },
          "metadata": {
            "tags": [],
            "needs_background": "light"
          }
        }
      ]
    },
    {
      "cell_type": "code",
      "metadata": {
        "id": "f8CWwj-FpiEQ",
        "outputId": "7b30d803-6f7e-43a9-a614-25515e505f21",
        "colab": {
          "base_uri": "https://localhost:8080/",
          "height": 269
        }
      },
      "source": [
        "plt.plot(output_data)\n",
        "plt.plot(abit)\n",
        "ls.show()\n"
      ],
      "execution_count": 12,
      "outputs": [
        {
          "output_type": "display_data",
          "data": {
            "image/png": "[encoded data removed]",
            "text/plain": [
              "<Figure size 432x288 with 1 Axes>"
            ]
          },
          "metadata": {
            "tags": [],
            "needs_background": "light"
          }
        }
      ]
    },
    {
      "cell_type": "code",
      "metadata": {
        "id": "0PPswgKNobBx",
        "outputId": "fc3202e7-60db-483f-fa32-975dd1592aa8",
        "colab": {
          "base_uri": "https://localhost:8080/",
          "height": 283
        }
      },
      "source": [
        "ls=plt.figure()\n",
        "plt.scatter(xx,abit)\n",
        "plt.scatter(xx,np.sinc(xx))\n",
        "plt.ylabel('Y')\n",
        "plt.xlabel('X')\n",
        "plt.legend(['Ground truth', 'Network prediction'], loc='upper left')\n",
        "plt.show()\n",
        "#ls.savefig('/content/drive/My Drive/Sinc/sinc-exp.png')\n"
      ],
      "execution_count": 13,
      "outputs": [
        {
          "output_type": "display_data",
          "data": {
            "image/png": "[encoded data removed]",
            "text/plain": [
              "<Figure size 432x288 with 1 Axes>"
            ]
          },
          "metadata": {
            "tags": [],
            "needs_background": "light"
          }
        }
      ]
    },
    {
      "cell_type": "code",
      "metadata": {
        "id": "cbPuN-5HZEKy",
        "outputId": "f0d4ff1f-85c2-4839-9399-01ee124466d4",
        "colab": {
          "base_uri": "https://localhost:8080/"
        }
      },
      "source": [
        "abit = model.predict(X_test)\n",
        "from sklearn.metrics import mean_squared_error\n",
        "print('MSE ' + str(mean_squared_error(abit, y_test)))\n",
        "print('RMSE ' + str(np.sqrt(mean_squared_error(abit, y_test))))"
      ],
      "execution_count": 14,
      "outputs": [
        {
          "output_type": "stream",
          "text": [
            "MSE 0.005614896685022761\n",
            "RMSE 0.07493261429459645\n"
          ],
          "name": "stdout"
        }
      ]
    },
    {
      "cell_type": "code",
      "metadata": {
        "id": "e-gZuJM1MJpd",
        "outputId": "a9e31186-ef70-409f-a8d7-a9532c409003",
        "colab": {
          "base_uri": "https://localhost:8080/"
        }
      },
      "source": [
        "abit = model.predict(inp2)\n",
        "from sklearn.metrics import mean_squared_error\n",
        "print('MSE ' + str(mean_squared_error(abit, output_data)))\n",
        "print('RMSE ' + str(np.sqrt(mean_squared_error(abit, output_data))))"
      ],
      "execution_count": 15,
      "outputs": [
        {
          "output_type": "stream",
          "text": [
            "MSE 0.004497349952802325\n",
            "RMSE 0.06706228413051799\n"
          ],
          "name": "stdout"
        }
      ]
    },
    {
      "cell_type": "code",
      "metadata": {
        "id": "w2ePFauUMPfj"
      },
      "source": [
        ""
      ],
      "execution_count": 15,
      "outputs": []
    }
  ]
}