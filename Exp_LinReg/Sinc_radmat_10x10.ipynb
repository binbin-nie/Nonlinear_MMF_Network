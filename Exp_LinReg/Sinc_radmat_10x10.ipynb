{
  "nbformat": 4,
  "nbformat_minor": 0,
  "metadata": {
    "colab": {
      "name": "Sinc_radmat_10x10.ipynb",
      "provenance": [],
      "collapsed_sections": [],
      "machine_shape": "hm",
      "include_colab_link": true
    },
    "kernelspec": {
      "name": "python3",
      "display_name": "Python 3"
    },
    "accelerator": "GPU"
  },
  "cells": [
    {
      "cell_type": "markdown",
      "metadata": {
        "id": "view-in-github",
        "colab_type": "text"
      },
      "source": [
        "<a href=\"https://colab.research.google.com/github/ugurtegin/Nonlinear_MMF_Network/blob/main/Exp_LinReg/Sinc_radmat_10x10.ipynb\" target=\"_parent\"><img src=\"https://colab.research.google.com/assets/colab-badge.svg\" alt=\"Open In Colab\"/></a>"
      ]
    },
    {
      "cell_type": "code",
      "metadata": {
        "id": "plRoSF3YWrl5",
        "colab": {
          "base_uri": "https://localhost:8080/"
        },
        "outputId": "29acaa67-c930-4794-b04a-e7ab948d2abd"
      },
      "source": [
        "import numpy as np\n",
        "import matplotlib.pyplot as plt\n",
        "import scipy.io as sio\n",
        "import tensorflow as tf\n",
        "\n",
        "\n",
        "from tensorflow import keras\n",
        "from sklearn.model_selection import train_test_split\n",
        "from tensorflow.keras.models import Model,Sequential\n",
        "from tensorflow.keras.layers import Input, Activation, LSTM\n",
        "from tensorflow.keras.layers import Dense, Dropout, Flatten, Conv2D, MaxPooling2D, AveragePooling2D \n",
        "from tensorflow.keras.optimizers import SGD, Adam\n",
        "from tensorflow.keras.utils import to_categorical, normalize\n",
        "\n",
        "# Load the Drive helper and mount\n",
        "from google.colab import drive\n",
        "\n",
        "# This will prompt for authorization.\n",
        "drive.mount('/content/drive')"
      ],
      "execution_count": 1,
      "outputs": [
        {
          "output_type": "stream",
          "text": [
            "Mounted at /content/drive\n"
          ],
          "name": "stdout"
        }
      ]
    },
    {
      "cell_type": "code",
      "metadata": {
        "id": "PDK63hJmW5D4"
      },
      "source": [
        "import scipy.io as sio\n",
        "f = sio.loadmat('/content/drive/My Drive/Research/MMF_Reservoir/sinctry/res_sq_flt2_2.mat')\n",
        "inp2 = f['res_sq_flt']\n",
        "\n",
        "#Load data\n",
        "f2 = sio.loadmat('/content/drive/My Drive/Research/MMF_Reservoir/sinctry/data.mat')\n",
        "\n",
        "out = f2['y']\n",
        "xx = f2['x']"
      ],
      "execution_count": 2,
      "outputs": []
    },
    {
      "cell_type": "code",
      "metadata": {
        "id": "NsrEaZif34wA"
      },
      "source": [
        "#inp2 = inp / np.linalg.norm(inp)\n",
        "#inp2 = inp2*1000"
      ],
      "execution_count": null,
      "outputs": []
    },
    {
      "cell_type": "code",
      "metadata": {
        "id": "pYBJB9YglGiX",
        "colab": {
          "base_uri": "https://localhost:8080/"
        },
        "outputId": "55be7be6-ec3c-4031-9626-86e0cbb7db34"
      },
      "source": [
        "input_data = inp2\n",
        "output_data = out\n",
        "\n",
        "print('input_data : ', input_data.shape, input_data.dtype)\n",
        "print('output_class : ', output_data.shape, output_data.dtype)\n",
        "print()"
      ],
      "execution_count": 3,
      "outputs": [
        {
          "output_type": "stream",
          "text": [
            "input_data :  (3000, 484) float64\n",
            "output_class :  (3000, 1) float64\n",
            "\n"
          ],
          "name": "stdout"
        }
      ]
    },
    {
      "cell_type": "code",
      "metadata": {
        "id": "JMVZ-aoTk1wf",
        "colab": {
          "base_uri": "https://localhost:8080/"
        },
        "outputId": "ec524faf-c75e-485c-87ea-008a86173818"
      },
      "source": [
        "oran = 0.20\n",
        "X_train, X_test, y_train, y_test = train_test_split(input_data, output_data, test_size=oran)\n",
        "\n",
        "print('Test data : ', X_test.shape, X_test.dtype)\n",
        "print('Training data : ', X_train.shape, X_train.dtype)\n",
        "print()"
      ],
      "execution_count": 4,
      "outputs": [
        {
          "output_type": "stream",
          "text": [
            "Test data :  (600, 484) float64\n",
            "Training data :  (2400, 484) float64\n",
            "\n"
          ],
          "name": "stdout"
        }
      ]
    },
    {
      "cell_type": "code",
      "metadata": {
        "id": "SycmK62goI2t"
      },
      "source": [
        "model = Sequential()\n",
        "model.add(Dense(1, input_dim=484, activation='linear'))"
      ],
      "execution_count": 5,
      "outputs": []
    },
    {
      "cell_type": "code",
      "metadata": {
        "id": "Sg1arrHHoSF1",
        "colab": {
          "base_uri": "https://localhost:8080/"
        },
        "outputId": "37cfa641-1ca9-41c3-9f33-0eded67df1ba"
      },
      "source": [
        "loss='mean_squared_error' # mean_absolute_error, cosine_proximity\n",
        "metrics = ['mean_squared_error']  # network accuracy metric to be determined after each epoch, mean_absolute_error, cosine_proximity\n",
        "\n",
        "opt1 = SGD(lr=0.001, momentum=0.9)\n",
        "opt2 = Adam(lr=0.001, beta_1=0.9, beta_2=0.999)\n",
        "\n",
        "model.compile(optimizer=opt2, loss=loss, metrics=metrics)\n",
        "model.summary()"
      ],
      "execution_count": 6,
      "outputs": [
        {
          "output_type": "stream",
          "text": [
            "Model: \"sequential\"\n",
            "_________________________________________________________________\n",
            "Layer (type)                 Output Shape              Param #   \n",
            "=================================================================\n",
            "dense (Dense)                (None, 1)                 485       \n",
            "=================================================================\n",
            "Total params: 485\n",
            "Trainable params: 485\n",
            "Non-trainable params: 0\n",
            "_________________________________________________________________\n"
          ],
          "name": "stdout"
        }
      ]
    },
    {
      "cell_type": "code",
      "metadata": {
        "id": "ZavprgepoUEE",
        "colab": {
          "base_uri": "https://localhost:8080/"
        },
        "outputId": "65b4c738-044f-45b9-b854-f8f27de90519"
      },
      "source": [
        "#setting final parameters for the network and it begins to train\n",
        "number_of_iterations = 50\n",
        "#batch_size = 50\n",
        "\n",
        "history=model.fit(X_train, y_train, validation_data=(X_test, y_test), epochs=number_of_iterations)\n",
        "#history=model.fit(X_train, y_train, batch_size=batch_size, epochs=number_of_iterations, verbose=1, validation_data=(X_test, y_test))\n",
        "#Number of iterations run: 900"
      ],
      "execution_count": 7,
      "outputs": [
        {
          "output_type": "stream",
          "text": [
            "Epoch 1/50\n",
            "75/75 [==============================] - 0s 3ms/step - loss: 1.0217 - mean_squared_error: 1.0217 - val_loss: 0.4985 - val_mean_squared_error: 0.4985\n",
            "Epoch 2/50\n",
            "75/75 [==============================] - 0s 2ms/step - loss: 0.4073 - mean_squared_error: 0.4073 - val_loss: 0.3661 - val_mean_squared_error: 0.3661\n",
            "Epoch 3/50\n",
            "75/75 [==============================] - 0s 2ms/step - loss: 0.2786 - mean_squared_error: 0.2786 - val_loss: 0.2679 - val_mean_squared_error: 0.2679\n",
            "Epoch 4/50\n",
            "75/75 [==============================] - 0s 2ms/step - loss: 0.1982 - mean_squared_error: 0.1982 - val_loss: 0.1994 - val_mean_squared_error: 0.1994\n",
            "Epoch 5/50\n",
            "75/75 [==============================] - 0s 2ms/step - loss: 0.1456 - mean_squared_error: 0.1456 - val_loss: 0.1538 - val_mean_squared_error: 0.1538\n",
            "Epoch 6/50\n",
            "75/75 [==============================] - 0s 2ms/step - loss: 0.1093 - mean_squared_error: 0.1093 - val_loss: 0.1205 - val_mean_squared_error: 0.1205\n",
            "Epoch 7/50\n",
            "75/75 [==============================] - 0s 2ms/step - loss: 0.0818 - mean_squared_error: 0.0818 - val_loss: 0.0953 - val_mean_squared_error: 0.0953\n",
            "Epoch 8/50\n",
            "75/75 [==============================] - 0s 2ms/step - loss: 0.0642 - mean_squared_error: 0.0642 - val_loss: 0.0820 - val_mean_squared_error: 0.0820\n",
            "Epoch 9/50\n",
            "75/75 [==============================] - 0s 2ms/step - loss: 0.0520 - mean_squared_error: 0.0520 - val_loss: 0.0663 - val_mean_squared_error: 0.0663\n",
            "Epoch 10/50\n",
            "75/75 [==============================] - 0s 2ms/step - loss: 0.0417 - mean_squared_error: 0.0417 - val_loss: 0.0557 - val_mean_squared_error: 0.0557\n",
            "Epoch 11/50\n",
            "75/75 [==============================] - 0s 2ms/step - loss: 0.0357 - mean_squared_error: 0.0357 - val_loss: 0.0475 - val_mean_squared_error: 0.0475\n",
            "Epoch 12/50\n",
            "75/75 [==============================] - 0s 2ms/step - loss: 0.0307 - mean_squared_error: 0.0307 - val_loss: 0.0404 - val_mean_squared_error: 0.0404\n",
            "Epoch 13/50\n",
            "75/75 [==============================] - 0s 2ms/step - loss: 0.0264 - mean_squared_error: 0.0264 - val_loss: 0.0360 - val_mean_squared_error: 0.0360\n",
            "Epoch 14/50\n",
            "75/75 [==============================] - 0s 2ms/step - loss: 0.0235 - mean_squared_error: 0.0235 - val_loss: 0.0308 - val_mean_squared_error: 0.0308\n",
            "Epoch 15/50\n",
            "75/75 [==============================] - 0s 2ms/step - loss: 0.0205 - mean_squared_error: 0.0205 - val_loss: 0.0287 - val_mean_squared_error: 0.0287\n",
            "Epoch 16/50\n",
            "75/75 [==============================] - 0s 2ms/step - loss: 0.0184 - mean_squared_error: 0.0184 - val_loss: 0.0251 - val_mean_squared_error: 0.0251\n",
            "Epoch 17/50\n",
            "75/75 [==============================] - 0s 2ms/step - loss: 0.0163 - mean_squared_error: 0.0163 - val_loss: 0.0216 - val_mean_squared_error: 0.0216\n",
            "Epoch 18/50\n",
            "75/75 [==============================] - 0s 2ms/step - loss: 0.0154 - mean_squared_error: 0.0154 - val_loss: 0.0198 - val_mean_squared_error: 0.0198\n",
            "Epoch 19/50\n",
            "75/75 [==============================] - 0s 2ms/step - loss: 0.0138 - mean_squared_error: 0.0138 - val_loss: 0.0175 - val_mean_squared_error: 0.0175\n",
            "Epoch 20/50\n",
            "75/75 [==============================] - 0s 2ms/step - loss: 0.0125 - mean_squared_error: 0.0125 - val_loss: 0.0167 - val_mean_squared_error: 0.0167\n",
            "Epoch 21/50\n",
            "75/75 [==============================] - 0s 2ms/step - loss: 0.0118 - mean_squared_error: 0.0118 - val_loss: 0.0149 - val_mean_squared_error: 0.0149\n",
            "Epoch 22/50\n",
            "75/75 [==============================] - 0s 2ms/step - loss: 0.0107 - mean_squared_error: 0.0107 - val_loss: 0.0135 - val_mean_squared_error: 0.0135\n",
            "Epoch 23/50\n",
            "75/75 [==============================] - 0s 2ms/step - loss: 0.0099 - mean_squared_error: 0.0099 - val_loss: 0.0135 - val_mean_squared_error: 0.0135\n",
            "Epoch 24/50\n",
            "75/75 [==============================] - 0s 2ms/step - loss: 0.0091 - mean_squared_error: 0.0091 - val_loss: 0.0124 - val_mean_squared_error: 0.0124\n",
            "Epoch 25/50\n",
            "75/75 [==============================] - 0s 2ms/step - loss: 0.0089 - mean_squared_error: 0.0089 - val_loss: 0.0130 - val_mean_squared_error: 0.0130\n",
            "Epoch 26/50\n",
            "75/75 [==============================] - 0s 2ms/step - loss: 0.0082 - mean_squared_error: 0.0082 - val_loss: 0.0103 - val_mean_squared_error: 0.0103\n",
            "Epoch 27/50\n",
            "75/75 [==============================] - 0s 2ms/step - loss: 0.0082 - mean_squared_error: 0.0082 - val_loss: 0.0100 - val_mean_squared_error: 0.0100\n",
            "Epoch 28/50\n",
            "75/75 [==============================] - 0s 2ms/step - loss: 0.0076 - mean_squared_error: 0.0076 - val_loss: 0.0092 - val_mean_squared_error: 0.0092\n",
            "Epoch 29/50\n",
            "75/75 [==============================] - 0s 2ms/step - loss: 0.0070 - mean_squared_error: 0.0070 - val_loss: 0.0089 - val_mean_squared_error: 0.0089\n",
            "Epoch 30/50\n",
            "75/75 [==============================] - 0s 2ms/step - loss: 0.0065 - mean_squared_error: 0.0065 - val_loss: 0.0082 - val_mean_squared_error: 0.0082\n",
            "Epoch 31/50\n",
            "75/75 [==============================] - 0s 2ms/step - loss: 0.0064 - mean_squared_error: 0.0064 - val_loss: 0.0082 - val_mean_squared_error: 0.0082\n",
            "Epoch 32/50\n",
            "75/75 [==============================] - 0s 2ms/step - loss: 0.0062 - mean_squared_error: 0.0062 - val_loss: 0.0077 - val_mean_squared_error: 0.0077\n",
            "Epoch 33/50\n",
            "75/75 [==============================] - 0s 2ms/step - loss: 0.0056 - mean_squared_error: 0.0056 - val_loss: 0.0071 - val_mean_squared_error: 0.0071\n",
            "Epoch 34/50\n",
            "75/75 [==============================] - 0s 2ms/step - loss: 0.0058 - mean_squared_error: 0.0058 - val_loss: 0.0083 - val_mean_squared_error: 0.0083\n",
            "Epoch 35/50\n",
            "75/75 [==============================] - 0s 2ms/step - loss: 0.0058 - mean_squared_error: 0.0058 - val_loss: 0.0066 - val_mean_squared_error: 0.0066\n",
            "Epoch 36/50\n",
            "75/75 [==============================] - 0s 2ms/step - loss: 0.0051 - mean_squared_error: 0.0051 - val_loss: 0.0076 - val_mean_squared_error: 0.0076\n",
            "Epoch 37/50\n",
            "75/75 [==============================] - 0s 2ms/step - loss: 0.0051 - mean_squared_error: 0.0051 - val_loss: 0.0069 - val_mean_squared_error: 0.0069\n",
            "Epoch 38/50\n",
            "75/75 [==============================] - 0s 2ms/step - loss: 0.0049 - mean_squared_error: 0.0049 - val_loss: 0.0064 - val_mean_squared_error: 0.0064\n",
            "Epoch 39/50\n",
            "75/75 [==============================] - 0s 2ms/step - loss: 0.0047 - mean_squared_error: 0.0047 - val_loss: 0.0069 - val_mean_squared_error: 0.0069\n",
            "Epoch 40/50\n",
            "75/75 [==============================] - 0s 2ms/step - loss: 0.0049 - mean_squared_error: 0.0049 - val_loss: 0.0082 - val_mean_squared_error: 0.0082\n",
            "Epoch 41/50\n",
            "75/75 [==============================] - 0s 2ms/step - loss: 0.0052 - mean_squared_error: 0.0052 - val_loss: 0.0053 - val_mean_squared_error: 0.0053\n",
            "Epoch 42/50\n",
            "75/75 [==============================] - 0s 2ms/step - loss: 0.0048 - mean_squared_error: 0.0048 - val_loss: 0.0052 - val_mean_squared_error: 0.0052\n",
            "Epoch 43/50\n",
            "75/75 [==============================] - 0s 2ms/step - loss: 0.0041 - mean_squared_error: 0.0041 - val_loss: 0.0052 - val_mean_squared_error: 0.0052\n",
            "Epoch 44/50\n",
            "75/75 [==============================] - 0s 2ms/step - loss: 0.0049 - mean_squared_error: 0.0049 - val_loss: 0.0077 - val_mean_squared_error: 0.0077\n",
            "Epoch 45/50\n",
            "75/75 [==============================] - 0s 2ms/step - loss: 0.0053 - mean_squared_error: 0.0053 - val_loss: 0.0057 - val_mean_squared_error: 0.0057\n",
            "Epoch 46/50\n",
            "75/75 [==============================] - 0s 2ms/step - loss: 0.0046 - mean_squared_error: 0.0046 - val_loss: 0.0050 - val_mean_squared_error: 0.0050\n",
            "Epoch 47/50\n",
            "75/75 [==============================] - 0s 2ms/step - loss: 0.0038 - mean_squared_error: 0.0038 - val_loss: 0.0046 - val_mean_squared_error: 0.0046\n",
            "Epoch 48/50\n",
            "75/75 [==============================] - 0s 2ms/step - loss: 0.0036 - mean_squared_error: 0.0036 - val_loss: 0.0048 - val_mean_squared_error: 0.0048\n",
            "Epoch 49/50\n",
            "75/75 [==============================] - 0s 2ms/step - loss: 0.0041 - mean_squared_error: 0.0041 - val_loss: 0.0051 - val_mean_squared_error: 0.0051\n",
            "Epoch 50/50\n",
            "75/75 [==============================] - 0s 2ms/step - loss: 0.0054 - mean_squared_error: 0.0054 - val_loss: 0.0043 - val_mean_squared_error: 0.0043\n"
          ],
          "name": "stdout"
        }
      ]
    },
    {
      "cell_type": "code",
      "metadata": {
        "id": "32jFj14Qz_qx",
        "colab": {
          "base_uri": "https://localhost:8080/",
          "height": 295
        },
        "outputId": "682d2e08-9783-4bcb-c79a-6b8bd773597c"
      },
      "source": [
        "from google.colab import files\n",
        "# summarize history for loss\n",
        "ls=plt.figure()\n",
        "plt.plot(history.history['loss'])\n",
        "plt.plot(history.history['val_loss'])\n",
        "plt.title('model loss')\n",
        "plt.ylabel('loss')\n",
        "plt.xlabel('epoch')\n",
        "plt.legend(['train', 'test'], loc='upper left')\n",
        "#plt.ylim(0.02,0.4)\n",
        "ls.show()\n",
        "#ls.savefig('/content/drive/My Drive/Sinc/loss-exp.png')\n",
        "#files.download('loss-1.png')"
      ],
      "execution_count": 8,
      "outputs": [
        {
          "output_type": "display_data",
          "data": {
            "image/png": "[encoded data removed]",
            "text/plain": [
              "<Figure size 432x288 with 1 Axes>"
            ]
          },
          "metadata": {
            "tags": [],
            "needs_background": "light"
          }
        }
      ]
    },
    {
      "cell_type": "code",
      "metadata": {
        "id": "Cm1EwzISl5PA",
        "colab": {
          "base_uri": "https://localhost:8080/"
        },
        "outputId": "d71329e8-d2db-4d57-8f90-88ceb9729a38"
      },
      "source": [
        "abit = model.predict(inp2)\n",
        "abit.shape"
      ],
      "execution_count": 9,
      "outputs": [
        {
          "output_type": "execute_result",
          "data": {
            "text/plain": [
              "(3000, 1)"
            ]
          },
          "metadata": {
            "tags": []
          },
          "execution_count": 9
        }
      ]
    },
    {
      "cell_type": "code",
      "metadata": {
        "id": "pSRbcIY8pfsW",
        "colab": {
          "base_uri": "https://localhost:8080/",
          "height": 283
        },
        "outputId": "c0796430-9bf7-4d13-aa92-7b0180d8fd8f"
      },
      "source": [
        "ls=plt.figure()\n",
        "plt.plot(abit)\n",
        "plt.plot(output_data)\n",
        "plt.ylabel('Value')\n",
        "plt.xlabel('Sample')\n",
        "plt.legend(['Network Prediction', 'Ground truth'], loc='upper left')\n",
        "ls.show()\n",
        "#ls.savefig('/content/drive/My Drive/Sinc/est-exp.png')\n"
      ],
      "execution_count": 10,
      "outputs": [
        {
          "output_type": "display_data",
          "data": {
            "image/png": "[encoded data removed]",
            "text/plain": [
              "<Figure size 432x288 with 1 Axes>"
            ]
          },
          "metadata": {
            "tags": [],
            "needs_background": "light"
          }
        }
      ]
    },
    {
      "cell_type": "code",
      "metadata": {
        "id": "f8CWwj-FpiEQ",
        "colab": {
          "base_uri": "https://localhost:8080/",
          "height": 269
        },
        "outputId": "c388796f-0188-4e52-8234-89f69d40dfc6"
      },
      "source": [
        "plt.plot(output_data)\n",
        "plt.plot(abit)\n",
        "ls.show()\n"
      ],
      "execution_count": 11,
      "outputs": [
        {
          "output_type": "display_data",
          "data": {
            "image/png": "[encoded data removed]",
            "text/plain": [
              "<Figure size 432x288 with 1 Axes>"
            ]
          },
          "metadata": {
            "tags": [],
            "needs_background": "light"
          }
        }
      ]
    },
    {
      "cell_type": "code",
      "metadata": {
        "id": "0PPswgKNobBx",
        "colab": {
          "base_uri": "https://localhost:8080/",
          "height": 283
        },
        "outputId": "f638d4d4-0274-46a1-e965-bb2fdaf0c2aa"
      },
      "source": [
        "ls=plt.figure()\n",
        "plt.scatter(xx,abit)\n",
        "plt.scatter(xx,np.sinc(xx))\n",
        "plt.ylabel('Y')\n",
        "plt.xlabel('X')\n",
        "plt.legend(['Ground truth', 'Network prediction'], loc='upper left')\n",
        "plt.show()\n",
        "#ls.savefig('/content/drive/My Drive/Sinc/sinc-exp.png')\n"
      ],
      "execution_count": 12,
      "outputs": [
        {
          "output_type": "display_data",
          "data": {
            "image/png": "[encoded data removed]",
            "text/plain": [
              "<Figure size 432x288 with 1 Axes>"
            ]
          },
          "metadata": {
            "tags": [],
            "needs_background": "light"
          }
        }
      ]
    },
    {
      "cell_type": "code",
      "metadata": {
        "id": "cbPuN-5HZEKy",
        "colab": {
          "base_uri": "https://localhost:8080/"
        },
        "outputId": "eebe21fa-3540-4004-a185-3626ecf6faef"
      },
      "source": [
        "abit = model.predict(X_test)\n",
        "from sklearn.metrics import mean_squared_error\n",
        "print('MSE ' + str(mean_squared_error(abit, y_test)))\n",
        "print('RMSE ' + str(np.sqrt(mean_squared_error(abit, y_test))))"
      ],
      "execution_count": 13,
      "outputs": [
        {
          "output_type": "stream",
          "text": [
            "MSE 0.004327469400977591\n",
            "RMSE 0.06578350401869447\n"
          ],
          "name": "stdout"
        }
      ]
    },
    {
      "cell_type": "code",
      "metadata": {
        "id": "e-gZuJM1MJpd",
        "colab": {
          "base_uri": "https://localhost:8080/"
        },
        "outputId": "68ba0950-42f6-4eb0-f73b-fb9d5404fcb9"
      },
      "source": [
        "abit = model.predict(inp2)\n",
        "from sklearn.metrics import mean_squared_error\n",
        "print('MSE ' + str(mean_squared_error(abit, output_data)))\n",
        "print('RMSE ' + str(np.sqrt(mean_squared_error(abit, output_data))))"
      ],
      "execution_count": 14,
      "outputs": [
        {
          "output_type": "stream",
          "text": [
            "MSE 0.0032347719298509137\n",
            "RMSE 0.05687505542723377\n"
          ],
          "name": "stdout"
        }
      ]
    },
    {
      "cell_type": "code",
      "metadata": {
        "id": "w2ePFauUMPfj"
      },
      "source": [
        "sio.savemat('/content/drive/My Drive/Research/MMF_Reservoir/sinctry/network_res.mat', {'y':out, 'x':xx, 'X_test':X_test, 'X_train':X_train, 'y_test':y_test, 'y_train':y_train,  'pred':abit})\n"
      ],
      "execution_count": 15,
      "outputs": []
    },
    {
      "cell_type": "code",
      "metadata": {
        "id": "jmi2E0avG4Wq"
      },
      "source": [
        ""
      ],
      "execution_count": null,
      "outputs": []
    }
  ]
}