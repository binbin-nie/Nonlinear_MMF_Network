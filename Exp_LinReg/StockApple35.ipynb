{
  "nbformat": 4,
  "nbformat_minor": 0,
  "metadata": {
    "accelerator": "GPU",
    "colab": {
      "name": "stockprice.ipynb",
      "provenance": [],
      "collapsed_sections": [],
      "machine_shape": "hm",
      "include_colab_link": true
    },
    "kernelspec": {
      "display_name": "Python 3",
      "name": "python3"
    }
  },
  "cells": [
    {
      "cell_type": "markdown",
      "metadata": {
        "id": "view-in-github",
        "colab_type": "text"
      },
      "source": [
        "<a href=\"https://colab.research.google.com/github/ugurtegin/Nonlinear_MMF_Network/blob/main/Exp_LinReg/StockApple35.ipynb\" target=\"_parent\"><img src=\"https://colab.research.google.com/assets/colab-badge.svg\" alt=\"Open In Colab\"/></a>"
      ]
    },
    {
      "cell_type": "code",
      "metadata": {
        "id": "plRoSF3YWrl5",
        "outputId": "471e0f9e-45a0-410d-cd52-ce0aff322098",
        "colab": {
          "base_uri": "https://localhost:8080/"
        }
      },
      "source": [
        "import numpy as np\n",
        "import matplotlib.pyplot as plt\n",
        "import scipy.io as sio\n",
        "import tensorflow as tf\n",
        "\n",
        "from tensorflow import keras\n",
        "from sklearn.model_selection import train_test_split\n",
        "from tensorflow.keras.models import Model,Sequential\n",
        "from tensorflow.keras.layers import Input, Activation, LSTM\n",
        "from tensorflow.keras.layers import Dense, Dropout, Flatten, Conv2D, MaxPooling2D, AveragePooling2D \n",
        "from tensorflow.keras.optimizers import SGD, Adam\n",
        "from tensorflow.keras.utils import to_categorical\n",
        "\n",
        "# Load the Drive helper and mount\n",
        "from google.colab import drive\n",
        "\n",
        "# This will prompt for authorization.\n",
        "drive.mount('/content/drive')"
      ],
      "execution_count": null,
      "outputs": [
        {
          "output_type": "stream",
          "text": [
            "Drive already mounted at /content/drive; to attempt to forcibly remount, call drive.mount(\"/content/drive\", force_remount=True).\n"
          ],
          "name": "stdout"
        }
      ]
    },
    {
      "cell_type": "code",
      "metadata": {
        "id": "PDK63hJmW5D4"
      },
      "source": [
        "import scipy.io as sio\n",
        "f = sio.loadmat('/content/drive/My Drive/stock/res_sq_flt2_intel.mat')\n",
        "inp = f['res_sq_flt']\n",
        "\n",
        "\n",
        "f2 = sio.loadmat('/content/drive/My Drive/stock/label_intel.mat')\n",
        "out = f2['label']\n"
      ],
      "execution_count": null,
      "outputs": []
    },
    {
      "cell_type": "markdown",
      "metadata": {
        "id": "0rh1E24b81ts"
      },
      "source": [
        "# Experimental Data"
      ]
    },
    {
      "cell_type": "code",
      "metadata": {
        "id": "pYBJB9YglGiX",
        "outputId": "958db8fa-6f79-4028-be87-3a9fa385db0b",
        "colab": {
          "base_uri": "https://localhost:8080/"
        }
      },
      "source": [
        "input_data = inp\n",
        "output_data = out.T\n",
        "#output_data = to_categorical(out)\n",
        "\n",
        "print('input_data : ', input_data.shape, input_data.dtype)\n",
        "print('output_class : ', output_data.shape, output_data.dtype)\n",
        "print()"
      ],
      "execution_count": null,
      "outputs": [
        {
          "output_type": "stream",
          "text": [
            "input_data :  (1740, 484) float64\n",
            "output_class :  (1740, 1) float64\n",
            "\n"
          ],
          "name": "stdout"
        }
      ]
    },
    {
      "cell_type": "code",
      "metadata": {
        "id": "JMVZ-aoTk1wf",
        "outputId": "e58e04e9-d2ad-4eb6-bf36-84d926d1309b",
        "colab": {
          "base_uri": "https://localhost:8080/"
        }
      },
      "source": [
        "oran = 0.20\n",
        "X_train, X_test, y_train, y_test = train_test_split(input_data, output_data, test_size=oran)\n",
        "\n",
        "print('Test data : ', X_test.shape, X_test.dtype)\n",
        "print('Training data : ', X_train.shape, X_train.dtype)\n",
        "print()"
      ],
      "execution_count": null,
      "outputs": [
        {
          "output_type": "stream",
          "text": [
            "Test data :  (348, 484) float64\n",
            "Training data :  (1392, 484) float64\n",
            "\n"
          ],
          "name": "stdout"
        }
      ]
    },
    {
      "cell_type": "code",
      "metadata": {
        "id": "SycmK62goI2t"
      },
      "source": [
        "model = Sequential()\n",
        "model.add(Dense(1, input_dim=484, activation='linear'))"
      ],
      "execution_count": null,
      "outputs": []
    },
    {
      "cell_type": "code",
      "metadata": {
        "id": "Sg1arrHHoSF1",
        "outputId": "ab9293ea-7a68-4d1c-8132-bbda555cb02c",
        "colab": {
          "base_uri": "https://localhost:8080/"
        }
      },
      "source": [
        "loss='mean_squared_error' # mean_absolute_error, cosine_proximity\n",
        "#loss='categorical_crossentropy'\n",
        "metrics = ['mean_squared_error']  # network accuracy metric to be determined after each epoch, mean_absolute_error, cosine_proximity\n",
        "#metrics = ['accuracy']  # network accuracy metric to be determined after each epoch\n",
        "\n",
        "opt1 = SGD(lr=0.001, momentum=0.9)\n",
        "opt2 = Adam(lr=0.001, beta_1=0.9, beta_2=0.999)\n",
        "\n",
        "model.compile(optimizer=opt2, loss=loss, metrics=metrics)\n",
        "model.summary()"
      ],
      "execution_count": null,
      "outputs": [
        {
          "output_type": "stream",
          "text": [
            "Model: \"sequential_1\"\n",
            "_________________________________________________________________\n",
            "Layer (type)                 Output Shape              Param #   \n",
            "=================================================================\n",
            "dense_1 (Dense)              (None, 1)                 485       \n",
            "=================================================================\n",
            "Total params: 485\n",
            "Trainable params: 485\n",
            "Non-trainable params: 0\n",
            "_________________________________________________________________\n"
          ],
          "name": "stdout"
        }
      ]
    },
    {
      "cell_type": "code",
      "metadata": {
        "id": "ZavprgepoUEE",
        "outputId": "4f071b47-c25e-420e-ef7e-13b77152cdbd",
        "colab": {
          "base_uri": "https://localhost:8080/"
        }
      },
      "source": [
        "#setting final parameters for the network and it begins to train\n",
        "number_of_iterations = 20\n",
        "batch_size = 32\n",
        "\n",
        "#history=model.fit(X_train, y_train, validation_data=(X_test, y_test), epochs=number_of_iterations)\n",
        "history=model.fit(X_train, y_train, batch_size=batch_size, epochs=number_of_iterations, verbose=1, validation_data=(X_test, y_test))\n",
        "#Number of iterations run: 900"
      ],
      "execution_count": null,
      "outputs": [
        {
          "output_type": "stream",
          "text": [
            "Epoch 1/20\n",
            "44/44 [==============================] - 0s 5ms/step - loss: 0.8986 - mean_squared_error: 0.8986 - val_loss: 0.7544 - val_mean_squared_error: 0.7544\n",
            "Epoch 2/20\n",
            "44/44 [==============================] - 0s 3ms/step - loss: 0.6417 - mean_squared_error: 0.6417 - val_loss: 0.6324 - val_mean_squared_error: 0.6324\n",
            "Epoch 3/20\n",
            "44/44 [==============================] - 0s 3ms/step - loss: 0.4959 - mean_squared_error: 0.4959 - val_loss: 0.4845 - val_mean_squared_error: 0.4845\n",
            "Epoch 4/20\n",
            "44/44 [==============================] - 0s 3ms/step - loss: 0.3887 - mean_squared_error: 0.3887 - val_loss: 0.3991 - val_mean_squared_error: 0.3991\n",
            "Epoch 5/20\n",
            "44/44 [==============================] - 0s 3ms/step - loss: 0.3060 - mean_squared_error: 0.3060 - val_loss: 0.3552 - val_mean_squared_error: 0.3552\n",
            "Epoch 6/20\n",
            "44/44 [==============================] - 0s 3ms/step - loss: 0.2459 - mean_squared_error: 0.2459 - val_loss: 0.2713 - val_mean_squared_error: 0.2713\n",
            "Epoch 7/20\n",
            "44/44 [==============================] - 0s 3ms/step - loss: 0.1914 - mean_squared_error: 0.1914 - val_loss: 0.2336 - val_mean_squared_error: 0.2336\n",
            "Epoch 8/20\n",
            "44/44 [==============================] - 0s 3ms/step - loss: 0.1533 - mean_squared_error: 0.1533 - val_loss: 0.1932 - val_mean_squared_error: 0.1932\n",
            "Epoch 9/20\n",
            "44/44 [==============================] - 0s 3ms/step - loss: 0.1226 - mean_squared_error: 0.1226 - val_loss: 0.1654 - val_mean_squared_error: 0.1654\n",
            "Epoch 10/20\n",
            "44/44 [==============================] - 0s 3ms/step - loss: 0.1010 - mean_squared_error: 0.1010 - val_loss: 0.1491 - val_mean_squared_error: 0.1491\n",
            "Epoch 11/20\n",
            "44/44 [==============================] - 0s 3ms/step - loss: 0.0835 - mean_squared_error: 0.0835 - val_loss: 0.1151 - val_mean_squared_error: 0.1151\n",
            "Epoch 12/20\n",
            "44/44 [==============================] - 0s 3ms/step - loss: 0.0676 - mean_squared_error: 0.0676 - val_loss: 0.0944 - val_mean_squared_error: 0.0944\n",
            "Epoch 13/20\n",
            "44/44 [==============================] - 0s 3ms/step - loss: 0.0565 - mean_squared_error: 0.0565 - val_loss: 0.0848 - val_mean_squared_error: 0.0848\n",
            "Epoch 14/20\n",
            "44/44 [==============================] - 0s 3ms/step - loss: 0.0493 - mean_squared_error: 0.0493 - val_loss: 0.0672 - val_mean_squared_error: 0.0672\n",
            "Epoch 15/20\n",
            "44/44 [==============================] - 0s 3ms/step - loss: 0.0412 - mean_squared_error: 0.0412 - val_loss: 0.0590 - val_mean_squared_error: 0.0590\n",
            "Epoch 16/20\n",
            "44/44 [==============================] - 0s 3ms/step - loss: 0.0354 - mean_squared_error: 0.0354 - val_loss: 0.0510 - val_mean_squared_error: 0.0510\n",
            "Epoch 17/20\n",
            "44/44 [==============================] - 0s 3ms/step - loss: 0.0309 - mean_squared_error: 0.0309 - val_loss: 0.0445 - val_mean_squared_error: 0.0445\n",
            "Epoch 18/20\n",
            "44/44 [==============================] - 0s 3ms/step - loss: 0.0292 - mean_squared_error: 0.0292 - val_loss: 0.0394 - val_mean_squared_error: 0.0394\n",
            "Epoch 19/20\n",
            "44/44 [==============================] - 0s 3ms/step - loss: 0.0236 - mean_squared_error: 0.0236 - val_loss: 0.0363 - val_mean_squared_error: 0.0363\n",
            "Epoch 20/20\n",
            "44/44 [==============================] - 0s 3ms/step - loss: 0.0209 - mean_squared_error: 0.0209 - val_loss: 0.0319 - val_mean_squared_error: 0.0319\n"
          ],
          "name": "stdout"
        }
      ]
    },
    {
      "cell_type": "code",
      "metadata": {
        "id": "32jFj14Qz_qx",
        "outputId": "03ad5905-fdbe-4f07-b9f3-32a175f92019",
        "colab": {
          "base_uri": "https://localhost:8080/",
          "height": 295
        }
      },
      "source": [
        "from google.colab import files\n",
        "ls=plt.figure()\n",
        "plt.plot(history.history['loss'])\n",
        "plt.plot(history.history['val_loss'])\n",
        "plt.title('model loss')\n",
        "plt.ylabel('loss')\n",
        "plt.xlabel('epoch')\n",
        "plt.legend(['train', 'test'], loc='upper left')\n",
        "ls.show()\n",
        "ls.savefig('/content/drive/My Drive/stock/loss-expset_intel.png')\n",
        "#files.download('loss-1.png')"
      ],
      "execution_count": null,
      "outputs": [
        {
          "output_type": "display_data",
          "data": {
            "image/png": "[encoded data removed]",
            "text/plain": [
              "<Figure size 432x288 with 1 Axes>"
            ]
          },
          "metadata": {
            "tags": [],
            "needs_background": "light"
          }
        }
      ]
    },
    {
      "cell_type": "code",
      "metadata": {
        "id": "ofMIsQfS3slr",
        "outputId": "3055c4db-b4b0-44e6-cf03-8dd6ded502e4",
        "colab": {
          "base_uri": "https://localhost:8080/"
        }
      },
      "source": [
        "abit = model.predict(X_test)\n",
        "from sklearn.metrics import mean_squared_error\n",
        "print('MSE ' + str(mean_squared_error(abit, y_test)))\n",
        "print('RMSE ' + str(np.sqrt(mean_squared_error(abit, y_test))))"
      ],
      "execution_count": null,
      "outputs": [
        {
          "output_type": "stream",
          "text": [
            "MSE 0.03188642387605311\n",
            "RMSE 0.17856770109975967\n"
          ],
          "name": "stdout"
        }
      ]
    },
    {
      "cell_type": "code",
      "metadata": {
        "id": "sv0iP24XOhHK",
        "outputId": "964f89e3-9025-4b0a-dd04-b5e721b82933",
        "colab": {
          "base_uri": "https://localhost:8080/",
          "height": 265
        }
      },
      "source": [
        "ls=plt.figure()\n",
        "plt.plot(abit,'ro')\n",
        "plt.plot(y_test,'bo')\n",
        "plt.legend(['DNNs prediction', 'Ground Truth'], loc='upper right')\n",
        "ls.show()\n",
        "ls.savefig('/content/drive/My Drive/stock/loss-expset_res_intel.png')\n"
      ],
      "execution_count": null,
      "outputs": [
        {
          "output_type": "display_data",
          "data": {
            "image/png": "[encoded data removed]",
            "text/plain": [
              "<Figure size 432x288 with 1 Axes>"
            ]
          },
          "metadata": {
            "tags": [],
            "needs_background": "light"
          }
        }
      ]
    },
    {
      "cell_type": "code",
      "metadata": {
        "id": "DXy42VNzHGSi",
        "outputId": "f876760c-83fb-48f6-a101-b451b26cf54c",
        "colab": {
          "base_uri": "https://localhost:8080/"
        }
      },
      "source": [
        "abit = model.predict(inp)\n",
        "from sklearn.metrics import mean_squared_error\n",
        "print('MSE ' + str(mean_squared_error(abit, out.T)))\n",
        "print('RMSE ' + str(np.sqrt(mean_squared_error(abit, out.T))))"
      ],
      "execution_count": null,
      "outputs": [
        {
          "output_type": "stream",
          "text": [
            "MSE 0.021178680651935965\n",
            "RMSE 0.1455289684287495\n"
          ],
          "name": "stdout"
        }
      ]
    },
    {
      "cell_type": "code",
      "metadata": {
        "id": "TSBwguZlwYOM",
        "outputId": "b01eabe4-efa1-478d-a523-d7a4fca2c1c0",
        "colab": {
          "base_uri": "https://localhost:8080/",
          "height": 265
        }
      },
      "source": [
        "ls=plt.figure()\n",
        "plt.plot(abit,'ro')\n",
        "plt.plot(out.T,'bo')\n",
        "plt.legend(['DNNs prediction', 'Ground Truth'], loc='upper right')\n",
        "ls.show()\n",
        "ls.savefig('/content/drive/My Drive/stock/loss-expset_res_alldata_intel.png')"
      ],
      "execution_count": null,
      "outputs": [
        {
          "output_type": "display_data",
          "data": {
            "image/png": "[encoded data removed]",
            "text/plain": [
              "<Figure size 432x288 with 1 Axes>"
            ]
          },
          "metadata": {
            "tags": [],
            "needs_background": "light"
          }
        }
      ]
    }
  ]
}