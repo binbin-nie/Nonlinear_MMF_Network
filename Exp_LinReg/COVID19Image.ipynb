{
  "nbformat": 4,
  "nbformat_minor": 0,
  "metadata": {
    "colab": {
      "name": "COVID-19_CTImage.ipynb",
      "provenance": [],
      "collapsed_sections": [],
      "machine_shape": "hm",
      "include_colab_link": true
    },
    "kernelspec": {
      "name": "python3",
      "display_name": "Python 3"
    },
    "accelerator": "GPU"
  },
  "cells": [
    {
      "cell_type": "markdown",
      "metadata": {
        "id": "view-in-github",
        "colab_type": "text"
      },
      "source": [
        "<a href=\"https://colab.research.google.com/github/ugurtegin/Nonlinear_MMF_Network/blob/main/Exp_LinReg/COVID19Image.ipynb\" target=\"_parent\"><img src=\"https://colab.research.google.com/assets/colab-badge.svg\" alt=\"Open In Colab\"/></a>"
      ]
    },
    {
      "cell_type": "code",
      "metadata": {
        "id": "plRoSF3YWrl5",
        "colab": {
          "base_uri": "https://localhost:8080/"
        },
        "outputId": "9f6a8302-fb1c-4a5e-8375-78f970d50f54"
      },
      "source": [
        "import numpy as np\n",
        "import matplotlib.pyplot as plt\n",
        "import scipy.io as sio\n",
        "import tensorflow as tf\n",
        "\n",
        "\n",
        "from tensorflow import keras\n",
        "from sklearn.model_selection import train_test_split\n",
        "from tensorflow.keras.models import Model,Sequential\n",
        "from tensorflow.keras.layers import Input, Activation, LSTM\n",
        "from tensorflow.keras.layers import Dense, Dropout, Flatten, Conv2D, MaxPooling2D, AveragePooling2D \n",
        "from tensorflow.keras.optimizers import SGD, Adam\n",
        "from tensorflow.keras.utils import to_categorical\n",
        "\n",
        "\n",
        "# Load the Drive helper and mount\n",
        "from google.colab import drive\n",
        "\n",
        "# This will prompt for authorization.\n",
        "drive.mount('/content/drive')"
      ],
      "execution_count": 1,
      "outputs": [
        {
          "output_type": "stream",
          "text": [
            "Drive already mounted at /content/drive; to attempt to forcibly remount, call drive.mount(\"/content/drive\", force_remount=True).\n"
          ],
          "name": "stdout"
        }
      ]
    },
    {
      "cell_type": "code",
      "metadata": {
        "id": "PDK63hJmW5D4"
      },
      "source": [
        "import scipy.io as sio\n",
        "f = sio.loadmat('/content/drive/My Drive/Research/MMF_Reservoir/covid/res_sq_flt4.mat')\n",
        "inp = f['res_sq_flt']\n",
        "\n",
        "#Load data\n",
        "f2 = sio.loadmat('/content/drive/My Drive/Research/MMF_Reservoir/covid/label.mat')\n",
        "\n",
        "out = f2['y']"
      ],
      "execution_count": 2,
      "outputs": []
    },
    {
      "cell_type": "code",
      "metadata": {
        "id": "pYBJB9YglGiX",
        "colab": {
          "base_uri": "https://localhost:8080/"
        },
        "outputId": "c5a087b6-bb04-4aa3-ab40-39b97abb9fe6"
      },
      "source": [
        "input_data = inp\n",
        "output_data = out\n",
        "\n",
        "print('input_data : ', input_data.shape, input_data.dtype)\n",
        "print('output_class : ', output_data.shape, output_data.dtype)\n",
        "print()"
      ],
      "execution_count": 3,
      "outputs": [
        {
          "output_type": "stream",
          "text": [
            "input_data :  (544, 484) float64\n",
            "output_class :  (544, 1) uint8\n",
            "\n"
          ],
          "name": "stdout"
        }
      ]
    },
    {
      "cell_type": "code",
      "metadata": {
        "id": "kdjC6qIyUMOc",
        "colab": {
          "base_uri": "https://localhost:8080/"
        },
        "outputId": "b811bdd0-8420-4b55-d73b-91ee3971909b"
      },
      "source": [
        "input_data.shape"
      ],
      "execution_count": 4,
      "outputs": [
        {
          "output_type": "execute_result",
          "data": {
            "text/plain": [
              "(544, 484)"
            ]
          },
          "metadata": {
            "tags": []
          },
          "execution_count": 4
        }
      ]
    },
    {
      "cell_type": "code",
      "metadata": {
        "id": "JMVZ-aoTk1wf",
        "colab": {
          "base_uri": "https://localhost:8080/"
        },
        "outputId": "5b2a8623-31a0-4151-9401-6edefac6e7b5"
      },
      "source": [
        "oran = 0.20\n",
        "X_train, X_test, y_train, y_test = train_test_split(input_data, output_data, test_size=oran)\n",
        "\n",
        "print('Test data : ', X_test.shape, X_test.dtype)\n",
        "print('Training data : ', X_train.shape, X_train.dtype)\n",
        "print()"
      ],
      "execution_count": 5,
      "outputs": [
        {
          "output_type": "stream",
          "text": [
            "Test data :  (109, 484) float64\n",
            "Training data :  (435, 484) float64\n",
            "\n"
          ],
          "name": "stdout"
        }
      ]
    },
    {
      "cell_type": "code",
      "metadata": {
        "id": "SycmK62goI2t"
      },
      "source": [
        "model = Sequential()\n",
        "model.add(Dense(1, input_dim=484, activation='sigmoid'))"
      ],
      "execution_count": 6,
      "outputs": []
    },
    {
      "cell_type": "code",
      "metadata": {
        "id": "Sg1arrHHoSF1",
        "colab": {
          "base_uri": "https://localhost:8080/"
        },
        "outputId": "abe97ad4-a1da-4734-c516-a1e3996491c3"
      },
      "source": [
        "loss='binary_crossentropy'\n",
        "metrics = ['accuracy']  # network accuracy metric to be determined after each epoch\n",
        "\n",
        "opt1 = SGD(lr=0.001, momentum=0.9)\n",
        "opt2 = Adam(lr=0.001, beta_1=0.9, beta_2=0.999)\n",
        "\n",
        "model.compile(optimizer=opt2, loss=loss, metrics=metrics)\n",
        "model.summary()"
      ],
      "execution_count": 7,
      "outputs": [
        {
          "output_type": "stream",
          "text": [
            "Model: \"sequential\"\n",
            "_________________________________________________________________\n",
            "Layer (type)                 Output Shape              Param #   \n",
            "=================================================================\n",
            "dense (Dense)                (None, 1)                 485       \n",
            "=================================================================\n",
            "Total params: 485\n",
            "Trainable params: 485\n",
            "Non-trainable params: 0\n",
            "_________________________________________________________________\n"
          ],
          "name": "stdout"
        }
      ]
    },
    {
      "cell_type": "code",
      "metadata": {
        "id": "ZavprgepoUEE",
        "colab": {
          "base_uri": "https://localhost:8080/"
        },
        "outputId": "588b4129-75d0-45fe-fb8f-7f1401b9a454"
      },
      "source": [
        "#setting final parameters for the network and it begins to train\n",
        "number_of_iterations = 30\n",
        "batch_size = 50\n",
        "\n",
        "#history=model.fit(X_train, y_train, validation_data=(X_test, y_test), epochs=3)\n",
        "history=model.fit(X_train, y_train, batch_size=batch_size, epochs=number_of_iterations, verbose=1, validation_data=(X_test, y_test))\n",
        "#Number of iterations run: 900"
      ],
      "execution_count": 8,
      "outputs": [
        {
          "output_type": "stream",
          "text": [
            "Epoch 1/30\n",
            "9/9 [==============================] - 0s 17ms/step - loss: 0.7757 - accuracy: 0.5218 - val_loss: 0.7757 - val_accuracy: 0.5321\n",
            "Epoch 2/30\n",
            "9/9 [==============================] - 0s 4ms/step - loss: 0.7273 - accuracy: 0.5563 - val_loss: 0.7404 - val_accuracy: 0.5596\n",
            "Epoch 3/30\n",
            "9/9 [==============================] - 0s 4ms/step - loss: 0.6921 - accuracy: 0.5885 - val_loss: 0.6939 - val_accuracy: 0.6147\n",
            "Epoch 4/30\n",
            "9/9 [==============================] - 0s 4ms/step - loss: 0.6534 - accuracy: 0.6092 - val_loss: 0.6844 - val_accuracy: 0.6330\n",
            "Epoch 5/30\n",
            "9/9 [==============================] - 0s 4ms/step - loss: 0.6243 - accuracy: 0.6437 - val_loss: 0.6560 - val_accuracy: 0.6789\n",
            "Epoch 6/30\n",
            "9/9 [==============================] - 0s 4ms/step - loss: 0.5994 - accuracy: 0.6529 - val_loss: 0.6389 - val_accuracy: 0.6881\n",
            "Epoch 7/30\n",
            "9/9 [==============================] - 0s 4ms/step - loss: 0.5786 - accuracy: 0.6759 - val_loss: 0.6333 - val_accuracy: 0.6697\n",
            "Epoch 8/30\n",
            "9/9 [==============================] - 0s 4ms/step - loss: 0.5608 - accuracy: 0.7011 - val_loss: 0.6179 - val_accuracy: 0.6972\n",
            "Epoch 9/30\n",
            "9/9 [==============================] - 0s 4ms/step - loss: 0.5416 - accuracy: 0.7287 - val_loss: 0.6138 - val_accuracy: 0.6972\n",
            "Epoch 10/30\n",
            "9/9 [==============================] - 0s 4ms/step - loss: 0.5271 - accuracy: 0.7425 - val_loss: 0.6059 - val_accuracy: 0.6972\n",
            "Epoch 11/30\n",
            "9/9 [==============================] - 0s 4ms/step - loss: 0.5140 - accuracy: 0.7517 - val_loss: 0.5945 - val_accuracy: 0.7156\n",
            "Epoch 12/30\n",
            "9/9 [==============================] - 0s 4ms/step - loss: 0.5014 - accuracy: 0.7609 - val_loss: 0.5929 - val_accuracy: 0.7064\n",
            "Epoch 13/30\n",
            "9/9 [==============================] - 0s 4ms/step - loss: 0.4883 - accuracy: 0.7793 - val_loss: 0.5830 - val_accuracy: 0.7248\n",
            "Epoch 14/30\n",
            "9/9 [==============================] - 0s 4ms/step - loss: 0.4801 - accuracy: 0.7816 - val_loss: 0.5851 - val_accuracy: 0.7248\n",
            "Epoch 15/30\n",
            "9/9 [==============================] - 0s 4ms/step - loss: 0.4713 - accuracy: 0.7862 - val_loss: 0.5749 - val_accuracy: 0.7431\n",
            "Epoch 16/30\n",
            "9/9 [==============================] - 0s 4ms/step - loss: 0.4573 - accuracy: 0.8023 - val_loss: 0.5839 - val_accuracy: 0.7248\n",
            "Epoch 17/30\n",
            "9/9 [==============================] - 0s 4ms/step - loss: 0.4483 - accuracy: 0.8138 - val_loss: 0.5745 - val_accuracy: 0.7431\n",
            "Epoch 18/30\n",
            "9/9 [==============================] - 0s 4ms/step - loss: 0.4395 - accuracy: 0.8115 - val_loss: 0.5719 - val_accuracy: 0.7431\n",
            "Epoch 19/30\n",
            "9/9 [==============================] - 0s 4ms/step - loss: 0.4300 - accuracy: 0.8299 - val_loss: 0.5797 - val_accuracy: 0.7339\n",
            "Epoch 20/30\n",
            "9/9 [==============================] - 0s 4ms/step - loss: 0.4252 - accuracy: 0.8276 - val_loss: 0.5681 - val_accuracy: 0.7523\n",
            "Epoch 21/30\n",
            "9/9 [==============================] - 0s 4ms/step - loss: 0.4166 - accuracy: 0.8345 - val_loss: 0.5675 - val_accuracy: 0.7431\n",
            "Epoch 22/30\n",
            "9/9 [==============================] - 0s 4ms/step - loss: 0.4117 - accuracy: 0.8322 - val_loss: 0.5573 - val_accuracy: 0.7615\n",
            "Epoch 23/30\n",
            "9/9 [==============================] - 0s 4ms/step - loss: 0.4004 - accuracy: 0.8391 - val_loss: 0.5654 - val_accuracy: 0.7431\n",
            "Epoch 24/30\n",
            "9/9 [==============================] - 0s 4ms/step - loss: 0.3941 - accuracy: 0.8506 - val_loss: 0.5605 - val_accuracy: 0.7615\n",
            "Epoch 25/30\n",
            "9/9 [==============================] - 0s 4ms/step - loss: 0.3903 - accuracy: 0.8529 - val_loss: 0.5617 - val_accuracy: 0.7523\n",
            "Epoch 26/30\n",
            "9/9 [==============================] - 0s 4ms/step - loss: 0.3818 - accuracy: 0.8621 - val_loss: 0.5587 - val_accuracy: 0.7523\n",
            "Epoch 27/30\n",
            "9/9 [==============================] - 0s 4ms/step - loss: 0.3760 - accuracy: 0.8644 - val_loss: 0.5569 - val_accuracy: 0.7431\n",
            "Epoch 28/30\n",
            "9/9 [==============================] - 0s 4ms/step - loss: 0.3698 - accuracy: 0.8690 - val_loss: 0.5571 - val_accuracy: 0.7523\n",
            "Epoch 29/30\n",
            "9/9 [==============================] - 0s 4ms/step - loss: 0.3648 - accuracy: 0.8690 - val_loss: 0.5553 - val_accuracy: 0.7523\n",
            "Epoch 30/30\n",
            "9/9 [==============================] - 0s 4ms/step - loss: 0.3593 - accuracy: 0.8851 - val_loss: 0.5521 - val_accuracy: 0.7706\n"
          ],
          "name": "stdout"
        }
      ]
    },
    {
      "cell_type": "code",
      "metadata": {
        "id": "32jFj14Qz_qx",
        "colab": {
          "base_uri": "https://localhost:8080/",
          "height": 573
        },
        "outputId": "220dfd97-75f8-4188-9687-9fc8fb8bdcb1"
      },
      "source": [
        "from google.colab import files\n",
        "ac=plt.figure()\n",
        "plt.plot(history.history['accuracy'])\n",
        "plt.plot(history.history['val_accuracy'])\n",
        "plt.title('model accuracy')\n",
        "plt.ylabel('accuracy')\n",
        "plt.xlabel('epoch')\n",
        "plt.legend(['train', 'test'], loc='upper left')\n",
        "ac.show()\n",
        "#ac.savefig('acc-1.png')\n",
        "#files.download('acc-1.png')\n",
        "\n",
        "# summarize history for loss\n",
        "ls=plt.figure()\n",
        "plt.plot(history.history['loss'])\n",
        "plt.plot(history.history['val_loss'])\n",
        "plt.title('model loss')\n",
        "plt.ylabel('loss')\n",
        "plt.xlabel('epoch')\n",
        "plt.legend(['train', 'test'], loc='upper left')\n",
        "ls.show()\n",
        "#ls.savefig('loss-1.png')\n",
        "#files.download('loss-1.png')"
      ],
      "execution_count": 9,
      "outputs": [
        {
          "output_type": "display_data",
          "data": {
            "image/png": "[encoded data removed]",
            "text/plain": [
              "<Figure size 432x288 with 1 Axes>"
            ]
          },
          "metadata": {
            "tags": [],
            "needs_background": "light"
          }
        },
        {
          "output_type": "display_data",
          "data": {
            "image/png": "[encoded data removed]",
            "text/plain": [
              "<Figure size 432x288 with 1 Axes>"
            ]
          },
          "metadata": {
            "tags": [],
            "needs_background": "light"
          }
        }
      ]
    },
    {
      "cell_type": "code",
      "metadata": {
        "id": "yExu5w-b_pk5"
      },
      "source": [
        "sio.savemat('/content/drive/My Drive/Research/MMF_Reservoir/covid/network_res.mat', {'y':out, 'X_test':X_test, 'X_train':X_train, 'y_test':y_test, 'y_train':y_train, 'acc':history.history['accuracy'], 'val_acc':history.history['val_accuracy'], 'loss':history.history['loss'], 'val_loss':history.history['val_loss']})"
      ],
      "execution_count": 11,
      "outputs": []
    },
    {
      "cell_type": "code",
      "metadata": {
        "id": "gSIIagkbcyLK"
      },
      "source": [
        ""
      ],
      "execution_count": null,
      "outputs": []
    }
  ]
}