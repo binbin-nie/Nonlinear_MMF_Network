{
  "nbformat": 4,
  "nbformat_minor": 0,
  "metadata": {
    "accelerator": "GPU",
    "colab": {
      "name": "NYC_Covid.ipynb",
      "provenance": [],
      "collapsed_sections": [],
      "machine_shape": "hm",
      "include_colab_link": true
    },
    "kernelspec": {
      "display_name": "Python 3",
      "name": "python3"
    }
  },
  "cells": [
    {
      "cell_type": "markdown",
      "metadata": {
        "id": "view-in-github",
        "colab_type": "text"
      },
      "source": [
        "<a href=\"https://colab.research.google.com/github/ugurtegin/Nonlinear_MMF_Network/blob/main/Exp_LinReg/NYC_Covid.ipynb\" target=\"_parent\"><img src=\"https://colab.research.google.com/assets/colab-badge.svg\" alt=\"Open In Colab\"/></a>"
      ]
    },
    {
      "cell_type": "code",
      "metadata": {
        "id": "plRoSF3YWrl5",
        "outputId": "7e78c3a9-dedc-47e2-fa4f-028b46e896bc",
        "colab": {
          "base_uri": "https://localhost:8080/"
        }
      },
      "source": [
        "import numpy as np\n",
        "import matplotlib.pyplot as plt\n",
        "import scipy.io as sio\n",
        "import tensorflow as tf\n",
        "\n",
        "from tensorflow import keras\n",
        "from sklearn.model_selection import train_test_split\n",
        "from tensorflow.keras.models import Model,Sequential\n",
        "from tensorflow.keras.layers import Input, Activation, LSTM\n",
        "from tensorflow.keras.layers import Dense, Dropout, Flatten, Conv2D, MaxPooling2D, AveragePooling2D \n",
        "from tensorflow.keras.optimizers import SGD, Adam\n",
        "from tensorflow.keras.utils import to_categorical\n",
        "\n",
        "# Load the Drive helper and mount\n",
        "from google.colab import drive\n",
        "\n",
        "# This will prompt for authorization.\n",
        "drive.mount('/content/drive')"
      ],
      "execution_count": 1,
      "outputs": [
        {
          "output_type": "stream",
          "text": [
            "Drive already mounted at /content/drive; to attempt to forcibly remount, call drive.mount(\"/content/drive\", force_remount=True).\n"
          ],
          "name": "stdout"
        }
      ]
    },
    {
      "cell_type": "code",
      "metadata": {
        "id": "PDK63hJmW5D4"
      },
      "source": [
        "import scipy.io as sio\n",
        "f = sio.loadmat('/content/drive/My Drive/MMF_Reservoir/NYC_Covid/NYC_res_sq_flt2_2.mat')\n",
        "inp = f['res_sq_flt']\n",
        "\n",
        "\n",
        "f2 = sio.loadmat('/content/drive/My Drive/MMF_Reservoir/NYC_Covid/label.mat')\n",
        "out = f2['label']\n"
      ],
      "execution_count": 2,
      "outputs": []
    },
    {
      "cell_type": "markdown",
      "metadata": {
        "id": "0rh1E24b81ts"
      },
      "source": [
        "# Experimental Data"
      ]
    },
    {
      "cell_type": "code",
      "metadata": {
        "id": "pMmOo-YuWxf3"
      },
      "source": [
        "datasize = len(np.transpose(inp))"
      ],
      "execution_count": 3,
      "outputs": []
    },
    {
      "cell_type": "code",
      "metadata": {
        "id": "pYBJB9YglGiX",
        "outputId": "64e47dc7-b46c-42d7-d432-45abb45586d5",
        "colab": {
          "base_uri": "https://localhost:8080/"
        }
      },
      "source": [
        "input_data = inp\n",
        "output_data = out.T\n",
        "#output_data = to_categorical(out)\n",
        "\n",
        "print('input_data : ', input_data.shape, input_data.dtype)\n",
        "print('output_class : ', output_data.shape, output_data.dtype)\n",
        "print()"
      ],
      "execution_count": 4,
      "outputs": [
        {
          "output_type": "stream",
          "text": [
            "input_data :  (210, 100) float64\n",
            "output_class :  (210, 1) float64\n",
            "\n"
          ],
          "name": "stdout"
        }
      ]
    },
    {
      "cell_type": "code",
      "metadata": {
        "id": "JMVZ-aoTk1wf",
        "outputId": "7f256430-9ba9-41fd-d396-0a8b535bdb4b",
        "colab": {
          "base_uri": "https://localhost:8080/"
        }
      },
      "source": [
        "oran = 0.10\n",
        "X_train, X_test, y_train, y_test = train_test_split(input_data, output_data, test_size=oran)\n",
        "\n",
        "print('Test data : ', X_test.shape, X_test.dtype)\n",
        "print('Training data : ', X_train.shape, X_train.dtype)\n",
        "print()"
      ],
      "execution_count": 5,
      "outputs": [
        {
          "output_type": "stream",
          "text": [
            "Test data :  (21, 100) float64\n",
            "Training data :  (189, 100) float64\n",
            "\n"
          ],
          "name": "stdout"
        }
      ]
    },
    {
      "cell_type": "code",
      "metadata": {
        "id": "SycmK62goI2t"
      },
      "source": [
        "model = Sequential()\n",
        "model.add(Dense(1, input_dim=datasize, activation='linear'))"
      ],
      "execution_count": 6,
      "outputs": []
    },
    {
      "cell_type": "code",
      "metadata": {
        "id": "Sg1arrHHoSF1",
        "outputId": "e20db529-0fe0-46b8-8d08-e3e0ea76253c",
        "colab": {
          "base_uri": "https://localhost:8080/"
        }
      },
      "source": [
        "loss='mean_squared_error' # mean_absolute_error, cosine_proximity\n",
        "#loss='categorical_crossentropy'\n",
        "metrics = ['mean_squared_error']  # network accuracy metric to be determined after each epoch, mean_absolute_error, cosine_proximity\n",
        "#metrics = ['accuracy']  # network accuracy metric to be determined after each epoch\n",
        "\n",
        "opt1 = SGD(lr=0.001, momentum=0.9)\n",
        "opt2 = Adam(lr=0.001, beta_1=0.9, beta_2=0.999)\n",
        "\n",
        "model.compile(optimizer=opt2, loss=loss, metrics=metrics)\n",
        "model.summary()"
      ],
      "execution_count": 7,
      "outputs": [
        {
          "output_type": "stream",
          "text": [
            "Model: \"sequential\"\n",
            "_________________________________________________________________\n",
            "Layer (type)                 Output Shape              Param #   \n",
            "=================================================================\n",
            "dense (Dense)                (None, 1)                 101       \n",
            "=================================================================\n",
            "Total params: 101\n",
            "Trainable params: 101\n",
            "Non-trainable params: 0\n",
            "_________________________________________________________________\n"
          ],
          "name": "stdout"
        }
      ]
    },
    {
      "cell_type": "code",
      "metadata": {
        "id": "ZavprgepoUEE",
        "outputId": "8bc647ed-f536-4e2c-866f-41a5c4847403",
        "colab": {
          "base_uri": "https://localhost:8080/"
        }
      },
      "source": [
        "#setting final parameters for the network and it begins to train\n",
        "number_of_iterations = 150\n",
        "batch_size = 32\n",
        "\n",
        "#history=model.fit(X_train, y_train, validation_data=(X_test, y_test), epochs=number_of_iterations)\n",
        "history=model.fit(X_train, y_train, batch_size=batch_size, epochs=number_of_iterations, verbose=1, validation_data=(X_test, y_test))\n",
        "#Number of iterations run: 900"
      ],
      "execution_count": 8,
      "outputs": [
        {
          "output_type": "stream",
          "text": [
            "Epoch 1/150\n",
            "6/6 [==============================] - 0s 20ms/step - loss: 3.6950 - mean_squared_error: 3.6950 - val_loss: 2.9277 - val_mean_squared_error: 2.9277\n",
            "Epoch 2/150\n",
            "6/6 [==============================] - 0s 4ms/step - loss: 3.0314 - mean_squared_error: 3.0314 - val_loss: 2.6224 - val_mean_squared_error: 2.6224\n",
            "Epoch 3/150\n",
            "6/6 [==============================] - 0s 4ms/step - loss: 2.5292 - mean_squared_error: 2.5292 - val_loss: 2.3488 - val_mean_squared_error: 2.3488\n",
            "Epoch 4/150\n",
            "6/6 [==============================] - 0s 4ms/step - loss: 2.1335 - mean_squared_error: 2.1335 - val_loss: 2.0841 - val_mean_squared_error: 2.0841\n",
            "Epoch 5/150\n",
            "6/6 [==============================] - 0s 4ms/step - loss: 1.8640 - mean_squared_error: 1.8640 - val_loss: 1.8360 - val_mean_squared_error: 1.8360\n",
            "Epoch 6/150\n",
            "6/6 [==============================] - 0s 4ms/step - loss: 1.6440 - mean_squared_error: 1.6440 - val_loss: 1.6271 - val_mean_squared_error: 1.6271\n",
            "Epoch 7/150\n",
            "6/6 [==============================] - 0s 4ms/step - loss: 1.4755 - mean_squared_error: 1.4755 - val_loss: 1.4342 - val_mean_squared_error: 1.4342\n",
            "Epoch 8/150\n",
            "6/6 [==============================] - 0s 4ms/step - loss: 1.3401 - mean_squared_error: 1.3401 - val_loss: 1.2686 - val_mean_squared_error: 1.2686\n",
            "Epoch 9/150\n",
            "6/6 [==============================] - 0s 4ms/step - loss: 1.2294 - mean_squared_error: 1.2294 - val_loss: 1.1297 - val_mean_squared_error: 1.1297\n",
            "Epoch 10/150\n",
            "6/6 [==============================] - 0s 4ms/step - loss: 1.1371 - mean_squared_error: 1.1371 - val_loss: 1.0221 - val_mean_squared_error: 1.0221\n",
            "Epoch 11/150\n",
            "6/6 [==============================] - 0s 4ms/step - loss: 1.0671 - mean_squared_error: 1.0671 - val_loss: 0.9313 - val_mean_squared_error: 0.9313\n",
            "Epoch 12/150\n",
            "6/6 [==============================] - 0s 4ms/step - loss: 1.0106 - mean_squared_error: 1.0106 - val_loss: 0.8576 - val_mean_squared_error: 0.8576\n",
            "Epoch 13/150\n",
            "6/6 [==============================] - 0s 3ms/step - loss: 0.9530 - mean_squared_error: 0.9530 - val_loss: 0.8035 - val_mean_squared_error: 0.8035\n",
            "Epoch 14/150\n",
            "6/6 [==============================] - 0s 4ms/step - loss: 0.9048 - mean_squared_error: 0.9048 - val_loss: 0.7581 - val_mean_squared_error: 0.7581\n",
            "Epoch 15/150\n",
            "6/6 [==============================] - 0s 4ms/step - loss: 0.8659 - mean_squared_error: 0.8659 - val_loss: 0.7192 - val_mean_squared_error: 0.7192\n",
            "Epoch 16/150\n",
            "6/6 [==============================] - 0s 3ms/step - loss: 0.8292 - mean_squared_error: 0.8292 - val_loss: 0.6858 - val_mean_squared_error: 0.6858\n",
            "Epoch 17/150\n",
            "6/6 [==============================] - 0s 4ms/step - loss: 0.7960 - mean_squared_error: 0.7960 - val_loss: 0.6588 - val_mean_squared_error: 0.6588\n",
            "Epoch 18/150\n",
            "6/6 [==============================] - 0s 4ms/step - loss: 0.7651 - mean_squared_error: 0.7651 - val_loss: 0.6307 - val_mean_squared_error: 0.6307\n",
            "Epoch 19/150\n",
            "6/6 [==============================] - 0s 4ms/step - loss: 0.7390 - mean_squared_error: 0.7390 - val_loss: 0.6046 - val_mean_squared_error: 0.6046\n",
            "Epoch 20/150\n",
            "6/6 [==============================] - 0s 4ms/step - loss: 0.7171 - mean_squared_error: 0.7171 - val_loss: 0.5835 - val_mean_squared_error: 0.5835\n",
            "Epoch 21/150\n",
            "6/6 [==============================] - 0s 4ms/step - loss: 0.6923 - mean_squared_error: 0.6923 - val_loss: 0.5656 - val_mean_squared_error: 0.5656\n",
            "Epoch 22/150\n",
            "6/6 [==============================] - 0s 4ms/step - loss: 0.6716 - mean_squared_error: 0.6716 - val_loss: 0.5454 - val_mean_squared_error: 0.5454\n",
            "Epoch 23/150\n",
            "6/6 [==============================] - 0s 3ms/step - loss: 0.6537 - mean_squared_error: 0.6537 - val_loss: 0.5307 - val_mean_squared_error: 0.5307\n",
            "Epoch 24/150\n",
            "6/6 [==============================] - 0s 3ms/step - loss: 0.6374 - mean_squared_error: 0.6374 - val_loss: 0.5221 - val_mean_squared_error: 0.5221\n",
            "Epoch 25/150\n",
            "6/6 [==============================] - 0s 4ms/step - loss: 0.6205 - mean_squared_error: 0.6205 - val_loss: 0.5108 - val_mean_squared_error: 0.5108\n",
            "Epoch 26/150\n",
            "6/6 [==============================] - 0s 4ms/step - loss: 0.6059 - mean_squared_error: 0.6059 - val_loss: 0.4994 - val_mean_squared_error: 0.4994\n",
            "Epoch 27/150\n",
            "6/6 [==============================] - 0s 4ms/step - loss: 0.5918 - mean_squared_error: 0.5918 - val_loss: 0.4887 - val_mean_squared_error: 0.4887\n",
            "Epoch 28/150\n",
            "6/6 [==============================] - 0s 4ms/step - loss: 0.5781 - mean_squared_error: 0.5781 - val_loss: 0.4783 - val_mean_squared_error: 0.4783\n",
            "Epoch 29/150\n",
            "6/6 [==============================] - 0s 4ms/step - loss: 0.5664 - mean_squared_error: 0.5664 - val_loss: 0.4723 - val_mean_squared_error: 0.4723\n",
            "Epoch 30/150\n",
            "6/6 [==============================] - 0s 4ms/step - loss: 0.5544 - mean_squared_error: 0.5544 - val_loss: 0.4606 - val_mean_squared_error: 0.4606\n",
            "Epoch 31/150\n",
            "6/6 [==============================] - 0s 4ms/step - loss: 0.5431 - mean_squared_error: 0.5431 - val_loss: 0.4496 - val_mean_squared_error: 0.4496\n",
            "Epoch 32/150\n",
            "6/6 [==============================] - 0s 4ms/step - loss: 0.5313 - mean_squared_error: 0.5313 - val_loss: 0.4490 - val_mean_squared_error: 0.4490\n",
            "Epoch 33/150\n",
            "6/6 [==============================] - 0s 4ms/step - loss: 0.5201 - mean_squared_error: 0.5201 - val_loss: 0.4392 - val_mean_squared_error: 0.4392\n",
            "Epoch 34/150\n",
            "6/6 [==============================] - 0s 3ms/step - loss: 0.5091 - mean_squared_error: 0.5091 - val_loss: 0.4323 - val_mean_squared_error: 0.4323\n",
            "Epoch 35/150\n",
            "6/6 [==============================] - 0s 4ms/step - loss: 0.4994 - mean_squared_error: 0.4994 - val_loss: 0.4290 - val_mean_squared_error: 0.4290\n",
            "Epoch 36/150\n",
            "6/6 [==============================] - 0s 4ms/step - loss: 0.4894 - mean_squared_error: 0.4894 - val_loss: 0.4224 - val_mean_squared_error: 0.4224\n",
            "Epoch 37/150\n",
            "6/6 [==============================] - 0s 4ms/step - loss: 0.4809 - mean_squared_error: 0.4809 - val_loss: 0.4132 - val_mean_squared_error: 0.4132\n",
            "Epoch 38/150\n",
            "6/6 [==============================] - 0s 4ms/step - loss: 0.4703 - mean_squared_error: 0.4703 - val_loss: 0.4112 - val_mean_squared_error: 0.4112\n",
            "Epoch 39/150\n",
            "6/6 [==============================] - 0s 4ms/step - loss: 0.4617 - mean_squared_error: 0.4617 - val_loss: 0.4093 - val_mean_squared_error: 0.4093\n",
            "Epoch 40/150\n",
            "6/6 [==============================] - 0s 4ms/step - loss: 0.4525 - mean_squared_error: 0.4525 - val_loss: 0.4040 - val_mean_squared_error: 0.4040\n",
            "Epoch 41/150\n",
            "6/6 [==============================] - 0s 4ms/step - loss: 0.4440 - mean_squared_error: 0.4440 - val_loss: 0.3996 - val_mean_squared_error: 0.3996\n",
            "Epoch 42/150\n",
            "6/6 [==============================] - 0s 4ms/step - loss: 0.4353 - mean_squared_error: 0.4353 - val_loss: 0.3895 - val_mean_squared_error: 0.3895\n",
            "Epoch 43/150\n",
            "6/6 [==============================] - 0s 4ms/step - loss: 0.4272 - mean_squared_error: 0.4272 - val_loss: 0.3844 - val_mean_squared_error: 0.3844\n",
            "Epoch 44/150\n",
            "6/6 [==============================] - 0s 4ms/step - loss: 0.4193 - mean_squared_error: 0.4193 - val_loss: 0.3797 - val_mean_squared_error: 0.3797\n",
            "Epoch 45/150\n",
            "6/6 [==============================] - 0s 4ms/step - loss: 0.4110 - mean_squared_error: 0.4110 - val_loss: 0.3779 - val_mean_squared_error: 0.3779\n",
            "Epoch 46/150\n",
            "6/6 [==============================] - 0s 4ms/step - loss: 0.4033 - mean_squared_error: 0.4033 - val_loss: 0.3755 - val_mean_squared_error: 0.3755\n",
            "Epoch 47/150\n",
            "6/6 [==============================] - 0s 3ms/step - loss: 0.3973 - mean_squared_error: 0.3973 - val_loss: 0.3686 - val_mean_squared_error: 0.3686\n",
            "Epoch 48/150\n",
            "6/6 [==============================] - 0s 4ms/step - loss: 0.3885 - mean_squared_error: 0.3885 - val_loss: 0.3694 - val_mean_squared_error: 0.3694\n",
            "Epoch 49/150\n",
            "6/6 [==============================] - 0s 4ms/step - loss: 0.3813 - mean_squared_error: 0.3813 - val_loss: 0.3656 - val_mean_squared_error: 0.3656\n",
            "Epoch 50/150\n",
            "6/6 [==============================] - 0s 4ms/step - loss: 0.3740 - mean_squared_error: 0.3740 - val_loss: 0.3635 - val_mean_squared_error: 0.3635\n",
            "Epoch 51/150\n",
            "6/6 [==============================] - 0s 4ms/step - loss: 0.3670 - mean_squared_error: 0.3670 - val_loss: 0.3578 - val_mean_squared_error: 0.3578\n",
            "Epoch 52/150\n",
            "6/6 [==============================] - 0s 4ms/step - loss: 0.3598 - mean_squared_error: 0.3598 - val_loss: 0.3542 - val_mean_squared_error: 0.3542\n",
            "Epoch 53/150\n",
            "6/6 [==============================] - 0s 4ms/step - loss: 0.3530 - mean_squared_error: 0.3530 - val_loss: 0.3486 - val_mean_squared_error: 0.3486\n",
            "Epoch 54/150\n",
            "6/6 [==============================] - 0s 4ms/step - loss: 0.3468 - mean_squared_error: 0.3468 - val_loss: 0.3447 - val_mean_squared_error: 0.3447\n",
            "Epoch 55/150\n",
            "6/6 [==============================] - 0s 4ms/step - loss: 0.3405 - mean_squared_error: 0.3405 - val_loss: 0.3408 - val_mean_squared_error: 0.3408\n",
            "Epoch 56/150\n",
            "6/6 [==============================] - 0s 3ms/step - loss: 0.3342 - mean_squared_error: 0.3342 - val_loss: 0.3414 - val_mean_squared_error: 0.3414\n",
            "Epoch 57/150\n",
            "6/6 [==============================] - 0s 4ms/step - loss: 0.3282 - mean_squared_error: 0.3282 - val_loss: 0.3407 - val_mean_squared_error: 0.3407\n",
            "Epoch 58/150\n",
            "6/6 [==============================] - 0s 4ms/step - loss: 0.3216 - mean_squared_error: 0.3216 - val_loss: 0.3338 - val_mean_squared_error: 0.3338\n",
            "Epoch 59/150\n",
            "6/6 [==============================] - 0s 3ms/step - loss: 0.3157 - mean_squared_error: 0.3157 - val_loss: 0.3318 - val_mean_squared_error: 0.3318\n",
            "Epoch 60/150\n",
            "6/6 [==============================] - 0s 4ms/step - loss: 0.3120 - mean_squared_error: 0.3120 - val_loss: 0.3241 - val_mean_squared_error: 0.3241\n",
            "Epoch 61/150\n",
            "6/6 [==============================] - 0s 3ms/step - loss: 0.3041 - mean_squared_error: 0.3041 - val_loss: 0.3234 - val_mean_squared_error: 0.3234\n",
            "Epoch 62/150\n",
            "6/6 [==============================] - 0s 3ms/step - loss: 0.2987 - mean_squared_error: 0.2987 - val_loss: 0.3254 - val_mean_squared_error: 0.3254\n",
            "Epoch 63/150\n",
            "6/6 [==============================] - 0s 4ms/step - loss: 0.2933 - mean_squared_error: 0.2933 - val_loss: 0.3227 - val_mean_squared_error: 0.3227\n",
            "Epoch 64/150\n",
            "6/6 [==============================] - 0s 4ms/step - loss: 0.2873 - mean_squared_error: 0.2873 - val_loss: 0.3186 - val_mean_squared_error: 0.3186\n",
            "Epoch 65/150\n",
            "6/6 [==============================] - 0s 4ms/step - loss: 0.2845 - mean_squared_error: 0.2845 - val_loss: 0.3101 - val_mean_squared_error: 0.3101\n",
            "Epoch 66/150\n",
            "6/6 [==============================] - 0s 4ms/step - loss: 0.2771 - mean_squared_error: 0.2771 - val_loss: 0.3098 - val_mean_squared_error: 0.3098\n",
            "Epoch 67/150\n",
            "6/6 [==============================] - 0s 4ms/step - loss: 0.2724 - mean_squared_error: 0.2724 - val_loss: 0.3105 - val_mean_squared_error: 0.3105\n",
            "Epoch 68/150\n",
            "6/6 [==============================] - 0s 4ms/step - loss: 0.2673 - mean_squared_error: 0.2673 - val_loss: 0.3087 - val_mean_squared_error: 0.3087\n",
            "Epoch 69/150\n",
            "6/6 [==============================] - 0s 4ms/step - loss: 0.2623 - mean_squared_error: 0.2623 - val_loss: 0.3052 - val_mean_squared_error: 0.3052\n",
            "Epoch 70/150\n",
            "6/6 [==============================] - 0s 4ms/step - loss: 0.2576 - mean_squared_error: 0.2576 - val_loss: 0.2985 - val_mean_squared_error: 0.2985\n",
            "Epoch 71/150\n",
            "6/6 [==============================] - 0s 3ms/step - loss: 0.2526 - mean_squared_error: 0.2526 - val_loss: 0.2956 - val_mean_squared_error: 0.2956\n",
            "Epoch 72/150\n",
            "6/6 [==============================] - 0s 4ms/step - loss: 0.2482 - mean_squared_error: 0.2482 - val_loss: 0.2962 - val_mean_squared_error: 0.2962\n",
            "Epoch 73/150\n",
            "6/6 [==============================] - 0s 4ms/step - loss: 0.2434 - mean_squared_error: 0.2434 - val_loss: 0.2952 - val_mean_squared_error: 0.2952\n",
            "Epoch 74/150\n",
            "6/6 [==============================] - 0s 4ms/step - loss: 0.2386 - mean_squared_error: 0.2386 - val_loss: 0.2930 - val_mean_squared_error: 0.2930\n",
            "Epoch 75/150\n",
            "6/6 [==============================] - 0s 4ms/step - loss: 0.2348 - mean_squared_error: 0.2348 - val_loss: 0.2887 - val_mean_squared_error: 0.2887\n",
            "Epoch 76/150\n",
            "6/6 [==============================] - 0s 4ms/step - loss: 0.2303 - mean_squared_error: 0.2303 - val_loss: 0.2854 - val_mean_squared_error: 0.2854\n",
            "Epoch 77/150\n",
            "6/6 [==============================] - 0s 4ms/step - loss: 0.2263 - mean_squared_error: 0.2263 - val_loss: 0.2838 - val_mean_squared_error: 0.2838\n",
            "Epoch 78/150\n",
            "6/6 [==============================] - 0s 3ms/step - loss: 0.2222 - mean_squared_error: 0.2222 - val_loss: 0.2801 - val_mean_squared_error: 0.2801\n",
            "Epoch 79/150\n",
            "6/6 [==============================] - 0s 4ms/step - loss: 0.2185 - mean_squared_error: 0.2185 - val_loss: 0.2796 - val_mean_squared_error: 0.2796\n",
            "Epoch 80/150\n",
            "6/6 [==============================] - 0s 4ms/step - loss: 0.2141 - mean_squared_error: 0.2141 - val_loss: 0.2785 - val_mean_squared_error: 0.2785\n",
            "Epoch 81/150\n",
            "6/6 [==============================] - 0s 4ms/step - loss: 0.2102 - mean_squared_error: 0.2102 - val_loss: 0.2739 - val_mean_squared_error: 0.2739\n",
            "Epoch 82/150\n",
            "6/6 [==============================] - 0s 4ms/step - loss: 0.2068 - mean_squared_error: 0.2068 - val_loss: 0.2726 - val_mean_squared_error: 0.2726\n",
            "Epoch 83/150\n",
            "6/6 [==============================] - 0s 4ms/step - loss: 0.2028 - mean_squared_error: 0.2028 - val_loss: 0.2717 - val_mean_squared_error: 0.2717\n",
            "Epoch 84/150\n",
            "6/6 [==============================] - 0s 4ms/step - loss: 0.1991 - mean_squared_error: 0.1991 - val_loss: 0.2690 - val_mean_squared_error: 0.2690\n",
            "Epoch 85/150\n",
            "6/6 [==============================] - 0s 4ms/step - loss: 0.1960 - mean_squared_error: 0.1960 - val_loss: 0.2695 - val_mean_squared_error: 0.2695\n",
            "Epoch 86/150\n",
            "6/6 [==============================] - 0s 4ms/step - loss: 0.1921 - mean_squared_error: 0.1921 - val_loss: 0.2658 - val_mean_squared_error: 0.2658\n",
            "Epoch 87/150\n",
            "6/6 [==============================] - 0s 4ms/step - loss: 0.1891 - mean_squared_error: 0.1891 - val_loss: 0.2621 - val_mean_squared_error: 0.2621\n",
            "Epoch 88/150\n",
            "6/6 [==============================] - 0s 4ms/step - loss: 0.1854 - mean_squared_error: 0.1854 - val_loss: 0.2604 - val_mean_squared_error: 0.2604\n",
            "Epoch 89/150\n",
            "6/6 [==============================] - 0s 4ms/step - loss: 0.1821 - mean_squared_error: 0.1821 - val_loss: 0.2593 - val_mean_squared_error: 0.2593\n",
            "Epoch 90/150\n",
            "6/6 [==============================] - 0s 4ms/step - loss: 0.1789 - mean_squared_error: 0.1789 - val_loss: 0.2571 - val_mean_squared_error: 0.2571\n",
            "Epoch 91/150\n",
            "6/6 [==============================] - 0s 4ms/step - loss: 0.1756 - mean_squared_error: 0.1756 - val_loss: 0.2555 - val_mean_squared_error: 0.2555\n",
            "Epoch 92/150\n",
            "6/6 [==============================] - 0s 4ms/step - loss: 0.1725 - mean_squared_error: 0.1725 - val_loss: 0.2534 - val_mean_squared_error: 0.2534\n",
            "Epoch 93/150\n",
            "6/6 [==============================] - 0s 4ms/step - loss: 0.1697 - mean_squared_error: 0.1697 - val_loss: 0.2531 - val_mean_squared_error: 0.2531\n",
            "Epoch 94/150\n",
            "6/6 [==============================] - 0s 4ms/step - loss: 0.1666 - mean_squared_error: 0.1666 - val_loss: 0.2511 - val_mean_squared_error: 0.2511\n",
            "Epoch 95/150\n",
            "6/6 [==============================] - 0s 4ms/step - loss: 0.1641 - mean_squared_error: 0.1641 - val_loss: 0.2458 - val_mean_squared_error: 0.2458\n",
            "Epoch 96/150\n",
            "6/6 [==============================] - 0s 4ms/step - loss: 0.1608 - mean_squared_error: 0.1608 - val_loss: 0.2439 - val_mean_squared_error: 0.2439\n",
            "Epoch 97/150\n",
            "6/6 [==============================] - 0s 4ms/step - loss: 0.1591 - mean_squared_error: 0.1591 - val_loss: 0.2462 - val_mean_squared_error: 0.2462\n",
            "Epoch 98/150\n",
            "6/6 [==============================] - 0s 4ms/step - loss: 0.1559 - mean_squared_error: 0.1559 - val_loss: 0.2423 - val_mean_squared_error: 0.2423\n",
            "Epoch 99/150\n",
            "6/6 [==============================] - 0s 4ms/step - loss: 0.1527 - mean_squared_error: 0.1527 - val_loss: 0.2407 - val_mean_squared_error: 0.2407\n",
            "Epoch 100/150\n",
            "6/6 [==============================] - 0s 4ms/step - loss: 0.1503 - mean_squared_error: 0.1503 - val_loss: 0.2408 - val_mean_squared_error: 0.2408\n",
            "Epoch 101/150\n",
            "6/6 [==============================] - 0s 4ms/step - loss: 0.1479 - mean_squared_error: 0.1479 - val_loss: 0.2369 - val_mean_squared_error: 0.2369\n",
            "Epoch 102/150\n",
            "6/6 [==============================] - 0s 4ms/step - loss: 0.1450 - mean_squared_error: 0.1450 - val_loss: 0.2357 - val_mean_squared_error: 0.2357\n",
            "Epoch 103/150\n",
            "6/6 [==============================] - 0s 4ms/step - loss: 0.1431 - mean_squared_error: 0.1431 - val_loss: 0.2359 - val_mean_squared_error: 0.2359\n",
            "Epoch 104/150\n",
            "6/6 [==============================] - 0s 4ms/step - loss: 0.1402 - mean_squared_error: 0.1402 - val_loss: 0.2325 - val_mean_squared_error: 0.2325\n",
            "Epoch 105/150\n",
            "6/6 [==============================] - 0s 4ms/step - loss: 0.1378 - mean_squared_error: 0.1378 - val_loss: 0.2311 - val_mean_squared_error: 0.2311\n",
            "Epoch 106/150\n",
            "6/6 [==============================] - 0s 4ms/step - loss: 0.1354 - mean_squared_error: 0.1354 - val_loss: 0.2300 - val_mean_squared_error: 0.2300\n",
            "Epoch 107/150\n",
            "6/6 [==============================] - 0s 4ms/step - loss: 0.1333 - mean_squared_error: 0.1333 - val_loss: 0.2284 - val_mean_squared_error: 0.2284\n",
            "Epoch 108/150\n",
            "6/6 [==============================] - 0s 4ms/step - loss: 0.1310 - mean_squared_error: 0.1310 - val_loss: 0.2277 - val_mean_squared_error: 0.2277\n",
            "Epoch 109/150\n",
            "6/6 [==============================] - 0s 4ms/step - loss: 0.1290 - mean_squared_error: 0.1290 - val_loss: 0.2277 - val_mean_squared_error: 0.2277\n",
            "Epoch 110/150\n",
            "6/6 [==============================] - 0s 4ms/step - loss: 0.1270 - mean_squared_error: 0.1270 - val_loss: 0.2264 - val_mean_squared_error: 0.2264\n",
            "Epoch 111/150\n",
            "6/6 [==============================] - 0s 4ms/step - loss: 0.1247 - mean_squared_error: 0.1247 - val_loss: 0.2224 - val_mean_squared_error: 0.2224\n",
            "Epoch 112/150\n",
            "6/6 [==============================] - 0s 4ms/step - loss: 0.1230 - mean_squared_error: 0.1230 - val_loss: 0.2208 - val_mean_squared_error: 0.2208\n",
            "Epoch 113/150\n",
            "6/6 [==============================] - 0s 4ms/step - loss: 0.1207 - mean_squared_error: 0.1207 - val_loss: 0.2183 - val_mean_squared_error: 0.2183\n",
            "Epoch 114/150\n",
            "6/6 [==============================] - 0s 4ms/step - loss: 0.1193 - mean_squared_error: 0.1193 - val_loss: 0.2189 - val_mean_squared_error: 0.2189\n",
            "Epoch 115/150\n",
            "6/6 [==============================] - 0s 4ms/step - loss: 0.1168 - mean_squared_error: 0.1168 - val_loss: 0.2170 - val_mean_squared_error: 0.2170\n",
            "Epoch 116/150\n",
            "6/6 [==============================] - 0s 4ms/step - loss: 0.1154 - mean_squared_error: 0.1154 - val_loss: 0.2136 - val_mean_squared_error: 0.2136\n",
            "Epoch 117/150\n",
            "6/6 [==============================] - 0s 4ms/step - loss: 0.1132 - mean_squared_error: 0.1132 - val_loss: 0.2138 - val_mean_squared_error: 0.2138\n",
            "Epoch 118/150\n",
            "6/6 [==============================] - 0s 4ms/step - loss: 0.1119 - mean_squared_error: 0.1119 - val_loss: 0.2154 - val_mean_squared_error: 0.2154\n",
            "Epoch 119/150\n",
            "6/6 [==============================] - 0s 4ms/step - loss: 0.1095 - mean_squared_error: 0.1095 - val_loss: 0.2131 - val_mean_squared_error: 0.2131\n",
            "Epoch 120/150\n",
            "6/6 [==============================] - 0s 4ms/step - loss: 0.1080 - mean_squared_error: 0.1080 - val_loss: 0.2100 - val_mean_squared_error: 0.2100\n",
            "Epoch 121/150\n",
            "6/6 [==============================] - 0s 4ms/step - loss: 0.1062 - mean_squared_error: 0.1062 - val_loss: 0.2090 - val_mean_squared_error: 0.2090\n",
            "Epoch 122/150\n",
            "6/6 [==============================] - 0s 4ms/step - loss: 0.1047 - mean_squared_error: 0.1047 - val_loss: 0.2078 - val_mean_squared_error: 0.2078\n",
            "Epoch 123/150\n",
            "6/6 [==============================] - 0s 4ms/step - loss: 0.1030 - mean_squared_error: 0.1030 - val_loss: 0.2063 - val_mean_squared_error: 0.2063\n",
            "Epoch 124/150\n",
            "6/6 [==============================] - 0s 3ms/step - loss: 0.1014 - mean_squared_error: 0.1014 - val_loss: 0.2055 - val_mean_squared_error: 0.2055\n",
            "Epoch 125/150\n",
            "6/6 [==============================] - 0s 4ms/step - loss: 0.1000 - mean_squared_error: 0.1000 - val_loss: 0.2041 - val_mean_squared_error: 0.2041\n",
            "Epoch 126/150\n",
            "6/6 [==============================] - 0s 4ms/step - loss: 0.0988 - mean_squared_error: 0.0988 - val_loss: 0.2051 - val_mean_squared_error: 0.2051\n",
            "Epoch 127/150\n",
            "6/6 [==============================] - 0s 4ms/step - loss: 0.0970 - mean_squared_error: 0.0970 - val_loss: 0.2034 - val_mean_squared_error: 0.2034\n",
            "Epoch 128/150\n",
            "6/6 [==============================] - 0s 4ms/step - loss: 0.0958 - mean_squared_error: 0.0958 - val_loss: 0.1998 - val_mean_squared_error: 0.1998\n",
            "Epoch 129/150\n",
            "6/6 [==============================] - 0s 4ms/step - loss: 0.0942 - mean_squared_error: 0.0942 - val_loss: 0.1980 - val_mean_squared_error: 0.1980\n",
            "Epoch 130/150\n",
            "6/6 [==============================] - 0s 4ms/step - loss: 0.0929 - mean_squared_error: 0.0929 - val_loss: 0.1993 - val_mean_squared_error: 0.1993\n",
            "Epoch 131/150\n",
            "6/6 [==============================] - 0s 4ms/step - loss: 0.0913 - mean_squared_error: 0.0913 - val_loss: 0.1985 - val_mean_squared_error: 0.1985\n",
            "Epoch 132/150\n",
            "6/6 [==============================] - 0s 4ms/step - loss: 0.0901 - mean_squared_error: 0.0901 - val_loss: 0.1976 - val_mean_squared_error: 0.1976\n",
            "Epoch 133/150\n",
            "6/6 [==============================] - 0s 4ms/step - loss: 0.0888 - mean_squared_error: 0.0888 - val_loss: 0.1963 - val_mean_squared_error: 0.1963\n",
            "Epoch 134/150\n",
            "6/6 [==============================] - 0s 4ms/step - loss: 0.0876 - mean_squared_error: 0.0876 - val_loss: 0.1943 - val_mean_squared_error: 0.1943\n",
            "Epoch 135/150\n",
            "6/6 [==============================] - 0s 4ms/step - loss: 0.0864 - mean_squared_error: 0.0864 - val_loss: 0.1920 - val_mean_squared_error: 0.1920\n",
            "Epoch 136/150\n",
            "6/6 [==============================] - 0s 4ms/step - loss: 0.0854 - mean_squared_error: 0.0854 - val_loss: 0.1922 - val_mean_squared_error: 0.1922\n",
            "Epoch 137/150\n",
            "6/6 [==============================] - 0s 4ms/step - loss: 0.0840 - mean_squared_error: 0.0840 - val_loss: 0.1914 - val_mean_squared_error: 0.1914\n",
            "Epoch 138/150\n",
            "6/6 [==============================] - 0s 4ms/step - loss: 0.0834 - mean_squared_error: 0.0834 - val_loss: 0.1890 - val_mean_squared_error: 0.1890\n",
            "Epoch 139/150\n",
            "6/6 [==============================] - 0s 4ms/step - loss: 0.0818 - mean_squared_error: 0.0818 - val_loss: 0.1896 - val_mean_squared_error: 0.1896\n",
            "Epoch 140/150\n",
            "6/6 [==============================] - 0s 4ms/step - loss: 0.0805 - mean_squared_error: 0.0805 - val_loss: 0.1891 - val_mean_squared_error: 0.1891\n",
            "Epoch 141/150\n",
            "6/6 [==============================] - 0s 4ms/step - loss: 0.0796 - mean_squared_error: 0.0796 - val_loss: 0.1876 - val_mean_squared_error: 0.1876\n",
            "Epoch 142/150\n",
            "6/6 [==============================] - 0s 4ms/step - loss: 0.0784 - mean_squared_error: 0.0784 - val_loss: 0.1864 - val_mean_squared_error: 0.1864\n",
            "Epoch 143/150\n",
            "6/6 [==============================] - 0s 3ms/step - loss: 0.0774 - mean_squared_error: 0.0774 - val_loss: 0.1855 - val_mean_squared_error: 0.1855\n",
            "Epoch 144/150\n",
            "6/6 [==============================] - 0s 4ms/step - loss: 0.0765 - mean_squared_error: 0.0765 - val_loss: 0.1831 - val_mean_squared_error: 0.1831\n",
            "Epoch 145/150\n",
            "6/6 [==============================] - 0s 4ms/step - loss: 0.0755 - mean_squared_error: 0.0755 - val_loss: 0.1820 - val_mean_squared_error: 0.1820\n",
            "Epoch 146/150\n",
            "6/6 [==============================] - 0s 4ms/step - loss: 0.0745 - mean_squared_error: 0.0745 - val_loss: 0.1827 - val_mean_squared_error: 0.1827\n",
            "Epoch 147/150\n",
            "6/6 [==============================] - 0s 4ms/step - loss: 0.0738 - mean_squared_error: 0.0738 - val_loss: 0.1822 - val_mean_squared_error: 0.1822\n",
            "Epoch 148/150\n",
            "6/6 [==============================] - 0s 4ms/step - loss: 0.0729 - mean_squared_error: 0.0729 - val_loss: 0.1798 - val_mean_squared_error: 0.1798\n",
            "Epoch 149/150\n",
            "6/6 [==============================] - 0s 4ms/step - loss: 0.0718 - mean_squared_error: 0.0718 - val_loss: 0.1782 - val_mean_squared_error: 0.1782\n",
            "Epoch 150/150\n",
            "6/6 [==============================] - 0s 4ms/step - loss: 0.0709 - mean_squared_error: 0.0709 - val_loss: 0.1791 - val_mean_squared_error: 0.1791\n"
          ],
          "name": "stdout"
        }
      ]
    },
    {
      "cell_type": "code",
      "metadata": {
        "id": "32jFj14Qz_qx",
        "outputId": "264d8bce-f5b3-40d0-a168-7df4e6d3a411",
        "colab": {
          "base_uri": "https://localhost:8080/",
          "height": 295
        }
      },
      "source": [
        "from google.colab import files\n",
        "ls=plt.figure()\n",
        "plt.plot(history.history['loss'])\n",
        "plt.plot(history.history['val_loss'])\n",
        "plt.title('model loss')\n",
        "plt.ylabel('loss')\n",
        "plt.xlabel('epoch')\n",
        "plt.legend(['train', 'test'], loc='upper left')\n",
        "ls.show()\n",
        "ls.savefig('/content/drive/My Drive/MMF_Reservoir/NYC_Covid/loss-expset_intel.png')\n",
        "#files.download('loss-1.png')"
      ],
      "execution_count": 9,
      "outputs": [
        {
          "output_type": "display_data",
          "data": {
            "image/png": "[encoded data removed]",
            "text/plain": [
              "<Figure size 432x288 with 1 Axes>"
            ]
          },
          "metadata": {
            "tags": [],
            "needs_background": "light"
          }
        }
      ]
    },
    {
      "cell_type": "code",
      "metadata": {
        "id": "ofMIsQfS3slr",
        "outputId": "0d5cdee0-5dc3-415d-f7a6-15ceeb96768b",
        "colab": {
          "base_uri": "https://localhost:8080/"
        }
      },
      "source": [
        "abit = model.predict(X_test)\n",
        "from sklearn.metrics import mean_squared_error\n",
        "print('MSE ' + str(mean_squared_error(abit, y_test)))\n",
        "print('RMSE ' + str(np.sqrt(mean_squared_error(abit, y_test))))"
      ],
      "execution_count": 10,
      "outputs": [
        {
          "output_type": "stream",
          "text": [
            "MSE 0.1791490286765182\n",
            "RMSE 0.4232600012716985\n"
          ],
          "name": "stdout"
        }
      ]
    },
    {
      "cell_type": "code",
      "metadata": {
        "id": "sv0iP24XOhHK",
        "outputId": "886b704d-1946-4a6f-b5a3-ce145c04e08a",
        "colab": {
          "base_uri": "https://localhost:8080/",
          "height": 265
        }
      },
      "source": [
        "ls=plt.figure()\n",
        "plt.plot(abit,'ro')\n",
        "plt.plot(y_test,'bo')\n",
        "plt.legend(['DNNs prediction', 'Ground Truth'], loc='upper right')\n",
        "ls.show()\n",
        "ls.savefig('/content/drive/My Drive/MMF_Reservoir/NYC_Covid/loss-expset_res_intel.png')\n"
      ],
      "execution_count": 11,
      "outputs": [
        {
          "output_type": "display_data",
          "data": {
            "image/png": "[encoded data removed]",
            "text/plain": [
              "<Figure size 432x288 with 1 Axes>"
            ]
          },
          "metadata": {
            "tags": [],
            "needs_background": "light"
          }
        }
      ]
    },
    {
      "cell_type": "code",
      "metadata": {
        "id": "DXy42VNzHGSi",
        "outputId": "14100114-6021-4cd3-f8c9-d5ed16b6b51c",
        "colab": {
          "base_uri": "https://localhost:8080/"
        }
      },
      "source": [
        "abit = model.predict(inp)\n",
        "from sklearn.metrics import mean_squared_error\n",
        "print('MSE ' + str(mean_squared_error(abit, out.T)))\n",
        "print('RMSE ' + str(np.sqrt(mean_squared_error(abit, out.T))))"
      ],
      "execution_count": 12,
      "outputs": [
        {
          "output_type": "stream",
          "text": [
            "MSE 0.08106069839980083\n",
            "RMSE 0.2847116056640488\n"
          ],
          "name": "stdout"
        }
      ]
    },
    {
      "cell_type": "code",
      "metadata": {
        "id": "TSBwguZlwYOM",
        "outputId": "f559191b-8154-4ecc-9e45-bf3a52505d59",
        "colab": {
          "base_uri": "https://localhost:8080/",
          "height": 265
        }
      },
      "source": [
        "ls=plt.figure()\n",
        "plt.plot(abit,'ro')\n",
        "plt.plot(out.T,'bo')\n",
        "plt.legend(['DNNs prediction', 'Ground Truth'], loc='upper right')\n",
        "ls.show()\n",
        "ls.savefig('/content/drive/My Drive/MMF_Reservoir/NYC_Covid/loss-expset_res_alldata_intel.png')"
      ],
      "execution_count": 13,
      "outputs": [
        {
          "output_type": "display_data",
          "data": {
            "image/png": "[encoded data removed]",
            "text/plain": [
              "<Figure size 432x288 with 1 Axes>"
            ]
          },
          "metadata": {
            "tags": [],
            "needs_background": "light"
          }
        }
      ]
    }
  ]
}