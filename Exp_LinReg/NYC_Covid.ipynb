{
  "nbformat": 4,
  "nbformat_minor": 0,
  "metadata": {
    "accelerator": "GPU",
    "colab": {
      "name": "LA_Covid.ipynb",
      "provenance": [],
      "collapsed_sections": [],
      "machine_shape": "hm",
      "include_colab_link": true
    },
    "kernelspec": {
      "display_name": "Python 3",
      "name": "python3"
    }
  },
  "cells": [
    {
      "cell_type": "markdown",
      "metadata": {
        "id": "view-in-github",
        "colab_type": "text"
      },
      "source": [
        "<a href=\"https://colab.research.google.com/github/ugurtegin/Nonlinear_MMF_Network/blob/main/NYC_Covid.ipynb\" target=\"_parent\"><img src=\"https://colab.research.google.com/assets/colab-badge.svg\" alt=\"Open In Colab\"/></a>"
      ]
    },
    {
      "cell_type": "code",
      "metadata": {
        "id": "plRoSF3YWrl5",
        "outputId": "0029dcc5-f95a-4dce-ebd6-e0593d5aa50a",
        "colab": {
          "base_uri": "https://localhost:8080/"
        }
      },
      "source": [
        "import numpy as np\n",
        "import matplotlib.pyplot as plt\n",
        "import scipy.io as sio\n",
        "import tensorflow as tf\n",
        "\n",
        "from tensorflow import keras\n",
        "from sklearn.model_selection import train_test_split\n",
        "from tensorflow.keras.models import Model,Sequential\n",
        "from tensorflow.keras.layers import Input, Activation, LSTM\n",
        "from tensorflow.keras.layers import Dense, Dropout, Flatten, Conv2D, MaxPooling2D, AveragePooling2D \n",
        "from tensorflow.keras.optimizers import SGD, Adam\n",
        "from tensorflow.keras.utils import to_categorical\n",
        "\n",
        "# Load the Drive helper and mount\n",
        "from google.colab import drive\n",
        "\n",
        "# This will prompt for authorization.\n",
        "drive.mount('/content/drive')"
      ],
      "execution_count": 1,
      "outputs": [
        {
          "output_type": "stream",
          "text": [
            "Drive already mounted at /content/drive; to attempt to forcibly remount, call drive.mount(\"/content/drive\", force_remount=True).\n"
          ],
          "name": "stdout"
        }
      ]
    },
    {
      "cell_type": "code",
      "metadata": {
        "id": "PDK63hJmW5D4"
      },
      "source": [
        "import scipy.io as sio\n",
        "f = sio.loadmat('/content/drive/My Drive/MMF_Reservoir/NYC_Covid/res_sq_flt23.mat')\n",
        "inp = f['res_sq_flt']\n",
        "\n",
        "\n",
        "f2 = sio.loadmat('/content/drive/My Drive/MMF_Reservoir/NYC_Covid/label.mat')\n",
        "out = f2['label']\n"
      ],
      "execution_count": 2,
      "outputs": []
    },
    {
      "cell_type": "markdown",
      "metadata": {
        "id": "0rh1E24b81ts"
      },
      "source": [
        "# Experimental Data"
      ]
    },
    {
      "cell_type": "code",
      "metadata": {
        "id": "pMmOo-YuWxf3"
      },
      "source": [
        "datasize = len(np.transpose(inp))"
      ],
      "execution_count": 3,
      "outputs": []
    },
    {
      "cell_type": "code",
      "metadata": {
        "id": "pYBJB9YglGiX",
        "outputId": "d906d6d7-1853-43dd-ee4f-1a3cf0842999",
        "colab": {
          "base_uri": "https://localhost:8080/"
        }
      },
      "source": [
        "input_data = inp\n",
        "output_data = out.T\n",
        "#output_data = to_categorical(out)\n",
        "\n",
        "print('input_data : ', input_data.shape, input_data.dtype)\n",
        "print('output_class : ', output_data.shape, output_data.dtype)\n",
        "print()"
      ],
      "execution_count": 4,
      "outputs": [
        {
          "output_type": "stream",
          "text": [
            "input_data :  (210, 25) float64\n",
            "output_class :  (210, 1) float64\n",
            "\n"
          ],
          "name": "stdout"
        }
      ]
    },
    {
      "cell_type": "code",
      "metadata": {
        "id": "JMVZ-aoTk1wf",
        "outputId": "37c4aa47-c2ae-4583-df06-5cd1f0d2c98b",
        "colab": {
          "base_uri": "https://localhost:8080/"
        }
      },
      "source": [
        "oran = 0.10\n",
        "X_train, X_test, y_train, y_test = train_test_split(input_data, output_data, test_size=oran)\n",
        "\n",
        "print('Test data : ', X_test.shape, X_test.dtype)\n",
        "print('Training data : ', X_train.shape, X_train.dtype)\n",
        "print()"
      ],
      "execution_count": 5,
      "outputs": [
        {
          "output_type": "stream",
          "text": [
            "Test data :  (21, 25) float64\n",
            "Training data :  (189, 25) float64\n",
            "\n"
          ],
          "name": "stdout"
        }
      ]
    },
    {
      "cell_type": "code",
      "metadata": {
        "id": "SycmK62goI2t"
      },
      "source": [
        "model = Sequential()\n",
        "model.add(Dense(1, input_dim=datasize, activation='linear'))"
      ],
      "execution_count": 6,
      "outputs": []
    },
    {
      "cell_type": "code",
      "metadata": {
        "id": "Sg1arrHHoSF1",
        "outputId": "1567c80e-b109-40e1-b938-84164a17ddd0",
        "colab": {
          "base_uri": "https://localhost:8080/"
        }
      },
      "source": [
        "loss='mean_squared_error' # mean_absolute_error, cosine_proximity\n",
        "#loss='categorical_crossentropy'\n",
        "metrics = ['mean_squared_error']  # network accuracy metric to be determined after each epoch, mean_absolute_error, cosine_proximity\n",
        "#metrics = ['accuracy']  # network accuracy metric to be determined after each epoch\n",
        "\n",
        "opt1 = SGD(lr=0.001, momentum=0.9)\n",
        "opt2 = Adam(lr=0.001, beta_1=0.9, beta_2=0.999)\n",
        "\n",
        "model.compile(optimizer=opt2, loss=loss, metrics=metrics)\n",
        "model.summary()"
      ],
      "execution_count": 7,
      "outputs": [
        {
          "output_type": "stream",
          "text": [
            "Model: \"sequential\"\n",
            "_________________________________________________________________\n",
            "Layer (type)                 Output Shape              Param #   \n",
            "=================================================================\n",
            "dense (Dense)                (None, 1)                 26        \n",
            "=================================================================\n",
            "Total params: 26\n",
            "Trainable params: 26\n",
            "Non-trainable params: 0\n",
            "_________________________________________________________________\n"
          ],
          "name": "stdout"
        }
      ]
    },
    {
      "cell_type": "code",
      "metadata": {
        "id": "ZavprgepoUEE",
        "outputId": "56d2f967-8374-48a9-e5b6-84a25e03f57b",
        "colab": {
          "base_uri": "https://localhost:8080/"
        }
      },
      "source": [
        "#setting final parameters for the network and it begins to train\n",
        "number_of_iterations = 150\n",
        "batch_size = 32\n",
        "\n",
        "#history=model.fit(X_train, y_train, validation_data=(X_test, y_test), epochs=number_of_iterations)\n",
        "history=model.fit(X_train, y_train, batch_size=batch_size, epochs=number_of_iterations, verbose=1, validation_data=(X_test, y_test))\n",
        "#Number of iterations run: 900"
      ],
      "execution_count": 8,
      "outputs": [
        {
          "output_type": "stream",
          "text": [
            "Epoch 1/150\n",
            "6/6 [==============================] - 0s 19ms/step - loss: 1.2801 - mean_squared_error: 1.2801 - val_loss: 1.8908 - val_mean_squared_error: 1.8908\n",
            "Epoch 2/150\n",
            "6/6 [==============================] - 0s 4ms/step - loss: 1.2103 - mean_squared_error: 1.2103 - val_loss: 1.8035 - val_mean_squared_error: 1.8035\n",
            "Epoch 3/150\n",
            "6/6 [==============================] - 0s 4ms/step - loss: 1.1481 - mean_squared_error: 1.1481 - val_loss: 1.7202 - val_mean_squared_error: 1.7202\n",
            "Epoch 4/150\n",
            "6/6 [==============================] - 0s 4ms/step - loss: 1.0882 - mean_squared_error: 1.0882 - val_loss: 1.6458 - val_mean_squared_error: 1.6458\n",
            "Epoch 5/150\n",
            "6/6 [==============================] - 0s 4ms/step - loss: 1.0373 - mean_squared_error: 1.0373 - val_loss: 1.5753 - val_mean_squared_error: 1.5753\n",
            "Epoch 6/150\n",
            "6/6 [==============================] - 0s 4ms/step - loss: 0.9930 - mean_squared_error: 0.9930 - val_loss: 1.5096 - val_mean_squared_error: 1.5096\n",
            "Epoch 7/150\n",
            "6/6 [==============================] - 0s 4ms/step - loss: 0.9477 - mean_squared_error: 0.9477 - val_loss: 1.4450 - val_mean_squared_error: 1.4450\n",
            "Epoch 8/150\n",
            "6/6 [==============================] - 0s 4ms/step - loss: 0.9096 - mean_squared_error: 0.9096 - val_loss: 1.3755 - val_mean_squared_error: 1.3755\n",
            "Epoch 9/150\n",
            "6/6 [==============================] - 0s 4ms/step - loss: 0.8710 - mean_squared_error: 0.8710 - val_loss: 1.3114 - val_mean_squared_error: 1.3114\n",
            "Epoch 10/150\n",
            "6/6 [==============================] - 0s 4ms/step - loss: 0.8344 - mean_squared_error: 0.8344 - val_loss: 1.2529 - val_mean_squared_error: 1.2529\n",
            "Epoch 11/150\n",
            "6/6 [==============================] - 0s 4ms/step - loss: 0.7995 - mean_squared_error: 0.7995 - val_loss: 1.1939 - val_mean_squared_error: 1.1939\n",
            "Epoch 12/150\n",
            "6/6 [==============================] - 0s 4ms/step - loss: 0.7695 - mean_squared_error: 0.7695 - val_loss: 1.1357 - val_mean_squared_error: 1.1357\n",
            "Epoch 13/150\n",
            "6/6 [==============================] - 0s 4ms/step - loss: 0.7341 - mean_squared_error: 0.7341 - val_loss: 1.0818 - val_mean_squared_error: 1.0818\n",
            "Epoch 14/150\n",
            "6/6 [==============================] - 0s 4ms/step - loss: 0.7079 - mean_squared_error: 0.7079 - val_loss: 1.0276 - val_mean_squared_error: 1.0276\n",
            "Epoch 15/150\n",
            "6/6 [==============================] - 0s 3ms/step - loss: 0.6768 - mean_squared_error: 0.6768 - val_loss: 0.9795 - val_mean_squared_error: 0.9795\n",
            "Epoch 16/150\n",
            "6/6 [==============================] - 0s 4ms/step - loss: 0.6506 - mean_squared_error: 0.6506 - val_loss: 0.9340 - val_mean_squared_error: 0.9340\n",
            "Epoch 17/150\n",
            "6/6 [==============================] - 0s 4ms/step - loss: 0.6272 - mean_squared_error: 0.6272 - val_loss: 0.8859 - val_mean_squared_error: 0.8859\n",
            "Epoch 18/150\n",
            "6/6 [==============================] - 0s 3ms/step - loss: 0.6014 - mean_squared_error: 0.6014 - val_loss: 0.8450 - val_mean_squared_error: 0.8450\n",
            "Epoch 19/150\n",
            "6/6 [==============================] - 0s 4ms/step - loss: 0.5777 - mean_squared_error: 0.5777 - val_loss: 0.8077 - val_mean_squared_error: 0.8077\n",
            "Epoch 20/150\n",
            "6/6 [==============================] - 0s 4ms/step - loss: 0.5564 - mean_squared_error: 0.5564 - val_loss: 0.7666 - val_mean_squared_error: 0.7666\n",
            "Epoch 21/150\n",
            "6/6 [==============================] - 0s 4ms/step - loss: 0.5358 - mean_squared_error: 0.5358 - val_loss: 0.7301 - val_mean_squared_error: 0.7301\n",
            "Epoch 22/150\n",
            "6/6 [==============================] - 0s 4ms/step - loss: 0.5134 - mean_squared_error: 0.5134 - val_loss: 0.6984 - val_mean_squared_error: 0.6984\n",
            "Epoch 23/150\n",
            "6/6 [==============================] - 0s 3ms/step - loss: 0.4942 - mean_squared_error: 0.4942 - val_loss: 0.6649 - val_mean_squared_error: 0.6649\n",
            "Epoch 24/150\n",
            "6/6 [==============================] - 0s 3ms/step - loss: 0.4768 - mean_squared_error: 0.4768 - val_loss: 0.6348 - val_mean_squared_error: 0.6348\n",
            "Epoch 25/150\n",
            "6/6 [==============================] - 0s 4ms/step - loss: 0.4605 - mean_squared_error: 0.4605 - val_loss: 0.6041 - val_mean_squared_error: 0.6041\n",
            "Epoch 26/150\n",
            "6/6 [==============================] - 0s 4ms/step - loss: 0.4431 - mean_squared_error: 0.4431 - val_loss: 0.5748 - val_mean_squared_error: 0.5748\n",
            "Epoch 27/150\n",
            "6/6 [==============================] - 0s 4ms/step - loss: 0.4275 - mean_squared_error: 0.4275 - val_loss: 0.5479 - val_mean_squared_error: 0.5479\n",
            "Epoch 28/150\n",
            "6/6 [==============================] - 0s 4ms/step - loss: 0.4120 - mean_squared_error: 0.4120 - val_loss: 0.5254 - val_mean_squared_error: 0.5254\n",
            "Epoch 29/150\n",
            "6/6 [==============================] - 0s 3ms/step - loss: 0.3974 - mean_squared_error: 0.3974 - val_loss: 0.5023 - val_mean_squared_error: 0.5023\n",
            "Epoch 30/150\n",
            "6/6 [==============================] - 0s 4ms/step - loss: 0.3850 - mean_squared_error: 0.3850 - val_loss: 0.4814 - val_mean_squared_error: 0.4814\n",
            "Epoch 31/150\n",
            "6/6 [==============================] - 0s 4ms/step - loss: 0.3718 - mean_squared_error: 0.3718 - val_loss: 0.4592 - val_mean_squared_error: 0.4592\n",
            "Epoch 32/150\n",
            "6/6 [==============================] - 0s 4ms/step - loss: 0.3598 - mean_squared_error: 0.3598 - val_loss: 0.4379 - val_mean_squared_error: 0.4379\n",
            "Epoch 33/150\n",
            "6/6 [==============================] - 0s 4ms/step - loss: 0.3471 - mean_squared_error: 0.3471 - val_loss: 0.4192 - val_mean_squared_error: 0.4192\n",
            "Epoch 34/150\n",
            "6/6 [==============================] - 0s 3ms/step - loss: 0.3363 - mean_squared_error: 0.3363 - val_loss: 0.4014 - val_mean_squared_error: 0.4014\n",
            "Epoch 35/150\n",
            "6/6 [==============================] - 0s 3ms/step - loss: 0.3258 - mean_squared_error: 0.3258 - val_loss: 0.3845 - val_mean_squared_error: 0.3845\n",
            "Epoch 36/150\n",
            "6/6 [==============================] - 0s 4ms/step - loss: 0.3152 - mean_squared_error: 0.3152 - val_loss: 0.3692 - val_mean_squared_error: 0.3692\n",
            "Epoch 37/150\n",
            "6/6 [==============================] - 0s 4ms/step - loss: 0.3059 - mean_squared_error: 0.3059 - val_loss: 0.3543 - val_mean_squared_error: 0.3543\n",
            "Epoch 38/150\n",
            "6/6 [==============================] - 0s 4ms/step - loss: 0.2966 - mean_squared_error: 0.2966 - val_loss: 0.3402 - val_mean_squared_error: 0.3402\n",
            "Epoch 39/150\n",
            "6/6 [==============================] - 0s 4ms/step - loss: 0.2877 - mean_squared_error: 0.2877 - val_loss: 0.3268 - val_mean_squared_error: 0.3268\n",
            "Epoch 40/150\n",
            "6/6 [==============================] - 0s 4ms/step - loss: 0.2799 - mean_squared_error: 0.2799 - val_loss: 0.3156 - val_mean_squared_error: 0.3156\n",
            "Epoch 41/150\n",
            "6/6 [==============================] - 0s 4ms/step - loss: 0.2730 - mean_squared_error: 0.2730 - val_loss: 0.3020 - val_mean_squared_error: 0.3020\n",
            "Epoch 42/150\n",
            "6/6 [==============================] - 0s 4ms/step - loss: 0.2645 - mean_squared_error: 0.2645 - val_loss: 0.2908 - val_mean_squared_error: 0.2908\n",
            "Epoch 43/150\n",
            "6/6 [==============================] - 0s 4ms/step - loss: 0.2571 - mean_squared_error: 0.2571 - val_loss: 0.2795 - val_mean_squared_error: 0.2795\n",
            "Epoch 44/150\n",
            "6/6 [==============================] - 0s 4ms/step - loss: 0.2504 - mean_squared_error: 0.2504 - val_loss: 0.2690 - val_mean_squared_error: 0.2690\n",
            "Epoch 45/150\n",
            "6/6 [==============================] - 0s 4ms/step - loss: 0.2437 - mean_squared_error: 0.2437 - val_loss: 0.2592 - val_mean_squared_error: 0.2592\n",
            "Epoch 46/150\n",
            "6/6 [==============================] - 0s 4ms/step - loss: 0.2373 - mean_squared_error: 0.2373 - val_loss: 0.2510 - val_mean_squared_error: 0.2510\n",
            "Epoch 47/150\n",
            "6/6 [==============================] - 0s 4ms/step - loss: 0.2317 - mean_squared_error: 0.2317 - val_loss: 0.2425 - val_mean_squared_error: 0.2425\n",
            "Epoch 48/150\n",
            "6/6 [==============================] - 0s 4ms/step - loss: 0.2267 - mean_squared_error: 0.2267 - val_loss: 0.2329 - val_mean_squared_error: 0.2329\n",
            "Epoch 49/150\n",
            "6/6 [==============================] - 0s 4ms/step - loss: 0.2210 - mean_squared_error: 0.2210 - val_loss: 0.2254 - val_mean_squared_error: 0.2254\n",
            "Epoch 50/150\n",
            "6/6 [==============================] - 0s 4ms/step - loss: 0.2156 - mean_squared_error: 0.2156 - val_loss: 0.2198 - val_mean_squared_error: 0.2198\n",
            "Epoch 51/150\n",
            "6/6 [==============================] - 0s 4ms/step - loss: 0.2114 - mean_squared_error: 0.2114 - val_loss: 0.2114 - val_mean_squared_error: 0.2114\n",
            "Epoch 52/150\n",
            "6/6 [==============================] - 0s 4ms/step - loss: 0.2063 - mean_squared_error: 0.2063 - val_loss: 0.2066 - val_mean_squared_error: 0.2066\n",
            "Epoch 53/150\n",
            "6/6 [==============================] - 0s 4ms/step - loss: 0.2016 - mean_squared_error: 0.2016 - val_loss: 0.2004 - val_mean_squared_error: 0.2004\n",
            "Epoch 54/150\n",
            "6/6 [==============================] - 0s 4ms/step - loss: 0.1974 - mean_squared_error: 0.1974 - val_loss: 0.1956 - val_mean_squared_error: 0.1956\n",
            "Epoch 55/150\n",
            "6/6 [==============================] - 0s 4ms/step - loss: 0.1936 - mean_squared_error: 0.1936 - val_loss: 0.1904 - val_mean_squared_error: 0.1904\n",
            "Epoch 56/150\n",
            "6/6 [==============================] - 0s 4ms/step - loss: 0.1896 - mean_squared_error: 0.1896 - val_loss: 0.1845 - val_mean_squared_error: 0.1845\n",
            "Epoch 57/150\n",
            "6/6 [==============================] - 0s 4ms/step - loss: 0.1859 - mean_squared_error: 0.1859 - val_loss: 0.1786 - val_mean_squared_error: 0.1786\n",
            "Epoch 58/150\n",
            "6/6 [==============================] - 0s 4ms/step - loss: 0.1825 - mean_squared_error: 0.1825 - val_loss: 0.1734 - val_mean_squared_error: 0.1734\n",
            "Epoch 59/150\n",
            "6/6 [==============================] - 0s 4ms/step - loss: 0.1790 - mean_squared_error: 0.1790 - val_loss: 0.1694 - val_mean_squared_error: 0.1694\n",
            "Epoch 60/150\n",
            "6/6 [==============================] - 0s 4ms/step - loss: 0.1759 - mean_squared_error: 0.1759 - val_loss: 0.1644 - val_mean_squared_error: 0.1644\n",
            "Epoch 61/150\n",
            "6/6 [==============================] - 0s 3ms/step - loss: 0.1726 - mean_squared_error: 0.1726 - val_loss: 0.1604 - val_mean_squared_error: 0.1604\n",
            "Epoch 62/150\n",
            "6/6 [==============================] - 0s 4ms/step - loss: 0.1699 - mean_squared_error: 0.1699 - val_loss: 0.1567 - val_mean_squared_error: 0.1567\n",
            "Epoch 63/150\n",
            "6/6 [==============================] - 0s 4ms/step - loss: 0.1667 - mean_squared_error: 0.1667 - val_loss: 0.1537 - val_mean_squared_error: 0.1537\n",
            "Epoch 64/150\n",
            "6/6 [==============================] - 0s 4ms/step - loss: 0.1641 - mean_squared_error: 0.1641 - val_loss: 0.1507 - val_mean_squared_error: 0.1507\n",
            "Epoch 65/150\n",
            "6/6 [==============================] - 0s 4ms/step - loss: 0.1613 - mean_squared_error: 0.1613 - val_loss: 0.1479 - val_mean_squared_error: 0.1479\n",
            "Epoch 66/150\n",
            "6/6 [==============================] - 0s 4ms/step - loss: 0.1588 - mean_squared_error: 0.1588 - val_loss: 0.1449 - val_mean_squared_error: 0.1449\n",
            "Epoch 67/150\n",
            "6/6 [==============================] - 0s 4ms/step - loss: 0.1568 - mean_squared_error: 0.1568 - val_loss: 0.1406 - val_mean_squared_error: 0.1406\n",
            "Epoch 68/150\n",
            "6/6 [==============================] - 0s 4ms/step - loss: 0.1540 - mean_squared_error: 0.1540 - val_loss: 0.1379 - val_mean_squared_error: 0.1379\n",
            "Epoch 69/150\n",
            "6/6 [==============================] - 0s 4ms/step - loss: 0.1517 - mean_squared_error: 0.1517 - val_loss: 0.1356 - val_mean_squared_error: 0.1356\n",
            "Epoch 70/150\n",
            "6/6 [==============================] - 0s 4ms/step - loss: 0.1497 - mean_squared_error: 0.1497 - val_loss: 0.1333 - val_mean_squared_error: 0.1333\n",
            "Epoch 71/150\n",
            "6/6 [==============================] - 0s 4ms/step - loss: 0.1474 - mean_squared_error: 0.1474 - val_loss: 0.1315 - val_mean_squared_error: 0.1315\n",
            "Epoch 72/150\n",
            "6/6 [==============================] - 0s 4ms/step - loss: 0.1455 - mean_squared_error: 0.1455 - val_loss: 0.1303 - val_mean_squared_error: 0.1303\n",
            "Epoch 73/150\n",
            "6/6 [==============================] - 0s 4ms/step - loss: 0.1434 - mean_squared_error: 0.1434 - val_loss: 0.1276 - val_mean_squared_error: 0.1276\n",
            "Epoch 74/150\n",
            "6/6 [==============================] - 0s 5ms/step - loss: 0.1415 - mean_squared_error: 0.1415 - val_loss: 0.1248 - val_mean_squared_error: 0.1248\n",
            "Epoch 75/150\n",
            "6/6 [==============================] - 0s 4ms/step - loss: 0.1396 - mean_squared_error: 0.1396 - val_loss: 0.1224 - val_mean_squared_error: 0.1224\n",
            "Epoch 76/150\n",
            "6/6 [==============================] - 0s 4ms/step - loss: 0.1380 - mean_squared_error: 0.1380 - val_loss: 0.1206 - val_mean_squared_error: 0.1206\n",
            "Epoch 77/150\n",
            "6/6 [==============================] - 0s 4ms/step - loss: 0.1361 - mean_squared_error: 0.1361 - val_loss: 0.1185 - val_mean_squared_error: 0.1185\n",
            "Epoch 78/150\n",
            "6/6 [==============================] - 0s 4ms/step - loss: 0.1344 - mean_squared_error: 0.1344 - val_loss: 0.1170 - val_mean_squared_error: 0.1170\n",
            "Epoch 79/150\n",
            "6/6 [==============================] - 0s 4ms/step - loss: 0.1329 - mean_squared_error: 0.1329 - val_loss: 0.1142 - val_mean_squared_error: 0.1142\n",
            "Epoch 80/150\n",
            "6/6 [==============================] - 0s 4ms/step - loss: 0.1313 - mean_squared_error: 0.1313 - val_loss: 0.1127 - val_mean_squared_error: 0.1127\n",
            "Epoch 81/150\n",
            "6/6 [==============================] - 0s 4ms/step - loss: 0.1298 - mean_squared_error: 0.1298 - val_loss: 0.1106 - val_mean_squared_error: 0.1106\n",
            "Epoch 82/150\n",
            "6/6 [==============================] - 0s 4ms/step - loss: 0.1282 - mean_squared_error: 0.1282 - val_loss: 0.1095 - val_mean_squared_error: 0.1095\n",
            "Epoch 83/150\n",
            "6/6 [==============================] - 0s 4ms/step - loss: 0.1267 - mean_squared_error: 0.1267 - val_loss: 0.1086 - val_mean_squared_error: 0.1086\n",
            "Epoch 84/150\n",
            "6/6 [==============================] - 0s 4ms/step - loss: 0.1253 - mean_squared_error: 0.1253 - val_loss: 0.1071 - val_mean_squared_error: 0.1071\n",
            "Epoch 85/150\n",
            "6/6 [==============================] - 0s 4ms/step - loss: 0.1239 - mean_squared_error: 0.1239 - val_loss: 0.1062 - val_mean_squared_error: 0.1062\n",
            "Epoch 86/150\n",
            "6/6 [==============================] - 0s 4ms/step - loss: 0.1227 - mean_squared_error: 0.1227 - val_loss: 0.1048 - val_mean_squared_error: 0.1048\n",
            "Epoch 87/150\n",
            "6/6 [==============================] - 0s 4ms/step - loss: 0.1212 - mean_squared_error: 0.1212 - val_loss: 0.1035 - val_mean_squared_error: 0.1035\n",
            "Epoch 88/150\n",
            "6/6 [==============================] - 0s 3ms/step - loss: 0.1200 - mean_squared_error: 0.1200 - val_loss: 0.1020 - val_mean_squared_error: 0.1020\n",
            "Epoch 89/150\n",
            "6/6 [==============================] - 0s 4ms/step - loss: 0.1189 - mean_squared_error: 0.1189 - val_loss: 0.1002 - val_mean_squared_error: 0.1002\n",
            "Epoch 90/150\n",
            "6/6 [==============================] - 0s 4ms/step - loss: 0.1175 - mean_squared_error: 0.1175 - val_loss: 0.0988 - val_mean_squared_error: 0.0988\n",
            "Epoch 91/150\n",
            "6/6 [==============================] - 0s 4ms/step - loss: 0.1164 - mean_squared_error: 0.1164 - val_loss: 0.0976 - val_mean_squared_error: 0.0976\n",
            "Epoch 92/150\n",
            "6/6 [==============================] - 0s 3ms/step - loss: 0.1153 - mean_squared_error: 0.1153 - val_loss: 0.0965 - val_mean_squared_error: 0.0965\n",
            "Epoch 93/150\n",
            "6/6 [==============================] - 0s 4ms/step - loss: 0.1141 - mean_squared_error: 0.1141 - val_loss: 0.0967 - val_mean_squared_error: 0.0967\n",
            "Epoch 94/150\n",
            "6/6 [==============================] - 0s 4ms/step - loss: 0.1132 - mean_squared_error: 0.1132 - val_loss: 0.0964 - val_mean_squared_error: 0.0964\n",
            "Epoch 95/150\n",
            "6/6 [==============================] - 0s 4ms/step - loss: 0.1120 - mean_squared_error: 0.1120 - val_loss: 0.0944 - val_mean_squared_error: 0.0944\n",
            "Epoch 96/150\n",
            "6/6 [==============================] - 0s 4ms/step - loss: 0.1108 - mean_squared_error: 0.1108 - val_loss: 0.0939 - val_mean_squared_error: 0.0939\n",
            "Epoch 97/150\n",
            "6/6 [==============================] - 0s 4ms/step - loss: 0.1099 - mean_squared_error: 0.1099 - val_loss: 0.0926 - val_mean_squared_error: 0.0926\n",
            "Epoch 98/150\n",
            "6/6 [==============================] - 0s 5ms/step - loss: 0.1088 - mean_squared_error: 0.1088 - val_loss: 0.0917 - val_mean_squared_error: 0.0917\n",
            "Epoch 99/150\n",
            "6/6 [==============================] - 0s 4ms/step - loss: 0.1078 - mean_squared_error: 0.1078 - val_loss: 0.0905 - val_mean_squared_error: 0.0905\n",
            "Epoch 100/150\n",
            "6/6 [==============================] - 0s 4ms/step - loss: 0.1069 - mean_squared_error: 0.1069 - val_loss: 0.0894 - val_mean_squared_error: 0.0894\n",
            "Epoch 101/150\n",
            "6/6 [==============================] - 0s 3ms/step - loss: 0.1059 - mean_squared_error: 0.1059 - val_loss: 0.0884 - val_mean_squared_error: 0.0884\n",
            "Epoch 102/150\n",
            "6/6 [==============================] - 0s 3ms/step - loss: 0.1053 - mean_squared_error: 0.1053 - val_loss: 0.0864 - val_mean_squared_error: 0.0864\n",
            "Epoch 103/150\n",
            "6/6 [==============================] - 0s 4ms/step - loss: 0.1041 - mean_squared_error: 0.1041 - val_loss: 0.0867 - val_mean_squared_error: 0.0867\n",
            "Epoch 104/150\n",
            "6/6 [==============================] - 0s 4ms/step - loss: 0.1032 - mean_squared_error: 0.1032 - val_loss: 0.0861 - val_mean_squared_error: 0.0861\n",
            "Epoch 105/150\n",
            "6/6 [==============================] - 0s 4ms/step - loss: 0.1022 - mean_squared_error: 0.1022 - val_loss: 0.0854 - val_mean_squared_error: 0.0854\n",
            "Epoch 106/150\n",
            "6/6 [==============================] - 0s 4ms/step - loss: 0.1014 - mean_squared_error: 0.1014 - val_loss: 0.0858 - val_mean_squared_error: 0.0858\n",
            "Epoch 107/150\n",
            "6/6 [==============================] - 0s 4ms/step - loss: 0.1006 - mean_squared_error: 0.1006 - val_loss: 0.0848 - val_mean_squared_error: 0.0848\n",
            "Epoch 108/150\n",
            "6/6 [==============================] - 0s 4ms/step - loss: 0.0997 - mean_squared_error: 0.0997 - val_loss: 0.0839 - val_mean_squared_error: 0.0839\n",
            "Epoch 109/150\n",
            "6/6 [==============================] - 0s 3ms/step - loss: 0.0989 - mean_squared_error: 0.0989 - val_loss: 0.0829 - val_mean_squared_error: 0.0829\n",
            "Epoch 110/150\n",
            "6/6 [==============================] - 0s 4ms/step - loss: 0.0981 - mean_squared_error: 0.0981 - val_loss: 0.0815 - val_mean_squared_error: 0.0815\n",
            "Epoch 111/150\n",
            "6/6 [==============================] - 0s 4ms/step - loss: 0.0973 - mean_squared_error: 0.0973 - val_loss: 0.0817 - val_mean_squared_error: 0.0817\n",
            "Epoch 112/150\n",
            "6/6 [==============================] - 0s 4ms/step - loss: 0.0965 - mean_squared_error: 0.0965 - val_loss: 0.0808 - val_mean_squared_error: 0.0808\n",
            "Epoch 113/150\n",
            "6/6 [==============================] - 0s 4ms/step - loss: 0.0957 - mean_squared_error: 0.0957 - val_loss: 0.0805 - val_mean_squared_error: 0.0805\n",
            "Epoch 114/150\n",
            "6/6 [==============================] - 0s 3ms/step - loss: 0.0950 - mean_squared_error: 0.0950 - val_loss: 0.0794 - val_mean_squared_error: 0.0794\n",
            "Epoch 115/150\n",
            "6/6 [==============================] - 0s 4ms/step - loss: 0.0942 - mean_squared_error: 0.0942 - val_loss: 0.0787 - val_mean_squared_error: 0.0787\n",
            "Epoch 116/150\n",
            "6/6 [==============================] - 0s 3ms/step - loss: 0.0936 - mean_squared_error: 0.0936 - val_loss: 0.0783 - val_mean_squared_error: 0.0783\n",
            "Epoch 117/150\n",
            "6/6 [==============================] - 0s 4ms/step - loss: 0.0928 - mean_squared_error: 0.0928 - val_loss: 0.0783 - val_mean_squared_error: 0.0783\n",
            "Epoch 118/150\n",
            "6/6 [==============================] - 0s 3ms/step - loss: 0.0921 - mean_squared_error: 0.0921 - val_loss: 0.0776 - val_mean_squared_error: 0.0776\n",
            "Epoch 119/150\n",
            "6/6 [==============================] - 0s 4ms/step - loss: 0.0915 - mean_squared_error: 0.0915 - val_loss: 0.0773 - val_mean_squared_error: 0.0773\n",
            "Epoch 120/150\n",
            "6/6 [==============================] - 0s 3ms/step - loss: 0.0908 - mean_squared_error: 0.0908 - val_loss: 0.0757 - val_mean_squared_error: 0.0757\n",
            "Epoch 121/150\n",
            "6/6 [==============================] - 0s 4ms/step - loss: 0.0900 - mean_squared_error: 0.0900 - val_loss: 0.0753 - val_mean_squared_error: 0.0753\n",
            "Epoch 122/150\n",
            "6/6 [==============================] - 0s 3ms/step - loss: 0.0894 - mean_squared_error: 0.0894 - val_loss: 0.0747 - val_mean_squared_error: 0.0747\n",
            "Epoch 123/150\n",
            "6/6 [==============================] - 0s 4ms/step - loss: 0.0887 - mean_squared_error: 0.0887 - val_loss: 0.0741 - val_mean_squared_error: 0.0741\n",
            "Epoch 124/150\n",
            "6/6 [==============================] - 0s 4ms/step - loss: 0.0883 - mean_squared_error: 0.0883 - val_loss: 0.0726 - val_mean_squared_error: 0.0726\n",
            "Epoch 125/150\n",
            "6/6 [==============================] - 0s 4ms/step - loss: 0.0875 - mean_squared_error: 0.0875 - val_loss: 0.0725 - val_mean_squared_error: 0.0725\n",
            "Epoch 126/150\n",
            "6/6 [==============================] - 0s 4ms/step - loss: 0.0867 - mean_squared_error: 0.0867 - val_loss: 0.0723 - val_mean_squared_error: 0.0723\n",
            "Epoch 127/150\n",
            "6/6 [==============================] - 0s 4ms/step - loss: 0.0862 - mean_squared_error: 0.0862 - val_loss: 0.0726 - val_mean_squared_error: 0.0726\n",
            "Epoch 128/150\n",
            "6/6 [==============================] - 0s 4ms/step - loss: 0.0857 - mean_squared_error: 0.0857 - val_loss: 0.0726 - val_mean_squared_error: 0.0726\n",
            "Epoch 129/150\n",
            "6/6 [==============================] - 0s 4ms/step - loss: 0.0851 - mean_squared_error: 0.0851 - val_loss: 0.0729 - val_mean_squared_error: 0.0729\n",
            "Epoch 130/150\n",
            "6/6 [==============================] - 0s 4ms/step - loss: 0.0844 - mean_squared_error: 0.0844 - val_loss: 0.0723 - val_mean_squared_error: 0.0723\n",
            "Epoch 131/150\n",
            "6/6 [==============================] - 0s 4ms/step - loss: 0.0839 - mean_squared_error: 0.0839 - val_loss: 0.0718 - val_mean_squared_error: 0.0718\n",
            "Epoch 132/150\n",
            "6/6 [==============================] - 0s 4ms/step - loss: 0.0833 - mean_squared_error: 0.0833 - val_loss: 0.0714 - val_mean_squared_error: 0.0714\n",
            "Epoch 133/150\n",
            "6/6 [==============================] - 0s 4ms/step - loss: 0.0828 - mean_squared_error: 0.0828 - val_loss: 0.0698 - val_mean_squared_error: 0.0698\n",
            "Epoch 134/150\n",
            "6/6 [==============================] - 0s 4ms/step - loss: 0.0822 - mean_squared_error: 0.0822 - val_loss: 0.0688 - val_mean_squared_error: 0.0688\n",
            "Epoch 135/150\n",
            "6/6 [==============================] - 0s 4ms/step - loss: 0.0817 - mean_squared_error: 0.0817 - val_loss: 0.0686 - val_mean_squared_error: 0.0686\n",
            "Epoch 136/150\n",
            "6/6 [==============================] - 0s 4ms/step - loss: 0.0810 - mean_squared_error: 0.0810 - val_loss: 0.0689 - val_mean_squared_error: 0.0689\n",
            "Epoch 137/150\n",
            "6/6 [==============================] - 0s 4ms/step - loss: 0.0805 - mean_squared_error: 0.0805 - val_loss: 0.0686 - val_mean_squared_error: 0.0686\n",
            "Epoch 138/150\n",
            "6/6 [==============================] - 0s 4ms/step - loss: 0.0799 - mean_squared_error: 0.0799 - val_loss: 0.0682 - val_mean_squared_error: 0.0682\n",
            "Epoch 139/150\n",
            "6/6 [==============================] - 0s 4ms/step - loss: 0.0795 - mean_squared_error: 0.0795 - val_loss: 0.0679 - val_mean_squared_error: 0.0679\n",
            "Epoch 140/150\n",
            "6/6 [==============================] - 0s 4ms/step - loss: 0.0790 - mean_squared_error: 0.0790 - val_loss: 0.0679 - val_mean_squared_error: 0.0679\n",
            "Epoch 141/150\n",
            "6/6 [==============================] - 0s 5ms/step - loss: 0.0785 - mean_squared_error: 0.0785 - val_loss: 0.0672 - val_mean_squared_error: 0.0672\n",
            "Epoch 142/150\n",
            "6/6 [==============================] - 0s 4ms/step - loss: 0.0780 - mean_squared_error: 0.0780 - val_loss: 0.0671 - val_mean_squared_error: 0.0671\n",
            "Epoch 143/150\n",
            "6/6 [==============================] - 0s 4ms/step - loss: 0.0775 - mean_squared_error: 0.0775 - val_loss: 0.0662 - val_mean_squared_error: 0.0662\n",
            "Epoch 144/150\n",
            "6/6 [==============================] - 0s 4ms/step - loss: 0.0770 - mean_squared_error: 0.0770 - val_loss: 0.0659 - val_mean_squared_error: 0.0659\n",
            "Epoch 145/150\n",
            "6/6 [==============================] - 0s 4ms/step - loss: 0.0766 - mean_squared_error: 0.0766 - val_loss: 0.0664 - val_mean_squared_error: 0.0664\n",
            "Epoch 146/150\n",
            "6/6 [==============================] - 0s 4ms/step - loss: 0.0760 - mean_squared_error: 0.0760 - val_loss: 0.0659 - val_mean_squared_error: 0.0659\n",
            "Epoch 147/150\n",
            "6/6 [==============================] - 0s 4ms/step - loss: 0.0755 - mean_squared_error: 0.0755 - val_loss: 0.0646 - val_mean_squared_error: 0.0646\n",
            "Epoch 148/150\n",
            "6/6 [==============================] - 0s 4ms/step - loss: 0.0751 - mean_squared_error: 0.0751 - val_loss: 0.0641 - val_mean_squared_error: 0.0641\n",
            "Epoch 149/150\n",
            "6/6 [==============================] - 0s 4ms/step - loss: 0.0746 - mean_squared_error: 0.0746 - val_loss: 0.0633 - val_mean_squared_error: 0.0633\n",
            "Epoch 150/150\n",
            "6/6 [==============================] - 0s 4ms/step - loss: 0.0742 - mean_squared_error: 0.0742 - val_loss: 0.0632 - val_mean_squared_error: 0.0632\n"
          ],
          "name": "stdout"
        }
      ]
    },
    {
      "cell_type": "code",
      "metadata": {
        "id": "32jFj14Qz_qx",
        "outputId": "583c9e09-248f-478e-e978-290b7c53474f",
        "colab": {
          "base_uri": "https://localhost:8080/",
          "height": 295
        }
      },
      "source": [
        "from google.colab import files\n",
        "ls=plt.figure()\n",
        "plt.plot(history.history['loss'])\n",
        "plt.plot(history.history['val_loss'])\n",
        "plt.title('model loss')\n",
        "plt.ylabel('loss')\n",
        "plt.xlabel('epoch')\n",
        "plt.legend(['train', 'test'], loc='upper left')\n",
        "ls.show()\n",
        "ls.savefig('/content/drive/My Drive/MMF_Reservoir/NYC_Covid/loss-expset_intel.png')\n",
        "#files.download('loss-1.png')"
      ],
      "execution_count": 9,
      "outputs": [
        {
          "output_type": "display_data",
          "data": {
            "image/png": "[encoded data removed]",
            "text/plain": [
              "<Figure size 432x288 with 1 Axes>"
            ]
          },
          "metadata": {
            "tags": [],
            "needs_background": "light"
          }
        }
      ]
    },
    {
      "cell_type": "code",
      "metadata": {
        "id": "ofMIsQfS3slr",
        "outputId": "4f3e7a6e-ab4e-407f-caa8-c5f441342fc8",
        "colab": {
          "base_uri": "https://localhost:8080/"
        }
      },
      "source": [
        "abit = model.predict(X_test)\n",
        "from sklearn.metrics import mean_squared_error\n",
        "print('MSE ' + str(mean_squared_error(abit, y_test)))\n",
        "print('RMSE ' + str(np.sqrt(mean_squared_error(abit, y_test))))"
      ],
      "execution_count": 10,
      "outputs": [
        {
          "output_type": "stream",
          "text": [
            "MSE 0.06315189655831278\n",
            "RMSE 0.2513004109791959\n"
          ],
          "name": "stdout"
        }
      ]
    },
    {
      "cell_type": "code",
      "metadata": {
        "id": "sv0iP24XOhHK",
        "outputId": "64baf78e-e498-4505-c510-9f5e7601024d",
        "colab": {
          "base_uri": "https://localhost:8080/",
          "height": 265
        }
      },
      "source": [
        "ls=plt.figure()\n",
        "plt.plot(abit,'ro')\n",
        "plt.plot(y_test,'bo')\n",
        "plt.legend(['DNNs prediction', 'Ground Truth'], loc='upper right')\n",
        "ls.show()\n",
        "ls.savefig('/content/drive/My Drive/MMF_Reservoir/NYC_Covid/loss-expset_res_intel.png')\n"
      ],
      "execution_count": 11,
      "outputs": [
        {
          "output_type": "display_data",
          "data": {
            "image/png": "[encoded data removed]",
            "text/plain": [
              "<Figure size 432x288 with 1 Axes>"
            ]
          },
          "metadata": {
            "tags": [],
            "needs_background": "light"
          }
        }
      ]
    },
    {
      "cell_type": "code",
      "metadata": {
        "id": "DXy42VNzHGSi",
        "outputId": "517d5478-e638-410c-8b25-9197d23b7be5",
        "colab": {
          "base_uri": "https://localhost:8080/"
        }
      },
      "source": [
        "abit = model.predict(inp)\n",
        "from sklearn.metrics import mean_squared_error\n",
        "print('MSE ' + str(mean_squared_error(abit, out.T)))\n",
        "print('RMSE ' + str(np.sqrt(mean_squared_error(abit, out.T))))"
      ],
      "execution_count": 12,
      "outputs": [
        {
          "output_type": "stream",
          "text": [
            "MSE 0.07272810522121735\n",
            "RMSE 0.269681488465963\n"
          ],
          "name": "stdout"
        }
      ]
    },
    {
      "cell_type": "code",
      "metadata": {
        "id": "TSBwguZlwYOM",
        "outputId": "6b087b2c-3a56-4bd6-990f-70891a084257",
        "colab": {
          "base_uri": "https://localhost:8080/",
          "height": 265
        }
      },
      "source": [
        "ls=plt.figure()\n",
        "plt.plot(abit,'ro')\n",
        "plt.plot(out.T,'bo')\n",
        "plt.legend(['DNNs prediction', 'Ground Truth'], loc='upper right')\n",
        "ls.show()\n",
        "ls.savefig('/content/drive/My Drive/MMF_Reservoir/NYC_Covid/loss-expset_res_alldata_intel.png')"
      ],
      "execution_count": 13,
      "outputs": [
        {
          "output_type": "display_data",
          "data": {
            "image/png": "[encoded data removed]",
            "text/plain": [
              "<Figure size 432x288 with 1 Axes>"
            ]
          },
          "metadata": {
            "tags": [],
            "needs_background": "light"
          }
        }
      ]
    }
  ]
}
