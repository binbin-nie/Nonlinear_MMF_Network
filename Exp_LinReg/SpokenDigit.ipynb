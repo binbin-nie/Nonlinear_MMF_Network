{
  "nbformat": 4,
  "nbformat_minor": 0,
  "metadata": {
    "colab": {
      "name": "SpokenDigit.ipynb",
      "provenance": [],
      "collapsed_sections": [],
      "machine_shape": "hm",
      "include_colab_link": true
    },
    "kernelspec": {
      "name": "python3",
      "display_name": "Python 3"
    },
    "accelerator": "GPU"
  },
  "cells": [
    {
      "cell_type": "markdown",
      "metadata": {
        "id": "view-in-github",
        "colab_type": "text"
      },
      "source": [
        "<a href=\"https://colab.research.google.com/github/ugurtegin/Nonlinear_MMF_Network/blob/main/Exp_LinReg/SpokenDigit.ipynb\" target=\"_parent\"><img src=\"https://colab.research.google.com/assets/colab-badge.svg\" alt=\"Open In Colab\"/></a>"
      ]
    },
    {
      "cell_type": "code",
      "metadata": {
        "id": "plRoSF3YWrl5",
        "outputId": "01b025d5-39e9-45ef-e1e5-d2122ca38a15",
        "colab": {
          "base_uri": "https://localhost:8080/"
        }
      },
      "source": [
        "import numpy as np\n",
        "import matplotlib.pyplot as plt\n",
        "import scipy.io as sio\n",
        "import tensorflow as tf\n",
        "\n",
        "\n",
        "from tensorflow import keras\n",
        "from sklearn.model_selection import train_test_split\n",
        "from tensorflow.keras.models import Model,Sequential\n",
        "from tensorflow.keras.layers import Input, Activation, LSTM\n",
        "from tensorflow.keras.layers import Dense, Dropout, Flatten, Conv2D, MaxPooling2D, AveragePooling2D \n",
        "from tensorflow.keras.optimizers import SGD, Adam\n",
        "from tensorflow.keras.utils import to_categorical, normalize\n",
        "\n",
        "# Load the Drive helper and mount\n",
        "from google.colab import drive\n",
        "\n",
        "# This will prompt for authorization.\n",
        "drive.mount('/content/drive')"
      ],
      "execution_count": 1,
      "outputs": [
        {
          "output_type": "stream",
          "text": [
            "Drive already mounted at /content/drive; to attempt to forcibly remount, call drive.mount(\"/content/drive\", force_remount=True).\n"
          ],
          "name": "stdout"
        }
      ]
    },
    {
      "cell_type": "code",
      "metadata": {
        "id": "PDK63hJmW5D4"
      },
      "source": [
        "import scipy.io as sio\n",
        "f = sio.loadmat('/content/drive/My Drive/Research/MMF_Reservoir/SpokenDigit/res_sq_flt2_2.mat')\n",
        "inp2 = f['res_sq_flt']\n",
        "\n",
        "#Load data\n",
        "f2 = sio.loadmat('/content/drive/My Drive/Research/MMF_Reservoir/SpokenDigit/label1.mat')\n",
        "\n",
        "out = f2['label1']\n"
      ],
      "execution_count": 2,
      "outputs": []
    },
    {
      "cell_type": "code",
      "metadata": {
        "id": "NsrEaZif34wA"
      },
      "source": [
        "#inp2 = inp / np.linalg.norm(inp)\n",
        "#inp2 = inp2*1000"
      ],
      "execution_count": 3,
      "outputs": []
    },
    {
      "cell_type": "code",
      "metadata": {
        "id": "pYBJB9YglGiX",
        "outputId": "07fcf9d3-46f8-4ce7-e38b-d5460f53eedd",
        "colab": {
          "base_uri": "https://localhost:8080/"
        }
      },
      "source": [
        "input_data = inp2\n",
        "output_data = to_categorical(out.T)\n",
        "\n",
        "print('input_data : ', input_data.shape, input_data.dtype)\n",
        "print('output_class : ', output_data.shape, output_data.dtype)\n",
        "print()"
      ],
      "execution_count": 4,
      "outputs": [
        {
          "output_type": "stream",
          "text": [
            "input_data :  (3000, 484) float64\n",
            "output_class :  (3000, 10) float32\n",
            "\n"
          ],
          "name": "stdout"
        }
      ]
    },
    {
      "cell_type": "code",
      "metadata": {
        "id": "JMVZ-aoTk1wf",
        "outputId": "0399fe9d-bb54-4b02-8383-6f9f16d71c50",
        "colab": {
          "base_uri": "https://localhost:8080/"
        }
      },
      "source": [
        "oran = 0.20\n",
        "X_train, X_test, y_train, y_test = train_test_split(input_data, output_data, test_size=oran)\n",
        "\n",
        "print('Test data : ', X_test.shape, X_test.dtype)\n",
        "print('Training data : ', X_train.shape, X_train.dtype)\n",
        "print()"
      ],
      "execution_count": 5,
      "outputs": [
        {
          "output_type": "stream",
          "text": [
            "Test data :  (600, 484) float64\n",
            "Training data :  (2400, 484) float64\n",
            "\n"
          ],
          "name": "stdout"
        }
      ]
    },
    {
      "cell_type": "code",
      "metadata": {
        "id": "SycmK62goI2t"
      },
      "source": [
        "model = Sequential()\n",
        "model.add(Dense(10, input_dim=484, activation='softmax'))"
      ],
      "execution_count": 6,
      "outputs": []
    },
    {
      "cell_type": "code",
      "metadata": {
        "id": "Sg1arrHHoSF1",
        "outputId": "519d9f79-234d-4348-8371-d594466066b1",
        "colab": {
          "base_uri": "https://localhost:8080/"
        }
      },
      "source": [
        "loss='categorical_crossentropy' # mean_absolute_error, cosine_proximity\n",
        "metrics = ['accuracy']  # network accuracy metric to be determined after each epoch, mean_absolute_error, cosine_proximity\n",
        "\n",
        "opt1 = SGD(lr=0.001, momentum=0.9)\n",
        "opt2 = Adam(lr=0.001, beta_1=0.9, beta_2=0.999)\n",
        "\n",
        "model.compile(optimizer=opt2, loss=loss, metrics=metrics)\n",
        "model.summary()"
      ],
      "execution_count": 7,
      "outputs": [
        {
          "output_type": "stream",
          "text": [
            "Model: \"sequential\"\n",
            "_________________________________________________________________\n",
            "Layer (type)                 Output Shape              Param #   \n",
            "=================================================================\n",
            "dense (Dense)                (None, 10)                4850      \n",
            "=================================================================\n",
            "Total params: 4,850\n",
            "Trainable params: 4,850\n",
            "Non-trainable params: 0\n",
            "_________________________________________________________________\n"
          ],
          "name": "stdout"
        }
      ]
    },
    {
      "cell_type": "code",
      "metadata": {
        "id": "ZavprgepoUEE",
        "outputId": "6597e318-1cb7-4a74-f165-3da64e75ce32",
        "colab": {
          "base_uri": "https://localhost:8080/"
        }
      },
      "source": [
        "#setting final parameters for the network and it begins to train\n",
        "number_of_iterations = 50\n",
        "batch_size = 50\n",
        "\n",
        "#history=model.fit(X_train, y_train, validation_data=(X_test, y_test), epochs=number_of_iterations)\n",
        "history=model.fit(X_train, y_train, batch_size=batch_size, epochs=number_of_iterations, verbose=1, validation_data=(X_test, y_test))\n",
        "#Number of iterations run: 900"
      ],
      "execution_count": 8,
      "outputs": [
        {
          "output_type": "stream",
          "text": [
            "Epoch 1/50\n",
            "48/48 [==============================] - 0s 5ms/step - loss: 1.8403 - accuracy: 0.3963 - val_loss: 1.2965 - val_accuracy: 0.5850\n",
            "Epoch 2/50\n",
            "48/48 [==============================] - 0s 3ms/step - loss: 1.0188 - accuracy: 0.6817 - val_loss: 0.9195 - val_accuracy: 0.7033\n",
            "Epoch 3/50\n",
            "48/48 [==============================] - 0s 2ms/step - loss: 0.7426 - accuracy: 0.7729 - val_loss: 0.7417 - val_accuracy: 0.7700\n",
            "Epoch 4/50\n",
            "48/48 [==============================] - 0s 2ms/step - loss: 0.5901 - accuracy: 0.8288 - val_loss: 0.6364 - val_accuracy: 0.8033\n",
            "Epoch 5/50\n",
            "48/48 [==============================] - 0s 2ms/step - loss: 0.4941 - accuracy: 0.8596 - val_loss: 0.5645 - val_accuracy: 0.8217\n",
            "Epoch 6/50\n",
            "48/48 [==============================] - 0s 3ms/step - loss: 0.4237 - accuracy: 0.8804 - val_loss: 0.5133 - val_accuracy: 0.8367\n",
            "Epoch 7/50\n",
            "48/48 [==============================] - 0s 3ms/step - loss: 0.3706 - accuracy: 0.9075 - val_loss: 0.4846 - val_accuracy: 0.8450\n",
            "Epoch 8/50\n",
            "48/48 [==============================] - 0s 3ms/step - loss: 0.3307 - accuracy: 0.9237 - val_loss: 0.4586 - val_accuracy: 0.8500\n",
            "Epoch 9/50\n",
            "48/48 [==============================] - 0s 3ms/step - loss: 0.2978 - accuracy: 0.9321 - val_loss: 0.4338 - val_accuracy: 0.8633\n",
            "Epoch 10/50\n",
            "48/48 [==============================] - 0s 2ms/step - loss: 0.2693 - accuracy: 0.9417 - val_loss: 0.4113 - val_accuracy: 0.8733\n",
            "Epoch 11/50\n",
            "48/48 [==============================] - 0s 2ms/step - loss: 0.2454 - accuracy: 0.9492 - val_loss: 0.3960 - val_accuracy: 0.8750\n",
            "Epoch 12/50\n",
            "48/48 [==============================] - 0s 3ms/step - loss: 0.2233 - accuracy: 0.9563 - val_loss: 0.3797 - val_accuracy: 0.8750\n",
            "Epoch 13/50\n",
            "48/48 [==============================] - 0s 3ms/step - loss: 0.2056 - accuracy: 0.9592 - val_loss: 0.3696 - val_accuracy: 0.8833\n",
            "Epoch 14/50\n",
            "48/48 [==============================] - 0s 3ms/step - loss: 0.1907 - accuracy: 0.9692 - val_loss: 0.3597 - val_accuracy: 0.8917\n",
            "Epoch 15/50\n",
            "48/48 [==============================] - 0s 2ms/step - loss: 0.1759 - accuracy: 0.9712 - val_loss: 0.3462 - val_accuracy: 0.8883\n",
            "Epoch 16/50\n",
            "48/48 [==============================] - 0s 2ms/step - loss: 0.1637 - accuracy: 0.9758 - val_loss: 0.3381 - val_accuracy: 0.8967\n",
            "Epoch 17/50\n",
            "48/48 [==============================] - 0s 3ms/step - loss: 0.1540 - accuracy: 0.9775 - val_loss: 0.3324 - val_accuracy: 0.8950\n",
            "Epoch 18/50\n",
            "48/48 [==============================] - 0s 3ms/step - loss: 0.1425 - accuracy: 0.9804 - val_loss: 0.3257 - val_accuracy: 0.8967\n",
            "Epoch 19/50\n",
            "48/48 [==============================] - 0s 2ms/step - loss: 0.1334 - accuracy: 0.9812 - val_loss: 0.3248 - val_accuracy: 0.9067\n",
            "Epoch 20/50\n",
            "48/48 [==============================] - 0s 3ms/step - loss: 0.1253 - accuracy: 0.9867 - val_loss: 0.3169 - val_accuracy: 0.9100\n",
            "Epoch 21/50\n",
            "48/48 [==============================] - 0s 3ms/step - loss: 0.1172 - accuracy: 0.9883 - val_loss: 0.3091 - val_accuracy: 0.9067\n",
            "Epoch 22/50\n",
            "48/48 [==============================] - 0s 3ms/step - loss: 0.1098 - accuracy: 0.9908 - val_loss: 0.3068 - val_accuracy: 0.9017\n",
            "Epoch 23/50\n",
            "48/48 [==============================] - 0s 3ms/step - loss: 0.1048 - accuracy: 0.9933 - val_loss: 0.3065 - val_accuracy: 0.9083\n",
            "Epoch 24/50\n",
            "48/48 [==============================] - 0s 3ms/step - loss: 0.0987 - accuracy: 0.9946 - val_loss: 0.3029 - val_accuracy: 0.9150\n",
            "Epoch 25/50\n",
            "48/48 [==============================] - 0s 2ms/step - loss: 0.0937 - accuracy: 0.9937 - val_loss: 0.3016 - val_accuracy: 0.9033\n",
            "Epoch 26/50\n",
            "48/48 [==============================] - 0s 3ms/step - loss: 0.0887 - accuracy: 0.9942 - val_loss: 0.2963 - val_accuracy: 0.9083\n",
            "Epoch 27/50\n",
            "48/48 [==============================] - 0s 3ms/step - loss: 0.0832 - accuracy: 0.9962 - val_loss: 0.2953 - val_accuracy: 0.9067\n",
            "Epoch 28/50\n",
            "48/48 [==============================] - 0s 3ms/step - loss: 0.0794 - accuracy: 0.9962 - val_loss: 0.2932 - val_accuracy: 0.9050\n",
            "Epoch 29/50\n",
            "48/48 [==============================] - 0s 3ms/step - loss: 0.0754 - accuracy: 0.9971 - val_loss: 0.2933 - val_accuracy: 0.9067\n",
            "Epoch 30/50\n",
            "48/48 [==============================] - 0s 3ms/step - loss: 0.0724 - accuracy: 0.9975 - val_loss: 0.2944 - val_accuracy: 0.9100\n",
            "Epoch 31/50\n",
            "48/48 [==============================] - 0s 3ms/step - loss: 0.0687 - accuracy: 0.9979 - val_loss: 0.2868 - val_accuracy: 0.9117\n",
            "Epoch 32/50\n",
            "48/48 [==============================] - 0s 3ms/step - loss: 0.0649 - accuracy: 0.9979 - val_loss: 0.2816 - val_accuracy: 0.9117\n",
            "Epoch 33/50\n",
            "48/48 [==============================] - 0s 2ms/step - loss: 0.0625 - accuracy: 0.9992 - val_loss: 0.2852 - val_accuracy: 0.9100\n",
            "Epoch 34/50\n",
            "48/48 [==============================] - 0s 3ms/step - loss: 0.0599 - accuracy: 0.9992 - val_loss: 0.2846 - val_accuracy: 0.9133\n",
            "Epoch 35/50\n",
            "48/48 [==============================] - 0s 2ms/step - loss: 0.0568 - accuracy: 0.9996 - val_loss: 0.2788 - val_accuracy: 0.9083\n",
            "Epoch 36/50\n",
            "48/48 [==============================] - 0s 2ms/step - loss: 0.0547 - accuracy: 0.9996 - val_loss: 0.2790 - val_accuracy: 0.9133\n",
            "Epoch 37/50\n",
            "48/48 [==============================] - 0s 3ms/step - loss: 0.0522 - accuracy: 1.0000 - val_loss: 0.2782 - val_accuracy: 0.9167\n",
            "Epoch 38/50\n",
            "48/48 [==============================] - 0s 3ms/step - loss: 0.0502 - accuracy: 0.9996 - val_loss: 0.2773 - val_accuracy: 0.9133\n",
            "Epoch 39/50\n",
            "48/48 [==============================] - 0s 3ms/step - loss: 0.0481 - accuracy: 1.0000 - val_loss: 0.2768 - val_accuracy: 0.9150\n",
            "Epoch 40/50\n",
            "48/48 [==============================] - 0s 2ms/step - loss: 0.0463 - accuracy: 1.0000 - val_loss: 0.2791 - val_accuracy: 0.9100\n",
            "Epoch 41/50\n",
            "48/48 [==============================] - 0s 2ms/step - loss: 0.0443 - accuracy: 1.0000 - val_loss: 0.2768 - val_accuracy: 0.9100\n",
            "Epoch 42/50\n",
            "48/48 [==============================] - 0s 3ms/step - loss: 0.0424 - accuracy: 1.0000 - val_loss: 0.2733 - val_accuracy: 0.9133\n",
            "Epoch 43/50\n",
            "48/48 [==============================] - 0s 3ms/step - loss: 0.0413 - accuracy: 1.0000 - val_loss: 0.2730 - val_accuracy: 0.9133\n",
            "Epoch 44/50\n",
            "48/48 [==============================] - 0s 3ms/step - loss: 0.0396 - accuracy: 1.0000 - val_loss: 0.2760 - val_accuracy: 0.9100\n",
            "Epoch 45/50\n",
            "48/48 [==============================] - 0s 3ms/step - loss: 0.0381 - accuracy: 1.0000 - val_loss: 0.2712 - val_accuracy: 0.9100\n",
            "Epoch 46/50\n",
            "48/48 [==============================] - 0s 3ms/step - loss: 0.0367 - accuracy: 1.0000 - val_loss: 0.2715 - val_accuracy: 0.9083\n",
            "Epoch 47/50\n",
            "48/48 [==============================] - 0s 3ms/step - loss: 0.0354 - accuracy: 1.0000 - val_loss: 0.2722 - val_accuracy: 0.9100\n",
            "Epoch 48/50\n",
            "48/48 [==============================] - 0s 3ms/step - loss: 0.0341 - accuracy: 1.0000 - val_loss: 0.2725 - val_accuracy: 0.9100\n",
            "Epoch 49/50\n",
            "48/48 [==============================] - 0s 3ms/step - loss: 0.0328 - accuracy: 1.0000 - val_loss: 0.2705 - val_accuracy: 0.9117\n",
            "Epoch 50/50\n",
            "48/48 [==============================] - 0s 2ms/step - loss: 0.0317 - accuracy: 1.0000 - val_loss: 0.2719 - val_accuracy: 0.9083\n"
          ],
          "name": "stdout"
        }
      ]
    },
    {
      "cell_type": "code",
      "metadata": {
        "id": "32jFj14Qz_qx",
        "outputId": "e64dd53a-225c-4147-f299-4ba86bcc28ea",
        "colab": {
          "base_uri": "https://localhost:8080/",
          "height": 573
        }
      },
      "source": [
        "from google.colab import files\n",
        "# summarize history for loss\n",
        "ls=plt.figure()\n",
        "plt.plot(history.history['accuracy'])\n",
        "plt.plot(history.history['val_accuracy'])\n",
        "plt.title('model accuracy')\n",
        "plt.ylabel('accuracy')\n",
        "plt.xlabel('epoch')\n",
        "plt.legend(['train', 'test'], loc='upper left')\n",
        "#plt.ylim(0.02,0.4)\n",
        "ls.show()\n",
        "\n",
        "ls=plt.figure()\n",
        "plt.plot(history.history['loss'])\n",
        "plt.plot(history.history['val_loss'])\n",
        "plt.title('model loss')\n",
        "plt.ylabel('loss')\n",
        "plt.xlabel('epoch')\n",
        "plt.legend(['train', 'test'], loc='upper left')\n",
        "#plt.ylim(0.02,0.4)\n",
        "ls.show()\n",
        "#ls.savefig('/content/drive/My Drive/Sinc/loss-exp.png')\n",
        "#files.download('loss-1.png')"
      ],
      "execution_count": 9,
      "outputs": [
        {
          "output_type": "display_data",
          "data": {
            "image/png": "[encoded data removed]",
            "text/plain": [
              "<Figure size 432x288 with 1 Axes>"
            ]
          },
          "metadata": {
            "tags": [],
            "needs_background": "light"
          }
        },
        {
          "output_type": "display_data",
          "data": {
            "image/png": "[encoded data removed]",
            "text/plain": [
              "<Figure size 432x288 with 1 Axes>"
            ]
          },
          "metadata": {
            "tags": [],
            "needs_background": "light"
          }
        }
      ]
    },
    {
      "cell_type": "code",
      "metadata": {
        "id": "Cm1EwzISl5PA",
        "outputId": "453575ef-6ccb-4cb4-994e-b02807b5471c",
        "colab": {
          "base_uri": "https://localhost:8080/"
        }
      },
      "source": [
        "abit = model.predict(inp2)\n",
        "abit.shape"
      ],
      "execution_count": 10,
      "outputs": [
        {
          "output_type": "execute_result",
          "data": {
            "text/plain": [
              "(3000, 10)"
            ]
          },
          "metadata": {
            "tags": []
          },
          "execution_count": 10
        }
      ]
    },
    {
      "cell_type": "code",
      "metadata": {
        "id": "cbPuN-5HZEKy",
        "outputId": "306fe1fc-8065-4232-95fa-7ed9163d0afb",
        "colab": {
          "base_uri": "https://localhost:8080/"
        }
      },
      "source": [
        "abit = model.predict(X_test)\n",
        "from sklearn.metrics import mean_squared_error\n",
        "print('MSE ' + str(mean_squared_error(abit, y_test)))\n",
        "print('RMSE ' + str(np.sqrt(mean_squared_error(abit, y_test))))"
      ],
      "execution_count": 14,
      "outputs": [
        {
          "output_type": "stream",
          "text": [
            "MSE 0.013429535\n",
            "RMSE 0.11588587\n"
          ],
          "name": "stdout"
        }
      ]
    },
    {
      "cell_type": "code",
      "metadata": {
        "id": "e-gZuJM1MJpd",
        "outputId": "fd40d951-9cb5-45be-d299-c86a1ec0602e",
        "colab": {
          "base_uri": "https://localhost:8080/"
        }
      },
      "source": [
        "abit = model.predict(inp2)\n",
        "from sklearn.metrics import mean_squared_error\n",
        "print('MSE ' + str(mean_squared_error(abit, output_data)))\n",
        "print('RMSE ' + str(np.sqrt(mean_squared_error(abit, output_data))))"
      ],
      "execution_count": 15,
      "outputs": [
        {
          "output_type": "stream",
          "text": [
            "MSE 0.0030291385\n",
            "RMSE 0.05503761\n"
          ],
          "name": "stdout"
        }
      ]
    },
    {
      "cell_type": "code",
      "metadata": {
        "id": "w2ePFauUMPfj"
      },
      "source": [
        ""
      ],
      "execution_count": null,
      "outputs": []
    }
  ]
}
