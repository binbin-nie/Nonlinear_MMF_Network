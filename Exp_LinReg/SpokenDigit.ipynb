{
  "nbformat": 4,
  "nbformat_minor": 0,
  "metadata": {
    "colab": {
      "name": "SpokenDigit.ipynb",
      "provenance": [],
      "collapsed_sections": [],
      "machine_shape": "hm",
      "include_colab_link": true
    },
    "kernelspec": {
      "name": "python3",
      "display_name": "Python 3"
    },
    "accelerator": "GPU"
  },
  "cells": [
    {
      "cell_type": "markdown",
      "metadata": {
        "id": "view-in-github",
        "colab_type": "text"
      },
      "source": [
        "<a href=\"https://colab.research.google.com/github/ugurtegin/Nonlinear_MMF_Network/blob/main/Exp_LinReg/SpokenDigit.ipynb\" target=\"_parent\"><img src=\"https://colab.research.google.com/assets/colab-badge.svg\" alt=\"Open In Colab\"/></a>"
      ]
    },
    {
      "cell_type": "code",
      "metadata": {
        "id": "plRoSF3YWrl5",
        "colab": {
          "base_uri": "https://localhost:8080/"
        },
        "outputId": "114f75c3-8bcd-4f15-fc04-c166f9ab09bc"
      },
      "source": [
        "import numpy as np\n",
        "import matplotlib.pyplot as plt\n",
        "import scipy.io as sio\n",
        "import tensorflow as tf\n",
        "\n",
        "\n",
        "from tensorflow import keras\n",
        "from sklearn.model_selection import train_test_split\n",
        "from tensorflow.keras.models import Model,Sequential\n",
        "from tensorflow.keras.layers import Input, Activation, LSTM\n",
        "from tensorflow.keras.layers import Dense, Dropout, Flatten, Conv2D, MaxPooling2D, AveragePooling2D \n",
        "from tensorflow.keras.optimizers import SGD, Adam\n",
        "from tensorflow.keras.utils import to_categorical, normalize\n",
        "\n",
        "# Load the Drive helper and mount\n",
        "from google.colab import drive\n",
        "\n",
        "# This will prompt for authorization.\n",
        "drive.mount('/content/drive')"
      ],
      "execution_count": 1,
      "outputs": [
        {
          "output_type": "stream",
          "text": [
            "Drive already mounted at /content/drive; to attempt to forcibly remount, call drive.mount(\"/content/drive\", force_remount=True).\n"
          ],
          "name": "stdout"
        }
      ]
    },
    {
      "cell_type": "code",
      "metadata": {
        "id": "PDK63hJmW5D4"
      },
      "source": [
        "import scipy.io as sio\n",
        "f = sio.loadmat('/content/drive/My Drive/Research/MMF_Reservoir/SpokenDigit/res_sq_flt2_2.mat')\n",
        "inp2 = f['res_sq_flt']\n",
        "\n",
        "#Load data\n",
        "f2 = sio.loadmat('/content/drive/My Drive/Research/MMF_Reservoir/SpokenDigit/label1.mat')\n",
        "\n",
        "out = f2['label1']\n"
      ],
      "execution_count": 2,
      "outputs": []
    },
    {
      "cell_type": "code",
      "metadata": {
        "id": "pYBJB9YglGiX",
        "colab": {
          "base_uri": "https://localhost:8080/"
        },
        "outputId": "40d23a06-2480-498f-a6b7-e3a9e943e086"
      },
      "source": [
        "input_data = inp2\n",
        "output_data = to_categorical(out.T)\n",
        "\n",
        "print('input_data : ', input_data.shape, input_data.dtype)\n",
        "print('output_class : ', output_data.shape, output_data.dtype)\n",
        "print()"
      ],
      "execution_count": 3,
      "outputs": [
        {
          "output_type": "stream",
          "text": [
            "input_data :  (3000, 484) float64\n",
            "output_class :  (3000, 10) float32\n",
            "\n"
          ],
          "name": "stdout"
        }
      ]
    },
    {
      "cell_type": "code",
      "metadata": {
        "id": "JMVZ-aoTk1wf",
        "colab": {
          "base_uri": "https://localhost:8080/"
        },
        "outputId": "b69d16e4-bf58-466a-99c5-2a33d68cfb6c"
      },
      "source": [
        "oran = 0.20\n",
        "X_train, X_test, y_train, y_test = train_test_split(input_data, output_data, test_size=oran)\n",
        "\n",
        "print('Test data : ', X_test.shape, X_test.dtype)\n",
        "print('Training data : ', X_train.shape, X_train.dtype)\n",
        "print()"
      ],
      "execution_count": 4,
      "outputs": [
        {
          "output_type": "stream",
          "text": [
            "Test data :  (600, 484) float64\n",
            "Training data :  (2400, 484) float64\n",
            "\n"
          ],
          "name": "stdout"
        }
      ]
    },
    {
      "cell_type": "code",
      "metadata": {
        "id": "SycmK62goI2t"
      },
      "source": [
        "model = Sequential()\n",
        "model.add(Dense(10, input_dim=484, activation='softmax'))"
      ],
      "execution_count": 5,
      "outputs": []
    },
    {
      "cell_type": "code",
      "metadata": {
        "id": "Sg1arrHHoSF1",
        "colab": {
          "base_uri": "https://localhost:8080/"
        },
        "outputId": "7fe6d26f-bf53-4cfa-989c-22d8650d8285"
      },
      "source": [
        "loss='categorical_crossentropy' # mean_absolute_error, cosine_proximity\n",
        "metrics = ['accuracy']  # network accuracy metric to be determined after each epoch, mean_absolute_error, cosine_proximity\n",
        "\n",
        "opt1 = SGD(lr=0.001, momentum=0.9)\n",
        "opt2 = Adam(lr=0.001, beta_1=0.9, beta_2=0.999)\n",
        "\n",
        "model.compile(optimizer=opt2, loss=loss, metrics=metrics)\n",
        "model.summary()"
      ],
      "execution_count": 6,
      "outputs": [
        {
          "output_type": "stream",
          "text": [
            "Model: \"sequential\"\n",
            "_________________________________________________________________\n",
            "Layer (type)                 Output Shape              Param #   \n",
            "=================================================================\n",
            "dense (Dense)                (None, 10)                4850      \n",
            "=================================================================\n",
            "Total params: 4,850\n",
            "Trainable params: 4,850\n",
            "Non-trainable params: 0\n",
            "_________________________________________________________________\n"
          ],
          "name": "stdout"
        }
      ]
    },
    {
      "cell_type": "code",
      "metadata": {
        "id": "ZavprgepoUEE",
        "colab": {
          "base_uri": "https://localhost:8080/"
        },
        "outputId": "7477b714-82a3-4f8a-e913-a6b73db1aabb"
      },
      "source": [
        "#setting final parameters for the network and it begins to train\n",
        "number_of_iterations = 50\n",
        "batch_size = 50\n",
        "\n",
        "#history=model.fit(X_train, y_train, validation_data=(X_test, y_test), epochs=number_of_iterations)\n",
        "history=model.fit(X_train, y_train, batch_size=batch_size, epochs=number_of_iterations, verbose=1, validation_data=(X_test, y_test))\n",
        "#Number of iterations run: 900"
      ],
      "execution_count": 7,
      "outputs": [
        {
          "output_type": "stream",
          "text": [
            "Epoch 1/50\n",
            "48/48 [==============================] - 0s 5ms/step - loss: 1.7617 - accuracy: 0.4021 - val_loss: 1.2474 - val_accuracy: 0.5800\n",
            "Epoch 2/50\n",
            "48/48 [==============================] - 0s 2ms/step - loss: 1.0119 - accuracy: 0.6750 - val_loss: 0.9255 - val_accuracy: 0.7000\n",
            "Epoch 3/50\n",
            "48/48 [==============================] - 0s 2ms/step - loss: 0.7550 - accuracy: 0.7688 - val_loss: 0.7477 - val_accuracy: 0.7483\n",
            "Epoch 4/50\n",
            "48/48 [==============================] - 0s 2ms/step - loss: 0.6058 - accuracy: 0.8158 - val_loss: 0.6522 - val_accuracy: 0.8000\n",
            "Epoch 5/50\n",
            "48/48 [==============================] - 0s 2ms/step - loss: 0.5118 - accuracy: 0.8537 - val_loss: 0.5851 - val_accuracy: 0.8233\n",
            "Epoch 6/50\n",
            "48/48 [==============================] - 0s 2ms/step - loss: 0.4457 - accuracy: 0.8763 - val_loss: 0.5412 - val_accuracy: 0.8400\n",
            "Epoch 7/50\n",
            "48/48 [==============================] - 0s 2ms/step - loss: 0.3895 - accuracy: 0.8958 - val_loss: 0.5160 - val_accuracy: 0.8383\n",
            "Epoch 8/50\n",
            "48/48 [==============================] - 0s 2ms/step - loss: 0.3488 - accuracy: 0.9100 - val_loss: 0.4839 - val_accuracy: 0.8550\n",
            "Epoch 9/50\n",
            "48/48 [==============================] - 0s 2ms/step - loss: 0.3140 - accuracy: 0.9175 - val_loss: 0.4640 - val_accuracy: 0.8550\n",
            "Epoch 10/50\n",
            "48/48 [==============================] - 0s 2ms/step - loss: 0.2865 - accuracy: 0.9267 - val_loss: 0.4394 - val_accuracy: 0.8633\n",
            "Epoch 11/50\n",
            "48/48 [==============================] - 0s 2ms/step - loss: 0.2596 - accuracy: 0.9350 - val_loss: 0.4206 - val_accuracy: 0.8667\n",
            "Epoch 12/50\n",
            "48/48 [==============================] - 0s 2ms/step - loss: 0.2385 - accuracy: 0.9433 - val_loss: 0.4028 - val_accuracy: 0.8633\n",
            "Epoch 13/50\n",
            "48/48 [==============================] - 0s 2ms/step - loss: 0.2196 - accuracy: 0.9479 - val_loss: 0.3872 - val_accuracy: 0.8733\n",
            "Epoch 14/50\n",
            "48/48 [==============================] - 0s 2ms/step - loss: 0.2028 - accuracy: 0.9538 - val_loss: 0.3792 - val_accuracy: 0.8817\n",
            "Epoch 15/50\n",
            "48/48 [==============================] - 0s 2ms/step - loss: 0.1899 - accuracy: 0.9604 - val_loss: 0.3714 - val_accuracy: 0.8817\n",
            "Epoch 16/50\n",
            "48/48 [==============================] - 0s 2ms/step - loss: 0.1755 - accuracy: 0.9646 - val_loss: 0.3562 - val_accuracy: 0.8817\n",
            "Epoch 17/50\n",
            "48/48 [==============================] - 0s 2ms/step - loss: 0.1629 - accuracy: 0.9737 - val_loss: 0.3538 - val_accuracy: 0.8817\n",
            "Epoch 18/50\n",
            "48/48 [==============================] - 0s 2ms/step - loss: 0.1509 - accuracy: 0.9721 - val_loss: 0.3460 - val_accuracy: 0.8850\n",
            "Epoch 19/50\n",
            "48/48 [==============================] - 0s 2ms/step - loss: 0.1420 - accuracy: 0.9792 - val_loss: 0.3421 - val_accuracy: 0.8867\n",
            "Epoch 20/50\n",
            "48/48 [==============================] - 0s 2ms/step - loss: 0.1341 - accuracy: 0.9821 - val_loss: 0.3340 - val_accuracy: 0.8917\n",
            "Epoch 21/50\n",
            "48/48 [==============================] - 0s 2ms/step - loss: 0.1257 - accuracy: 0.9862 - val_loss: 0.3319 - val_accuracy: 0.8900\n",
            "Epoch 22/50\n",
            "48/48 [==============================] - 0s 2ms/step - loss: 0.1186 - accuracy: 0.9883 - val_loss: 0.3212 - val_accuracy: 0.8900\n",
            "Epoch 23/50\n",
            "48/48 [==============================] - 0s 2ms/step - loss: 0.1110 - accuracy: 0.9900 - val_loss: 0.3227 - val_accuracy: 0.8883\n",
            "Epoch 24/50\n",
            "48/48 [==============================] - 0s 2ms/step - loss: 0.1053 - accuracy: 0.9921 - val_loss: 0.3158 - val_accuracy: 0.8900\n",
            "Epoch 25/50\n",
            "48/48 [==============================] - 0s 2ms/step - loss: 0.0995 - accuracy: 0.9954 - val_loss: 0.3085 - val_accuracy: 0.8950\n",
            "Epoch 26/50\n",
            "48/48 [==============================] - 0s 2ms/step - loss: 0.0938 - accuracy: 0.9962 - val_loss: 0.3088 - val_accuracy: 0.8967\n",
            "Epoch 27/50\n",
            "48/48 [==============================] - 0s 2ms/step - loss: 0.0902 - accuracy: 0.9954 - val_loss: 0.3034 - val_accuracy: 0.8983\n",
            "Epoch 28/50\n",
            "48/48 [==============================] - 0s 2ms/step - loss: 0.0850 - accuracy: 0.9971 - val_loss: 0.2974 - val_accuracy: 0.9017\n",
            "Epoch 29/50\n",
            "48/48 [==============================] - 0s 2ms/step - loss: 0.0807 - accuracy: 0.9979 - val_loss: 0.2964 - val_accuracy: 0.9000\n",
            "Epoch 30/50\n",
            "48/48 [==============================] - 0s 2ms/step - loss: 0.0774 - accuracy: 0.9979 - val_loss: 0.2981 - val_accuracy: 0.8983\n",
            "Epoch 31/50\n",
            "48/48 [==============================] - 0s 2ms/step - loss: 0.0732 - accuracy: 0.9983 - val_loss: 0.2957 - val_accuracy: 0.8967\n",
            "Epoch 32/50\n",
            "48/48 [==============================] - 0s 2ms/step - loss: 0.0703 - accuracy: 0.9983 - val_loss: 0.2957 - val_accuracy: 0.9000\n",
            "Epoch 33/50\n",
            "48/48 [==============================] - 0s 2ms/step - loss: 0.0672 - accuracy: 0.9987 - val_loss: 0.2879 - val_accuracy: 0.9000\n",
            "Epoch 34/50\n",
            "48/48 [==============================] - 0s 2ms/step - loss: 0.0635 - accuracy: 0.9992 - val_loss: 0.2869 - val_accuracy: 0.9017\n",
            "Epoch 35/50\n",
            "48/48 [==============================] - 0s 2ms/step - loss: 0.0610 - accuracy: 0.9996 - val_loss: 0.2884 - val_accuracy: 0.9000\n",
            "Epoch 36/50\n",
            "48/48 [==============================] - 0s 2ms/step - loss: 0.0581 - accuracy: 1.0000 - val_loss: 0.2830 - val_accuracy: 0.9083\n",
            "Epoch 37/50\n",
            "48/48 [==============================] - 0s 2ms/step - loss: 0.0560 - accuracy: 1.0000 - val_loss: 0.2824 - val_accuracy: 0.9017\n",
            "Epoch 38/50\n",
            "48/48 [==============================] - 0s 2ms/step - loss: 0.0538 - accuracy: 0.9996 - val_loss: 0.2792 - val_accuracy: 0.9050\n",
            "Epoch 39/50\n",
            "48/48 [==============================] - 0s 2ms/step - loss: 0.0516 - accuracy: 1.0000 - val_loss: 0.2797 - val_accuracy: 0.9017\n",
            "Epoch 40/50\n",
            "48/48 [==============================] - 0s 2ms/step - loss: 0.0497 - accuracy: 1.0000 - val_loss: 0.2785 - val_accuracy: 0.9067\n",
            "Epoch 41/50\n",
            "48/48 [==============================] - 0s 2ms/step - loss: 0.0480 - accuracy: 1.0000 - val_loss: 0.2814 - val_accuracy: 0.9050\n",
            "Epoch 42/50\n",
            "48/48 [==============================] - 0s 2ms/step - loss: 0.0458 - accuracy: 1.0000 - val_loss: 0.2784 - val_accuracy: 0.9033\n",
            "Epoch 43/50\n",
            "48/48 [==============================] - 0s 2ms/step - loss: 0.0436 - accuracy: 1.0000 - val_loss: 0.2718 - val_accuracy: 0.9100\n",
            "Epoch 44/50\n",
            "48/48 [==============================] - 0s 2ms/step - loss: 0.0425 - accuracy: 1.0000 - val_loss: 0.2731 - val_accuracy: 0.9083\n",
            "Epoch 45/50\n",
            "48/48 [==============================] - 0s 2ms/step - loss: 0.0407 - accuracy: 1.0000 - val_loss: 0.2757 - val_accuracy: 0.9017\n",
            "Epoch 46/50\n",
            "48/48 [==============================] - 0s 2ms/step - loss: 0.0393 - accuracy: 1.0000 - val_loss: 0.2703 - val_accuracy: 0.9050\n",
            "Epoch 47/50\n",
            "48/48 [==============================] - 0s 2ms/step - loss: 0.0378 - accuracy: 1.0000 - val_loss: 0.2714 - val_accuracy: 0.9050\n",
            "Epoch 48/50\n",
            "48/48 [==============================] - 0s 2ms/step - loss: 0.0367 - accuracy: 1.0000 - val_loss: 0.2681 - val_accuracy: 0.9100\n",
            "Epoch 49/50\n",
            "48/48 [==============================] - 0s 2ms/step - loss: 0.0353 - accuracy: 1.0000 - val_loss: 0.2708 - val_accuracy: 0.9067\n",
            "Epoch 50/50\n",
            "48/48 [==============================] - 0s 2ms/step - loss: 0.0341 - accuracy: 1.0000 - val_loss: 0.2657 - val_accuracy: 0.9100\n"
          ],
          "name": "stdout"
        }
      ]
    },
    {
      "cell_type": "code",
      "metadata": {
        "id": "32jFj14Qz_qx",
        "colab": {
          "base_uri": "https://localhost:8080/",
          "height": 573
        },
        "outputId": "52d9c23d-fce3-4f07-f158-dc7c4f553383"
      },
      "source": [
        "from google.colab import files\n",
        "# summarize history for loss\n",
        "ls=plt.figure()\n",
        "plt.plot(history.history['accuracy'])\n",
        "plt.plot(history.history['val_accuracy'])\n",
        "plt.title('model accuracy')\n",
        "plt.ylabel('accuracy')\n",
        "plt.xlabel('epoch')\n",
        "plt.legend(['train', 'test'], loc='upper left')\n",
        "#plt.ylim(0.02,0.4)\n",
        "ls.show()\n",
        "\n",
        "ls=plt.figure()\n",
        "plt.plot(history.history['loss'])\n",
        "plt.plot(history.history['val_loss'])\n",
        "plt.title('model loss')\n",
        "plt.ylabel('loss')\n",
        "plt.xlabel('epoch')\n",
        "plt.legend(['train', 'test'], loc='upper left')\n",
        "#plt.ylim(0.02,0.4)\n",
        "ls.show()\n",
        "#ls.savefig('/content/drive/My Drive/Sinc/loss-exp.png')\n",
        "#files.download('loss-1.png')"
      ],
      "execution_count": 8,
      "outputs": [
        {
          "output_type": "display_data",
          "data": {
            "image/png": "[encoded data removed]",
            "text/plain": [
              "<Figure size 432x288 with 1 Axes>"
            ]
          },
          "metadata": {
            "tags": [],
            "needs_background": "light"
          }
        },
        {
          "output_type": "display_data",
          "data": {
            "image/png": "[encoded data removed]",
            "text/plain": [
              "<Figure size 432x288 with 1 Axes>"
            ]
          },
          "metadata": {
            "tags": [],
            "needs_background": "light"
          }
        }
      ]
    },
    {
      "cell_type": "code",
      "metadata": {
        "id": "w2ePFauUMPfj"
      },
      "source": [
        "sio.savemat('/content/drive/My Drive/Research/MMF_Reservoir/SpokenDigit/network_res.mat', {'y':out, 'X_test':X_test, 'X_train':X_train, 'y_test':y_test, 'y_train':y_train, 'acc':history.history['accuracy'], 'val_acc':history.history['val_accuracy'], 'loss':history.history['loss'], 'val_loss':history.history['val_loss']})"
      ],
      "execution_count": 10,
      "outputs": []
    },
    {
      "cell_type": "code",
      "metadata": {
        "id": "YyK-ZDqzXaIH"
      },
      "source": [
        ""
      ],
      "execution_count": null,
      "outputs": []
    }
  ]
}