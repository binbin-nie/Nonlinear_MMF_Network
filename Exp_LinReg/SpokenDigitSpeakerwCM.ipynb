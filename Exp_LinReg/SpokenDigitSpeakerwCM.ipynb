{
  "nbformat": 4,
  "nbformat_minor": 0,
  "metadata": {
    "colab": {
      "name": "SpokenDigitSpoker.ipynb",
      "provenance": [],
      "collapsed_sections": [],
      "machine_shape": "hm",
      "include_colab_link": true
    },
    "kernelspec": {
      "name": "python3",
      "display_name": "Python 3"
    },
    "accelerator": "GPU"
  },
  "cells": [
    {
      "cell_type": "markdown",
      "metadata": {
        "id": "view-in-github",
        "colab_type": "text"
      },
      "source": [
        "<a href=\"https://colab.research.google.com/github/ugurtegin/Nonlinear_MMF_Network/blob/main/Exp_LinReg/SpokenDigitSpeakerwCM.ipynb\" target=\"_parent\"><img src=\"https://colab.research.google.com/assets/colab-badge.svg\" alt=\"Open In Colab\"/></a>"
      ]
    },
    {
      "cell_type": "code",
      "metadata": {
        "id": "plRoSF3YWrl5",
        "colab": {
          "base_uri": "https://localhost:8080/"
        },
        "outputId": "61654f07-6de1-4939-d685-c3ac96cee966"
      },
      "source": [
        "import numpy as np\n",
        "import matplotlib.pyplot as plt\n",
        "import scipy.io as sio\n",
        "import tensorflow as tf\n",
        "\n",
        "\n",
        "from tensorflow import keras\n",
        "from sklearn.model_selection import train_test_split\n",
        "from tensorflow.keras.models import Model,Sequential\n",
        "from tensorflow.keras.layers import Input, Activation, LSTM\n",
        "from tensorflow.keras.layers import Dense, Dropout, Flatten, Conv2D, MaxPooling2D, AveragePooling2D \n",
        "from tensorflow.keras.optimizers import SGD, Adam\n",
        "from tensorflow.keras.utils import to_categorical, normalize\n",
        "\n",
        "# Load the Drive helper and mount\n",
        "from google.colab import drive\n",
        "\n",
        "# This will prompt for authorization.\n",
        "drive.mount('/content/drive')"
      ],
      "execution_count": 1,
      "outputs": [
        {
          "output_type": "stream",
          "text": [
            "Mounted at /content/drive\n"
          ],
          "name": "stdout"
        }
      ]
    },
    {
      "cell_type": "code",
      "metadata": {
        "id": "PDK63hJmW5D4"
      },
      "source": [
        "import scipy.io as sio\n",
        "f = sio.loadmat('/content/drive/My Drive/Research/MMF_Reservoir/SpokenDigit/res_sq_flt2_2.mat')\n",
        "inp2 = f['res_sq_flt']\n",
        "\n",
        "#Load data\n",
        "f2 = sio.loadmat('/content/drive/My Drive/Research/MMF_Reservoir/SpokenDigit/label2_2.mat')\n",
        "\n",
        "out = f2['label2_2']\n"
      ],
      "execution_count": 2,
      "outputs": []
    },
    {
      "cell_type": "code",
      "metadata": {
        "id": "pYBJB9YglGiX",
        "colab": {
          "base_uri": "https://localhost:8080/"
        },
        "outputId": "d7480405-7198-4b93-85d7-ca95f8adbe84"
      },
      "source": [
        "input_data = inp2\n",
        "output_data = to_categorical(out-1)\n",
        "\n",
        "print('input_data : ', input_data.shape, input_data.dtype)\n",
        "print('output_class : ', output_data.shape, output_data.dtype)\n",
        "print()"
      ],
      "execution_count": 3,
      "outputs": [
        {
          "output_type": "stream",
          "text": [
            "input_data :  (3000, 484) float64\n",
            "output_class :  (3000, 6) float32\n",
            "\n"
          ],
          "name": "stdout"
        }
      ]
    },
    {
      "cell_type": "code",
      "metadata": {
        "id": "JMVZ-aoTk1wf",
        "colab": {
          "base_uri": "https://localhost:8080/"
        },
        "outputId": "d3251906-cd3b-4c31-ba4a-1be69ec30088"
      },
      "source": [
        "oran = 0.20\n",
        "X_train, X_test, y_train, y_test = train_test_split(input_data, output_data, test_size=oran)\n",
        "\n",
        "print('Test data : ', X_test.shape, X_test.dtype)\n",
        "print('Training data : ', X_train.shape, X_train.dtype)\n",
        "print()"
      ],
      "execution_count": 4,
      "outputs": [
        {
          "output_type": "stream",
          "text": [
            "Test data :  (600, 484) float64\n",
            "Training data :  (2400, 484) float64\n",
            "\n"
          ],
          "name": "stdout"
        }
      ]
    },
    {
      "cell_type": "code",
      "metadata": {
        "id": "SycmK62goI2t"
      },
      "source": [
        "model = Sequential()\n",
        "model.add(Dense(6, input_dim=484, activation='softmax'))"
      ],
      "execution_count": 5,
      "outputs": []
    },
    {
      "cell_type": "code",
      "metadata": {
        "id": "Sg1arrHHoSF1",
        "colab": {
          "base_uri": "https://localhost:8080/"
        },
        "outputId": "d3a1b5dc-584e-4929-89ee-77a844ed6837"
      },
      "source": [
        "loss='categorical_crossentropy' # mean_absolute_error, cosine_proximity\n",
        "metrics = ['accuracy']  # network accuracy metric to be determined after each epoch, mean_absolute_error, cosine_proximity\n",
        "\n",
        "opt1 = SGD(lr=0.001, momentum=0.9)\n",
        "opt2 = Adam(lr=0.001, beta_1=0.9, beta_2=0.999)\n",
        "\n",
        "model.compile(optimizer=opt2, loss=loss, metrics=metrics)\n",
        "model.summary()"
      ],
      "execution_count": 6,
      "outputs": [
        {
          "output_type": "stream",
          "text": [
            "Model: \"sequential\"\n",
            "_________________________________________________________________\n",
            "Layer (type)                 Output Shape              Param #   \n",
            "=================================================================\n",
            "dense (Dense)                (None, 6)                 2910      \n",
            "=================================================================\n",
            "Total params: 2,910\n",
            "Trainable params: 2,910\n",
            "Non-trainable params: 0\n",
            "_________________________________________________________________\n"
          ],
          "name": "stdout"
        }
      ]
    },
    {
      "cell_type": "code",
      "metadata": {
        "id": "ZavprgepoUEE",
        "colab": {
          "base_uri": "https://localhost:8080/"
        },
        "outputId": "a3eabde3-d268-4aa0-9045-eacf4ce0a2d7"
      },
      "source": [
        "#setting final parameters for the network and it begins to train\n",
        "number_of_iterations = 50\n",
        "batch_size = 50\n",
        "\n",
        "#history=model.fit(X_train, y_train, validation_data=(X_test, y_test), epochs=number_of_iterations)\n",
        "history=model.fit(X_train, y_train, batch_size=batch_size, epochs=number_of_iterations, verbose=1, validation_data=(X_test, y_test))\n",
        "#Number of iterations run: 900"
      ],
      "execution_count": 7,
      "outputs": [
        {
          "output_type": "stream",
          "text": [
            "Epoch 1/50\n",
            "48/48 [==============================] - 0s 4ms/step - loss: 1.6385 - accuracy: 0.3921 - val_loss: 1.2448 - val_accuracy: 0.5633\n",
            "Epoch 2/50\n",
            "48/48 [==============================] - 0s 2ms/step - loss: 1.0345 - accuracy: 0.6333 - val_loss: 1.0027 - val_accuracy: 0.6483\n",
            "Epoch 3/50\n",
            "48/48 [==============================] - 0s 2ms/step - loss: 0.8326 - accuracy: 0.7146 - val_loss: 0.8721 - val_accuracy: 0.6867\n",
            "Epoch 4/50\n",
            "48/48 [==============================] - 0s 2ms/step - loss: 0.7194 - accuracy: 0.7525 - val_loss: 0.7876 - val_accuracy: 0.7233\n",
            "Epoch 5/50\n",
            "48/48 [==============================] - 0s 2ms/step - loss: 0.6376 - accuracy: 0.7854 - val_loss: 0.7310 - val_accuracy: 0.7500\n",
            "Epoch 6/50\n",
            "48/48 [==============================] - 0s 2ms/step - loss: 0.5746 - accuracy: 0.8092 - val_loss: 0.6880 - val_accuracy: 0.7650\n",
            "Epoch 7/50\n",
            "48/48 [==============================] - 0s 2ms/step - loss: 0.5276 - accuracy: 0.8267 - val_loss: 0.6484 - val_accuracy: 0.7783\n",
            "Epoch 8/50\n",
            "48/48 [==============================] - 0s 2ms/step - loss: 0.4919 - accuracy: 0.8462 - val_loss: 0.6235 - val_accuracy: 0.7817\n",
            "Epoch 9/50\n",
            "48/48 [==============================] - 0s 2ms/step - loss: 0.4570 - accuracy: 0.8567 - val_loss: 0.5947 - val_accuracy: 0.7883\n",
            "Epoch 10/50\n",
            "48/48 [==============================] - 0s 2ms/step - loss: 0.4282 - accuracy: 0.8712 - val_loss: 0.5769 - val_accuracy: 0.7983\n",
            "Epoch 11/50\n",
            "48/48 [==============================] - 0s 2ms/step - loss: 0.4051 - accuracy: 0.8833 - val_loss: 0.5669 - val_accuracy: 0.8050\n",
            "Epoch 12/50\n",
            "48/48 [==============================] - 0s 2ms/step - loss: 0.3834 - accuracy: 0.8888 - val_loss: 0.5554 - val_accuracy: 0.7967\n",
            "Epoch 13/50\n",
            "48/48 [==============================] - 0s 2ms/step - loss: 0.3668 - accuracy: 0.8963 - val_loss: 0.5418 - val_accuracy: 0.8067\n",
            "Epoch 14/50\n",
            "48/48 [==============================] - 0s 2ms/step - loss: 0.3495 - accuracy: 0.8979 - val_loss: 0.5295 - val_accuracy: 0.8067\n",
            "Epoch 15/50\n",
            "48/48 [==============================] - 0s 2ms/step - loss: 0.3344 - accuracy: 0.9042 - val_loss: 0.5185 - val_accuracy: 0.8200\n",
            "Epoch 16/50\n",
            "48/48 [==============================] - 0s 2ms/step - loss: 0.3194 - accuracy: 0.9146 - val_loss: 0.5118 - val_accuracy: 0.8150\n",
            "Epoch 17/50\n",
            "48/48 [==============================] - 0s 2ms/step - loss: 0.3083 - accuracy: 0.9137 - val_loss: 0.5087 - val_accuracy: 0.8233\n",
            "Epoch 18/50\n",
            "48/48 [==============================] - 0s 2ms/step - loss: 0.2951 - accuracy: 0.9229 - val_loss: 0.4963 - val_accuracy: 0.8217\n",
            "Epoch 19/50\n",
            "48/48 [==============================] - 0s 2ms/step - loss: 0.2857 - accuracy: 0.9233 - val_loss: 0.4984 - val_accuracy: 0.8233\n",
            "Epoch 20/50\n",
            "48/48 [==============================] - 0s 2ms/step - loss: 0.2769 - accuracy: 0.9233 - val_loss: 0.5018 - val_accuracy: 0.8200\n",
            "Epoch 21/50\n",
            "48/48 [==============================] - 0s 2ms/step - loss: 0.2665 - accuracy: 0.9292 - val_loss: 0.4883 - val_accuracy: 0.8267\n",
            "Epoch 22/50\n",
            "48/48 [==============================] - 0s 2ms/step - loss: 0.2584 - accuracy: 0.9329 - val_loss: 0.4829 - val_accuracy: 0.8267\n",
            "Epoch 23/50\n",
            "48/48 [==============================] - 0s 2ms/step - loss: 0.2515 - accuracy: 0.9354 - val_loss: 0.4757 - val_accuracy: 0.8383\n",
            "Epoch 24/50\n",
            "48/48 [==============================] - 0s 2ms/step - loss: 0.2429 - accuracy: 0.9375 - val_loss: 0.4743 - val_accuracy: 0.8300\n",
            "Epoch 25/50\n",
            "48/48 [==============================] - 0s 2ms/step - loss: 0.2340 - accuracy: 0.9446 - val_loss: 0.4756 - val_accuracy: 0.8317\n",
            "Epoch 26/50\n",
            "48/48 [==============================] - 0s 2ms/step - loss: 0.2270 - accuracy: 0.9438 - val_loss: 0.4713 - val_accuracy: 0.8400\n",
            "Epoch 27/50\n",
            "48/48 [==============================] - 0s 2ms/step - loss: 0.2225 - accuracy: 0.9521 - val_loss: 0.4694 - val_accuracy: 0.8283\n",
            "Epoch 28/50\n",
            "48/48 [==============================] - 0s 2ms/step - loss: 0.2172 - accuracy: 0.9475 - val_loss: 0.4767 - val_accuracy: 0.8300\n",
            "Epoch 29/50\n",
            "48/48 [==============================] - 0s 2ms/step - loss: 0.2120 - accuracy: 0.9525 - val_loss: 0.4747 - val_accuracy: 0.8267\n",
            "Epoch 30/50\n",
            "48/48 [==============================] - 0s 2ms/step - loss: 0.2042 - accuracy: 0.9533 - val_loss: 0.4646 - val_accuracy: 0.8383\n",
            "Epoch 31/50\n",
            "48/48 [==============================] - 0s 2ms/step - loss: 0.2002 - accuracy: 0.9538 - val_loss: 0.4715 - val_accuracy: 0.8350\n",
            "Epoch 32/50\n",
            "48/48 [==============================] - 0s 2ms/step - loss: 0.1960 - accuracy: 0.9554 - val_loss: 0.4658 - val_accuracy: 0.8333\n",
            "Epoch 33/50\n",
            "48/48 [==============================] - 0s 2ms/step - loss: 0.1893 - accuracy: 0.9592 - val_loss: 0.4642 - val_accuracy: 0.8450\n",
            "Epoch 34/50\n",
            "48/48 [==============================] - 0s 2ms/step - loss: 0.1855 - accuracy: 0.9596 - val_loss: 0.4611 - val_accuracy: 0.8417\n",
            "Epoch 35/50\n",
            "48/48 [==============================] - 0s 2ms/step - loss: 0.1818 - accuracy: 0.9621 - val_loss: 0.4591 - val_accuracy: 0.8417\n",
            "Epoch 36/50\n",
            "48/48 [==============================] - 0s 2ms/step - loss: 0.1772 - accuracy: 0.9617 - val_loss: 0.4599 - val_accuracy: 0.8417\n",
            "Epoch 37/50\n",
            "48/48 [==============================] - 0s 2ms/step - loss: 0.1727 - accuracy: 0.9642 - val_loss: 0.4601 - val_accuracy: 0.8417\n",
            "Epoch 38/50\n",
            "48/48 [==============================] - 0s 2ms/step - loss: 0.1695 - accuracy: 0.9654 - val_loss: 0.4630 - val_accuracy: 0.8433\n",
            "Epoch 39/50\n",
            "48/48 [==============================] - 0s 2ms/step - loss: 0.1653 - accuracy: 0.9692 - val_loss: 0.4621 - val_accuracy: 0.8417\n",
            "Epoch 40/50\n",
            "48/48 [==============================] - 0s 2ms/step - loss: 0.1622 - accuracy: 0.9704 - val_loss: 0.4592 - val_accuracy: 0.8400\n",
            "Epoch 41/50\n",
            "48/48 [==============================] - 0s 2ms/step - loss: 0.1583 - accuracy: 0.9708 - val_loss: 0.4587 - val_accuracy: 0.8417\n",
            "Epoch 42/50\n",
            "48/48 [==============================] - 0s 2ms/step - loss: 0.1555 - accuracy: 0.9725 - val_loss: 0.4630 - val_accuracy: 0.8417\n",
            "Epoch 43/50\n",
            "48/48 [==============================] - 0s 2ms/step - loss: 0.1513 - accuracy: 0.9708 - val_loss: 0.4599 - val_accuracy: 0.8467\n",
            "Epoch 44/50\n",
            "48/48 [==============================] - 0s 2ms/step - loss: 0.1497 - accuracy: 0.9746 - val_loss: 0.4637 - val_accuracy: 0.8450\n",
            "Epoch 45/50\n",
            "48/48 [==============================] - 0s 2ms/step - loss: 0.1449 - accuracy: 0.9746 - val_loss: 0.4648 - val_accuracy: 0.8367\n",
            "Epoch 46/50\n",
            "48/48 [==============================] - 0s 2ms/step - loss: 0.1428 - accuracy: 0.9762 - val_loss: 0.4615 - val_accuracy: 0.8467\n",
            "Epoch 47/50\n",
            "48/48 [==============================] - 0s 2ms/step - loss: 0.1420 - accuracy: 0.9754 - val_loss: 0.4672 - val_accuracy: 0.8367\n",
            "Epoch 48/50\n",
            "48/48 [==============================] - 0s 2ms/step - loss: 0.1378 - accuracy: 0.9771 - val_loss: 0.4643 - val_accuracy: 0.8450\n",
            "Epoch 49/50\n",
            "48/48 [==============================] - 0s 2ms/step - loss: 0.1352 - accuracy: 0.9767 - val_loss: 0.4650 - val_accuracy: 0.8383\n",
            "Epoch 50/50\n",
            "48/48 [==============================] - 0s 2ms/step - loss: 0.1341 - accuracy: 0.9783 - val_loss: 0.4636 - val_accuracy: 0.8450\n"
          ],
          "name": "stdout"
        }
      ]
    },
    {
      "cell_type": "code",
      "metadata": {
        "id": "32jFj14Qz_qx",
        "colab": {
          "base_uri": "https://localhost:8080/",
          "height": 573
        },
        "outputId": "0c9fb954-5023-4cfe-868c-64c455534b9b"
      },
      "source": [
        "from google.colab import files\n",
        "# summarize history for loss\n",
        "ls=plt.figure()\n",
        "plt.plot(history.history['accuracy'])\n",
        "plt.plot(history.history['val_accuracy'])\n",
        "plt.title('model accuracy')\n",
        "plt.ylabel('accuracy')\n",
        "plt.xlabel('epoch')\n",
        "plt.legend(['train', 'test'], loc='upper left')\n",
        "#plt.ylim(0.02,0.4)\n",
        "ls.show()\n",
        "\n",
        "ls=plt.figure()\n",
        "plt.plot(history.history['loss'])\n",
        "plt.plot(history.history['val_loss'])\n",
        "plt.title('model loss')\n",
        "plt.ylabel('loss')\n",
        "plt.xlabel('epoch')\n",
        "plt.legend(['train', 'test'], loc='upper left')\n",
        "#plt.ylim(0.02,0.4)\n",
        "ls.show()\n",
        "#ls.savefig('/content/drive/My Drive/Sinc/loss-exp.png')\n",
        "#files.download('loss-1.png')"
      ],
      "execution_count": 8,
      "outputs": [
        {
          "output_type": "display_data",
          "data": {
            "image/png": "[encoded data removed]",
            "text/plain": [
              "<Figure size 432x288 with 1 Axes>"
            ]
          },
          "metadata": {
            "tags": [],
            "needs_background": "light"
          }
        },
        {
          "output_type": "display_data",
          "data": {
            "image/png": "[encoded data removed]",
            "text/plain": [
              "<Figure size 432x288 with 1 Axes>"
            ]
          },
          "metadata": {
            "tags": [],
            "needs_background": "light"
          }
        }
      ]
    },
    {
      "cell_type": "code",
      "metadata": {
        "id": "ED2AuEjZJyne",
        "outputId": "ede7e2d2-3b63-4867-8d56-416dd4018336",
        "colab": {
          "base_uri": "https://localhost:8080/",
          "height": 433
        }
      },
      "source": [
        "def plot_confusion_matrix(cm, classes,\n",
        "\n",
        "                        normalize=False,\n",
        "\n",
        "                        title='Confusion matrix',\n",
        "\n",
        "                        cmap=plt.cm.Blues):\n",
        "\n",
        "    \"\"\"\n",
        "\n",
        "    This function prints and plots the confusion matrix.\n",
        "\n",
        "    Normalization can be applied by setting `normalize=True`.\n",
        "\n",
        "    \"\"\"\n",
        "\n",
        "    plt.imshow(cm, interpolation='nearest', cmap=cmap)\n",
        "\n",
        "    plt.title(title)\n",
        "\n",
        "    plt.colorbar()\n",
        "\n",
        "    tick_marks = np.arange(len(classes))\n",
        "\n",
        "    plt.xticks(tick_marks, classes, rotation=45)\n",
        "\n",
        "    plt.yticks(tick_marks, classes)\n",
        "\n",
        "\n",
        "\n",
        "    if normalize:\n",
        "\n",
        "        cm = cm.astype('float') / cm.sum(axis=1)[:, np.newaxis]\n",
        "\n",
        "        print(\"Normalized confusion matrix\")\n",
        "\n",
        "    else:\n",
        "\n",
        "        print('Confusion matrix, without normalization')\n",
        "\n",
        "\n",
        "\n",
        "    print(cm)\n",
        "\n",
        "\n",
        "\n",
        "    thresh = cm.max() / 2.\n",
        "\n",
        "    for i, j in itertools.product(range(cm.shape[0]), range(cm.shape[1])):\n",
        "\n",
        "        plt.text(j, i, cm[i, j],\n",
        "\n",
        "            horizontalalignment=\"center\",\n",
        "\n",
        "            color=\"white\" if cm[i, j] > thresh else \"black\")\n",
        "\n",
        "\n",
        "\n",
        "    plt.tight_layout()\n",
        "\n",
        "    plt.ylabel('True label')\n",
        "\n",
        "    plt.xlabel('Predicted label')\n",
        "\n",
        "\n",
        "\n",
        "\n",
        "%matplotlib inline\n",
        "\n",
        "from sklearn.metrics import confusion_matrix\n",
        "\n",
        "import itertools\n",
        "\n",
        "import matplotlib.pyplot as plt\n",
        "\n",
        "\n",
        "\n",
        "cm_plot_labels = ['no_side_effects','had_side_effects']\n",
        "\n",
        "\n",
        "\n",
        "cm = confusion_matrix(y_true=np.argmax(y_test,1), y_pred=np.argmax(model.predict(X_test),1))\n",
        "\n",
        "\n",
        "\n",
        "plot_confusion_matrix(cm=cm, classes=cm_plot_labels, title='Confusion Matrix')"
      ],
      "execution_count": 9,
      "outputs": [
        {
          "output_type": "stream",
          "text": [
            "Confusion matrix, without normalization\n",
            "[[86  1  0  0  2  0]\n",
            " [ 3 85  2  2  9  6]\n",
            " [ 0  4 94  1  3  9]\n",
            " [ 0  0  0 92  1  1]\n",
            " [ 3 10  5  5 71  7]\n",
            " [ 0  7  8  1  3 79]]\n"
          ],
          "name": "stdout"
        },
        {
          "output_type": "display_data",
          "data": {
            "image/png": "[encoded data removed]",
            "text/plain": [
              "<Figure size 432x288 with 2 Axes>"
            ]
          },
          "metadata": {
            "tags": [],
            "needs_background": "light"
          }
        }
      ]
    },
    {
      "cell_type": "code",
      "metadata": {
        "id": "w2ePFauUMPfj"
      },
      "source": [
        "sio.savemat('/content/drive/My Drive/Research/MMF_Reservoir/SpokenDigit/network_res_speaker_last.mat', {'y':out, 'X_test':X_test, 'X_train':X_train, 'y_test':y_test, 'y_train':y_train, 'cm':cm, 'acc':history.history['accuracy'], 'val_acc':history.history['val_accuracy'], 'loss':history.history['loss'], 'val_loss':history.history['val_loss']})"
      ],
      "execution_count": 10,
      "outputs": []
    },
    {
      "cell_type": "code",
      "metadata": {
        "id": "nz9E6MJvKFxO"
      },
      "source": [
        ""
      ],
      "execution_count": null,
      "outputs": []
    }
  ]
}