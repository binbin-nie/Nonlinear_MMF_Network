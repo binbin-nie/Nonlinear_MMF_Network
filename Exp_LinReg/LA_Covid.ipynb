{
  "nbformat": 4,
  "nbformat_minor": 0,
  "metadata": {
    "accelerator": "GPU",
    "colab": {
      "name": "LA_Covid.ipynb",
      "provenance": [],
      "collapsed_sections": [],
      "toc_visible": true,
      "machine_shape": "hm",
      "include_colab_link": true
    },
    "kernelspec": {
      "display_name": "Python 3",
      "name": "python3"
    }
  },
  "cells": [
    {
      "cell_type": "markdown",
      "metadata": {
        "id": "view-in-github",
        "colab_type": "text"
      },
      "source": [
        "<a href=\"https://colab.research.google.com/github/ugurtegin/Nonlinear_MMF_Network/blob/main/Exp_LinReg/LA_Covid.ipynb\" target=\"_parent\"><img src=\"https://colab.research.google.com/assets/colab-badge.svg\" alt=\"Open In Colab\"/></a>"
      ]
    },
    {
      "cell_type": "code",
      "metadata": {
        "id": "plRoSF3YWrl5",
        "outputId": "a0ac699b-8590-4313-a2d4-a78bdc1b8d61",
        "colab": {
          "base_uri": "https://localhost:8080/"
        }
      },
      "source": [
        "import numpy as np\n",
        "import matplotlib.pyplot as plt\n",
        "import scipy.io as sio\n",
        "import tensorflow as tf\n",
        "\n",
        "from tensorflow import keras\n",
        "from sklearn.model_selection import train_test_split\n",
        "from tensorflow.keras.models import Model,Sequential\n",
        "from tensorflow.keras.layers import Input, Activation, LSTM\n",
        "from tensorflow.keras.layers import Dense, Dropout, Flatten, Conv2D, MaxPooling2D, AveragePooling2D \n",
        "from tensorflow.keras.optimizers import SGD, Adam\n",
        "from tensorflow.keras.utils import to_categorical\n",
        "\n",
        "# Load the Drive helper and mount\n",
        "from google.colab import drive\n",
        "\n",
        "# This will prompt for authorization.\n",
        "drive.mount('/content/drive')"
      ],
      "execution_count": 1,
      "outputs": [
        {
          "output_type": "stream",
          "text": [
            "Mounted at /content/drive\n"
          ],
          "name": "stdout"
        }
      ]
    },
    {
      "cell_type": "code",
      "metadata": {
        "id": "PDK63hJmW5D4"
      },
      "source": [
        "import scipy.io as sio\n",
        "f = sio.loadmat('/content/drive/My Drive/MMF_Reservoir/LA_Covid/res_sq_flt2_2.mat')\n",
        "inp = f['res_sq_flt']\n",
        "\n",
        "\n",
        "f2 = sio.loadmat('/content/drive/My Drive/MMF_Reservoir/LA_Covid/label.mat')\n",
        "out = f2['label']\n"
      ],
      "execution_count": 3,
      "outputs": []
    },
    {
      "cell_type": "markdown",
      "metadata": {
        "id": "0rh1E24b81ts"
      },
      "source": [
        "# Experimental Data"
      ]
    },
    {
      "cell_type": "code",
      "metadata": {
        "id": "pMmOo-YuWxf3"
      },
      "source": [
        "datasize = len(np.transpose(inp))"
      ],
      "execution_count": 4,
      "outputs": []
    },
    {
      "cell_type": "code",
      "metadata": {
        "id": "pYBJB9YglGiX",
        "outputId": "fd96b2bb-6c4a-4e42-9250-6029fbdc5b3b",
        "colab": {
          "base_uri": "https://localhost:8080/"
        }
      },
      "source": [
        "input_data = inp\n",
        "output_data = out.T\n",
        "#output_data = to_categorical(out)\n",
        "\n",
        "print('input_data : ', input_data.shape, input_data.dtype)\n",
        "print('output_class : ', output_data.shape, output_data.dtype)\n",
        "print()"
      ],
      "execution_count": 5,
      "outputs": [
        {
          "output_type": "stream",
          "text": [
            "input_data :  (210, 100) float64\n",
            "output_class :  (210, 1) float64\n",
            "\n"
          ],
          "name": "stdout"
        }
      ]
    },
    {
      "cell_type": "code",
      "metadata": {
        "id": "JMVZ-aoTk1wf",
        "outputId": "adbbca36-cf9e-4081-dc70-4df003c16037",
        "colab": {
          "base_uri": "https://localhost:8080/"
        }
      },
      "source": [
        "oran = 0.10\n",
        "X_train, X_test, y_train, y_test = train_test_split(input_data, output_data, test_size=oran)\n",
        "\n",
        "print('Test data : ', X_test.shape, X_test.dtype)\n",
        "print('Training data : ', X_train.shape, X_train.dtype)\n",
        "print()"
      ],
      "execution_count": 6,
      "outputs": [
        {
          "output_type": "stream",
          "text": [
            "Test data :  (21, 100) float64\n",
            "Training data :  (189, 100) float64\n",
            "\n"
          ],
          "name": "stdout"
        }
      ]
    },
    {
      "cell_type": "code",
      "metadata": {
        "id": "SycmK62goI2t"
      },
      "source": [
        "model = Sequential()\n",
        "model.add(Dense(1, input_dim=datasize, activation='linear'))"
      ],
      "execution_count": 7,
      "outputs": []
    },
    {
      "cell_type": "code",
      "metadata": {
        "id": "Sg1arrHHoSF1",
        "outputId": "dc9663be-8eee-44c3-8b8e-d4168d249295",
        "colab": {
          "base_uri": "https://localhost:8080/"
        }
      },
      "source": [
        "loss='mean_squared_error' # mean_absolute_error, cosine_proximity\n",
        "#loss='categorical_crossentropy'\n",
        "metrics = ['mean_squared_error']  # network accuracy metric to be determined after each epoch, mean_absolute_error, cosine_proximity\n",
        "#metrics = ['accuracy']  # network accuracy metric to be determined after each epoch\n",
        "\n",
        "opt1 = SGD(lr=0.001, momentum=0.9)\n",
        "opt2 = Adam(lr=0.001, beta_1=0.9, beta_2=0.999)\n",
        "\n",
        "model.compile(optimizer=opt2, loss=loss, metrics=metrics)\n",
        "model.summary()"
      ],
      "execution_count": 8,
      "outputs": [
        {
          "output_type": "stream",
          "text": [
            "Model: \"sequential\"\n",
            "_________________________________________________________________\n",
            "Layer (type)                 Output Shape              Param #   \n",
            "=================================================================\n",
            "dense (Dense)                (None, 1)                 101       \n",
            "=================================================================\n",
            "Total params: 101\n",
            "Trainable params: 101\n",
            "Non-trainable params: 0\n",
            "_________________________________________________________________\n"
          ],
          "name": "stdout"
        }
      ]
    },
    {
      "cell_type": "code",
      "metadata": {
        "id": "ZavprgepoUEE",
        "outputId": "5062dce6-90eb-4ae9-8cfd-ccc3e8b8ab00",
        "colab": {
          "base_uri": "https://localhost:8080/"
        }
      },
      "source": [
        "#setting final parameters for the network and it begins to train\n",
        "number_of_iterations = 150\n",
        "batch_size = 32\n",
        "\n",
        "#history=model.fit(X_train, y_train, validation_data=(X_test, y_test), epochs=number_of_iterations)\n",
        "history=model.fit(X_train, y_train, batch_size=batch_size, epochs=number_of_iterations, verbose=1, validation_data=(X_test, y_test))\n",
        "#Number of iterations run: 900"
      ],
      "execution_count": 9,
      "outputs": [
        {
          "output_type": "stream",
          "text": [
            "Epoch 1/150\n",
            "6/6 [==============================] - 0s 22ms/step - loss: 2.3939 - mean_squared_error: 2.3939 - val_loss: 2.7663 - val_mean_squared_error: 2.7663\n",
            "Epoch 2/150\n",
            "6/6 [==============================] - 0s 4ms/step - loss: 1.7263 - mean_squared_error: 1.7263 - val_loss: 1.6345 - val_mean_squared_error: 1.6345\n",
            "Epoch 3/150\n",
            "6/6 [==============================] - 0s 4ms/step - loss: 1.2899 - mean_squared_error: 1.2899 - val_loss: 0.9684 - val_mean_squared_error: 0.9684\n",
            "Epoch 4/150\n",
            "6/6 [==============================] - 0s 4ms/step - loss: 1.0022 - mean_squared_error: 1.0022 - val_loss: 0.6756 - val_mean_squared_error: 0.6756\n",
            "Epoch 5/150\n",
            "6/6 [==============================] - 0s 4ms/step - loss: 0.8679 - mean_squared_error: 0.8679 - val_loss: 0.5736 - val_mean_squared_error: 0.5736\n",
            "Epoch 6/150\n",
            "6/6 [==============================] - 0s 4ms/step - loss: 0.8034 - mean_squared_error: 0.8034 - val_loss: 0.5370 - val_mean_squared_error: 0.5370\n",
            "Epoch 7/150\n",
            "6/6 [==============================] - 0s 4ms/step - loss: 0.7512 - mean_squared_error: 0.7512 - val_loss: 0.5063 - val_mean_squared_error: 0.5063\n",
            "Epoch 8/150\n",
            "6/6 [==============================] - 0s 4ms/step - loss: 0.7102 - mean_squared_error: 0.7102 - val_loss: 0.4653 - val_mean_squared_error: 0.4653\n",
            "Epoch 9/150\n",
            "6/6 [==============================] - 0s 4ms/step - loss: 0.6640 - mean_squared_error: 0.6640 - val_loss: 0.4233 - val_mean_squared_error: 0.4233\n",
            "Epoch 10/150\n",
            "6/6 [==============================] - 0s 4ms/step - loss: 0.6234 - mean_squared_error: 0.6234 - val_loss: 0.3983 - val_mean_squared_error: 0.3983\n",
            "Epoch 11/150\n",
            "6/6 [==============================] - 0s 4ms/step - loss: 0.5918 - mean_squared_error: 0.5918 - val_loss: 0.3897 - val_mean_squared_error: 0.3897\n",
            "Epoch 12/150\n",
            "6/6 [==============================] - 0s 4ms/step - loss: 0.5649 - mean_squared_error: 0.5649 - val_loss: 0.3857 - val_mean_squared_error: 0.3857\n",
            "Epoch 13/150\n",
            "6/6 [==============================] - 0s 4ms/step - loss: 0.5440 - mean_squared_error: 0.5440 - val_loss: 0.3830 - val_mean_squared_error: 0.3830\n",
            "Epoch 14/150\n",
            "6/6 [==============================] - 0s 4ms/step - loss: 0.5273 - mean_squared_error: 0.5273 - val_loss: 0.3760 - val_mean_squared_error: 0.3760\n",
            "Epoch 15/150\n",
            "6/6 [==============================] - 0s 4ms/step - loss: 0.5052 - mean_squared_error: 0.5052 - val_loss: 0.3710 - val_mean_squared_error: 0.3710\n",
            "Epoch 16/150\n",
            "6/6 [==============================] - 0s 4ms/step - loss: 0.4906 - mean_squared_error: 0.4906 - val_loss: 0.3611 - val_mean_squared_error: 0.3611\n",
            "Epoch 17/150\n",
            "6/6 [==============================] - 0s 4ms/step - loss: 0.4756 - mean_squared_error: 0.4756 - val_loss: 0.3502 - val_mean_squared_error: 0.3502\n",
            "Epoch 18/150\n",
            "6/6 [==============================] - 0s 4ms/step - loss: 0.4614 - mean_squared_error: 0.4614 - val_loss: 0.3473 - val_mean_squared_error: 0.3473\n",
            "Epoch 19/150\n",
            "6/6 [==============================] - 0s 4ms/step - loss: 0.4493 - mean_squared_error: 0.4493 - val_loss: 0.3406 - val_mean_squared_error: 0.3406\n",
            "Epoch 20/150\n",
            "6/6 [==============================] - 0s 4ms/step - loss: 0.4361 - mean_squared_error: 0.4361 - val_loss: 0.3327 - val_mean_squared_error: 0.3327\n",
            "Epoch 21/150\n",
            "6/6 [==============================] - 0s 4ms/step - loss: 0.4260 - mean_squared_error: 0.4260 - val_loss: 0.3364 - val_mean_squared_error: 0.3364\n",
            "Epoch 22/150\n",
            "6/6 [==============================] - 0s 4ms/step - loss: 0.4128 - mean_squared_error: 0.4128 - val_loss: 0.3255 - val_mean_squared_error: 0.3255\n",
            "Epoch 23/150\n",
            "6/6 [==============================] - 0s 4ms/step - loss: 0.4018 - mean_squared_error: 0.4018 - val_loss: 0.3156 - val_mean_squared_error: 0.3156\n",
            "Epoch 24/150\n",
            "6/6 [==============================] - 0s 4ms/step - loss: 0.3924 - mean_squared_error: 0.3924 - val_loss: 0.3096 - val_mean_squared_error: 0.3096\n",
            "Epoch 25/150\n",
            "6/6 [==============================] - 0s 4ms/step - loss: 0.3814 - mean_squared_error: 0.3814 - val_loss: 0.3120 - val_mean_squared_error: 0.3120\n",
            "Epoch 26/150\n",
            "6/6 [==============================] - 0s 4ms/step - loss: 0.3712 - mean_squared_error: 0.3712 - val_loss: 0.3093 - val_mean_squared_error: 0.3093\n",
            "Epoch 27/150\n",
            "6/6 [==============================] - 0s 4ms/step - loss: 0.3630 - mean_squared_error: 0.3630 - val_loss: 0.3111 - val_mean_squared_error: 0.3111\n",
            "Epoch 28/150\n",
            "6/6 [==============================] - 0s 4ms/step - loss: 0.3533 - mean_squared_error: 0.3533 - val_loss: 0.2978 - val_mean_squared_error: 0.2978\n",
            "Epoch 29/150\n",
            "6/6 [==============================] - 0s 4ms/step - loss: 0.3446 - mean_squared_error: 0.3446 - val_loss: 0.2860 - val_mean_squared_error: 0.2860\n",
            "Epoch 30/150\n",
            "6/6 [==============================] - 0s 4ms/step - loss: 0.3360 - mean_squared_error: 0.3360 - val_loss: 0.2852 - val_mean_squared_error: 0.2852\n",
            "Epoch 31/150\n",
            "6/6 [==============================] - 0s 4ms/step - loss: 0.3281 - mean_squared_error: 0.3281 - val_loss: 0.2867 - val_mean_squared_error: 0.2867\n",
            "Epoch 32/150\n",
            "6/6 [==============================] - 0s 4ms/step - loss: 0.3200 - mean_squared_error: 0.3200 - val_loss: 0.2806 - val_mean_squared_error: 0.2806\n",
            "Epoch 33/150\n",
            "6/6 [==============================] - 0s 4ms/step - loss: 0.3125 - mean_squared_error: 0.3125 - val_loss: 0.2778 - val_mean_squared_error: 0.2778\n",
            "Epoch 34/150\n",
            "6/6 [==============================] - 0s 4ms/step - loss: 0.3052 - mean_squared_error: 0.3052 - val_loss: 0.2761 - val_mean_squared_error: 0.2761\n",
            "Epoch 35/150\n",
            "6/6 [==============================] - 0s 4ms/step - loss: 0.2984 - mean_squared_error: 0.2984 - val_loss: 0.2710 - val_mean_squared_error: 0.2710\n",
            "Epoch 36/150\n",
            "6/6 [==============================] - 0s 4ms/step - loss: 0.2919 - mean_squared_error: 0.2919 - val_loss: 0.2664 - val_mean_squared_error: 0.2664\n",
            "Epoch 37/150\n",
            "6/6 [==============================] - 0s 4ms/step - loss: 0.2858 - mean_squared_error: 0.2858 - val_loss: 0.2579 - val_mean_squared_error: 0.2579\n",
            "Epoch 38/150\n",
            "6/6 [==============================] - 0s 4ms/step - loss: 0.2785 - mean_squared_error: 0.2785 - val_loss: 0.2576 - val_mean_squared_error: 0.2576\n",
            "Epoch 39/150\n",
            "6/6 [==============================] - 0s 4ms/step - loss: 0.2728 - mean_squared_error: 0.2728 - val_loss: 0.2540 - val_mean_squared_error: 0.2540\n",
            "Epoch 40/150\n",
            "6/6 [==============================] - 0s 4ms/step - loss: 0.2670 - mean_squared_error: 0.2670 - val_loss: 0.2549 - val_mean_squared_error: 0.2549\n",
            "Epoch 41/150\n",
            "6/6 [==============================] - 0s 4ms/step - loss: 0.2611 - mean_squared_error: 0.2611 - val_loss: 0.2502 - val_mean_squared_error: 0.2502\n",
            "Epoch 42/150\n",
            "6/6 [==============================] - 0s 4ms/step - loss: 0.2568 - mean_squared_error: 0.2568 - val_loss: 0.2494 - val_mean_squared_error: 0.2494\n",
            "Epoch 43/150\n",
            "6/6 [==============================] - 0s 4ms/step - loss: 0.2503 - mean_squared_error: 0.2503 - val_loss: 0.2413 - val_mean_squared_error: 0.2413\n",
            "Epoch 44/150\n",
            "6/6 [==============================] - 0s 4ms/step - loss: 0.2455 - mean_squared_error: 0.2455 - val_loss: 0.2419 - val_mean_squared_error: 0.2419\n",
            "Epoch 45/150\n",
            "6/6 [==============================] - 0s 4ms/step - loss: 0.2414 - mean_squared_error: 0.2414 - val_loss: 0.2306 - val_mean_squared_error: 0.2306\n",
            "Epoch 46/150\n",
            "6/6 [==============================] - 0s 4ms/step - loss: 0.2356 - mean_squared_error: 0.2356 - val_loss: 0.2337 - val_mean_squared_error: 0.2337\n",
            "Epoch 47/150\n",
            "6/6 [==============================] - 0s 4ms/step - loss: 0.2311 - mean_squared_error: 0.2311 - val_loss: 0.2304 - val_mean_squared_error: 0.2304\n",
            "Epoch 48/150\n",
            "6/6 [==============================] - 0s 4ms/step - loss: 0.2265 - mean_squared_error: 0.2265 - val_loss: 0.2317 - val_mean_squared_error: 0.2317\n",
            "Epoch 49/150\n",
            "6/6 [==============================] - 0s 4ms/step - loss: 0.2220 - mean_squared_error: 0.2220 - val_loss: 0.2224 - val_mean_squared_error: 0.2224\n",
            "Epoch 50/150\n",
            "6/6 [==============================] - 0s 4ms/step - loss: 0.2182 - mean_squared_error: 0.2182 - val_loss: 0.2205 - val_mean_squared_error: 0.2205\n",
            "Epoch 51/150\n",
            "6/6 [==============================] - 0s 4ms/step - loss: 0.2135 - mean_squared_error: 0.2135 - val_loss: 0.2195 - val_mean_squared_error: 0.2195\n",
            "Epoch 52/150\n",
            "6/6 [==============================] - 0s 4ms/step - loss: 0.2095 - mean_squared_error: 0.2095 - val_loss: 0.2167 - val_mean_squared_error: 0.2167\n",
            "Epoch 53/150\n",
            "6/6 [==============================] - 0s 4ms/step - loss: 0.2061 - mean_squared_error: 0.2061 - val_loss: 0.2222 - val_mean_squared_error: 0.2222\n",
            "Epoch 54/150\n",
            "6/6 [==============================] - 0s 4ms/step - loss: 0.2019 - mean_squared_error: 0.2019 - val_loss: 0.2149 - val_mean_squared_error: 0.2149\n",
            "Epoch 55/150\n",
            "6/6 [==============================] - 0s 4ms/step - loss: 0.1980 - mean_squared_error: 0.1980 - val_loss: 0.2078 - val_mean_squared_error: 0.2078\n",
            "Epoch 56/150\n",
            "6/6 [==============================] - 0s 4ms/step - loss: 0.1947 - mean_squared_error: 0.1947 - val_loss: 0.2033 - val_mean_squared_error: 0.2033\n",
            "Epoch 57/150\n",
            "6/6 [==============================] - 0s 4ms/step - loss: 0.1911 - mean_squared_error: 0.1911 - val_loss: 0.2031 - val_mean_squared_error: 0.2031\n",
            "Epoch 58/150\n",
            "6/6 [==============================] - 0s 4ms/step - loss: 0.1880 - mean_squared_error: 0.1880 - val_loss: 0.2117 - val_mean_squared_error: 0.2117\n",
            "Epoch 59/150\n",
            "6/6 [==============================] - 0s 4ms/step - loss: 0.1846 - mean_squared_error: 0.1846 - val_loss: 0.2057 - val_mean_squared_error: 0.2057\n",
            "Epoch 60/150\n",
            "6/6 [==============================] - 0s 4ms/step - loss: 0.1813 - mean_squared_error: 0.1813 - val_loss: 0.1972 - val_mean_squared_error: 0.1972\n",
            "Epoch 61/150\n",
            "6/6 [==============================] - 0s 4ms/step - loss: 0.1780 - mean_squared_error: 0.1780 - val_loss: 0.1946 - val_mean_squared_error: 0.1946\n",
            "Epoch 62/150\n",
            "6/6 [==============================] - 0s 4ms/step - loss: 0.1752 - mean_squared_error: 0.1752 - val_loss: 0.1988 - val_mean_squared_error: 0.1988\n",
            "Epoch 63/150\n",
            "6/6 [==============================] - 0s 4ms/step - loss: 0.1718 - mean_squared_error: 0.1718 - val_loss: 0.1930 - val_mean_squared_error: 0.1930\n",
            "Epoch 64/150\n",
            "6/6 [==============================] - 0s 4ms/step - loss: 0.1691 - mean_squared_error: 0.1691 - val_loss: 0.1893 - val_mean_squared_error: 0.1893\n",
            "Epoch 65/150\n",
            "6/6 [==============================] - 0s 4ms/step - loss: 0.1670 - mean_squared_error: 0.1670 - val_loss: 0.1945 - val_mean_squared_error: 0.1945\n",
            "Epoch 66/150\n",
            "6/6 [==============================] - 0s 4ms/step - loss: 0.1638 - mean_squared_error: 0.1638 - val_loss: 0.1824 - val_mean_squared_error: 0.1824\n",
            "Epoch 67/150\n",
            "6/6 [==============================] - 0s 4ms/step - loss: 0.1607 - mean_squared_error: 0.1607 - val_loss: 0.1827 - val_mean_squared_error: 0.1827\n",
            "Epoch 68/150\n",
            "6/6 [==============================] - 0s 4ms/step - loss: 0.1581 - mean_squared_error: 0.1581 - val_loss: 0.1842 - val_mean_squared_error: 0.1842\n",
            "Epoch 69/150\n",
            "6/6 [==============================] - 0s 4ms/step - loss: 0.1557 - mean_squared_error: 0.1557 - val_loss: 0.1837 - val_mean_squared_error: 0.1837\n",
            "Epoch 70/150\n",
            "6/6 [==============================] - 0s 5ms/step - loss: 0.1535 - mean_squared_error: 0.1535 - val_loss: 0.1754 - val_mean_squared_error: 0.1754\n",
            "Epoch 71/150\n",
            "6/6 [==============================] - 0s 4ms/step - loss: 0.1507 - mean_squared_error: 0.1507 - val_loss: 0.1782 - val_mean_squared_error: 0.1782\n",
            "Epoch 72/150\n",
            "6/6 [==============================] - 0s 4ms/step - loss: 0.1485 - mean_squared_error: 0.1485 - val_loss: 0.1762 - val_mean_squared_error: 0.1762\n",
            "Epoch 73/150\n",
            "6/6 [==============================] - 0s 4ms/step - loss: 0.1460 - mean_squared_error: 0.1460 - val_loss: 0.1758 - val_mean_squared_error: 0.1758\n",
            "Epoch 74/150\n",
            "6/6 [==============================] - 0s 4ms/step - loss: 0.1439 - mean_squared_error: 0.1439 - val_loss: 0.1707 - val_mean_squared_error: 0.1707\n",
            "Epoch 75/150\n",
            "6/6 [==============================] - 0s 4ms/step - loss: 0.1416 - mean_squared_error: 0.1416 - val_loss: 0.1732 - val_mean_squared_error: 0.1732\n",
            "Epoch 76/150\n",
            "6/6 [==============================] - 0s 4ms/step - loss: 0.1396 - mean_squared_error: 0.1396 - val_loss: 0.1721 - val_mean_squared_error: 0.1721\n",
            "Epoch 77/150\n",
            "6/6 [==============================] - 0s 4ms/step - loss: 0.1374 - mean_squared_error: 0.1374 - val_loss: 0.1694 - val_mean_squared_error: 0.1694\n",
            "Epoch 78/150\n",
            "6/6 [==============================] - 0s 4ms/step - loss: 0.1353 - mean_squared_error: 0.1353 - val_loss: 0.1662 - val_mean_squared_error: 0.1662\n",
            "Epoch 79/150\n",
            "6/6 [==============================] - 0s 4ms/step - loss: 0.1332 - mean_squared_error: 0.1332 - val_loss: 0.1654 - val_mean_squared_error: 0.1654\n",
            "Epoch 80/150\n",
            "6/6 [==============================] - 0s 4ms/step - loss: 0.1314 - mean_squared_error: 0.1314 - val_loss: 0.1637 - val_mean_squared_error: 0.1637\n",
            "Epoch 81/150\n",
            "6/6 [==============================] - 0s 4ms/step - loss: 0.1304 - mean_squared_error: 0.1304 - val_loss: 0.1712 - val_mean_squared_error: 0.1712\n",
            "Epoch 82/150\n",
            "6/6 [==============================] - 0s 4ms/step - loss: 0.1280 - mean_squared_error: 0.1280 - val_loss: 0.1599 - val_mean_squared_error: 0.1599\n",
            "Epoch 83/150\n",
            "6/6 [==============================] - 0s 4ms/step - loss: 0.1263 - mean_squared_error: 0.1263 - val_loss: 0.1537 - val_mean_squared_error: 0.1537\n",
            "Epoch 84/150\n",
            "6/6 [==============================] - 0s 4ms/step - loss: 0.1241 - mean_squared_error: 0.1241 - val_loss: 0.1562 - val_mean_squared_error: 0.1562\n",
            "Epoch 85/150\n",
            "6/6 [==============================] - 0s 4ms/step - loss: 0.1228 - mean_squared_error: 0.1228 - val_loss: 0.1570 - val_mean_squared_error: 0.1570\n",
            "Epoch 86/150\n",
            "6/6 [==============================] - 0s 4ms/step - loss: 0.1210 - mean_squared_error: 0.1210 - val_loss: 0.1637 - val_mean_squared_error: 0.1637\n",
            "Epoch 87/150\n",
            "6/6 [==============================] - 0s 4ms/step - loss: 0.1192 - mean_squared_error: 0.1192 - val_loss: 0.1625 - val_mean_squared_error: 0.1625\n",
            "Epoch 88/150\n",
            "6/6 [==============================] - 0s 4ms/step - loss: 0.1176 - mean_squared_error: 0.1176 - val_loss: 0.1599 - val_mean_squared_error: 0.1599\n",
            "Epoch 89/150\n",
            "6/6 [==============================] - 0s 4ms/step - loss: 0.1158 - mean_squared_error: 0.1158 - val_loss: 0.1504 - val_mean_squared_error: 0.1504\n",
            "Epoch 90/150\n",
            "6/6 [==============================] - 0s 4ms/step - loss: 0.1145 - mean_squared_error: 0.1145 - val_loss: 0.1470 - val_mean_squared_error: 0.1470\n",
            "Epoch 91/150\n",
            "6/6 [==============================] - 0s 4ms/step - loss: 0.1130 - mean_squared_error: 0.1130 - val_loss: 0.1442 - val_mean_squared_error: 0.1442\n",
            "Epoch 92/150\n",
            "6/6 [==============================] - 0s 4ms/step - loss: 0.1116 - mean_squared_error: 0.1116 - val_loss: 0.1490 - val_mean_squared_error: 0.1490\n",
            "Epoch 93/150\n",
            "6/6 [==============================] - 0s 4ms/step - loss: 0.1099 - mean_squared_error: 0.1099 - val_loss: 0.1502 - val_mean_squared_error: 0.1502\n",
            "Epoch 94/150\n",
            "6/6 [==============================] - 0s 4ms/step - loss: 0.1087 - mean_squared_error: 0.1087 - val_loss: 0.1494 - val_mean_squared_error: 0.1494\n",
            "Epoch 95/150\n",
            "6/6 [==============================] - 0s 5ms/step - loss: 0.1074 - mean_squared_error: 0.1074 - val_loss: 0.1446 - val_mean_squared_error: 0.1446\n",
            "Epoch 96/150\n",
            "6/6 [==============================] - 0s 4ms/step - loss: 0.1059 - mean_squared_error: 0.1059 - val_loss: 0.1496 - val_mean_squared_error: 0.1496\n",
            "Epoch 97/150\n",
            "6/6 [==============================] - 0s 4ms/step - loss: 0.1046 - mean_squared_error: 0.1046 - val_loss: 0.1476 - val_mean_squared_error: 0.1476\n",
            "Epoch 98/150\n",
            "6/6 [==============================] - 0s 4ms/step - loss: 0.1034 - mean_squared_error: 0.1034 - val_loss: 0.1467 - val_mean_squared_error: 0.1467\n",
            "Epoch 99/150\n",
            "6/6 [==============================] - 0s 4ms/step - loss: 0.1024 - mean_squared_error: 0.1024 - val_loss: 0.1387 - val_mean_squared_error: 0.1387\n",
            "Epoch 100/150\n",
            "6/6 [==============================] - 0s 4ms/step - loss: 0.1012 - mean_squared_error: 0.1012 - val_loss: 0.1434 - val_mean_squared_error: 0.1434\n",
            "Epoch 101/150\n",
            "6/6 [==============================] - 0s 4ms/step - loss: 0.0999 - mean_squared_error: 0.0999 - val_loss: 0.1391 - val_mean_squared_error: 0.1391\n",
            "Epoch 102/150\n",
            "6/6 [==============================] - 0s 4ms/step - loss: 0.0983 - mean_squared_error: 0.0983 - val_loss: 0.1421 - val_mean_squared_error: 0.1421\n",
            "Epoch 103/150\n",
            "6/6 [==============================] - 0s 4ms/step - loss: 0.0973 - mean_squared_error: 0.0973 - val_loss: 0.1394 - val_mean_squared_error: 0.1394\n",
            "Epoch 104/150\n",
            "6/6 [==============================] - 0s 4ms/step - loss: 0.0964 - mean_squared_error: 0.0964 - val_loss: 0.1401 - val_mean_squared_error: 0.1401\n",
            "Epoch 105/150\n",
            "6/6 [==============================] - 0s 4ms/step - loss: 0.0953 - mean_squared_error: 0.0953 - val_loss: 0.1429 - val_mean_squared_error: 0.1429\n",
            "Epoch 106/150\n",
            "6/6 [==============================] - 0s 5ms/step - loss: 0.0941 - mean_squared_error: 0.0941 - val_loss: 0.1356 - val_mean_squared_error: 0.1356\n",
            "Epoch 107/150\n",
            "6/6 [==============================] - 0s 4ms/step - loss: 0.0933 - mean_squared_error: 0.0933 - val_loss: 0.1371 - val_mean_squared_error: 0.1371\n",
            "Epoch 108/150\n",
            "6/6 [==============================] - 0s 4ms/step - loss: 0.0919 - mean_squared_error: 0.0919 - val_loss: 0.1331 - val_mean_squared_error: 0.1331\n",
            "Epoch 109/150\n",
            "6/6 [==============================] - 0s 5ms/step - loss: 0.0912 - mean_squared_error: 0.0912 - val_loss: 0.1321 - val_mean_squared_error: 0.1321\n",
            "Epoch 110/150\n",
            "6/6 [==============================] - 0s 4ms/step - loss: 0.0901 - mean_squared_error: 0.0901 - val_loss: 0.1307 - val_mean_squared_error: 0.1307\n",
            "Epoch 111/150\n",
            "6/6 [==============================] - 0s 4ms/step - loss: 0.0891 - mean_squared_error: 0.0891 - val_loss: 0.1342 - val_mean_squared_error: 0.1342\n",
            "Epoch 112/150\n",
            "6/6 [==============================] - 0s 4ms/step - loss: 0.0881 - mean_squared_error: 0.0881 - val_loss: 0.1341 - val_mean_squared_error: 0.1341\n",
            "Epoch 113/150\n",
            "6/6 [==============================] - 0s 4ms/step - loss: 0.0871 - mean_squared_error: 0.0871 - val_loss: 0.1327 - val_mean_squared_error: 0.1327\n",
            "Epoch 114/150\n",
            "6/6 [==============================] - 0s 4ms/step - loss: 0.0863 - mean_squared_error: 0.0863 - val_loss: 0.1353 - val_mean_squared_error: 0.1353\n",
            "Epoch 115/150\n",
            "6/6 [==============================] - 0s 4ms/step - loss: 0.0853 - mean_squared_error: 0.0853 - val_loss: 0.1299 - val_mean_squared_error: 0.1299\n",
            "Epoch 116/150\n",
            "6/6 [==============================] - 0s 4ms/step - loss: 0.0847 - mean_squared_error: 0.0847 - val_loss: 0.1261 - val_mean_squared_error: 0.1261\n",
            "Epoch 117/150\n",
            "6/6 [==============================] - 0s 4ms/step - loss: 0.0838 - mean_squared_error: 0.0838 - val_loss: 0.1296 - val_mean_squared_error: 0.1296\n",
            "Epoch 118/150\n",
            "6/6 [==============================] - 0s 4ms/step - loss: 0.0828 - mean_squared_error: 0.0828 - val_loss: 0.1299 - val_mean_squared_error: 0.1299\n",
            "Epoch 119/150\n",
            "6/6 [==============================] - 0s 4ms/step - loss: 0.0820 - mean_squared_error: 0.0820 - val_loss: 0.1285 - val_mean_squared_error: 0.1285\n",
            "Epoch 120/150\n",
            "6/6 [==============================] - 0s 4ms/step - loss: 0.0813 - mean_squared_error: 0.0813 - val_loss: 0.1262 - val_mean_squared_error: 0.1262\n",
            "Epoch 121/150\n",
            "6/6 [==============================] - 0s 4ms/step - loss: 0.0805 - mean_squared_error: 0.0805 - val_loss: 0.1266 - val_mean_squared_error: 0.1266\n",
            "Epoch 122/150\n",
            "6/6 [==============================] - 0s 4ms/step - loss: 0.0797 - mean_squared_error: 0.0797 - val_loss: 0.1275 - val_mean_squared_error: 0.1275\n",
            "Epoch 123/150\n",
            "6/6 [==============================] - 0s 4ms/step - loss: 0.0789 - mean_squared_error: 0.0789 - val_loss: 0.1241 - val_mean_squared_error: 0.1241\n",
            "Epoch 124/150\n",
            "6/6 [==============================] - 0s 4ms/step - loss: 0.0784 - mean_squared_error: 0.0784 - val_loss: 0.1289 - val_mean_squared_error: 0.1289\n",
            "Epoch 125/150\n",
            "6/6 [==============================] - 0s 4ms/step - loss: 0.0774 - mean_squared_error: 0.0774 - val_loss: 0.1257 - val_mean_squared_error: 0.1257\n",
            "Epoch 126/150\n",
            "6/6 [==============================] - 0s 4ms/step - loss: 0.0768 - mean_squared_error: 0.0768 - val_loss: 0.1231 - val_mean_squared_error: 0.1231\n",
            "Epoch 127/150\n",
            "6/6 [==============================] - 0s 4ms/step - loss: 0.0761 - mean_squared_error: 0.0761 - val_loss: 0.1206 - val_mean_squared_error: 0.1206\n",
            "Epoch 128/150\n",
            "6/6 [==============================] - 0s 4ms/step - loss: 0.0755 - mean_squared_error: 0.0755 - val_loss: 0.1244 - val_mean_squared_error: 0.1244\n",
            "Epoch 129/150\n",
            "6/6 [==============================] - 0s 4ms/step - loss: 0.0749 - mean_squared_error: 0.0749 - val_loss: 0.1207 - val_mean_squared_error: 0.1207\n",
            "Epoch 130/150\n",
            "6/6 [==============================] - 0s 5ms/step - loss: 0.0741 - mean_squared_error: 0.0741 - val_loss: 0.1210 - val_mean_squared_error: 0.1210\n",
            "Epoch 131/150\n",
            "6/6 [==============================] - 0s 4ms/step - loss: 0.0736 - mean_squared_error: 0.0736 - val_loss: 0.1252 - val_mean_squared_error: 0.1252\n",
            "Epoch 132/150\n",
            "6/6 [==============================] - 0s 4ms/step - loss: 0.0730 - mean_squared_error: 0.0730 - val_loss: 0.1205 - val_mean_squared_error: 0.1205\n",
            "Epoch 133/150\n",
            "6/6 [==============================] - 0s 4ms/step - loss: 0.0722 - mean_squared_error: 0.0722 - val_loss: 0.1209 - val_mean_squared_error: 0.1209\n",
            "Epoch 134/150\n",
            "6/6 [==============================] - 0s 4ms/step - loss: 0.0715 - mean_squared_error: 0.0715 - val_loss: 0.1176 - val_mean_squared_error: 0.1176\n",
            "Epoch 135/150\n",
            "6/6 [==============================] - 0s 4ms/step - loss: 0.0709 - mean_squared_error: 0.0709 - val_loss: 0.1199 - val_mean_squared_error: 0.1199\n",
            "Epoch 136/150\n",
            "6/6 [==============================] - 0s 4ms/step - loss: 0.0704 - mean_squared_error: 0.0704 - val_loss: 0.1179 - val_mean_squared_error: 0.1179\n",
            "Epoch 137/150\n",
            "6/6 [==============================] - 0s 4ms/step - loss: 0.0698 - mean_squared_error: 0.0698 - val_loss: 0.1179 - val_mean_squared_error: 0.1179\n",
            "Epoch 138/150\n",
            "6/6 [==============================] - 0s 4ms/step - loss: 0.0692 - mean_squared_error: 0.0692 - val_loss: 0.1183 - val_mean_squared_error: 0.1183\n",
            "Epoch 139/150\n",
            "6/6 [==============================] - 0s 4ms/step - loss: 0.0689 - mean_squared_error: 0.0689 - val_loss: 0.1141 - val_mean_squared_error: 0.1141\n",
            "Epoch 140/150\n",
            "6/6 [==============================] - 0s 4ms/step - loss: 0.0681 - mean_squared_error: 0.0681 - val_loss: 0.1186 - val_mean_squared_error: 0.1186\n",
            "Epoch 141/150\n",
            "6/6 [==============================] - 0s 5ms/step - loss: 0.0675 - mean_squared_error: 0.0675 - val_loss: 0.1175 - val_mean_squared_error: 0.1175\n",
            "Epoch 142/150\n",
            "6/6 [==============================] - 0s 4ms/step - loss: 0.0669 - mean_squared_error: 0.0669 - val_loss: 0.1182 - val_mean_squared_error: 0.1182\n",
            "Epoch 143/150\n",
            "6/6 [==============================] - 0s 4ms/step - loss: 0.0665 - mean_squared_error: 0.0665 - val_loss: 0.1159 - val_mean_squared_error: 0.1159\n",
            "Epoch 144/150\n",
            "6/6 [==============================] - 0s 4ms/step - loss: 0.0661 - mean_squared_error: 0.0661 - val_loss: 0.1130 - val_mean_squared_error: 0.1130\n",
            "Epoch 145/150\n",
            "6/6 [==============================] - 0s 4ms/step - loss: 0.0655 - mean_squared_error: 0.0655 - val_loss: 0.1184 - val_mean_squared_error: 0.1184\n",
            "Epoch 146/150\n",
            "6/6 [==============================] - 0s 4ms/step - loss: 0.0650 - mean_squared_error: 0.0650 - val_loss: 0.1181 - val_mean_squared_error: 0.1181\n",
            "Epoch 147/150\n",
            "6/6 [==============================] - 0s 4ms/step - loss: 0.0645 - mean_squared_error: 0.0645 - val_loss: 0.1147 - val_mean_squared_error: 0.1147\n",
            "Epoch 148/150\n",
            "6/6 [==============================] - 0s 4ms/step - loss: 0.0640 - mean_squared_error: 0.0640 - val_loss: 0.1106 - val_mean_squared_error: 0.1106\n",
            "Epoch 149/150\n",
            "6/6 [==============================] - 0s 5ms/step - loss: 0.0636 - mean_squared_error: 0.0636 - val_loss: 0.1086 - val_mean_squared_error: 0.1086\n",
            "Epoch 150/150\n",
            "6/6 [==============================] - 0s 4ms/step - loss: 0.0631 - mean_squared_error: 0.0631 - val_loss: 0.1135 - val_mean_squared_error: 0.1135\n"
          ],
          "name": "stdout"
        }
      ]
    },
    {
      "cell_type": "code",
      "metadata": {
        "id": "32jFj14Qz_qx",
        "outputId": "7df01fbb-7fab-45f3-afbd-e9ed1e088645",
        "colab": {
          "base_uri": "https://localhost:8080/",
          "height": 295
        }
      },
      "source": [
        "from google.colab import files\n",
        "ls=plt.figure()\n",
        "plt.plot(history.history['loss'])\n",
        "plt.plot(history.history['val_loss'])\n",
        "plt.title('model loss')\n",
        "plt.ylabel('loss')\n",
        "plt.xlabel('epoch')\n",
        "plt.legend(['train', 'test'], loc='upper left')\n",
        "ls.show()\n",
        "ls.savefig('/content/drive/My Drive/MMF_Reservoir/LA_Covid/loss-expset_intel.png')\n",
        "#files.download('loss-1.png')"
      ],
      "execution_count": 10,
      "outputs": [
        {
          "output_type": "display_data",
          "data": {
            "image/png": "[encoded data removed]",
            "text/plain": [
              "<Figure size 432x288 with 1 Axes>"
            ]
          },
          "metadata": {
            "tags": [],
            "needs_background": "light"
          }
        }
      ]
    },
    {
      "cell_type": "code",
      "metadata": {
        "id": "ofMIsQfS3slr",
        "outputId": "210f101c-541c-462b-f74c-997521b137f1",
        "colab": {
          "base_uri": "https://localhost:8080/"
        }
      },
      "source": [
        "abit = model.predict(X_test)\n",
        "from sklearn.metrics import mean_squared_error\n",
        "print('MSE ' + str(mean_squared_error(abit, y_test)))\n",
        "print('RMSE ' + str(np.sqrt(mean_squared_error(abit, y_test))))"
      ],
      "execution_count": 11,
      "outputs": [
        {
          "output_type": "stream",
          "text": [
            "MSE 0.11346369897965136\n",
            "RMSE 0.33684373080057667\n"
          ],
          "name": "stdout"
        }
      ]
    },
    {
      "cell_type": "code",
      "metadata": {
        "id": "sv0iP24XOhHK",
        "outputId": "106fa5db-a2ec-4f53-d4bb-641a2d6d4edc",
        "colab": {
          "base_uri": "https://localhost:8080/",
          "height": 265
        }
      },
      "source": [
        "ls=plt.figure()\n",
        "plt.plot(abit,'ro')\n",
        "plt.plot(y_test,'bo')\n",
        "plt.legend(['DNNs prediction', 'Ground Truth'], loc='upper right')\n",
        "ls.show()\n",
        "ls.savefig('/content/drive/My Drive/MMF_Reservoir/LA_Covid/loss-expset_res_intel.png')\n"
      ],
      "execution_count": 12,
      "outputs": [
        {
          "output_type": "display_data",
          "data": {
            "image/png": "[encoded data removed]",
            "text/plain": [
              "<Figure size 432x288 with 1 Axes>"
            ]
          },
          "metadata": {
            "tags": [],
            "needs_background": "light"
          }
        }
      ]
    },
    {
      "cell_type": "code",
      "metadata": {
        "id": "DXy42VNzHGSi",
        "outputId": "87a378db-f5b5-469f-d710-1878aef23067",
        "colab": {
          "base_uri": "https://localhost:8080/"
        }
      },
      "source": [
        "abit = model.predict(inp)\n",
        "from sklearn.metrics import mean_squared_error\n",
        "print('MSE ' + str(mean_squared_error(abit, out.T)))\n",
        "print('RMSE ' + str(np.sqrt(mean_squared_error(abit, out.T))))"
      ],
      "execution_count": 13,
      "outputs": [
        {
          "output_type": "stream",
          "text": [
            "MSE 0.0675750830957585\n",
            "RMSE 0.25995207846016255\n"
          ],
          "name": "stdout"
        }
      ]
    },
    {
      "cell_type": "code",
      "metadata": {
        "id": "TSBwguZlwYOM",
        "outputId": "59091959-72f5-4b77-fcb0-d6f32a7e5ed8",
        "colab": {
          "base_uri": "https://localhost:8080/",
          "height": 265
        }
      },
      "source": [
        "ls=plt.figure()\n",
        "plt.plot(abit,'ro')\n",
        "plt.plot(out.T,'bo')\n",
        "plt.legend(['DNNs prediction', 'Ground Truth'], loc='upper right')\n",
        "ls.show()\n",
        "ls.savefig('/content/drive/My Drive/MMF_Reservoir/LA_Covid/loss-expset_res_alldata_intel.png')"
      ],
      "execution_count": 14,
      "outputs": [
        {
          "output_type": "display_data",
          "data": {
            "image/png": "[encoded data removed]",
            "text/plain": [
              "<Figure size 432x288 with 1 Axes>"
            ]
          },
          "metadata": {
            "tags": [],
            "needs_background": "light"
          }
        }
      ]
    }
  ]
}