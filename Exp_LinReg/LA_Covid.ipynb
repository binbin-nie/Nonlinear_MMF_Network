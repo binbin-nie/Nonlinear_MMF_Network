{
  "nbformat": 4,
  "nbformat_minor": 0,
  "metadata": {
    "accelerator": "GPU",
    "colab": {
      "name": "NYC_Covid.ipynb",
      "provenance": [],
      "collapsed_sections": [],
      "toc_visible": true,
      "machine_shape": "hm"
    },
    "kernelspec": {
      "display_name": "Python 3",
      "name": "python3"
    }
  },
  "cells": [
    {
      "cell_type": "code",
      "metadata": {
        "id": "plRoSF3YWrl5",
        "outputId": "f024b195-9edf-46c8-af80-c9e5c02ec12a",
        "colab": {
          "base_uri": "https://localhost:8080/"
        }
      },
      "source": [
        "import numpy as np\n",
        "import matplotlib.pyplot as plt\n",
        "import scipy.io as sio\n",
        "import tensorflow as tf\n",
        "\n",
        "from tensorflow import keras\n",
        "from sklearn.model_selection import train_test_split\n",
        "from tensorflow.keras.models import Model,Sequential\n",
        "from tensorflow.keras.layers import Input, Activation, LSTM\n",
        "from tensorflow.keras.layers import Dense, Dropout, Flatten, Conv2D, MaxPooling2D, AveragePooling2D \n",
        "from tensorflow.keras.optimizers import SGD, Adam\n",
        "from tensorflow.keras.utils import to_categorical\n",
        "\n",
        "# Load the Drive helper and mount\n",
        "from google.colab import drive\n",
        "\n",
        "# This will prompt for authorization.\n",
        "drive.mount('/content/drive')"
      ],
      "execution_count": null,
      "outputs": [
        {
          "output_type": "stream",
          "text": [
            "Drive already mounted at /content/drive; to attempt to forcibly remount, call drive.mount(\"/content/drive\", force_remount=True).\n"
          ],
          "name": "stdout"
        }
      ]
    },
    {
      "cell_type": "code",
      "metadata": {
        "id": "PDK63hJmW5D4"
      },
      "source": [
        "import scipy.io as sio\n",
        "f = sio.loadmat('/content/drive/My Drive/MMF_Reservoir/NYC_Covid/NYC_res_sq_flt2_2.mat')\n",
        "inp = f['res_sq_flt']\n",
        "\n",
        "\n",
        "f2 = sio.loadmat('/content/drive/My Drive/MMF_Reservoir/NYC_Covid/label.mat')\n",
        "out = f2['label']\n"
      ],
      "execution_count": null,
      "outputs": []
    },
    {
      "cell_type": "markdown",
      "metadata": {
        "id": "0rh1E24b81ts"
      },
      "source": [
        "# Experimental Data"
      ]
    },
    {
      "cell_type": "code",
      "metadata": {
        "id": "pMmOo-YuWxf3"
      },
      "source": [
        "datasize = len(np.transpose(inp))"
      ],
      "execution_count": null,
      "outputs": []
    },
    {
      "cell_type": "code",
      "metadata": {
        "id": "pYBJB9YglGiX",
        "outputId": "22366fe6-ca48-4b3b-85d1-11f1813d0e86",
        "colab": {
          "base_uri": "https://localhost:8080/"
        }
      },
      "source": [
        "input_data = inp\n",
        "output_data = out.T\n",
        "#output_data = to_categorical(out)\n",
        "\n",
        "print('input_data : ', input_data.shape, input_data.dtype)\n",
        "print('output_class : ', output_data.shape, output_data.dtype)\n",
        "print()"
      ],
      "execution_count": null,
      "outputs": [
        {
          "output_type": "stream",
          "text": [
            "input_data :  (210, 100) float64\n",
            "output_class :  (210, 1) float64\n",
            "\n"
          ],
          "name": "stdout"
        }
      ]
    },
    {
      "cell_type": "code",
      "metadata": {
        "id": "JMVZ-aoTk1wf",
        "outputId": "37620275-593e-42c9-8315-021789b9be6b",
        "colab": {
          "base_uri": "https://localhost:8080/"
        }
      },
      "source": [
        "oran = 0.10\n",
        "X_train, X_test, y_train, y_test = train_test_split(input_data, output_data, test_size=oran)\n",
        "\n",
        "print('Test data : ', X_test.shape, X_test.dtype)\n",
        "print('Training data : ', X_train.shape, X_train.dtype)\n",
        "print()"
      ],
      "execution_count": null,
      "outputs": [
        {
          "output_type": "stream",
          "text": [
            "Test data :  (21, 100) float64\n",
            "Training data :  (189, 100) float64\n",
            "\n"
          ],
          "name": "stdout"
        }
      ]
    },
    {
      "cell_type": "code",
      "metadata": {
        "id": "SycmK62goI2t"
      },
      "source": [
        "model = Sequential()\n",
        "model.add(Dense(1, input_dim=datasize, activation='linear'))"
      ],
      "execution_count": null,
      "outputs": []
    },
    {
      "cell_type": "code",
      "metadata": {
        "id": "Sg1arrHHoSF1",
        "outputId": "ea0bd365-e061-4937-c1c7-a4b6f6467f06",
        "colab": {
          "base_uri": "https://localhost:8080/"
        }
      },
      "source": [
        "loss='mean_squared_error' # mean_absolute_error, cosine_proximity\n",
        "#loss='categorical_crossentropy'\n",
        "metrics = ['mean_squared_error']  # network accuracy metric to be determined after each epoch, mean_absolute_error, cosine_proximity\n",
        "#metrics = ['accuracy']  # network accuracy metric to be determined after each epoch\n",
        "\n",
        "opt1 = SGD(lr=0.001, momentum=0.9)\n",
        "opt2 = Adam(lr=0.001, beta_1=0.9, beta_2=0.999)\n",
        "\n",
        "model.compile(optimizer=opt2, loss=loss, metrics=metrics)\n",
        "model.summary()"
      ],
      "execution_count": null,
      "outputs": [
        {
          "output_type": "stream",
          "text": [
            "Model: \"sequential\"\n",
            "_________________________________________________________________\n",
            "Layer (type)                 Output Shape              Param #   \n",
            "=================================================================\n",
            "dense (Dense)                (None, 1)                 101       \n",
            "=================================================================\n",
            "Total params: 101\n",
            "Trainable params: 101\n",
            "Non-trainable params: 0\n",
            "_________________________________________________________________\n"
          ],
          "name": "stdout"
        }
      ]
    },
    {
      "cell_type": "code",
      "metadata": {
        "id": "ZavprgepoUEE",
        "outputId": "8e2a2d9a-8c3b-4d8b-92b2-fc470e7a7d50",
        "colab": {
          "base_uri": "https://localhost:8080/"
        }
      },
      "source": [
        "#setting final parameters for the network and it begins to train\n",
        "number_of_iterations = 150\n",
        "batch_size = 32\n",
        "\n",
        "#history=model.fit(X_train, y_train, validation_data=(X_test, y_test), epochs=number_of_iterations)\n",
        "history=model.fit(X_train, y_train, batch_size=batch_size, epochs=number_of_iterations, verbose=1, validation_data=(X_test, y_test))\n",
        "#Number of iterations run: 900"
      ],
      "execution_count": null,
      "outputs": [
        {
          "output_type": "stream",
          "text": [
            "Epoch 1/150\n",
            "6/6 [==============================] - 0s 20ms/step - loss: 1.9200 - mean_squared_error: 1.9200 - val_loss: 1.3673 - val_mean_squared_error: 1.3673\n",
            "Epoch 2/150\n",
            "6/6 [==============================] - 0s 4ms/step - loss: 1.4567 - mean_squared_error: 1.4567 - val_loss: 1.1363 - val_mean_squared_error: 1.1363\n",
            "Epoch 3/150\n",
            "6/6 [==============================] - 0s 4ms/step - loss: 1.2232 - mean_squared_error: 1.2232 - val_loss: 1.0834 - val_mean_squared_error: 1.0834\n",
            "Epoch 4/150\n",
            "6/6 [==============================] - 0s 4ms/step - loss: 1.1056 - mean_squared_error: 1.1056 - val_loss: 1.1495 - val_mean_squared_error: 1.1495\n",
            "Epoch 5/150\n",
            "6/6 [==============================] - 0s 4ms/step - loss: 1.0306 - mean_squared_error: 1.0306 - val_loss: 1.2073 - val_mean_squared_error: 1.2073\n",
            "Epoch 6/150\n",
            "6/6 [==============================] - 0s 4ms/step - loss: 0.9861 - mean_squared_error: 0.9861 - val_loss: 1.2136 - val_mean_squared_error: 1.2136\n",
            "Epoch 7/150\n",
            "6/6 [==============================] - 0s 4ms/step - loss: 0.9456 - mean_squared_error: 0.9456 - val_loss: 1.1961 - val_mean_squared_error: 1.1961\n",
            "Epoch 8/150\n",
            "6/6 [==============================] - 0s 4ms/step - loss: 0.9094 - mean_squared_error: 0.9094 - val_loss: 1.1684 - val_mean_squared_error: 1.1684\n",
            "Epoch 9/150\n",
            "6/6 [==============================] - 0s 4ms/step - loss: 0.8785 - mean_squared_error: 0.8785 - val_loss: 1.1220 - val_mean_squared_error: 1.1220\n",
            "Epoch 10/150\n",
            "6/6 [==============================] - 0s 4ms/step - loss: 0.8517 - mean_squared_error: 0.8517 - val_loss: 1.0763 - val_mean_squared_error: 1.0763\n",
            "Epoch 11/150\n",
            "6/6 [==============================] - 0s 3ms/step - loss: 0.8216 - mean_squared_error: 0.8216 - val_loss: 1.0509 - val_mean_squared_error: 1.0509\n",
            "Epoch 12/150\n",
            "6/6 [==============================] - 0s 4ms/step - loss: 0.8011 - mean_squared_error: 0.8011 - val_loss: 1.0292 - val_mean_squared_error: 1.0292\n",
            "Epoch 13/150\n",
            "6/6 [==============================] - 0s 4ms/step - loss: 0.7789 - mean_squared_error: 0.7789 - val_loss: 1.0088 - val_mean_squared_error: 1.0088\n",
            "Epoch 14/150\n",
            "6/6 [==============================] - 0s 3ms/step - loss: 0.7571 - mean_squared_error: 0.7571 - val_loss: 0.9884 - val_mean_squared_error: 0.9884\n",
            "Epoch 15/150\n",
            "6/6 [==============================] - 0s 4ms/step - loss: 0.7377 - mean_squared_error: 0.7377 - val_loss: 0.9660 - val_mean_squared_error: 0.9660\n",
            "Epoch 16/150\n",
            "6/6 [==============================] - 0s 3ms/step - loss: 0.7197 - mean_squared_error: 0.7197 - val_loss: 0.9469 - val_mean_squared_error: 0.9469\n",
            "Epoch 17/150\n",
            "6/6 [==============================] - 0s 3ms/step - loss: 0.7009 - mean_squared_error: 0.7009 - val_loss: 0.9358 - val_mean_squared_error: 0.9358\n",
            "Epoch 18/150\n",
            "6/6 [==============================] - 0s 3ms/step - loss: 0.6828 - mean_squared_error: 0.6828 - val_loss: 0.9141 - val_mean_squared_error: 0.9141\n",
            "Epoch 19/150\n",
            "6/6 [==============================] - 0s 4ms/step - loss: 0.6682 - mean_squared_error: 0.6682 - val_loss: 0.9007 - val_mean_squared_error: 0.9007\n",
            "Epoch 20/150\n",
            "6/6 [==============================] - 0s 4ms/step - loss: 0.6504 - mean_squared_error: 0.6504 - val_loss: 0.8839 - val_mean_squared_error: 0.8839\n",
            "Epoch 21/150\n",
            "6/6 [==============================] - 0s 4ms/step - loss: 0.6363 - mean_squared_error: 0.6363 - val_loss: 0.8674 - val_mean_squared_error: 0.8674\n",
            "Epoch 22/150\n",
            "6/6 [==============================] - 0s 4ms/step - loss: 0.6203 - mean_squared_error: 0.6203 - val_loss: 0.8616 - val_mean_squared_error: 0.8616\n",
            "Epoch 23/150\n",
            "6/6 [==============================] - 0s 4ms/step - loss: 0.6060 - mean_squared_error: 0.6060 - val_loss: 0.8472 - val_mean_squared_error: 0.8472\n",
            "Epoch 24/150\n",
            "6/6 [==============================] - 0s 4ms/step - loss: 0.5913 - mean_squared_error: 0.5913 - val_loss: 0.8365 - val_mean_squared_error: 0.8365\n",
            "Epoch 25/150\n",
            "6/6 [==============================] - 0s 4ms/step - loss: 0.5781 - mean_squared_error: 0.5781 - val_loss: 0.8301 - val_mean_squared_error: 0.8301\n",
            "Epoch 26/150\n",
            "6/6 [==============================] - 0s 4ms/step - loss: 0.5647 - mean_squared_error: 0.5647 - val_loss: 0.8218 - val_mean_squared_error: 0.8218\n",
            "Epoch 27/150\n",
            "6/6 [==============================] - 0s 4ms/step - loss: 0.5516 - mean_squared_error: 0.5516 - val_loss: 0.8071 - val_mean_squared_error: 0.8071\n",
            "Epoch 28/150\n",
            "6/6 [==============================] - 0s 4ms/step - loss: 0.5398 - mean_squared_error: 0.5398 - val_loss: 0.7972 - val_mean_squared_error: 0.7972\n",
            "Epoch 29/150\n",
            "6/6 [==============================] - 0s 4ms/step - loss: 0.5275 - mean_squared_error: 0.5275 - val_loss: 0.7742 - val_mean_squared_error: 0.7742\n",
            "Epoch 30/150\n",
            "6/6 [==============================] - 0s 4ms/step - loss: 0.5170 - mean_squared_error: 0.5170 - val_loss: 0.7624 - val_mean_squared_error: 0.7624\n",
            "Epoch 31/150\n",
            "6/6 [==============================] - 0s 4ms/step - loss: 0.5050 - mean_squared_error: 0.5050 - val_loss: 0.7513 - val_mean_squared_error: 0.7513\n",
            "Epoch 32/150\n",
            "6/6 [==============================] - 0s 3ms/step - loss: 0.4931 - mean_squared_error: 0.4931 - val_loss: 0.7409 - val_mean_squared_error: 0.7409\n",
            "Epoch 33/150\n",
            "6/6 [==============================] - 0s 4ms/step - loss: 0.4829 - mean_squared_error: 0.4829 - val_loss: 0.7315 - val_mean_squared_error: 0.7315\n",
            "Epoch 34/150\n",
            "6/6 [==============================] - 0s 4ms/step - loss: 0.4720 - mean_squared_error: 0.4720 - val_loss: 0.7263 - val_mean_squared_error: 0.7263\n",
            "Epoch 35/150\n",
            "6/6 [==============================] - 0s 4ms/step - loss: 0.4619 - mean_squared_error: 0.4619 - val_loss: 0.7264 - val_mean_squared_error: 0.7264\n",
            "Epoch 36/150\n",
            "6/6 [==============================] - 0s 4ms/step - loss: 0.4515 - mean_squared_error: 0.4515 - val_loss: 0.7153 - val_mean_squared_error: 0.7153\n",
            "Epoch 37/150\n",
            "6/6 [==============================] - 0s 4ms/step - loss: 0.4445 - mean_squared_error: 0.4445 - val_loss: 0.7064 - val_mean_squared_error: 0.7064\n",
            "Epoch 38/150\n",
            "6/6 [==============================] - 0s 4ms/step - loss: 0.4327 - mean_squared_error: 0.4327 - val_loss: 0.7001 - val_mean_squared_error: 0.7001\n",
            "Epoch 39/150\n",
            "6/6 [==============================] - 0s 4ms/step - loss: 0.4232 - mean_squared_error: 0.4232 - val_loss: 0.6826 - val_mean_squared_error: 0.6826\n",
            "Epoch 40/150\n",
            "6/6 [==============================] - 0s 4ms/step - loss: 0.4143 - mean_squared_error: 0.4143 - val_loss: 0.6770 - val_mean_squared_error: 0.6770\n",
            "Epoch 41/150\n",
            "6/6 [==============================] - 0s 4ms/step - loss: 0.4058 - mean_squared_error: 0.4058 - val_loss: 0.6631 - val_mean_squared_error: 0.6631\n",
            "Epoch 42/150\n",
            "6/6 [==============================] - 0s 4ms/step - loss: 0.3973 - mean_squared_error: 0.3973 - val_loss: 0.6653 - val_mean_squared_error: 0.6653\n",
            "Epoch 43/150\n",
            "6/6 [==============================] - 0s 4ms/step - loss: 0.3891 - mean_squared_error: 0.3891 - val_loss: 0.6558 - val_mean_squared_error: 0.6558\n",
            "Epoch 44/150\n",
            "6/6 [==============================] - 0s 4ms/step - loss: 0.3807 - mean_squared_error: 0.3807 - val_loss: 0.6432 - val_mean_squared_error: 0.6432\n",
            "Epoch 45/150\n",
            "6/6 [==============================] - 0s 3ms/step - loss: 0.3721 - mean_squared_error: 0.3721 - val_loss: 0.6305 - val_mean_squared_error: 0.6305\n",
            "Epoch 46/150\n",
            "6/6 [==============================] - 0s 4ms/step - loss: 0.3652 - mean_squared_error: 0.3652 - val_loss: 0.6176 - val_mean_squared_error: 0.6176\n",
            "Epoch 47/150\n",
            "6/6 [==============================] - 0s 4ms/step - loss: 0.3578 - mean_squared_error: 0.3578 - val_loss: 0.6105 - val_mean_squared_error: 0.6105\n",
            "Epoch 48/150\n",
            "6/6 [==============================] - 0s 4ms/step - loss: 0.3498 - mean_squared_error: 0.3498 - val_loss: 0.6167 - val_mean_squared_error: 0.6167\n",
            "Epoch 49/150\n",
            "6/6 [==============================] - 0s 4ms/step - loss: 0.3448 - mean_squared_error: 0.3448 - val_loss: 0.6064 - val_mean_squared_error: 0.6064\n",
            "Epoch 50/150\n",
            "6/6 [==============================] - 0s 4ms/step - loss: 0.3355 - mean_squared_error: 0.3355 - val_loss: 0.5975 - val_mean_squared_error: 0.5975\n",
            "Epoch 51/150\n",
            "6/6 [==============================] - 0s 4ms/step - loss: 0.3286 - mean_squared_error: 0.3286 - val_loss: 0.5851 - val_mean_squared_error: 0.5851\n",
            "Epoch 52/150\n",
            "6/6 [==============================] - 0s 4ms/step - loss: 0.3221 - mean_squared_error: 0.3221 - val_loss: 0.5864 - val_mean_squared_error: 0.5864\n",
            "Epoch 53/150\n",
            "6/6 [==============================] - 0s 4ms/step - loss: 0.3149 - mean_squared_error: 0.3149 - val_loss: 0.5771 - val_mean_squared_error: 0.5771\n",
            "Epoch 54/150\n",
            "6/6 [==============================] - 0s 4ms/step - loss: 0.3088 - mean_squared_error: 0.3088 - val_loss: 0.5679 - val_mean_squared_error: 0.5679\n",
            "Epoch 55/150\n",
            "6/6 [==============================] - 0s 4ms/step - loss: 0.3024 - mean_squared_error: 0.3024 - val_loss: 0.5700 - val_mean_squared_error: 0.5700\n",
            "Epoch 56/150\n",
            "6/6 [==============================] - 0s 4ms/step - loss: 0.2968 - mean_squared_error: 0.2968 - val_loss: 0.5579 - val_mean_squared_error: 0.5579\n",
            "Epoch 57/150\n",
            "6/6 [==============================] - 0s 4ms/step - loss: 0.2906 - mean_squared_error: 0.2906 - val_loss: 0.5542 - val_mean_squared_error: 0.5542\n",
            "Epoch 58/150\n",
            "6/6 [==============================] - 0s 4ms/step - loss: 0.2844 - mean_squared_error: 0.2844 - val_loss: 0.5417 - val_mean_squared_error: 0.5417\n",
            "Epoch 59/150\n",
            "6/6 [==============================] - 0s 4ms/step - loss: 0.2794 - mean_squared_error: 0.2794 - val_loss: 0.5290 - val_mean_squared_error: 0.5290\n",
            "Epoch 60/150\n",
            "6/6 [==============================] - 0s 4ms/step - loss: 0.2731 - mean_squared_error: 0.2731 - val_loss: 0.5235 - val_mean_squared_error: 0.5235\n",
            "Epoch 61/150\n",
            "6/6 [==============================] - 0s 4ms/step - loss: 0.2678 - mean_squared_error: 0.2678 - val_loss: 0.5236 - val_mean_squared_error: 0.5236\n",
            "Epoch 62/150\n",
            "6/6 [==============================] - 0s 4ms/step - loss: 0.2622 - mean_squared_error: 0.2622 - val_loss: 0.5156 - val_mean_squared_error: 0.5156\n",
            "Epoch 63/150\n",
            "6/6 [==============================] - 0s 4ms/step - loss: 0.2572 - mean_squared_error: 0.2572 - val_loss: 0.5133 - val_mean_squared_error: 0.5133\n",
            "Epoch 64/150\n",
            "6/6 [==============================] - 0s 4ms/step - loss: 0.2521 - mean_squared_error: 0.2521 - val_loss: 0.5042 - val_mean_squared_error: 0.5042\n",
            "Epoch 65/150\n",
            "6/6 [==============================] - 0s 4ms/step - loss: 0.2473 - mean_squared_error: 0.2473 - val_loss: 0.5029 - val_mean_squared_error: 0.5029\n",
            "Epoch 66/150\n",
            "6/6 [==============================] - 0s 4ms/step - loss: 0.2416 - mean_squared_error: 0.2416 - val_loss: 0.4929 - val_mean_squared_error: 0.4929\n",
            "Epoch 67/150\n",
            "6/6 [==============================] - 0s 4ms/step - loss: 0.2369 - mean_squared_error: 0.2369 - val_loss: 0.4819 - val_mean_squared_error: 0.4819\n",
            "Epoch 68/150\n",
            "6/6 [==============================] - 0s 4ms/step - loss: 0.2327 - mean_squared_error: 0.2327 - val_loss: 0.4700 - val_mean_squared_error: 0.4700\n",
            "Epoch 69/150\n",
            "6/6 [==============================] - 0s 4ms/step - loss: 0.2278 - mean_squared_error: 0.2278 - val_loss: 0.4678 - val_mean_squared_error: 0.4678\n",
            "Epoch 70/150\n",
            "6/6 [==============================] - 0s 4ms/step - loss: 0.2230 - mean_squared_error: 0.2230 - val_loss: 0.4626 - val_mean_squared_error: 0.4626\n",
            "Epoch 71/150\n",
            "6/6 [==============================] - 0s 4ms/step - loss: 0.2179 - mean_squared_error: 0.2179 - val_loss: 0.4581 - val_mean_squared_error: 0.4581\n",
            "Epoch 72/150\n",
            "6/6 [==============================] - 0s 5ms/step - loss: 0.2141 - mean_squared_error: 0.2141 - val_loss: 0.4598 - val_mean_squared_error: 0.4598\n",
            "Epoch 73/150\n",
            "6/6 [==============================] - 0s 4ms/step - loss: 0.2099 - mean_squared_error: 0.2099 - val_loss: 0.4538 - val_mean_squared_error: 0.4538\n",
            "Epoch 74/150\n",
            "6/6 [==============================] - 0s 4ms/step - loss: 0.2059 - mean_squared_error: 0.2059 - val_loss: 0.4499 - val_mean_squared_error: 0.4499\n",
            "Epoch 75/150\n",
            "6/6 [==============================] - 0s 4ms/step - loss: 0.2014 - mean_squared_error: 0.2014 - val_loss: 0.4423 - val_mean_squared_error: 0.4423\n",
            "Epoch 76/150\n",
            "6/6 [==============================] - 0s 4ms/step - loss: 0.1973 - mean_squared_error: 0.1973 - val_loss: 0.4295 - val_mean_squared_error: 0.4295\n",
            "Epoch 77/150\n",
            "6/6 [==============================] - 0s 4ms/step - loss: 0.1938 - mean_squared_error: 0.1938 - val_loss: 0.4286 - val_mean_squared_error: 0.4286\n",
            "Epoch 78/150\n",
            "6/6 [==============================] - 0s 4ms/step - loss: 0.1898 - mean_squared_error: 0.1898 - val_loss: 0.4160 - val_mean_squared_error: 0.4160\n",
            "Epoch 79/150\n",
            "6/6 [==============================] - 0s 4ms/step - loss: 0.1861 - mean_squared_error: 0.1861 - val_loss: 0.4073 - val_mean_squared_error: 0.4073\n",
            "Epoch 80/150\n",
            "6/6 [==============================] - 0s 4ms/step - loss: 0.1823 - mean_squared_error: 0.1823 - val_loss: 0.4059 - val_mean_squared_error: 0.4059\n",
            "Epoch 81/150\n",
            "6/6 [==============================] - 0s 4ms/step - loss: 0.1788 - mean_squared_error: 0.1788 - val_loss: 0.4055 - val_mean_squared_error: 0.4055\n",
            "Epoch 82/150\n",
            "6/6 [==============================] - 0s 4ms/step - loss: 0.1752 - mean_squared_error: 0.1752 - val_loss: 0.4065 - val_mean_squared_error: 0.4065\n",
            "Epoch 83/150\n",
            "6/6 [==============================] - 0s 4ms/step - loss: 0.1717 - mean_squared_error: 0.1717 - val_loss: 0.4051 - val_mean_squared_error: 0.4051\n",
            "Epoch 84/150\n",
            "6/6 [==============================] - 0s 4ms/step - loss: 0.1680 - mean_squared_error: 0.1680 - val_loss: 0.3960 - val_mean_squared_error: 0.3960\n",
            "Epoch 85/150\n",
            "6/6 [==============================] - 0s 4ms/step - loss: 0.1647 - mean_squared_error: 0.1647 - val_loss: 0.3887 - val_mean_squared_error: 0.3887\n",
            "Epoch 86/150\n",
            "6/6 [==============================] - 0s 4ms/step - loss: 0.1614 - mean_squared_error: 0.1614 - val_loss: 0.3807 - val_mean_squared_error: 0.3807\n",
            "Epoch 87/150\n",
            "6/6 [==============================] - 0s 4ms/step - loss: 0.1584 - mean_squared_error: 0.1584 - val_loss: 0.3785 - val_mean_squared_error: 0.3785\n",
            "Epoch 88/150\n",
            "6/6 [==============================] - 0s 4ms/step - loss: 0.1551 - mean_squared_error: 0.1551 - val_loss: 0.3672 - val_mean_squared_error: 0.3672\n",
            "Epoch 89/150\n",
            "6/6 [==============================] - 0s 4ms/step - loss: 0.1523 - mean_squared_error: 0.1523 - val_loss: 0.3663 - val_mean_squared_error: 0.3663\n",
            "Epoch 90/150\n",
            "6/6 [==============================] - 0s 4ms/step - loss: 0.1492 - mean_squared_error: 0.1492 - val_loss: 0.3648 - val_mean_squared_error: 0.3648\n",
            "Epoch 91/150\n",
            "6/6 [==============================] - 0s 4ms/step - loss: 0.1460 - mean_squared_error: 0.1460 - val_loss: 0.3560 - val_mean_squared_error: 0.3560\n",
            "Epoch 92/150\n",
            "6/6 [==============================] - 0s 4ms/step - loss: 0.1435 - mean_squared_error: 0.1435 - val_loss: 0.3478 - val_mean_squared_error: 0.3478\n",
            "Epoch 93/150\n",
            "6/6 [==============================] - 0s 4ms/step - loss: 0.1406 - mean_squared_error: 0.1406 - val_loss: 0.3465 - val_mean_squared_error: 0.3465\n",
            "Epoch 94/150\n",
            "6/6 [==============================] - 0s 4ms/step - loss: 0.1380 - mean_squared_error: 0.1380 - val_loss: 0.3448 - val_mean_squared_error: 0.3448\n",
            "Epoch 95/150\n",
            "6/6 [==============================] - 0s 4ms/step - loss: 0.1351 - mean_squared_error: 0.1351 - val_loss: 0.3403 - val_mean_squared_error: 0.3403\n",
            "Epoch 96/150\n",
            "6/6 [==============================] - 0s 4ms/step - loss: 0.1327 - mean_squared_error: 0.1327 - val_loss: 0.3356 - val_mean_squared_error: 0.3356\n",
            "Epoch 97/150\n",
            "6/6 [==============================] - 0s 4ms/step - loss: 0.1299 - mean_squared_error: 0.1299 - val_loss: 0.3329 - val_mean_squared_error: 0.3329\n",
            "Epoch 98/150\n",
            "6/6 [==============================] - 0s 4ms/step - loss: 0.1274 - mean_squared_error: 0.1274 - val_loss: 0.3298 - val_mean_squared_error: 0.3298\n",
            "Epoch 99/150\n",
            "6/6 [==============================] - 0s 4ms/step - loss: 0.1253 - mean_squared_error: 0.1253 - val_loss: 0.3218 - val_mean_squared_error: 0.3218\n",
            "Epoch 100/150\n",
            "6/6 [==============================] - 0s 4ms/step - loss: 0.1229 - mean_squared_error: 0.1229 - val_loss: 0.3174 - val_mean_squared_error: 0.3174\n",
            "Epoch 101/150\n",
            "6/6 [==============================] - 0s 4ms/step - loss: 0.1202 - mean_squared_error: 0.1202 - val_loss: 0.3129 - val_mean_squared_error: 0.3129\n",
            "Epoch 102/150\n",
            "6/6 [==============================] - 0s 4ms/step - loss: 0.1180 - mean_squared_error: 0.1180 - val_loss: 0.3048 - val_mean_squared_error: 0.3048\n",
            "Epoch 103/150\n",
            "6/6 [==============================] - 0s 4ms/step - loss: 0.1156 - mean_squared_error: 0.1156 - val_loss: 0.3068 - val_mean_squared_error: 0.3068\n",
            "Epoch 104/150\n",
            "6/6 [==============================] - 0s 4ms/step - loss: 0.1134 - mean_squared_error: 0.1134 - val_loss: 0.3049 - val_mean_squared_error: 0.3049\n",
            "Epoch 105/150\n",
            "6/6 [==============================] - 0s 4ms/step - loss: 0.1112 - mean_squared_error: 0.1112 - val_loss: 0.3007 - val_mean_squared_error: 0.3007\n",
            "Epoch 106/150\n",
            "6/6 [==============================] - 0s 4ms/step - loss: 0.1095 - mean_squared_error: 0.1095 - val_loss: 0.2959 - val_mean_squared_error: 0.2959\n",
            "Epoch 107/150\n",
            "6/6 [==============================] - 0s 4ms/step - loss: 0.1072 - mean_squared_error: 0.1072 - val_loss: 0.2931 - val_mean_squared_error: 0.2931\n",
            "Epoch 108/150\n",
            "6/6 [==============================] - 0s 4ms/step - loss: 0.1051 - mean_squared_error: 0.1051 - val_loss: 0.2865 - val_mean_squared_error: 0.2865\n",
            "Epoch 109/150\n",
            "6/6 [==============================] - 0s 4ms/step - loss: 0.1036 - mean_squared_error: 0.1036 - val_loss: 0.2799 - val_mean_squared_error: 0.2799\n",
            "Epoch 110/150\n",
            "6/6 [==============================] - 0s 4ms/step - loss: 0.1014 - mean_squared_error: 0.1014 - val_loss: 0.2786 - val_mean_squared_error: 0.2786\n",
            "Epoch 111/150\n",
            "6/6 [==============================] - 0s 4ms/step - loss: 0.0993 - mean_squared_error: 0.0993 - val_loss: 0.2773 - val_mean_squared_error: 0.2773\n",
            "Epoch 112/150\n",
            "6/6 [==============================] - 0s 4ms/step - loss: 0.0972 - mean_squared_error: 0.0972 - val_loss: 0.2724 - val_mean_squared_error: 0.2724\n",
            "Epoch 113/150\n",
            "6/6 [==============================] - 0s 4ms/step - loss: 0.0953 - mean_squared_error: 0.0953 - val_loss: 0.2680 - val_mean_squared_error: 0.2680\n",
            "Epoch 114/150\n",
            "6/6 [==============================] - 0s 4ms/step - loss: 0.0934 - mean_squared_error: 0.0934 - val_loss: 0.2662 - val_mean_squared_error: 0.2662\n",
            "Epoch 115/150\n",
            "6/6 [==============================] - 0s 4ms/step - loss: 0.0918 - mean_squared_error: 0.0918 - val_loss: 0.2607 - val_mean_squared_error: 0.2607\n",
            "Epoch 116/150\n",
            "6/6 [==============================] - 0s 4ms/step - loss: 0.0901 - mean_squared_error: 0.0901 - val_loss: 0.2576 - val_mean_squared_error: 0.2576\n",
            "Epoch 117/150\n",
            "6/6 [==============================] - 0s 4ms/step - loss: 0.0889 - mean_squared_error: 0.0889 - val_loss: 0.2566 - val_mean_squared_error: 0.2566\n",
            "Epoch 118/150\n",
            "6/6 [==============================] - 0s 4ms/step - loss: 0.0867 - mean_squared_error: 0.0867 - val_loss: 0.2553 - val_mean_squared_error: 0.2553\n",
            "Epoch 119/150\n",
            "6/6 [==============================] - 0s 4ms/step - loss: 0.0857 - mean_squared_error: 0.0857 - val_loss: 0.2451 - val_mean_squared_error: 0.2451\n",
            "Epoch 120/150\n",
            "6/6 [==============================] - 0s 4ms/step - loss: 0.0841 - mean_squared_error: 0.0841 - val_loss: 0.2443 - val_mean_squared_error: 0.2443\n",
            "Epoch 121/150\n",
            "6/6 [==============================] - 0s 4ms/step - loss: 0.0825 - mean_squared_error: 0.0825 - val_loss: 0.2414 - val_mean_squared_error: 0.2414\n",
            "Epoch 122/150\n",
            "6/6 [==============================] - 0s 4ms/step - loss: 0.0807 - mean_squared_error: 0.0807 - val_loss: 0.2388 - val_mean_squared_error: 0.2388\n",
            "Epoch 123/150\n",
            "6/6 [==============================] - 0s 4ms/step - loss: 0.0791 - mean_squared_error: 0.0791 - val_loss: 0.2368 - val_mean_squared_error: 0.2368\n",
            "Epoch 124/150\n",
            "6/6 [==============================] - 0s 4ms/step - loss: 0.0780 - mean_squared_error: 0.0780 - val_loss: 0.2338 - val_mean_squared_error: 0.2338\n",
            "Epoch 125/150\n",
            "6/6 [==============================] - 0s 3ms/step - loss: 0.0764 - mean_squared_error: 0.0764 - val_loss: 0.2287 - val_mean_squared_error: 0.2287\n",
            "Epoch 126/150\n",
            "6/6 [==============================] - 0s 4ms/step - loss: 0.0749 - mean_squared_error: 0.0749 - val_loss: 0.2263 - val_mean_squared_error: 0.2263\n",
            "Epoch 127/150\n",
            "6/6 [==============================] - 0s 4ms/step - loss: 0.0736 - mean_squared_error: 0.0736 - val_loss: 0.2225 - val_mean_squared_error: 0.2225\n",
            "Epoch 128/150\n",
            "6/6 [==============================] - 0s 4ms/step - loss: 0.0723 - mean_squared_error: 0.0723 - val_loss: 0.2224 - val_mean_squared_error: 0.2224\n",
            "Epoch 129/150\n",
            "6/6 [==============================] - 0s 4ms/step - loss: 0.0711 - mean_squared_error: 0.0711 - val_loss: 0.2187 - val_mean_squared_error: 0.2187\n",
            "Epoch 130/150\n",
            "6/6 [==============================] - 0s 4ms/step - loss: 0.0700 - mean_squared_error: 0.0700 - val_loss: 0.2184 - val_mean_squared_error: 0.2184\n",
            "Epoch 131/150\n",
            "6/6 [==============================] - 0s 4ms/step - loss: 0.0685 - mean_squared_error: 0.0685 - val_loss: 0.2150 - val_mean_squared_error: 0.2150\n",
            "Epoch 132/150\n",
            "6/6 [==============================] - 0s 4ms/step - loss: 0.0675 - mean_squared_error: 0.0675 - val_loss: 0.2075 - val_mean_squared_error: 0.2075\n",
            "Epoch 133/150\n",
            "6/6 [==============================] - 0s 4ms/step - loss: 0.0663 - mean_squared_error: 0.0663 - val_loss: 0.2031 - val_mean_squared_error: 0.2031\n",
            "Epoch 134/150\n",
            "6/6 [==============================] - 0s 4ms/step - loss: 0.0653 - mean_squared_error: 0.0653 - val_loss: 0.2063 - val_mean_squared_error: 0.2063\n",
            "Epoch 135/150\n",
            "6/6 [==============================] - 0s 4ms/step - loss: 0.0639 - mean_squared_error: 0.0639 - val_loss: 0.2025 - val_mean_squared_error: 0.2025\n",
            "Epoch 136/150\n",
            "6/6 [==============================] - 0s 4ms/step - loss: 0.0629 - mean_squared_error: 0.0629 - val_loss: 0.2026 - val_mean_squared_error: 0.2026\n",
            "Epoch 137/150\n",
            "6/6 [==============================] - 0s 4ms/step - loss: 0.0620 - mean_squared_error: 0.0620 - val_loss: 0.1974 - val_mean_squared_error: 0.1974\n",
            "Epoch 138/150\n",
            "6/6 [==============================] - 0s 4ms/step - loss: 0.0608 - mean_squared_error: 0.0608 - val_loss: 0.1916 - val_mean_squared_error: 0.1916\n",
            "Epoch 139/150\n",
            "6/6 [==============================] - 0s 4ms/step - loss: 0.0598 - mean_squared_error: 0.0598 - val_loss: 0.1902 - val_mean_squared_error: 0.1902\n",
            "Epoch 140/150\n",
            "6/6 [==============================] - 0s 4ms/step - loss: 0.0586 - mean_squared_error: 0.0586 - val_loss: 0.1885 - val_mean_squared_error: 0.1885\n",
            "Epoch 141/150\n",
            "6/6 [==============================] - 0s 4ms/step - loss: 0.0580 - mean_squared_error: 0.0580 - val_loss: 0.1910 - val_mean_squared_error: 0.1910\n",
            "Epoch 142/150\n",
            "6/6 [==============================] - 0s 4ms/step - loss: 0.0569 - mean_squared_error: 0.0569 - val_loss: 0.1837 - val_mean_squared_error: 0.1837\n",
            "Epoch 143/150\n",
            "6/6 [==============================] - 0s 4ms/step - loss: 0.0558 - mean_squared_error: 0.0558 - val_loss: 0.1817 - val_mean_squared_error: 0.1817\n",
            "Epoch 144/150\n",
            "6/6 [==============================] - 0s 4ms/step - loss: 0.0552 - mean_squared_error: 0.0552 - val_loss: 0.1785 - val_mean_squared_error: 0.1785\n",
            "Epoch 145/150\n",
            "6/6 [==============================] - 0s 4ms/step - loss: 0.0541 - mean_squared_error: 0.0541 - val_loss: 0.1776 - val_mean_squared_error: 0.1776\n",
            "Epoch 146/150\n",
            "6/6 [==============================] - 0s 4ms/step - loss: 0.0536 - mean_squared_error: 0.0536 - val_loss: 0.1739 - val_mean_squared_error: 0.1739\n",
            "Epoch 147/150\n",
            "6/6 [==============================] - 0s 4ms/step - loss: 0.0525 - mean_squared_error: 0.0525 - val_loss: 0.1719 - val_mean_squared_error: 0.1719\n",
            "Epoch 148/150\n",
            "6/6 [==============================] - 0s 4ms/step - loss: 0.0517 - mean_squared_error: 0.0517 - val_loss: 0.1738 - val_mean_squared_error: 0.1738\n",
            "Epoch 149/150\n",
            "6/6 [==============================] - 0s 4ms/step - loss: 0.0508 - mean_squared_error: 0.0508 - val_loss: 0.1734 - val_mean_squared_error: 0.1734\n",
            "Epoch 150/150\n",
            "6/6 [==============================] - 0s 4ms/step - loss: 0.0500 - mean_squared_error: 0.0500 - val_loss: 0.1665 - val_mean_squared_error: 0.1665\n"
          ],
          "name": "stdout"
        }
      ]
    },
    {
      "cell_type": "code",
      "metadata": {
        "id": "32jFj14Qz_qx",
        "outputId": "0427cf28-b702-4721-e98a-02d54a1deb26",
        "colab": {
          "base_uri": "https://localhost:8080/",
          "height": 295
        }
      },
      "source": [
        "from google.colab import files\n",
        "ls=plt.figure()\n",
        "plt.plot(history.history['loss'])\n",
        "plt.plot(history.history['val_loss'])\n",
        "plt.title('model loss')\n",
        "plt.ylabel('loss')\n",
        "plt.xlabel('epoch')\n",
        "plt.legend(['train', 'test'], loc='upper left')\n",
        "ls.show()\n",
        "ls.savefig('/content/drive/My Drive/MMF_Reservoir/NYC_Covid/loss-expset_intel.png')\n",
        "#files.download('loss-1.png')"
      ],
      "execution_count": null,
      "outputs": [
        {
          "output_type": "display_data",
          "data": {
            "image/png": "[encoded data removed]",
            "text/plain": [
              "<Figure size 432x288 with 1 Axes>"
            ]
          },
          "metadata": {
            "tags": [],
            "needs_background": "light"
          }
        }
      ]
    },
    {
      "cell_type": "code",
      "metadata": {
        "id": "ofMIsQfS3slr",
        "outputId": "b793a8a7-9472-48f0-806b-767ef17abc1f",
        "colab": {
          "base_uri": "https://localhost:8080/"
        }
      },
      "source": [
        "abit = model.predict(X_test)\n",
        "from sklearn.metrics import mean_squared_error\n",
        "print('MSE ' + str(mean_squared_error(abit, y_test)))\n",
        "print('RMSE ' + str(np.sqrt(mean_squared_error(abit, y_test))))"
      ],
      "execution_count": null,
      "outputs": [
        {
          "output_type": "stream",
          "text": [
            "MSE 0.16650655677142684\n",
            "RMSE 0.4080521495733442\n"
          ],
          "name": "stdout"
        }
      ]
    },
    {
      "cell_type": "code",
      "metadata": {
        "id": "sv0iP24XOhHK",
        "outputId": "d40f5d5a-a48f-4511-b0f1-37d38bb6ee8d",
        "colab": {
          "base_uri": "https://localhost:8080/",
          "height": 266
        }
      },
      "source": [
        "ls=plt.figure()\n",
        "plt.plot(abit,'ro')\n",
        "plt.plot(y_test,'bo')\n",
        "plt.legend(['DNNs prediction', 'Ground Truth'], loc='upper right')\n",
        "ls.show()\n",
        "ls.savefig('/content/drive/My Drive/MMF_Reservoir/NYC_Covid/loss-expset_res_intel.png')\n"
      ],
      "execution_count": null,
      "outputs": [
        {
          "output_type": "display_data",
          "data": {
            "image/png": "[encoded data removed]",
            "text/plain": [
              "<Figure size 432x288 with 1 Axes>"
            ]
          },
          "metadata": {
            "tags": [],
            "needs_background": "light"
          }
        }
      ]
    },
    {
      "cell_type": "code",
      "metadata": {
        "id": "DXy42VNzHGSi",
        "outputId": "4d3d385a-3860-460f-ec7d-78fa994ddede",
        "colab": {
          "base_uri": "https://localhost:8080/"
        }
      },
      "source": [
        "abit = model.predict(inp)\n",
        "from sklearn.metrics import mean_squared_error\n",
        "print('MSE ' + str(mean_squared_error(abit, out.T)))\n",
        "print('RMSE ' + str(np.sqrt(mean_squared_error(abit, out.T))))"
      ],
      "execution_count": null,
      "outputs": [
        {
          "output_type": "stream",
          "text": [
            "MSE 0.061010745185281746\n",
            "RMSE 0.2470035327384646\n"
          ],
          "name": "stdout"
        }
      ]
    },
    {
      "cell_type": "code",
      "metadata": {
        "id": "TSBwguZlwYOM",
        "outputId": "675d1bec-bc95-4a15-df83-6261ca4c336e",
        "colab": {
          "base_uri": "https://localhost:8080/",
          "height": 265
        }
      },
      "source": [
        "ls=plt.figure()\n",
        "plt.plot(abit,'ro')\n",
        "plt.plot(out.T,'bo')\n",
        "plt.legend(['DNNs prediction', 'Ground Truth'], loc='upper right')\n",
        "ls.show()\n",
        "ls.savefig('/content/drive/My Drive/MMF_Reservoir/NYC_Covid/loss-expset_res_alldata_intel.png')"
      ],
      "execution_count": null,
      "outputs": [
        {
          "output_type": "display_data",
          "data": {
            "image/png": "[encoded data removed]",
            "text/plain": [
              "<Figure size 432x288 with 1 Axes>"
            ]
          },
          "metadata": {
            "tags": [],
            "needs_background": "light"
          }
        }
      ]
    }
  ]
}
