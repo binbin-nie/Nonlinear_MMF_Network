{
  "nbformat": 4,
  "nbformat_minor": 0,
  "metadata": {
    "colab": {
      "name": "PaperSpeakerGrating.ipynb",
      "provenance": [],
      "collapsed_sections": [],
      "machine_shape": "hm"
    },
    "kernelspec": {
      "name": "python3",
      "display_name": "Python 3"
    },
    "accelerator": "GPU"
  },
  "cells": [
    {
      "cell_type": "code",
      "metadata": {
        "id": "plRoSF3YWrl5",
        "colab": {
          "base_uri": "https://localhost:8080/"
        },
        "outputId": "1df85493-e509-4327-c9c8-8c8457d17c6e"
      },
      "source": [
        "import numpy as np\n",
        "import matplotlib.pyplot as plt\n",
        "import scipy.io as sio\n",
        "import tensorflow as tf\n",
        "\n",
        "\n",
        "from tensorflow import keras\n",
        "from sklearn.model_selection import train_test_split\n",
        "from tensorflow.keras.models import Model,Sequential\n",
        "from tensorflow.keras.layers import Input, Activation, LSTM\n",
        "from tensorflow.keras.layers import Dense, Dropout, Flatten, Conv2D, MaxPooling2D, AveragePooling2D \n",
        "from tensorflow.keras.optimizers import SGD, Adam\n",
        "from tensorflow.keras.utils import to_categorical, normalize\n",
        "\n",
        "# Load the Drive helper and mount\n",
        "from google.colab import drive\n",
        "\n",
        "# This will prompt for authorization.\n",
        "drive.mount('/content/drive')"
      ],
      "execution_count": null,
      "outputs": [
        {
          "output_type": "stream",
          "text": [
            "Drive already mounted at /content/drive; to attempt to forcibly remount, call drive.mount(\"/content/drive\", force_remount=True).\n"
          ],
          "name": "stdout"
        }
      ]
    },
    {
      "cell_type": "code",
      "metadata": {
        "id": "PDK63hJmW5D4"
      },
      "source": [
        "import scipy.io as sio\n",
        "f = sio.loadmat('/content/drive/My Drive/SoloPaper/Audio/res_sq_flt1.mat')\n",
        "inp = f['res_sq_flt']\n",
        "\n",
        "#Load data\n",
        "f2 = sio.loadmat('/content/drive/My Drive/SoloPaper/Audio/label2shu.mat')\n",
        "out = f2['label2new']"
      ],
      "execution_count": null,
      "outputs": []
    },
    {
      "cell_type": "code",
      "metadata": {
        "id": "pYBJB9YglGiX",
        "colab": {
          "base_uri": "https://localhost:8080/"
        },
        "outputId": "1b45445d-f29e-4fe7-c255-b794b8279ff0"
      },
      "source": [
        "input_data = inp\n",
        "output_dataf = out.T\n",
        "output_data = to_categorical(output_dataf)\n",
        "\n",
        "print('input_data : ', input_data.shape, input_data.dtype)\n",
        "print('output_class : ', output_data.shape, output_data.dtype)\n",
        "print()"
      ],
      "execution_count": null,
      "outputs": [
        {
          "output_type": "stream",
          "text": [
            "input_data :  (3000, 484) float64\n",
            "output_class :  (3000, 6) float32\n",
            "\n"
          ],
          "name": "stdout"
        }
      ]
    },
    {
      "cell_type": "code",
      "metadata": {
        "id": "JMVZ-aoTk1wf",
        "colab": {
          "base_uri": "https://localhost:8080/"
        },
        "outputId": "565b71ba-f2a9-48bd-a27b-0292792339a2"
      },
      "source": [
        "oran = 0.20\n",
        "X_train, X_test, y_train, y_test = train_test_split(input_data, output_data, test_size=oran)\n",
        "\n",
        "print('Test data : ', X_test.shape, X_test.dtype)\n",
        "print('Training data : ', X_train.shape, X_train.dtype)\n",
        "print()"
      ],
      "execution_count": null,
      "outputs": [
        {
          "output_type": "stream",
          "text": [
            "Test data :  (600, 484) float64\n",
            "Training data :  (2400, 484) float64\n",
            "\n"
          ],
          "name": "stdout"
        }
      ]
    },
    {
      "cell_type": "code",
      "metadata": {
        "id": "SycmK62goI2t"
      },
      "source": [
        "model = Sequential()\n",
        "model.add(Dense(6, input_dim=484, activation='softmax'))"
      ],
      "execution_count": null,
      "outputs": []
    },
    {
      "cell_type": "code",
      "metadata": {
        "id": "Sg1arrHHoSF1",
        "colab": {
          "base_uri": "https://localhost:8080/"
        },
        "outputId": "41f6123d-e8e1-4695-a053-bd4effbd3261"
      },
      "source": [
        "loss='categorical_crossentropy' # mean_absolute_error, cosine_proximity\n",
        "metrics = ['accuracy']  # network accuracy metric to be determined after each epoch, mean_absolute_error, cosine_proximity\n",
        "\n",
        "opt1 = SGD(lr=0.001, momentum=0.9)\n",
        "opt2 = Adam(lr=0.001, beta_1=0.9, beta_2=0.999)\n",
        "\n",
        "model.compile(optimizer=opt2, loss=loss, metrics=metrics)\n",
        "model.summary()"
      ],
      "execution_count": null,
      "outputs": [
        {
          "output_type": "stream",
          "text": [
            "Model: \"sequential\"\n",
            "_________________________________________________________________\n",
            "Layer (type)                 Output Shape              Param #   \n",
            "=================================================================\n",
            "dense (Dense)                (None, 6)                 2910      \n",
            "=================================================================\n",
            "Total params: 2,910\n",
            "Trainable params: 2,910\n",
            "Non-trainable params: 0\n",
            "_________________________________________________________________\n"
          ],
          "name": "stdout"
        }
      ]
    },
    {
      "cell_type": "code",
      "metadata": {
        "id": "ZavprgepoUEE",
        "colab": {
          "base_uri": "https://localhost:8080/"
        },
        "outputId": "a85137df-1c55-445b-ae9c-217298f5e257"
      },
      "source": [
        "#setting final parameters for the network and it begins to train\n",
        "number_of_iterations = 50\n",
        "batch_size = 50\n",
        "\n",
        "#history=model.fit(X_train, y_train, validation_data=(X_test, y_test), epochs=number_of_iterations)\n",
        "history=model.fit(X_train, y_train, batch_size=batch_size, epochs=number_of_iterations, verbose=1, validation_data=(X_test, y_test))\n",
        "#Number of iterations run: 900"
      ],
      "execution_count": null,
      "outputs": [
        {
          "output_type": "stream",
          "text": [
            "Epoch 1/50\n",
            "48/48 [==============================] - 1s 10ms/step - loss: 1.5631 - accuracy: 0.4094 - val_loss: 0.8560 - val_accuracy: 0.6967\n",
            "Epoch 2/50\n",
            "48/48 [==============================] - 0s 2ms/step - loss: 0.7599 - accuracy: 0.7525 - val_loss: 0.6422 - val_accuracy: 0.8083\n",
            "Epoch 3/50\n",
            "48/48 [==============================] - 0s 2ms/step - loss: 0.5986 - accuracy: 0.7994 - val_loss: 0.5373 - val_accuracy: 0.8600\n",
            "Epoch 4/50\n",
            "48/48 [==============================] - 0s 2ms/step - loss: 0.4839 - accuracy: 0.8439 - val_loss: 0.4787 - val_accuracy: 0.8600\n",
            "Epoch 5/50\n",
            "48/48 [==============================] - 0s 2ms/step - loss: 0.4410 - accuracy: 0.8758 - val_loss: 0.4243 - val_accuracy: 0.8817\n",
            "Epoch 6/50\n",
            "48/48 [==============================] - 0s 2ms/step - loss: 0.3947 - accuracy: 0.8811 - val_loss: 0.3937 - val_accuracy: 0.8967\n",
            "Epoch 7/50\n",
            "48/48 [==============================] - 0s 2ms/step - loss: 0.3773 - accuracy: 0.8839 - val_loss: 0.3672 - val_accuracy: 0.9033\n",
            "Epoch 8/50\n",
            "48/48 [==============================] - 0s 2ms/step - loss: 0.3331 - accuracy: 0.8976 - val_loss: 0.3392 - val_accuracy: 0.9083\n",
            "Epoch 9/50\n",
            "48/48 [==============================] - 0s 2ms/step - loss: 0.3252 - accuracy: 0.9061 - val_loss: 0.3297 - val_accuracy: 0.9100\n",
            "Epoch 10/50\n",
            "48/48 [==============================] - 0s 2ms/step - loss: 0.2985 - accuracy: 0.9119 - val_loss: 0.3150 - val_accuracy: 0.9167\n",
            "Epoch 11/50\n",
            "48/48 [==============================] - 0s 2ms/step - loss: 0.2987 - accuracy: 0.9060 - val_loss: 0.3030 - val_accuracy: 0.9233\n",
            "Epoch 12/50\n",
            "48/48 [==============================] - 0s 2ms/step - loss: 0.2639 - accuracy: 0.9242 - val_loss: 0.2896 - val_accuracy: 0.9217\n",
            "Epoch 13/50\n",
            "48/48 [==============================] - 0s 2ms/step - loss: 0.2608 - accuracy: 0.9305 - val_loss: 0.2772 - val_accuracy: 0.9283\n",
            "Epoch 14/50\n",
            "48/48 [==============================] - 0s 2ms/step - loss: 0.2431 - accuracy: 0.9258 - val_loss: 0.2743 - val_accuracy: 0.9317\n",
            "Epoch 15/50\n",
            "48/48 [==============================] - 0s 2ms/step - loss: 0.2404 - accuracy: 0.9287 - val_loss: 0.2718 - val_accuracy: 0.9233\n",
            "Epoch 16/50\n",
            "48/48 [==============================] - 0s 2ms/step - loss: 0.2492 - accuracy: 0.9269 - val_loss: 0.2604 - val_accuracy: 0.9350\n",
            "Epoch 17/50\n",
            "48/48 [==============================] - 0s 2ms/step - loss: 0.2247 - accuracy: 0.9382 - val_loss: 0.2484 - val_accuracy: 0.9400\n",
            "Epoch 18/50\n",
            "48/48 [==============================] - 0s 2ms/step - loss: 0.2056 - accuracy: 0.9502 - val_loss: 0.2445 - val_accuracy: 0.9367\n",
            "Epoch 19/50\n",
            "48/48 [==============================] - 0s 2ms/step - loss: 0.2059 - accuracy: 0.9451 - val_loss: 0.2397 - val_accuracy: 0.9283\n",
            "Epoch 20/50\n",
            "48/48 [==============================] - 0s 2ms/step - loss: 0.1928 - accuracy: 0.9464 - val_loss: 0.2342 - val_accuracy: 0.9383\n",
            "Epoch 21/50\n",
            "48/48 [==============================] - 0s 2ms/step - loss: 0.2027 - accuracy: 0.9421 - val_loss: 0.2320 - val_accuracy: 0.9367\n",
            "Epoch 22/50\n",
            "48/48 [==============================] - 0s 2ms/step - loss: 0.1894 - accuracy: 0.9486 - val_loss: 0.2251 - val_accuracy: 0.9367\n",
            "Epoch 23/50\n",
            "48/48 [==============================] - 0s 2ms/step - loss: 0.1924 - accuracy: 0.9459 - val_loss: 0.2240 - val_accuracy: 0.9400\n",
            "Epoch 24/50\n",
            "48/48 [==============================] - 0s 2ms/step - loss: 0.1694 - accuracy: 0.9586 - val_loss: 0.2199 - val_accuracy: 0.9450\n",
            "Epoch 25/50\n",
            "48/48 [==============================] - 0s 2ms/step - loss: 0.1745 - accuracy: 0.9584 - val_loss: 0.2211 - val_accuracy: 0.9417\n",
            "Epoch 26/50\n",
            "48/48 [==============================] - 0s 2ms/step - loss: 0.1734 - accuracy: 0.9514 - val_loss: 0.2158 - val_accuracy: 0.9400\n",
            "Epoch 27/50\n",
            "48/48 [==============================] - 0s 2ms/step - loss: 0.1664 - accuracy: 0.9555 - val_loss: 0.2110 - val_accuracy: 0.9433\n",
            "Epoch 28/50\n",
            "48/48 [==============================] - 0s 2ms/step - loss: 0.1591 - accuracy: 0.9597 - val_loss: 0.2123 - val_accuracy: 0.9433\n",
            "Epoch 29/50\n",
            "48/48 [==============================] - 0s 2ms/step - loss: 0.1532 - accuracy: 0.9644 - val_loss: 0.2079 - val_accuracy: 0.9383\n",
            "Epoch 30/50\n",
            "48/48 [==============================] - 0s 2ms/step - loss: 0.1534 - accuracy: 0.9632 - val_loss: 0.2050 - val_accuracy: 0.9467\n",
            "Epoch 31/50\n",
            "48/48 [==============================] - 0s 2ms/step - loss: 0.1481 - accuracy: 0.9632 - val_loss: 0.2012 - val_accuracy: 0.9450\n",
            "Epoch 32/50\n",
            "48/48 [==============================] - 0s 2ms/step - loss: 0.1487 - accuracy: 0.9627 - val_loss: 0.1951 - val_accuracy: 0.9467\n",
            "Epoch 33/50\n",
            "48/48 [==============================] - 0s 2ms/step - loss: 0.1370 - accuracy: 0.9645 - val_loss: 0.1962 - val_accuracy: 0.9450\n",
            "Epoch 34/50\n",
            "48/48 [==============================] - 0s 2ms/step - loss: 0.1370 - accuracy: 0.9676 - val_loss: 0.1958 - val_accuracy: 0.9467\n",
            "Epoch 35/50\n",
            "48/48 [==============================] - 0s 2ms/step - loss: 0.1432 - accuracy: 0.9628 - val_loss: 0.1953 - val_accuracy: 0.9467\n",
            "Epoch 36/50\n",
            "48/48 [==============================] - 0s 2ms/step - loss: 0.1228 - accuracy: 0.9730 - val_loss: 0.1918 - val_accuracy: 0.9433\n",
            "Epoch 37/50\n",
            "48/48 [==============================] - 0s 2ms/step - loss: 0.1240 - accuracy: 0.9650 - val_loss: 0.1908 - val_accuracy: 0.9450\n",
            "Epoch 38/50\n",
            "48/48 [==============================] - 0s 2ms/step - loss: 0.1324 - accuracy: 0.9644 - val_loss: 0.1904 - val_accuracy: 0.9467\n",
            "Epoch 39/50\n",
            "48/48 [==============================] - 0s 2ms/step - loss: 0.1165 - accuracy: 0.9739 - val_loss: 0.1919 - val_accuracy: 0.9450\n",
            "Epoch 40/50\n",
            "48/48 [==============================] - 0s 2ms/step - loss: 0.1112 - accuracy: 0.9773 - val_loss: 0.1860 - val_accuracy: 0.9467\n",
            "Epoch 41/50\n",
            "48/48 [==============================] - 0s 2ms/step - loss: 0.1214 - accuracy: 0.9735 - val_loss: 0.1896 - val_accuracy: 0.9433\n",
            "Epoch 42/50\n",
            "48/48 [==============================] - 0s 2ms/step - loss: 0.1079 - accuracy: 0.9785 - val_loss: 0.1840 - val_accuracy: 0.9450\n",
            "Epoch 43/50\n",
            "48/48 [==============================] - 0s 2ms/step - loss: 0.1116 - accuracy: 0.9746 - val_loss: 0.1853 - val_accuracy: 0.9417\n",
            "Epoch 44/50\n",
            "48/48 [==============================] - 0s 2ms/step - loss: 0.1135 - accuracy: 0.9764 - val_loss: 0.1904 - val_accuracy: 0.9467\n",
            "Epoch 45/50\n",
            "48/48 [==============================] - 0s 2ms/step - loss: 0.1225 - accuracy: 0.9690 - val_loss: 0.1822 - val_accuracy: 0.9467\n",
            "Epoch 46/50\n",
            "48/48 [==============================] - 0s 2ms/step - loss: 0.1161 - accuracy: 0.9741 - val_loss: 0.1844 - val_accuracy: 0.9450\n",
            "Epoch 47/50\n",
            "48/48 [==============================] - 0s 2ms/step - loss: 0.1175 - accuracy: 0.9699 - val_loss: 0.1861 - val_accuracy: 0.9417\n",
            "Epoch 48/50\n",
            "48/48 [==============================] - 0s 2ms/step - loss: 0.1017 - accuracy: 0.9771 - val_loss: 0.1790 - val_accuracy: 0.9517\n",
            "Epoch 49/50\n",
            "48/48 [==============================] - 0s 2ms/step - loss: 0.1012 - accuracy: 0.9775 - val_loss: 0.1791 - val_accuracy: 0.9450\n",
            "Epoch 50/50\n",
            "48/48 [==============================] - 0s 2ms/step - loss: 0.1106 - accuracy: 0.9738 - val_loss: 0.1793 - val_accuracy: 0.9467\n"
          ],
          "name": "stdout"
        }
      ]
    },
    {
      "cell_type": "code",
      "metadata": {
        "id": "32jFj14Qz_qx",
        "colab": {
          "base_uri": "https://localhost:8080/",
          "height": 571
        },
        "outputId": "4937fce3-949d-45b1-fc37-4ecf7d3ab4a4"
      },
      "source": [
        "from google.colab import files\n",
        "# summarize history for loss\n",
        "ls=plt.figure()\n",
        "plt.plot(history.history['accuracy'])\n",
        "plt.plot(history.history['val_accuracy'])\n",
        "plt.title('model accuracy')\n",
        "plt.ylabel('accuracy')\n",
        "plt.xlabel('epoch')\n",
        "plt.legend(['train', 'test'], loc='upper left')\n",
        "#plt.ylim(0.02,0.4)\n",
        "ls.show()\n",
        "\n",
        "ls=plt.figure()\n",
        "plt.plot(history.history['loss'])\n",
        "plt.plot(history.history['val_loss'])\n",
        "plt.title('model loss')\n",
        "plt.ylabel('loss')\n",
        "plt.xlabel('epoch')\n",
        "plt.legend(['train', 'test'], loc='upper left')\n",
        "#plt.ylim(0.02,0.4)\n",
        "ls.show()\n",
        "#ls.savefig('/content/drive/My Drive/Sinc/loss-exp.png')\n",
        "#files.download('loss-1.png')"
      ],
      "execution_count": null,
      "outputs": [
        {
          "output_type": "display_data",
          "data": {
            "image/png": "[encoded data removed]",
            "text/plain": [
              "<Figure size 432x288 with 1 Axes>"
            ]
          },
          "metadata": {
            "tags": [],
            "needs_background": "light"
          }
        },
        {
          "output_type": "display_data",
          "data": {
            "image/png": "[encoded data removed]",
            "text/plain": [
              "<Figure size 432x288 with 1 Axes>"
            ]
          },
          "metadata": {
            "tags": [],
            "needs_background": "light"
          }
        }
      ]
    },
    {
      "cell_type": "code",
      "metadata": {
        "id": "YyK-ZDqzXaIH",
        "colab": {
          "base_uri": "https://localhost:8080/",
          "height": 424
        },
        "outputId": "0b05a176-9bcd-4ce2-8850-c883d62e1177"
      },
      "source": [
        "def plot_confusion_matrix(cm, classes,\n",
        "\n",
        "                        normalize=False,\n",
        "\n",
        "                        title='Confusion matrix',\n",
        "\n",
        "                        cmap=plt.cm.Blues):\n",
        "\n",
        "    \"\"\"\n",
        "\n",
        "    This function prints and plots the confusion matrix.\n",
        "\n",
        "    Normalization can be applied by setting `normalize=True`.\n",
        "\n",
        "    \"\"\"\n",
        "\n",
        "    plt.imshow(cm, interpolation='nearest', cmap=cmap)\n",
        "\n",
        "    plt.title(title)\n",
        "\n",
        "    plt.colorbar()\n",
        "\n",
        "    tick_marks = np.arange(len(classes))\n",
        "\n",
        "    plt.xticks(tick_marks, classes, rotation=45)\n",
        "\n",
        "    plt.yticks(tick_marks, classes)\n",
        "\n",
        "\n",
        "\n",
        "    if normalize:\n",
        "\n",
        "        cm = cm.astype('float') / cm.sum(axis=1)[:, np.newaxis]\n",
        "\n",
        "        print(\"Normalized confusion matrix\")\n",
        "\n",
        "    else:\n",
        "\n",
        "        print('Confusion matrix, without normalization')\n",
        "\n",
        "\n",
        "\n",
        "    print(cm)\n",
        "\n",
        "\n",
        "\n",
        "    thresh = cm.max() / 2.\n",
        "\n",
        "    for i, j in itertools.product(range(cm.shape[0]), range(cm.shape[1])):\n",
        "\n",
        "        plt.text(j, i, cm[i, j],\n",
        "\n",
        "            horizontalalignment=\"center\",\n",
        "\n",
        "            color=\"white\" if cm[i, j] > thresh else \"black\")\n",
        "\n",
        "\n",
        "\n",
        "    plt.tight_layout()\n",
        "\n",
        "    plt.ylabel('True label')\n",
        "\n",
        "    plt.xlabel('Predicted label')\n",
        "\n",
        "\n",
        "\n",
        "\n",
        "%matplotlib inline\n",
        "\n",
        "from sklearn.metrics import confusion_matrix\n",
        "\n",
        "import itertools\n",
        "\n",
        "import matplotlib.pyplot as plt\n",
        "\n",
        "\n",
        "\n",
        "cm_plot_labels = ['no_side_effects','had_side_effects']\n",
        "\n",
        "\n",
        "\n",
        "cm = confusion_matrix(y_true=np.argmax(y_test,1), y_pred=np.argmax(model.predict(X_test),1))\n",
        "\n",
        "\n",
        "\n",
        "plot_confusion_matrix(cm=cm, classes=cm_plot_labels, title='Confusion Matrix')"
      ],
      "execution_count": null,
      "outputs": [
        {
          "output_type": "stream",
          "text": [
            "Confusion matrix, without normalization\n",
            "[[ 81   0   0   0   0   0]\n",
            " [  0 100   0   0   5   2]\n",
            " [  0   0  97   0   2   3]\n",
            " [  1   3   1  98   0   0]\n",
            " [  1   5   0   1  84   0]\n",
            " [  0   1   2   2   3 108]]\n"
          ],
          "name": "stdout"
        },
        {
          "output_type": "display_data",
          "data": {
            "image/png": "[encoded data removed]",
            "text/plain": [
              "<Figure size 432x288 with 2 Axes>"
            ]
          },
          "metadata": {
            "tags": [],
            "needs_background": "light"
          }
        }
      ]
    },
    {
      "cell_type": "code",
      "metadata": {
        "id": "ofUti1MIIrsh"
      },
      "source": [
        "#sio.savemat('/content/drive/My Drive/SoloPaper/Audio/image_network_res_last_speaker.mat', {'y':out, 'X_test':X_test, 'X_train':X_train, 'y_test':y_test, 'y_train':y_train, 'acc':history.history['accuracy'], 'cm':cm, 'val_acc':history.history['val_accuracy'], 'loss':history.history['loss'], 'val_loss':history.history['val_loss']})"
      ],
      "execution_count": null,
      "outputs": []
    },
    {
      "cell_type": "code",
      "metadata": {
        "id": "4LdWDwRpI2Xh"
      },
      "source": [
        "sio.savemat('/content/drive/My Drive/SoloPaper/Audio/frog_network_res_last_speaker.mat', {'y':out, 'X_test':X_test, 'X_train':X_train, 'y_test':y_test, 'y_train':y_train, 'acc':history.history['accuracy'], 'cm':cm, 'val_acc':history.history['val_accuracy'], 'loss':history.history['loss'], 'val_loss':history.history['val_loss']})"
      ],
      "execution_count": null,
      "outputs": []
    },
    {
      "cell_type": "code",
      "metadata": {
        "id": "aqL3Q4zNyfBp"
      },
      "source": [
        ""
      ],
      "execution_count": null,
      "outputs": []
    }
  ]
}