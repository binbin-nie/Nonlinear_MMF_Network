{
  "nbformat": 4,
  "nbformat_minor": 0,
  "metadata": {
    "colab": {
      "name": "PaperCovid-19Grating_UglyCurve.ipynb",
      "provenance": [],
      "collapsed_sections": [],
      "machine_shape": "hm"
    },
    "kernelspec": {
      "name": "python3",
      "display_name": "Python 3"
    },
    "accelerator": "GPU"
  },
  "cells": [
    {
      "cell_type": "code",
      "metadata": {
        "id": "plRoSF3YWrl5",
        "colab": {
          "base_uri": "https://localhost:8080/"
        },
        "outputId": "f936ec50-3f37-4903-f64d-9dd57853460d"
      },
      "source": [
        "import numpy as np\n",
        "import matplotlib.pyplot as plt\n",
        "import scipy.io as sio\n",
        "import tensorflow as tf\n",
        "\n",
        "from tensorflow import keras\n",
        "from sklearn.model_selection import train_test_split\n",
        "from tensorflow.keras.models import Model,Sequential\n",
        "from tensorflow.keras.layers import Input, Activation, LSTM\n",
        "from tensorflow.keras.layers import Dense, Dropout, Flatten, Conv2D, MaxPooling2D, AveragePooling2D \n",
        "from tensorflow.keras.optimizers import SGD, Adam\n",
        "from tensorflow.keras.utils import to_categorical\n",
        "\n",
        "# Load the Drive helper and mount\n",
        "from google.colab import drive\n",
        "\n",
        "# This will prompt for authorization.\n",
        "drive.mount('/content/drive')"
      ],
      "execution_count": null,
      "outputs": [
        {
          "output_type": "stream",
          "text": [
            "Drive already mounted at /content/drive; to attempt to forcibly remount, call drive.mount(\"/content/drive\", force_remount=True).\n"
          ],
          "name": "stdout"
        }
      ]
    },
    {
      "cell_type": "code",
      "metadata": {
        "id": "PDK63hJmW5D4"
      },
      "source": [
        "import scipy.io as sio\n",
        "f = sio.loadmat('/content/drive/My Drive/SoloPaper/Covid/res_sq_flt1.mat')\n",
        "inp = f['res_sq_flt']\n",
        "\n",
        "#Load data\n",
        "f2 = sio.loadmat('/content/drive/My Drive/SoloPaper/Covid/labels.mat')\n",
        "out = f2['labels']"
      ],
      "execution_count": null,
      "outputs": []
    },
    {
      "cell_type": "code",
      "metadata": {
        "id": "pYBJB9YglGiX",
        "colab": {
          "base_uri": "https://localhost:8080/"
        },
        "outputId": "db511337-9ba3-43b6-b986-9aa44dc4f8d6"
      },
      "source": [
        "input_data = inp\n",
        "output_data = out\n",
        "\n",
        "print('input_data : ', input_data.shape, input_data.dtype)\n",
        "print('output_class : ', output_data.shape, output_data.dtype)\n",
        "print()"
      ],
      "execution_count": null,
      "outputs": [
        {
          "output_type": "stream",
          "text": [
            "input_data :  (3000, 484) float64\n",
            "output_class :  (3000, 1) uint8\n",
            "\n"
          ],
          "name": "stdout"
        }
      ]
    },
    {
      "cell_type": "code",
      "metadata": {
        "id": "kdjC6qIyUMOc",
        "colab": {
          "base_uri": "https://localhost:8080/"
        },
        "outputId": "8c7153aa-0bfb-4b86-9986-7119e6fced09"
      },
      "source": [
        "input_data.shape"
      ],
      "execution_count": null,
      "outputs": [
        {
          "output_type": "execute_result",
          "data": {
            "text/plain": [
              "(3000, 484)"
            ]
          },
          "metadata": {
            "tags": []
          },
          "execution_count": 88
        }
      ]
    },
    {
      "cell_type": "code",
      "metadata": {
        "id": "JMVZ-aoTk1wf",
        "colab": {
          "base_uri": "https://localhost:8080/"
        },
        "outputId": "8ffc0a4d-7ce2-4f13-a35a-9f7e17c15c63"
      },
      "source": [
        "oran = 0.20\n",
        "X_train, X_test, y_train, y_test = train_test_split(input_data, output_data, test_size=oran)\n",
        "\n",
        "print('Test data : ', X_test.shape, X_test.dtype)\n",
        "print('Training data : ', X_train.shape, X_train.dtype)\n",
        "print()"
      ],
      "execution_count": null,
      "outputs": [
        {
          "output_type": "stream",
          "text": [
            "Test data :  (600, 484) float64\n",
            "Training data :  (2400, 484) float64\n",
            "\n"
          ],
          "name": "stdout"
        }
      ]
    },
    {
      "cell_type": "code",
      "metadata": {
        "id": "SycmK62goI2t"
      },
      "source": [
        "model = Sequential()\n",
        "model.add(Dense(1, input_dim=22*22, activation='sigmoid'))"
      ],
      "execution_count": null,
      "outputs": []
    },
    {
      "cell_type": "code",
      "metadata": {
        "id": "Sg1arrHHoSF1",
        "colab": {
          "base_uri": "https://localhost:8080/"
        },
        "outputId": "a373329b-aa0e-449d-ffaa-eed24d32474e"
      },
      "source": [
        "loss='binary_crossentropy'\n",
        "metrics = ['accuracy']  # network accuracy metric to be determined after each epoch\n",
        "\n",
        "opt1 = SGD(lr=0.001, momentum=0.9)\n",
        "opt2 = Adam(lr=0.001, beta_1=0.9, beta_2=0.999)\n",
        "\n",
        "model.compile(optimizer=opt2, loss=loss, metrics=metrics)\n",
        "model.summary()"
      ],
      "execution_count": null,
      "outputs": [
        {
          "output_type": "stream",
          "text": [
            "Model: \"sequential_7\"\n",
            "_________________________________________________________________\n",
            "Layer (type)                 Output Shape              Param #   \n",
            "=================================================================\n",
            "dense_7 (Dense)              (None, 1)                 485       \n",
            "=================================================================\n",
            "Total params: 485\n",
            "Trainable params: 485\n",
            "Non-trainable params: 0\n",
            "_________________________________________________________________\n"
          ],
          "name": "stdout"
        }
      ]
    },
    {
      "cell_type": "code",
      "metadata": {
        "id": "ZavprgepoUEE",
        "colab": {
          "base_uri": "https://localhost:8080/"
        },
        "outputId": "b716c659-a7c5-4358-dfe4-fde142435ba8"
      },
      "source": [
        "#setting final parameters for the network and it begins to train\n",
        "number_of_iterations = 50\n",
        "batch_size = 50\n",
        "\n",
        "#history=model.fit(X_train, y_train, validation_data=(X_test, y_test), epochs=3)\n",
        "history=model.fit(X_train, y_train, batch_size=batch_size, epochs=number_of_iterations, verbose=1, validation_data=(X_test, y_test))\n",
        "#Number of iterations run: 900"
      ],
      "execution_count": null,
      "outputs": [
        {
          "output_type": "stream",
          "text": [
            "Epoch 1/50\n",
            "48/48 [==============================] - 1s 6ms/step - loss: 0.6997 - accuracy: 0.5906 - val_loss: 0.5597 - val_accuracy: 0.7000\n",
            "Epoch 2/50\n",
            "48/48 [==============================] - 0s 3ms/step - loss: 0.5568 - accuracy: 0.7128 - val_loss: 0.5159 - val_accuracy: 0.7467\n",
            "Epoch 3/50\n",
            "48/48 [==============================] - 0s 3ms/step - loss: 0.5381 - accuracy: 0.7360 - val_loss: 0.4951 - val_accuracy: 0.7583\n",
            "Epoch 4/50\n",
            "48/48 [==============================] - 0s 3ms/step - loss: 0.5256 - accuracy: 0.7357 - val_loss: 0.4907 - val_accuracy: 0.7667\n",
            "Epoch 5/50\n",
            "48/48 [==============================] - 0s 3ms/step - loss: 0.5212 - accuracy: 0.7397 - val_loss: 0.4758 - val_accuracy: 0.7733\n",
            "Epoch 6/50\n",
            "48/48 [==============================] - 0s 3ms/step - loss: 0.5026 - accuracy: 0.7551 - val_loss: 0.4645 - val_accuracy: 0.7817\n",
            "Epoch 7/50\n",
            "48/48 [==============================] - 0s 3ms/step - loss: 0.4943 - accuracy: 0.7653 - val_loss: 0.4578 - val_accuracy: 0.7917\n",
            "Epoch 8/50\n",
            "48/48 [==============================] - 0s 3ms/step - loss: 0.4939 - accuracy: 0.7635 - val_loss: 0.4478 - val_accuracy: 0.7800\n",
            "Epoch 9/50\n",
            "48/48 [==============================] - 0s 3ms/step - loss: 0.4752 - accuracy: 0.7680 - val_loss: 0.4445 - val_accuracy: 0.7950\n",
            "Epoch 10/50\n",
            "48/48 [==============================] - 0s 3ms/step - loss: 0.4735 - accuracy: 0.7808 - val_loss: 0.4417 - val_accuracy: 0.7867\n",
            "Epoch 11/50\n",
            "48/48 [==============================] - 0s 3ms/step - loss: 0.4705 - accuracy: 0.7737 - val_loss: 0.4364 - val_accuracy: 0.7950\n",
            "Epoch 12/50\n",
            "48/48 [==============================] - 0s 3ms/step - loss: 0.4597 - accuracy: 0.7744 - val_loss: 0.4384 - val_accuracy: 0.7950\n",
            "Epoch 13/50\n",
            "48/48 [==============================] - 0s 3ms/step - loss: 0.4520 - accuracy: 0.7950 - val_loss: 0.4369 - val_accuracy: 0.7883\n",
            "Epoch 14/50\n",
            "48/48 [==============================] - 0s 3ms/step - loss: 0.4586 - accuracy: 0.7841 - val_loss: 0.4228 - val_accuracy: 0.8100\n",
            "Epoch 15/50\n",
            "48/48 [==============================] - 0s 3ms/step - loss: 0.4672 - accuracy: 0.7744 - val_loss: 0.4231 - val_accuracy: 0.8133\n",
            "Epoch 16/50\n",
            "48/48 [==============================] - 0s 3ms/step - loss: 0.4476 - accuracy: 0.7853 - val_loss: 0.4236 - val_accuracy: 0.8050\n",
            "Epoch 17/50\n",
            "48/48 [==============================] - 0s 3ms/step - loss: 0.4443 - accuracy: 0.7882 - val_loss: 0.4171 - val_accuracy: 0.8083\n",
            "Epoch 18/50\n",
            "48/48 [==============================] - 0s 3ms/step - loss: 0.4530 - accuracy: 0.7851 - val_loss: 0.4162 - val_accuracy: 0.8083\n",
            "Epoch 19/50\n",
            "48/48 [==============================] - 0s 3ms/step - loss: 0.4465 - accuracy: 0.7858 - val_loss: 0.4179 - val_accuracy: 0.8067\n",
            "Epoch 20/50\n",
            "48/48 [==============================] - 0s 3ms/step - loss: 0.4368 - accuracy: 0.8029 - val_loss: 0.4109 - val_accuracy: 0.8217\n",
            "Epoch 21/50\n",
            "48/48 [==============================] - 0s 3ms/step - loss: 0.4333 - accuracy: 0.8015 - val_loss: 0.4179 - val_accuracy: 0.8050\n",
            "Epoch 22/50\n",
            "48/48 [==============================] - 0s 3ms/step - loss: 0.4388 - accuracy: 0.7902 - val_loss: 0.4059 - val_accuracy: 0.8183\n",
            "Epoch 23/50\n",
            "48/48 [==============================] - 0s 3ms/step - loss: 0.4256 - accuracy: 0.8091 - val_loss: 0.4094 - val_accuracy: 0.8117\n",
            "Epoch 24/50\n",
            "48/48 [==============================] - 0s 3ms/step - loss: 0.4320 - accuracy: 0.8088 - val_loss: 0.4076 - val_accuracy: 0.8100\n",
            "Epoch 25/50\n",
            "48/48 [==============================] - 0s 3ms/step - loss: 0.4278 - accuracy: 0.8117 - val_loss: 0.4059 - val_accuracy: 0.8267\n",
            "Epoch 26/50\n",
            "48/48 [==============================] - 0s 3ms/step - loss: 0.4420 - accuracy: 0.7823 - val_loss: 0.4029 - val_accuracy: 0.8217\n",
            "Epoch 27/50\n",
            "48/48 [==============================] - 0s 3ms/step - loss: 0.4372 - accuracy: 0.7992 - val_loss: 0.4074 - val_accuracy: 0.8100\n",
            "Epoch 28/50\n",
            "48/48 [==============================] - 0s 3ms/step - loss: 0.4232 - accuracy: 0.8142 - val_loss: 0.4023 - val_accuracy: 0.8217\n",
            "Epoch 29/50\n",
            "48/48 [==============================] - 0s 3ms/step - loss: 0.4197 - accuracy: 0.8007 - val_loss: 0.4068 - val_accuracy: 0.8183\n",
            "Epoch 30/50\n",
            "48/48 [==============================] - 0s 3ms/step - loss: 0.4359 - accuracy: 0.7980 - val_loss: 0.3992 - val_accuracy: 0.8267\n",
            "Epoch 31/50\n",
            "48/48 [==============================] - 0s 3ms/step - loss: 0.4234 - accuracy: 0.8029 - val_loss: 0.3973 - val_accuracy: 0.8133\n",
            "Epoch 32/50\n",
            "48/48 [==============================] - 0s 3ms/step - loss: 0.4275 - accuracy: 0.8050 - val_loss: 0.3989 - val_accuracy: 0.8267\n",
            "Epoch 33/50\n",
            "48/48 [==============================] - 0s 3ms/step - loss: 0.4303 - accuracy: 0.8158 - val_loss: 0.3997 - val_accuracy: 0.8167\n",
            "Epoch 34/50\n",
            "48/48 [==============================] - 0s 3ms/step - loss: 0.4034 - accuracy: 0.8201 - val_loss: 0.3970 - val_accuracy: 0.8200\n",
            "Epoch 35/50\n",
            "48/48 [==============================] - 0s 3ms/step - loss: 0.4232 - accuracy: 0.8042 - val_loss: 0.3952 - val_accuracy: 0.8250\n",
            "Epoch 36/50\n",
            "48/48 [==============================] - 0s 3ms/step - loss: 0.4198 - accuracy: 0.8198 - val_loss: 0.3888 - val_accuracy: 0.8300\n",
            "Epoch 37/50\n",
            "48/48 [==============================] - 0s 3ms/step - loss: 0.4109 - accuracy: 0.8092 - val_loss: 0.3943 - val_accuracy: 0.8217\n",
            "Epoch 38/50\n",
            "48/48 [==============================] - 0s 3ms/step - loss: 0.4141 - accuracy: 0.8163 - val_loss: 0.3976 - val_accuracy: 0.8217\n",
            "Epoch 39/50\n",
            "48/48 [==============================] - 0s 3ms/step - loss: 0.4068 - accuracy: 0.8119 - val_loss: 0.3935 - val_accuracy: 0.8233\n",
            "Epoch 40/50\n",
            "48/48 [==============================] - 0s 3ms/step - loss: 0.4257 - accuracy: 0.8064 - val_loss: 0.3890 - val_accuracy: 0.8283\n",
            "Epoch 41/50\n",
            "48/48 [==============================] - 0s 3ms/step - loss: 0.3962 - accuracy: 0.8270 - val_loss: 0.3944 - val_accuracy: 0.8300\n",
            "Epoch 42/50\n",
            "48/48 [==============================] - 0s 3ms/step - loss: 0.4121 - accuracy: 0.8132 - val_loss: 0.3930 - val_accuracy: 0.8250\n",
            "Epoch 43/50\n",
            "48/48 [==============================] - 0s 3ms/step - loss: 0.4188 - accuracy: 0.8080 - val_loss: 0.3880 - val_accuracy: 0.8183\n",
            "Epoch 44/50\n",
            "48/48 [==============================] - 0s 3ms/step - loss: 0.3824 - accuracy: 0.8320 - val_loss: 0.3967 - val_accuracy: 0.8183\n",
            "Epoch 45/50\n",
            "48/48 [==============================] - 0s 3ms/step - loss: 0.4060 - accuracy: 0.8153 - val_loss: 0.3860 - val_accuracy: 0.8300\n",
            "Epoch 46/50\n",
            "48/48 [==============================] - 0s 3ms/step - loss: 0.4172 - accuracy: 0.8066 - val_loss: 0.3922 - val_accuracy: 0.8283\n",
            "Epoch 47/50\n",
            "48/48 [==============================] - 0s 3ms/step - loss: 0.4147 - accuracy: 0.8038 - val_loss: 0.3878 - val_accuracy: 0.8183\n",
            "Epoch 48/50\n",
            "48/48 [==============================] - 0s 3ms/step - loss: 0.4036 - accuracy: 0.8239 - val_loss: 0.3856 - val_accuracy: 0.8317\n",
            "Epoch 49/50\n",
            "48/48 [==============================] - 0s 3ms/step - loss: 0.4046 - accuracy: 0.8189 - val_loss: 0.3901 - val_accuracy: 0.8300\n",
            "Epoch 50/50\n",
            "48/48 [==============================] - 0s 3ms/step - loss: 0.4091 - accuracy: 0.8184 - val_loss: 0.3893 - val_accuracy: 0.8317\n"
          ],
          "name": "stdout"
        }
      ]
    },
    {
      "cell_type": "code",
      "metadata": {
        "id": "32jFj14Qz_qx",
        "colab": {
          "base_uri": "https://localhost:8080/",
          "height": 571
        },
        "outputId": "3b4c9473-55eb-4a10-8ac0-db216f7a112d"
      },
      "source": [
        "from google.colab import files\n",
        "ac=plt.figure()\n",
        "plt.plot(history.history['accuracy'])\n",
        "plt.plot(history.history['val_accuracy'])\n",
        "plt.title('model accuracy')\n",
        "plt.ylabel('accuracy')\n",
        "plt.xlabel('epoch')\n",
        "plt.legend(['train', 'test'], loc='upper left')\n",
        "ac.show()\n",
        "#ac.savefig('acc-1.png')\n",
        "#files.download('acc-1.png')\n",
        "\n",
        "# summarize history for loss\n",
        "ls=plt.figure()\n",
        "plt.plot(history.history['loss'])\n",
        "plt.plot(history.history['val_loss'])\n",
        "plt.title('model loss')\n",
        "plt.ylabel('loss')\n",
        "plt.xlabel('epoch')\n",
        "plt.legend(['train', 'test'], loc='upper left')\n",
        "ls.show()\n",
        "#ls.savefig('loss-1.png')\n",
        "#files.download('loss-1.png')"
      ],
      "execution_count": null,
      "outputs": [
        {
          "output_type": "display_data",
          "data": {
            "image/png": "[encoded data removed]",
            "text/plain": [
              "<Figure size 432x288 with 1 Axes>"
            ]
          },
          "metadata": {
            "tags": [],
            "needs_background": "light"
          }
        },
        {
          "output_type": "display_data",
          "data": {
            "image/png": "[encoded data removed]",
            "text/plain": [
              "<Figure size 432x288 with 1 Axes>"
            ]
          },
          "metadata": {
            "tags": [],
            "needs_background": "light"
          }
        }
      ]
    },
    {
      "cell_type": "code",
      "metadata": {
        "id": "yExu5w-b_pk5"
      },
      "source": [
        "#sio.savemat('/content/drive/My Drive/SoloPaper/Covid/image_network_res.mat', {'y':out, 'X_test':X_test, 'X_train':X_train, 'y_test':y_test, 'y_train':y_train, 'acc':history.history['accuracy'], 'val_acc':history.history['val_accuracy'], 'loss':history.history['loss'], 'val_loss':history.history['val_loss']})"
      ],
      "execution_count": null,
      "outputs": []
    },
    {
      "cell_type": "code",
      "metadata": {
        "id": "cwGMToEUZVcE"
      },
      "source": [
        "sio.savemat('/content/drive/My Drive/SoloPaper/Covid/frog_network_res.mat', {'y':out, 'X_test':X_test, 'X_train':X_train, 'y_test':y_test, 'y_train':y_train, 'acc':history.history['accuracy'], 'val_acc':history.history['val_accuracy'], 'loss':history.history['loss'], 'val_loss':history.history['val_loss']})"
      ],
      "execution_count": null,
      "outputs": []
    },
    {
      "cell_type": "code",
      "metadata": {
        "id": "gSIIagkbcyLK",
        "colab": {
          "base_uri": "https://localhost:8080/",
          "height": 358
        },
        "outputId": "9b6d6983-670c-4011-efa1-3d2c2b2ea89c"
      },
      "source": [
        "def plot_confusion_matrix(cm, classes,\n",
        "\n",
        "                        normalize=False,\n",
        "\n",
        "                        title='Confusion matrix',\n",
        "\n",
        "                        cmap=plt.cm.Blues):\n",
        "\n",
        "    \"\"\"\n",
        "\n",
        "    This function prints and plots the confusion matrix.\n",
        "\n",
        "    Normalization can be applied by setting `normalize=True`.\n",
        "\n",
        "    \"\"\"\n",
        "\n",
        "    plt.imshow(cm, interpolation='nearest', cmap=cmap)\n",
        "\n",
        "    plt.title(title)\n",
        "\n",
        "    plt.colorbar()\n",
        "\n",
        "    tick_marks = np.arange(len(classes))\n",
        "\n",
        "    plt.xticks(tick_marks, classes, rotation=45)\n",
        "\n",
        "    plt.yticks(tick_marks, classes)\n",
        "\n",
        "\n",
        "\n",
        "    if normalize:\n",
        "\n",
        "        cm = cm.astype('float') / cm.sum(axis=1)[:, np.newaxis]\n",
        "\n",
        "        print(\"Normalized confusion matrix\")\n",
        "\n",
        "    else:\n",
        "\n",
        "        print('Confusion matrix, without normalization')\n",
        "\n",
        "\n",
        "\n",
        "    print(cm)\n",
        "\n",
        "\n",
        "\n",
        "    thresh = cm.max() / 2.\n",
        "\n",
        "    for i, j in itertools.product(range(cm.shape[0]), range(cm.shape[1])):\n",
        "\n",
        "        plt.text(j, i, cm[i, j],\n",
        "\n",
        "            horizontalalignment=\"center\",\n",
        "\n",
        "            color=\"white\" if cm[i, j] > thresh else \"black\")\n",
        "\n",
        "\n",
        "\n",
        "    plt.tight_layout()\n",
        "\n",
        "    plt.ylabel('True label')\n",
        "\n",
        "    plt.xlabel('Predicted label')\n",
        "\n",
        "\n",
        "\n",
        "\n",
        "%matplotlib inline\n",
        "\n",
        "from sklearn.metrics import confusion_matrix\n",
        "\n",
        "import itertools\n",
        "\n",
        "import matplotlib.pyplot as plt\n",
        "\n",
        "\n",
        "\n",
        "cm_plot_labels = ['no_side_effects','had_side_effects']\n",
        "\n",
        "\n",
        "\n",
        "cm = confusion_matrix(y_true=y_test, y_pred=np.round(model.predict(X_test)))\n",
        "\n",
        "\n",
        "\n",
        "plot_confusion_matrix(cm=cm, classes=cm_plot_labels, title='Confusion Matrix')"
      ],
      "execution_count": null,
      "outputs": [
        {
          "output_type": "stream",
          "text": [
            "Confusion matrix, without normalization\n",
            "[[243  55]\n",
            " [ 46 256]]\n"
          ],
          "name": "stdout"
        },
        {
          "output_type": "display_data",
          "data": {
            "image/png": "[encoded data removed]",
            "text/plain": [
              "<Figure size 432x288 with 2 Axes>"
            ]
          },
          "metadata": {
            "tags": [],
            "needs_background": "light"
          }
        }
      ]
    },
    {
      "cell_type": "code",
      "metadata": {
        "id": "fvBqsrbludBX"
      },
      "source": [
        ""
      ],
      "execution_count": null,
      "outputs": []
    }
  ]
}