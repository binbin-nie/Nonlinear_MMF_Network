{
  "nbformat": 4,
  "nbformat_minor": 0,
  "metadata": {
    "colab": {
      "name": "SpokenDigit.ipynb",
      "provenance": [],
      "collapsed_sections": [],
      "machine_shape": "hm",
      "include_colab_link": true
    },
    "kernelspec": {
      "name": "python3",
      "display_name": "Python 3"
    },
    "accelerator": "GPU"
  },
  "cells": [
    {
      "cell_type": "markdown",
      "metadata": {
        "id": "view-in-github",
        "colab_type": "text"
      },
      "source": [
        "<a href=\"https://colab.research.google.com/github/ugurtegin/Nonlinear_MMF_Network/blob/main/NoExp/SpokenDigit.ipynb\" target=\"_parent\"><img src=\"https://colab.research.google.com/assets/colab-badge.svg\" alt=\"Open In Colab\"/></a>"
      ]
    },
    {
      "cell_type": "code",
      "metadata": {
        "id": "plRoSF3YWrl5",
        "outputId": "d924a332-61a6-4b5e-9a6c-83f5ae176dfa",
        "colab": {
          "base_uri": "https://localhost:8080/"
        }
      },
      "source": [
        "import numpy as np\n",
        "import matplotlib.pyplot as plt\n",
        "import scipy.io as sio\n",
        "import tensorflow as tf\n",
        "\n",
        "\n",
        "from tensorflow import keras\n",
        "from sklearn.model_selection import train_test_split\n",
        "from tensorflow.keras.models import Model,Sequential\n",
        "from tensorflow.keras.layers import Input, Activation, LSTM\n",
        "from tensorflow.keras.layers import Dense, Dropout, Flatten, Conv2D, MaxPooling2D, AveragePooling2D \n",
        "from tensorflow.keras.optimizers import SGD, Adam\n",
        "from tensorflow.keras.utils import to_categorical, normalize\n",
        "\n",
        "# Load the Drive helper and mount\n",
        "from google.colab import drive\n",
        "\n",
        "# This will prompt for authorization.\n",
        "drive.mount('/content/drive')"
      ],
      "execution_count": 25,
      "outputs": [
        {
          "output_type": "stream",
          "text": [
            "Drive already mounted at /content/drive; to attempt to forcibly remount, call drive.mount(\"/content/drive\", force_remount=True).\n"
          ],
          "name": "stdout"
        }
      ]
    },
    {
      "cell_type": "code",
      "metadata": {
        "id": "PDK63hJmW5D4"
      },
      "source": [
        "import scipy.io as sio\n",
        "f = sio.loadmat('/content/drive/My Drive/Research/MMF_Reservoir/SpokenDigit/images.mat')\n",
        "inp2 = f['images']\n",
        "\n",
        "#Load data\n",
        "f2 = sio.loadmat('/content/drive/My Drive/Research/MMF_Reservoir/SpokenDigit/label1.mat')\n",
        "\n",
        "out = f2['label1']\n"
      ],
      "execution_count": 33,
      "outputs": []
    },
    {
      "cell_type": "code",
      "metadata": {
        "id": "NsrEaZif34wA"
      },
      "source": [
        "#inp2 = inp / np.linalg.norm(inp)\n",
        "#inp2 = inp2*1000"
      ],
      "execution_count": 3,
      "outputs": []
    },
    {
      "cell_type": "code",
      "metadata": {
        "id": "pYBJB9YglGiX",
        "outputId": "6a5d01ca-e909-4d53-edb7-3249721923e0",
        "colab": {
          "base_uri": "https://localhost:8080/"
        }
      },
      "source": [
        "input_data = np.expand_dims(inp2, -1)\n",
        "output_data = to_categorical(out.T)\n",
        "\n",
        "print('input_data : ', input_data.shape, input_data.dtype)\n",
        "print('output_class : ', output_data.shape, output_data.dtype)\n",
        "print()"
      ],
      "execution_count": 35,
      "outputs": [
        {
          "output_type": "stream",
          "text": [
            "input_data :  (3000, 100, 100, 1) uint8\n",
            "output_class :  (3000, 10) float32\n",
            "\n"
          ],
          "name": "stdout"
        }
      ]
    },
    {
      "cell_type": "code",
      "metadata": {
        "id": "JMVZ-aoTk1wf",
        "outputId": "a4ea8acd-3667-4710-c128-64de40c87ef2",
        "colab": {
          "base_uri": "https://localhost:8080/"
        }
      },
      "source": [
        "oran = 0.20\n",
        "X_train, X_test, y_train, y_test = train_test_split(input_data, output_data, test_size=oran)\n",
        "\n",
        "print('Test data : ', X_test.shape, X_test.dtype)\n",
        "print('Training data : ', X_train.shape, X_train.dtype)\n",
        "print()"
      ],
      "execution_count": 36,
      "outputs": [
        {
          "output_type": "stream",
          "text": [
            "Test data :  (600, 100, 100, 1) uint8\n",
            "Training data :  (2400, 100, 100, 1) uint8\n",
            "\n"
          ],
          "name": "stdout"
        }
      ]
    },
    {
      "cell_type": "code",
      "metadata": {
        "id": "SycmK62goI2t"
      },
      "source": [
        "model = Sequential()\n",
        "model.add(Conv2D(32, (3, 3), activation='relu', input_shape=(100, 100, 1)))\n",
        "model.add(MaxPooling2D((2, 2)))\n",
        "model.add(Flatten())\n",
        "model.add(Dense(10, activation='softmax'))"
      ],
      "execution_count": 56,
      "outputs": []
    },
    {
      "cell_type": "code",
      "metadata": {
        "id": "Sg1arrHHoSF1",
        "outputId": "baa0cb75-6081-46f9-d595-07329ecb4c2a",
        "colab": {
          "base_uri": "https://localhost:8080/"
        }
      },
      "source": [
        "loss='categorical_crossentropy' # mean_absolute_error, cosine_proximity\n",
        "metrics = ['accuracy']  # network accuracy metric to be determined after each epoch, mean_absolute_error, cosine_proximity\n",
        "\n",
        "opt1 = SGD(lr=0.001, momentum=0.9)\n",
        "opt2 = Adam(lr=0.001, beta_1=0.9, beta_2=0.999)\n",
        "\n",
        "model.compile(optimizer=opt2, loss=loss, metrics=metrics)\n",
        "model.summary()"
      ],
      "execution_count": 57,
      "outputs": [
        {
          "output_type": "stream",
          "text": [
            "Model: \"sequential_6\"\n",
            "_________________________________________________________________\n",
            "Layer (type)                 Output Shape              Param #   \n",
            "=================================================================\n",
            "conv2d_7 (Conv2D)            (None, 98, 98, 32)        320       \n",
            "_________________________________________________________________\n",
            "max_pooling2d_5 (MaxPooling2 (None, 49, 49, 32)        0         \n",
            "_________________________________________________________________\n",
            "flatten_3 (Flatten)          (None, 76832)             0         \n",
            "_________________________________________________________________\n",
            "dense_7 (Dense)              (None, 10)                768330    \n",
            "=================================================================\n",
            "Total params: 768,650\n",
            "Trainable params: 768,650\n",
            "Non-trainable params: 0\n",
            "_________________________________________________________________\n"
          ],
          "name": "stdout"
        }
      ]
    },
    {
      "cell_type": "code",
      "metadata": {
        "id": "ZavprgepoUEE",
        "outputId": "17cf385a-51da-4056-dfaf-d65d0189af00",
        "colab": {
          "base_uri": "https://localhost:8080/"
        }
      },
      "source": [
        "#setting final parameters for the network and it begins to train\n",
        "number_of_iterations = 50\n",
        "batch_size = 50\n",
        "\n",
        "#history=model.fit(X_train, y_train, validation_data=(X_test, y_test), epochs=number_of_iterations)\n",
        "history=model.fit(X_train, y_train, batch_size=batch_size, epochs=number_of_iterations, verbose=1, validation_data=(X_test, y_test))\n",
        "#Number of iterations run: 900"
      ],
      "execution_count": 58,
      "outputs": [
        {
          "output_type": "stream",
          "text": [
            "Epoch 1/50\n",
            " 1/48 [..............................] - ETA: 0s - loss: 44.1255 - accuracy: 0.1200WARNING:tensorflow:Callbacks method `on_train_batch_end` is slow compared to the batch time (batch time: 0.0018s vs `on_train_batch_end` time: 0.0031s). Check your callbacks.\n",
            "48/48 [==============================] - 0s 9ms/step - loss: 651.5187 - accuracy: 0.1500 - val_loss: 63.5574 - val_accuracy: 0.3717\n",
            "Epoch 2/50\n",
            "48/48 [==============================] - 0s 6ms/step - loss: 12.2469 - accuracy: 0.6529 - val_loss: 2.6149 - val_accuracy: 0.8150\n",
            "Epoch 3/50\n",
            "48/48 [==============================] - 0s 6ms/step - loss: 2.0226 - accuracy: 0.8546 - val_loss: 2.6551 - val_accuracy: 0.7867\n",
            "Epoch 4/50\n",
            "48/48 [==============================] - 0s 6ms/step - loss: 1.2803 - accuracy: 0.8796 - val_loss: 1.8655 - val_accuracy: 0.8367\n",
            "Epoch 5/50\n",
            "48/48 [==============================] - 0s 6ms/step - loss: 0.6750 - accuracy: 0.9162 - val_loss: 1.0338 - val_accuracy: 0.8950\n",
            "Epoch 6/50\n",
            "48/48 [==============================] - 0s 6ms/step - loss: 0.4325 - accuracy: 0.9421 - val_loss: 1.7337 - val_accuracy: 0.8550\n",
            "Epoch 7/50\n",
            "48/48 [==============================] - 0s 6ms/step - loss: 0.2997 - accuracy: 0.9592 - val_loss: 1.1459 - val_accuracy: 0.8917\n",
            "Epoch 8/50\n",
            "48/48 [==============================] - 0s 6ms/step - loss: 0.5580 - accuracy: 0.9283 - val_loss: 2.4648 - val_accuracy: 0.8233\n",
            "Epoch 9/50\n",
            "48/48 [==============================] - 0s 6ms/step - loss: 0.2877 - accuracy: 0.9613 - val_loss: 1.2788 - val_accuracy: 0.8900\n",
            "Epoch 10/50\n",
            "48/48 [==============================] - 0s 6ms/step - loss: 0.3387 - accuracy: 0.9571 - val_loss: 2.0438 - val_accuracy: 0.8433\n",
            "Epoch 11/50\n",
            "48/48 [==============================] - 0s 6ms/step - loss: 0.1764 - accuracy: 0.9779 - val_loss: 1.4517 - val_accuracy: 0.8817\n",
            "Epoch 12/50\n",
            "48/48 [==============================] - 0s 6ms/step - loss: 0.1574 - accuracy: 0.9771 - val_loss: 0.9916 - val_accuracy: 0.9183\n",
            "Epoch 13/50\n",
            "48/48 [==============================] - 0s 6ms/step - loss: 0.0881 - accuracy: 0.9883 - val_loss: 1.6157 - val_accuracy: 0.8683\n",
            "Epoch 14/50\n",
            "48/48 [==============================] - 0s 6ms/step - loss: 0.0642 - accuracy: 0.9900 - val_loss: 0.8191 - val_accuracy: 0.9250\n",
            "Epoch 15/50\n",
            "48/48 [==============================] - 0s 6ms/step - loss: 0.0250 - accuracy: 0.9950 - val_loss: 1.0203 - val_accuracy: 0.9233\n",
            "Epoch 16/50\n",
            "48/48 [==============================] - 0s 6ms/step - loss: 0.0162 - accuracy: 0.9942 - val_loss: 0.8334 - val_accuracy: 0.9367\n",
            "Epoch 17/50\n",
            "48/48 [==============================] - 0s 6ms/step - loss: 0.0496 - accuracy: 0.9896 - val_loss: 1.3897 - val_accuracy: 0.8967\n",
            "Epoch 18/50\n",
            "48/48 [==============================] - 0s 6ms/step - loss: 0.1275 - accuracy: 0.9867 - val_loss: 0.8908 - val_accuracy: 0.9150\n",
            "Epoch 19/50\n",
            "48/48 [==============================] - 0s 6ms/step - loss: 0.1207 - accuracy: 0.9817 - val_loss: 1.3874 - val_accuracy: 0.9017\n",
            "Epoch 20/50\n",
            "48/48 [==============================] - 0s 6ms/step - loss: 0.3150 - accuracy: 0.9654 - val_loss: 2.1186 - val_accuracy: 0.8750\n",
            "Epoch 21/50\n",
            "48/48 [==============================] - 0s 6ms/step - loss: 0.0933 - accuracy: 0.9842 - val_loss: 1.4140 - val_accuracy: 0.9033\n",
            "Epoch 22/50\n",
            "48/48 [==============================] - 0s 6ms/step - loss: 0.1139 - accuracy: 0.9887 - val_loss: 1.6851 - val_accuracy: 0.8983\n",
            "Epoch 23/50\n",
            "48/48 [==============================] - 0s 6ms/step - loss: 0.0738 - accuracy: 0.9896 - val_loss: 1.8020 - val_accuracy: 0.8683\n",
            "Epoch 24/50\n",
            "48/48 [==============================] - 0s 6ms/step - loss: 0.1810 - accuracy: 0.9792 - val_loss: 1.3051 - val_accuracy: 0.9083\n",
            "Epoch 25/50\n",
            "48/48 [==============================] - 0s 6ms/step - loss: 0.3006 - accuracy: 0.9692 - val_loss: 3.5816 - val_accuracy: 0.8367\n",
            "Epoch 26/50\n",
            "48/48 [==============================] - 0s 6ms/step - loss: 0.4065 - accuracy: 0.9642 - val_loss: 1.6164 - val_accuracy: 0.9000\n",
            "Epoch 27/50\n",
            "48/48 [==============================] - 0s 6ms/step - loss: 0.3213 - accuracy: 0.9696 - val_loss: 2.0708 - val_accuracy: 0.8800\n",
            "Epoch 28/50\n",
            "48/48 [==============================] - 0s 6ms/step - loss: 0.3754 - accuracy: 0.9692 - val_loss: 2.4386 - val_accuracy: 0.8767\n",
            "Epoch 29/50\n",
            "48/48 [==============================] - 0s 6ms/step - loss: 0.3127 - accuracy: 0.9762 - val_loss: 1.3424 - val_accuracy: 0.9183\n",
            "Epoch 30/50\n",
            "48/48 [==============================] - 0s 6ms/step - loss: 0.1490 - accuracy: 0.9871 - val_loss: 1.1662 - val_accuracy: 0.9233\n",
            "Epoch 31/50\n",
            "48/48 [==============================] - 0s 6ms/step - loss: 0.1233 - accuracy: 0.9904 - val_loss: 1.3633 - val_accuracy: 0.9183\n",
            "Epoch 32/50\n",
            "48/48 [==============================] - 0s 6ms/step - loss: 0.3130 - accuracy: 0.9771 - val_loss: 1.2676 - val_accuracy: 0.9200\n",
            "Epoch 33/50\n",
            "48/48 [==============================] - 0s 6ms/step - loss: 0.0326 - accuracy: 0.9946 - val_loss: 1.3886 - val_accuracy: 0.9083\n",
            "Epoch 34/50\n",
            "48/48 [==============================] - 0s 6ms/step - loss: 0.2015 - accuracy: 0.9825 - val_loss: 1.5197 - val_accuracy: 0.9233\n",
            "Epoch 35/50\n",
            "48/48 [==============================] - 0s 6ms/step - loss: 0.0452 - accuracy: 0.9942 - val_loss: 1.2639 - val_accuracy: 0.9167\n",
            "Epoch 36/50\n",
            "48/48 [==============================] - 0s 6ms/step - loss: 2.8945e-04 - accuracy: 1.0000 - val_loss: 1.0937 - val_accuracy: 0.9100\n",
            "Epoch 37/50\n",
            "48/48 [==============================] - 0s 6ms/step - loss: 0.0012 - accuracy: 0.9996 - val_loss: 0.9366 - val_accuracy: 0.9283\n",
            "Epoch 38/50\n",
            "48/48 [==============================] - 0s 6ms/step - loss: 5.8808e-04 - accuracy: 1.0000 - val_loss: 1.1505 - val_accuracy: 0.9250\n",
            "Epoch 39/50\n",
            "48/48 [==============================] - 0s 6ms/step - loss: 0.0788 - accuracy: 0.9929 - val_loss: 1.9818 - val_accuracy: 0.9017\n",
            "Epoch 40/50\n",
            "48/48 [==============================] - 0s 6ms/step - loss: 0.1192 - accuracy: 0.9896 - val_loss: 1.0970 - val_accuracy: 0.9267\n",
            "Epoch 41/50\n",
            "48/48 [==============================] - 0s 6ms/step - loss: 0.0158 - accuracy: 0.9983 - val_loss: 1.9981 - val_accuracy: 0.8833\n",
            "Epoch 42/50\n",
            "48/48 [==============================] - 0s 6ms/step - loss: 0.0337 - accuracy: 0.9950 - val_loss: 1.3701 - val_accuracy: 0.9250\n",
            "Epoch 43/50\n",
            "48/48 [==============================] - 0s 6ms/step - loss: 0.0199 - accuracy: 0.9962 - val_loss: 1.3707 - val_accuracy: 0.9117\n",
            "Epoch 44/50\n",
            "48/48 [==============================] - 0s 6ms/step - loss: 0.0025 - accuracy: 0.9992 - val_loss: 1.2008 - val_accuracy: 0.9117\n",
            "Epoch 45/50\n",
            "48/48 [==============================] - 0s 6ms/step - loss: 7.1054e-05 - accuracy: 1.0000 - val_loss: 1.2850 - val_accuracy: 0.9183\n",
            "Epoch 46/50\n",
            "48/48 [==============================] - 0s 6ms/step - loss: 1.0290e-06 - accuracy: 1.0000 - val_loss: 1.2839 - val_accuracy: 0.9183\n",
            "Epoch 47/50\n",
            "48/48 [==============================] - 0s 6ms/step - loss: 8.3256e-07 - accuracy: 1.0000 - val_loss: 1.2808 - val_accuracy: 0.9183\n",
            "Epoch 48/50\n",
            "48/48 [==============================] - 0s 6ms/step - loss: 7.0324e-07 - accuracy: 1.0000 - val_loss: 1.2801 - val_accuracy: 0.9183\n",
            "Epoch 49/50\n",
            "48/48 [==============================] - 0s 6ms/step - loss: 6.3169e-07 - accuracy: 1.0000 - val_loss: 1.2775 - val_accuracy: 0.9183\n",
            "Epoch 50/50\n",
            "48/48 [==============================] - 0s 6ms/step - loss: 5.4798e-07 - accuracy: 1.0000 - val_loss: 1.2763 - val_accuracy: 0.9183\n"
          ],
          "name": "stdout"
        }
      ]
    },
    {
      "cell_type": "code",
      "metadata": {
        "id": "32jFj14Qz_qx",
        "outputId": "839f3e4d-948d-4f93-92b7-408bf9e026f6",
        "colab": {
          "base_uri": "https://localhost:8080/",
          "height": 573
        }
      },
      "source": [
        "from google.colab import files\n",
        "# summarize history for loss\n",
        "ls=plt.figure()\n",
        "plt.plot(history.history['accuracy'])\n",
        "plt.plot(history.history['val_accuracy'])\n",
        "plt.title('model accuracy')\n",
        "plt.ylabel('accuracy')\n",
        "plt.xlabel('epoch')\n",
        "plt.legend(['train', 'test'], loc='upper left')\n",
        "#plt.ylim(0.02,0.4)\n",
        "ls.show()\n",
        "\n",
        "ls=plt.figure()\n",
        "plt.plot(history.history['loss'])\n",
        "plt.plot(history.history['val_loss'])\n",
        "plt.title('model loss')\n",
        "plt.ylabel('loss')\n",
        "plt.xlabel('epoch')\n",
        "plt.legend(['train', 'test'], loc='upper left')\n",
        "#plt.ylim(0.02,0.4)\n",
        "ls.show()\n",
        "#ls.savefig('/content/drive/My Drive/Sinc/loss-exp.png')\n",
        "#files.download('loss-1.png')"
      ],
      "execution_count": 59,
      "outputs": [
        {
          "output_type": "display_data",
          "data": {
            "image/png": "[encoded data removed]",
            "text/plain": [
              "<Figure size 432x288 with 1 Axes>"
            ]
          },
          "metadata": {
            "tags": [],
            "needs_background": "light"
          }
        },
        {
          "output_type": "display_data",
          "data": {
            "image/png": "[encoded data removed]",
            "text/plain": [
              "<Figure size 432x288 with 1 Axes>"
            ]
          },
          "metadata": {
            "tags": [],
            "needs_background": "light"
          }
        }
      ]
    },
    {
      "cell_type": "code",
      "metadata": {
        "id": "Cm1EwzISl5PA",
        "outputId": "b7db493e-8228-4197-b78b-094c07840ccf",
        "colab": {
          "base_uri": "https://localhost:8080/"
        }
      },
      "source": [
        "abit = model.predict(np.expand_dims(inp2, -1))\n",
        "abit.shape"
      ],
      "execution_count": 60,
      "outputs": [
        {
          "output_type": "execute_result",
          "data": {
            "text/plain": [
              "(3000, 10)"
            ]
          },
          "metadata": {
            "tags": []
          },
          "execution_count": 60
        }
      ]
    },
    {
      "cell_type": "code",
      "metadata": {
        "id": "cbPuN-5HZEKy",
        "outputId": "dbea21c1-2de9-454e-870b-9b1d5a15e937",
        "colab": {
          "base_uri": "https://localhost:8080/"
        }
      },
      "source": [
        "abit = model.predict(X_test)\n",
        "from sklearn.metrics import mean_squared_error\n",
        "print('MSE ' + str(mean_squared_error(abit, y_test)))\n",
        "print('RMSE ' + str(np.sqrt(mean_squared_error(abit, y_test))))"
      ],
      "execution_count": 61,
      "outputs": [
        {
          "output_type": "stream",
          "text": [
            "MSE 0.015537163\n",
            "RMSE 0.12464816\n"
          ],
          "name": "stdout"
        }
      ]
    },
    {
      "cell_type": "code",
      "metadata": {
        "id": "e-gZuJM1MJpd",
        "outputId": "ab944754-6f12-4562-9c15-ce9cdba7ccc1",
        "colab": {
          "base_uri": "https://localhost:8080/"
        }
      },
      "source": [
        "abit = model.predict(np.expand_dims(inp2, -1))\n",
        "from sklearn.metrics import mean_squared_error\n",
        "print('MSE ' + str(mean_squared_error(abit, output_data)))\n",
        "print('RMSE ' + str(np.sqrt(mean_squared_error(abit, output_data))))"
      ],
      "execution_count": 62,
      "outputs": [
        {
          "output_type": "stream",
          "text": [
            "MSE 0.0031074327\n",
            "RMSE 0.05574435\n"
          ],
          "name": "stdout"
        }
      ]
    },
    {
      "cell_type": "code",
      "metadata": {
        "id": "w2ePFauUMPfj"
      },
      "source": [
        ""
      ],
      "execution_count": 62,
      "outputs": []
    }
  ]
}
