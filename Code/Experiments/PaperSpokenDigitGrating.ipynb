{
  "nbformat": 4,
  "nbformat_minor": 0,
  "metadata": {
    "colab": {
      "name": "PaperSpokenDigitGratingv2.ipynb",
      "provenance": [],
      "collapsed_sections": [],
      "machine_shape": "hm"
    },
    "kernelspec": {
      "name": "python3",
      "display_name": "Python 3"
    },
    "accelerator": "GPU"
  },
  "cells": [
    {
      "cell_type": "code",
      "metadata": {
        "id": "plRoSF3YWrl5",
        "colab": {
          "base_uri": "https://localhost:8080/"
        },
        "outputId": "5a99bf1f-28bb-4bc7-a9b1-61d2c3da78bc"
      },
      "source": [
        "import numpy as np\n",
        "import matplotlib.pyplot as plt\n",
        "import scipy.io as sio\n",
        "import tensorflow as tf\n",
        "\n",
        "\n",
        "from tensorflow import keras\n",
        "from sklearn.model_selection import train_test_split\n",
        "from tensorflow.keras.models import Model,Sequential\n",
        "from tensorflow.keras.layers import Input, Activation, LSTM\n",
        "from tensorflow.keras.layers import Dense, Dropout, Flatten, Conv2D, MaxPooling2D, AveragePooling2D \n",
        "from tensorflow.keras.optimizers import SGD, Adam\n",
        "from tensorflow.keras.utils import to_categorical, normalize\n",
        "\n",
        "# Load the Drive helper and mount\n",
        "from google.colab import drive\n",
        "\n",
        "# This will prompt for authorization.\n",
        "drive.mount('/content/drive')"
      ],
      "execution_count": null,
      "outputs": [
        {
          "output_type": "stream",
          "text": [
            "Drive already mounted at /content/drive; to attempt to forcibly remount, call drive.mount(\"/content/drive\", force_remount=True).\n"
          ],
          "name": "stdout"
        }
      ]
    },
    {
      "cell_type": "code",
      "metadata": {
        "id": "PDK63hJmW5D4"
      },
      "source": [
        "import scipy.io as sio\n",
        "f = sio.loadmat('/content/drive/My Drive/SoloPaper/Audio/res_sq_flt1.mat')\n",
        "inp = f['res_sq_flt']\n",
        "\n",
        "#Load data\n",
        "f2 = sio.loadmat('/content/drive/My Drive/SoloPaper/Audio/label1shu.mat')\n",
        "out = f2['label1new']"
      ],
      "execution_count": null,
      "outputs": []
    },
    {
      "cell_type": "code",
      "metadata": {
        "id": "pYBJB9YglGiX",
        "colab": {
          "base_uri": "https://localhost:8080/"
        },
        "outputId": "86459d7d-73f6-4329-de6b-e8d6b64c54de"
      },
      "source": [
        "input_data = inp\n",
        "output_dataf = out.T\n",
        "output_data = to_categorical(output_dataf)\n",
        "\n",
        "print('input_data : ', input_data.shape, input_data.dtype)\n",
        "print('output_class : ', output_data.shape, output_data.dtype)\n",
        "print()"
      ],
      "execution_count": null,
      "outputs": [
        {
          "output_type": "stream",
          "text": [
            "input_data :  (3000, 484) float64\n",
            "output_class :  (3000, 10) float32\n",
            "\n"
          ],
          "name": "stdout"
        }
      ]
    },
    {
      "cell_type": "code",
      "metadata": {
        "id": "JMVZ-aoTk1wf",
        "colab": {
          "base_uri": "https://localhost:8080/"
        },
        "outputId": "0c42a8dc-d7eb-447c-d75b-3b7257e0082c"
      },
      "source": [
        "oran = 0.20\n",
        "X_train, X_test, y_train, y_test = train_test_split(input_data, output_data, test_size=oran)\n",
        "\n",
        "print('Test data : ', X_test.shape, X_test.dtype)\n",
        "print('Training data : ', X_train.shape, X_train.dtype)\n",
        "print()"
      ],
      "execution_count": null,
      "outputs": [
        {
          "output_type": "stream",
          "text": [
            "Test data :  (600, 484) float64\n",
            "Training data :  (2400, 484) float64\n",
            "\n"
          ],
          "name": "stdout"
        }
      ]
    },
    {
      "cell_type": "code",
      "metadata": {
        "id": "SycmK62goI2t"
      },
      "source": [
        "model = Sequential()\n",
        "model.add(Dense(10, input_dim=484, activation='softmax'))"
      ],
      "execution_count": null,
      "outputs": []
    },
    {
      "cell_type": "code",
      "metadata": {
        "id": "Sg1arrHHoSF1",
        "colab": {
          "base_uri": "https://localhost:8080/"
        },
        "outputId": "bc7ccb2c-6629-4cc2-cc91-e6a11d125985"
      },
      "source": [
        "loss='categorical_crossentropy' # mean_absolute_error, cosine_proximity\n",
        "metrics = ['accuracy']  # network accuracy metric to be determined after each epoch, mean_absolute_error, cosine_proximity\n",
        "\n",
        "opt1 = SGD(lr=0.001, momentum=0.9)\n",
        "opt2 = Adam(lr=0.001, beta_1=0.9, beta_2=0.999)\n",
        "\n",
        "model.compile(optimizer=opt2, loss=loss, metrics=metrics)\n",
        "model.summary()"
      ],
      "execution_count": null,
      "outputs": [
        {
          "output_type": "stream",
          "text": [
            "Model: \"sequential_13\"\n",
            "_________________________________________________________________\n",
            "Layer (type)                 Output Shape              Param #   \n",
            "=================================================================\n",
            "dense_13 (Dense)             (None, 10)                4850      \n",
            "=================================================================\n",
            "Total params: 4,850\n",
            "Trainable params: 4,850\n",
            "Non-trainable params: 0\n",
            "_________________________________________________________________\n"
          ],
          "name": "stdout"
        }
      ]
    },
    {
      "cell_type": "code",
      "metadata": {
        "id": "ZavprgepoUEE",
        "colab": {
          "base_uri": "https://localhost:8080/"
        },
        "outputId": "5c5869c5-90bc-4d60-f186-70da59d68b6a"
      },
      "source": [
        "#setting final parameters for the network and it begins to train\n",
        "number_of_iterations = 50\n",
        "batch_size = 50\n",
        "\n",
        "#history=model.fit(X_train, y_train, validation_data=(X_test, y_test), epochs=number_of_iterations)\n",
        "history=model.fit(X_train, y_train, batch_size=batch_size, epochs=number_of_iterations, verbose=1, validation_data=(X_test, y_test))\n",
        "#Number of iterations run: 900"
      ],
      "execution_count": null,
      "outputs": [
        {
          "output_type": "stream",
          "text": [
            "Epoch 1/50\n",
            "48/48 [==============================] - 1s 6ms/step - loss: 2.0926 - accuracy: 0.3171 - val_loss: 0.9455 - val_accuracy: 0.7200\n",
            "Epoch 2/50\n",
            "48/48 [==============================] - 0s 3ms/step - loss: 0.8776 - accuracy: 0.7424 - val_loss: 0.6823 - val_accuracy: 0.8067\n",
            "Epoch 3/50\n",
            "48/48 [==============================] - 0s 3ms/step - loss: 0.6803 - accuracy: 0.8021 - val_loss: 0.5791 - val_accuracy: 0.8383\n",
            "Epoch 4/50\n",
            "48/48 [==============================] - 0s 3ms/step - loss: 0.5736 - accuracy: 0.8484 - val_loss: 0.4987 - val_accuracy: 0.8617\n",
            "Epoch 5/50\n",
            "48/48 [==============================] - 0s 3ms/step - loss: 0.4642 - accuracy: 0.8777 - val_loss: 0.4560 - val_accuracy: 0.8683\n",
            "Epoch 6/50\n",
            "48/48 [==============================] - 0s 3ms/step - loss: 0.4357 - accuracy: 0.8738 - val_loss: 0.4287 - val_accuracy: 0.8767\n",
            "Epoch 7/50\n",
            "48/48 [==============================] - 0s 3ms/step - loss: 0.3972 - accuracy: 0.8868 - val_loss: 0.3993 - val_accuracy: 0.8933\n",
            "Epoch 8/50\n",
            "48/48 [==============================] - 0s 3ms/step - loss: 0.3878 - accuracy: 0.8948 - val_loss: 0.3730 - val_accuracy: 0.8883\n",
            "Epoch 9/50\n",
            "48/48 [==============================] - 0s 3ms/step - loss: 0.3380 - accuracy: 0.9083 - val_loss: 0.3518 - val_accuracy: 0.9017\n",
            "Epoch 10/50\n",
            "48/48 [==============================] - 0s 3ms/step - loss: 0.3327 - accuracy: 0.9079 - val_loss: 0.3444 - val_accuracy: 0.8933\n",
            "Epoch 11/50\n",
            "48/48 [==============================] - 0s 3ms/step - loss: 0.3044 - accuracy: 0.9168 - val_loss: 0.3307 - val_accuracy: 0.9017\n",
            "Epoch 12/50\n",
            "48/48 [==============================] - 0s 3ms/step - loss: 0.2981 - accuracy: 0.9238 - val_loss: 0.3131 - val_accuracy: 0.9150\n",
            "Epoch 13/50\n",
            "48/48 [==============================] - 0s 3ms/step - loss: 0.2836 - accuracy: 0.9200 - val_loss: 0.3046 - val_accuracy: 0.9167\n",
            "Epoch 14/50\n",
            "48/48 [==============================] - 0s 3ms/step - loss: 0.2719 - accuracy: 0.9221 - val_loss: 0.2936 - val_accuracy: 0.9167\n",
            "Epoch 15/50\n",
            "48/48 [==============================] - 0s 3ms/step - loss: 0.2592 - accuracy: 0.9319 - val_loss: 0.2904 - val_accuracy: 0.9183\n",
            "Epoch 16/50\n",
            "48/48 [==============================] - 0s 3ms/step - loss: 0.2461 - accuracy: 0.9319 - val_loss: 0.2816 - val_accuracy: 0.9217\n",
            "Epoch 17/50\n",
            "48/48 [==============================] - 0s 3ms/step - loss: 0.2275 - accuracy: 0.9389 - val_loss: 0.2776 - val_accuracy: 0.9233\n",
            "Epoch 18/50\n",
            "48/48 [==============================] - 0s 3ms/step - loss: 0.2106 - accuracy: 0.9435 - val_loss: 0.2658 - val_accuracy: 0.9250\n",
            "Epoch 19/50\n",
            "48/48 [==============================] - 0s 3ms/step - loss: 0.2197 - accuracy: 0.9409 - val_loss: 0.2641 - val_accuracy: 0.9217\n",
            "Epoch 20/50\n",
            "48/48 [==============================] - 0s 3ms/step - loss: 0.2077 - accuracy: 0.9505 - val_loss: 0.2578 - val_accuracy: 0.9250\n",
            "Epoch 21/50\n",
            "48/48 [==============================] - 0s 3ms/step - loss: 0.1964 - accuracy: 0.9407 - val_loss: 0.2510 - val_accuracy: 0.9317\n",
            "Epoch 22/50\n",
            "48/48 [==============================] - 0s 3ms/step - loss: 0.1868 - accuracy: 0.9562 - val_loss: 0.2541 - val_accuracy: 0.9317\n",
            "Epoch 23/50\n",
            "48/48 [==============================] - 0s 3ms/step - loss: 0.2046 - accuracy: 0.9447 - val_loss: 0.2532 - val_accuracy: 0.9283\n",
            "Epoch 24/50\n",
            "48/48 [==============================] - 0s 3ms/step - loss: 0.1732 - accuracy: 0.9611 - val_loss: 0.2450 - val_accuracy: 0.9317\n",
            "Epoch 25/50\n",
            "48/48 [==============================] - 0s 3ms/step - loss: 0.1779 - accuracy: 0.9597 - val_loss: 0.2405 - val_accuracy: 0.9300\n",
            "Epoch 26/50\n",
            "48/48 [==============================] - 0s 3ms/step - loss: 0.1714 - accuracy: 0.9607 - val_loss: 0.2365 - val_accuracy: 0.9383\n",
            "Epoch 27/50\n",
            "48/48 [==============================] - 0s 3ms/step - loss: 0.1640 - accuracy: 0.9568 - val_loss: 0.2364 - val_accuracy: 0.9333\n",
            "Epoch 28/50\n",
            "48/48 [==============================] - 0s 3ms/step - loss: 0.1713 - accuracy: 0.9558 - val_loss: 0.2262 - val_accuracy: 0.9333\n",
            "Epoch 29/50\n",
            "48/48 [==============================] - 0s 3ms/step - loss: 0.1624 - accuracy: 0.9613 - val_loss: 0.2289 - val_accuracy: 0.9333\n",
            "Epoch 30/50\n",
            "48/48 [==============================] - 0s 3ms/step - loss: 0.1574 - accuracy: 0.9628 - val_loss: 0.2272 - val_accuracy: 0.9283\n",
            "Epoch 31/50\n",
            "48/48 [==============================] - 0s 3ms/step - loss: 0.1489 - accuracy: 0.9642 - val_loss: 0.2215 - val_accuracy: 0.9400\n",
            "Epoch 32/50\n",
            "48/48 [==============================] - 0s 3ms/step - loss: 0.1532 - accuracy: 0.9652 - val_loss: 0.2230 - val_accuracy: 0.9400\n",
            "Epoch 33/50\n",
            "48/48 [==============================] - 0s 3ms/step - loss: 0.1322 - accuracy: 0.9728 - val_loss: 0.2236 - val_accuracy: 0.9383\n",
            "Epoch 34/50\n",
            "48/48 [==============================] - 0s 3ms/step - loss: 0.1405 - accuracy: 0.9689 - val_loss: 0.2120 - val_accuracy: 0.9417\n",
            "Epoch 35/50\n",
            "48/48 [==============================] - 0s 3ms/step - loss: 0.1421 - accuracy: 0.9698 - val_loss: 0.2173 - val_accuracy: 0.9433\n",
            "Epoch 36/50\n",
            "48/48 [==============================] - 0s 3ms/step - loss: 0.1317 - accuracy: 0.9708 - val_loss: 0.2185 - val_accuracy: 0.9400\n",
            "Epoch 37/50\n",
            "48/48 [==============================] - 0s 3ms/step - loss: 0.1298 - accuracy: 0.9726 - val_loss: 0.2161 - val_accuracy: 0.9367\n",
            "Epoch 38/50\n",
            "48/48 [==============================] - 0s 3ms/step - loss: 0.1216 - accuracy: 0.9758 - val_loss: 0.2099 - val_accuracy: 0.9450\n",
            "Epoch 39/50\n",
            "48/48 [==============================] - 0s 3ms/step - loss: 0.1179 - accuracy: 0.9805 - val_loss: 0.2139 - val_accuracy: 0.9383\n",
            "Epoch 40/50\n",
            "48/48 [==============================] - 0s 3ms/step - loss: 0.1134 - accuracy: 0.9802 - val_loss: 0.2074 - val_accuracy: 0.9417\n",
            "Epoch 41/50\n",
            "48/48 [==============================] - 0s 3ms/step - loss: 0.1167 - accuracy: 0.9726 - val_loss: 0.2062 - val_accuracy: 0.9433\n",
            "Epoch 42/50\n",
            "48/48 [==============================] - 0s 3ms/step - loss: 0.1025 - accuracy: 0.9802 - val_loss: 0.2075 - val_accuracy: 0.9417\n",
            "Epoch 43/50\n",
            "48/48 [==============================] - 0s 3ms/step - loss: 0.1121 - accuracy: 0.9782 - val_loss: 0.2046 - val_accuracy: 0.9383\n",
            "Epoch 44/50\n",
            "48/48 [==============================] - 0s 3ms/step - loss: 0.0969 - accuracy: 0.9828 - val_loss: 0.2038 - val_accuracy: 0.9417\n",
            "Epoch 45/50\n",
            "48/48 [==============================] - 0s 3ms/step - loss: 0.1095 - accuracy: 0.9777 - val_loss: 0.2017 - val_accuracy: 0.9433\n",
            "Epoch 46/50\n",
            "48/48 [==============================] - 0s 3ms/step - loss: 0.1024 - accuracy: 0.9839 - val_loss: 0.2011 - val_accuracy: 0.9450\n",
            "Epoch 47/50\n",
            "48/48 [==============================] - 0s 3ms/step - loss: 0.1080 - accuracy: 0.9811 - val_loss: 0.2002 - val_accuracy: 0.9450\n",
            "Epoch 48/50\n",
            "48/48 [==============================] - 0s 3ms/step - loss: 0.1076 - accuracy: 0.9776 - val_loss: 0.2063 - val_accuracy: 0.9383\n",
            "Epoch 49/50\n",
            "48/48 [==============================] - 0s 3ms/step - loss: 0.1025 - accuracy: 0.9834 - val_loss: 0.2017 - val_accuracy: 0.9367\n",
            "Epoch 50/50\n",
            "48/48 [==============================] - 0s 3ms/step - loss: 0.0949 - accuracy: 0.9840 - val_loss: 0.2007 - val_accuracy: 0.9417\n"
          ],
          "name": "stdout"
        }
      ]
    },
    {
      "cell_type": "code",
      "metadata": {
        "id": "32jFj14Qz_qx",
        "colab": {
          "base_uri": "https://localhost:8080/",
          "height": 571
        },
        "outputId": "df577db9-f874-40fc-f8f9-f7233538c280"
      },
      "source": [
        "from google.colab import files\n",
        "# summarize history for loss\n",
        "ls=plt.figure()\n",
        "plt.plot(history.history['accuracy'])\n",
        "plt.plot(history.history['val_accuracy'])\n",
        "plt.title('model accuracy')\n",
        "plt.ylabel('accuracy')\n",
        "plt.xlabel('epoch')\n",
        "plt.legend(['train', 'test'], loc='upper left')\n",
        "#plt.ylim(0.02,0.4)\n",
        "ls.show()\n",
        "\n",
        "ls=plt.figure()\n",
        "plt.plot(history.history['loss'])\n",
        "plt.plot(history.history['val_loss'])\n",
        "plt.title('model loss')\n",
        "plt.ylabel('loss')\n",
        "plt.xlabel('epoch')\n",
        "plt.legend(['train', 'test'], loc='upper left')\n",
        "#plt.ylim(0.02,0.4)\n",
        "ls.show()\n",
        "#ls.savefig('/content/drive/My Drive/Sinc/loss-exp.png')\n",
        "#files.download('loss-1.png')"
      ],
      "execution_count": null,
      "outputs": [
        {
          "output_type": "display_data",
          "data": {
            "image/png": "[encoded data removed]",
            "text/plain": [
              "<Figure size 432x288 with 1 Axes>"
            ]
          },
          "metadata": {
            "tags": [],
            "needs_background": "light"
          }
        },
        {
          "output_type": "display_data",
          "data": {
            "image/png": "[encoded data removed]",
            "text/plain": [
              "<Figure size 432x288 with 1 Axes>"
            ]
          },
          "metadata": {
            "tags": [],
            "needs_background": "light"
          }
        }
      ]
    },
    {
      "cell_type": "code",
      "metadata": {
        "id": "YyK-ZDqzXaIH",
        "colab": {
          "base_uri": "https://localhost:8080/",
          "height": 490
        },
        "outputId": "e45eb99f-0de8-47a0-e9e8-c6ccc4eeac63"
      },
      "source": [
        "def plot_confusion_matrix(cm, classes,\n",
        "\n",
        "                        normalize=False,\n",
        "\n",
        "                        title='Confusion matrix',\n",
        "\n",
        "                        cmap=plt.cm.Blues):\n",
        "\n",
        "    \"\"\"\n",
        "\n",
        "    This function prints and plots the confusion matrix.\n",
        "\n",
        "    Normalization can be applied by setting `normalize=True`.\n",
        "\n",
        "    \"\"\"\n",
        "\n",
        "    plt.imshow(cm, interpolation='nearest', cmap=cmap)\n",
        "\n",
        "    plt.title(title)\n",
        "\n",
        "    plt.colorbar()\n",
        "\n",
        "    tick_marks = np.arange(len(classes))\n",
        "\n",
        "    plt.xticks(tick_marks, classes, rotation=45)\n",
        "\n",
        "    plt.yticks(tick_marks, classes)\n",
        "\n",
        "\n",
        "\n",
        "    if normalize:\n",
        "\n",
        "        cm = cm.astype('float') / cm.sum(axis=1)[:, np.newaxis]\n",
        "\n",
        "        print(\"Normalized confusion matrix\")\n",
        "\n",
        "    else:\n",
        "\n",
        "        print('Confusion matrix, without normalization')\n",
        "\n",
        "\n",
        "\n",
        "    print(cm)\n",
        "\n",
        "\n",
        "\n",
        "    thresh = cm.max() / 2.\n",
        "\n",
        "    for i, j in itertools.product(range(cm.shape[0]), range(cm.shape[1])):\n",
        "\n",
        "        plt.text(j, i, cm[i, j],\n",
        "\n",
        "            horizontalalignment=\"center\",\n",
        "\n",
        "            color=\"white\" if cm[i, j] > thresh else \"black\")\n",
        "\n",
        "\n",
        "\n",
        "    plt.tight_layout()\n",
        "\n",
        "    plt.ylabel('True label')\n",
        "\n",
        "    plt.xlabel('Predicted label')\n",
        "\n",
        "\n",
        "\n",
        "\n",
        "%matplotlib inline\n",
        "\n",
        "from sklearn.metrics import confusion_matrix\n",
        "\n",
        "import itertools\n",
        "\n",
        "import matplotlib.pyplot as plt\n",
        "\n",
        "\n",
        "\n",
        "cm_plot_labels = ['no_side_effects','had_side_effects']\n",
        "\n",
        "\n",
        "\n",
        "cm = confusion_matrix(y_true=np.argmax(y_test,1), y_pred=np.argmax(model.predict(X_test),1))\n",
        "\n",
        "\n",
        "\n",
        "plot_confusion_matrix(cm=cm, classes=cm_plot_labels, title='Confusion Matrix')"
      ],
      "execution_count": null,
      "outputs": [
        {
          "output_type": "stream",
          "text": [
            "Confusion matrix, without normalization\n",
            "[[62  0  0  0  0  0  0  0  0  0]\n",
            " [ 0 62  0  0  0  0  0  0  0  0]\n",
            " [ 1  1 52  0  0  0  1  2  0  0]\n",
            " [ 0  0  0 56  0  0  5  2  0  0]\n",
            " [ 1  2  0  0 48  0  0  0  0  0]\n",
            " [ 0  3  0  0  0 66  0  1  0  0]\n",
            " [ 0  0  0  5  0  0 48  1  1  1]\n",
            " [ 0  0  1  1  0  0  0 62  0  0]\n",
            " [ 0  0  0  0  0  0  2  0 51  0]\n",
            " [ 0  1  0  0  0  3  0  0  0 58]]\n"
          ],
          "name": "stdout"
        },
        {
          "output_type": "display_data",
          "data": {
            "image/png": "[encoded data removed]",
            "text/plain": [
              "<Figure size 432x288 with 2 Axes>"
            ]
          },
          "metadata": {
            "tags": [],
            "needs_background": "light"
          }
        }
      ]
    },
    {
      "cell_type": "code",
      "metadata": {
        "id": "ofUti1MIIrsh"
      },
      "source": [
        "#sio.savemat('/content/drive/My Drive/SoloPaper/Audio/image_network_res_last.mat', {'y':out, 'X_test':X_test, 'X_train':X_train, 'y_test':y_test, 'y_train':y_train, 'acc':history.history['accuracy'], 'cm':cm, 'val_acc':history.history['val_accuracy'], 'loss':history.history['loss'], 'val_loss':history.history['val_loss']})"
      ],
      "execution_count": null,
      "outputs": []
    },
    {
      "cell_type": "code",
      "metadata": {
        "id": "4LdWDwRpI2Xh"
      },
      "source": [
        "sio.savemat('/content/drive/My Drive/SoloPaper/Audio/frog_network_res_last.mat', {'y':out, 'X_test':X_test, 'X_train':X_train, 'y_test':y_test, 'y_train':y_train, 'acc':history.history['accuracy'], 'cm':cm, 'val_acc':history.history['val_accuracy'], 'loss':history.history['loss'], 'val_loss':history.history['val_loss']})"
      ],
      "execution_count": null,
      "outputs": []
    },
    {
      "cell_type": "code",
      "metadata": {
        "id": "aqL3Q4zNyfBp"
      },
      "source": [
        ""
      ],
      "execution_count": null,
      "outputs": []
    }
  ]
}