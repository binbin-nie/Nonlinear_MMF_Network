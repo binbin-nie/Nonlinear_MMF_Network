{
  "nbformat": 4,
  "nbformat_minor": 0,
  "metadata": {
    "colab": {
      "name": "SimulationofNEW_COVID-19_CTImage.ipynb",
      "provenance": [],
      "collapsed_sections": [],
      "machine_shape": "hm",
      "include_colab_link": true
    },
    "kernelspec": {
      "name": "python3",
      "display_name": "Python 3"
    },
    "accelerator": "GPU"
  },
  "cells": [
    {
      "cell_type": "markdown",
      "metadata": {
        "id": "view-in-github",
        "colab_type": "text"
      },
      "source": [
        "<a href=\"https://colab.research.google.com/github/ugurtegin/Nonlinear_MMF_Network/blob/main/Simulations/SimNEW_COVID_19_CTImage.ipynb\" target=\"_parent\"><img src=\"https://colab.research.google.com/assets/colab-badge.svg\" alt=\"Open In Colab\"/></a>"
      ]
    },
    {
      "cell_type": "code",
      "metadata": {
        "id": "plRoSF3YWrl5",
        "colab": {
          "base_uri": "https://localhost:8080/"
        },
        "outputId": "4d0d5173-f5ac-4b7e-bb84-b76a8a65b39c"
      },
      "source": [
        "import numpy as np\n",
        "import matplotlib.pyplot as plt\n",
        "import scipy.io as sio\n",
        "import tensorflow as tf\n",
        "\n",
        "\n",
        "from tensorflow import keras\n",
        "from sklearn.model_selection import train_test_split\n",
        "from tensorflow.keras.models import Model,Sequential\n",
        "from tensorflow.keras.layers import Input, Activation, LSTM\n",
        "from tensorflow.keras.layers import Dense, Dropout, Flatten, Conv2D, MaxPooling2D, AveragePooling2D \n",
        "from tensorflow.keras.optimizers import SGD, Adam\n",
        "from tensorflow.keras.utils import to_categorical\n",
        "\n",
        "\n",
        "# Load the Drive helper and mount\n",
        "from google.colab import drive\n",
        "\n",
        "# This will prompt for authorization.\n",
        "drive.mount('/content/drive')"
      ],
      "execution_count": 1,
      "outputs": [
        {
          "output_type": "stream",
          "text": [
            "Mounted at /content/drive\n"
          ],
          "name": "stdout"
        }
      ]
    },
    {
      "cell_type": "code",
      "metadata": {
        "id": "UdPXYLYoJbCU"
      },
      "source": [
        "# Load and create normalized intensity images\n",
        "\n",
        "res_sq_flt=np.zeros((2481,484))\n",
        "for ugur in range(2480):\n",
        "  f = sio.loadmat('/content/drive/MyDrive/Optical DNN Project/Mustafa COVID DATA/data_pow10e6ugur/data'+str(ugur)+'.mat')\n",
        "  Ain = f['flattened']\n",
        "  res_sq_flt[ugur] = Ain\n",
        "\n",
        "\n",
        "sio.savemat('/content/drive/MyDrive/Optical DNN Project/Mustafa COVID DATA/data_pow10e6ugur/res_sq_flt2_2.mat',{'res_sq_flt':res_sq_flt})"
      ],
      "execution_count": 16,
      "outputs": []
    },
    {
      "cell_type": "code",
      "metadata": {
        "id": "PDK63hJmW5D4"
      },
      "source": [
        "import scipy.io as sio\n",
        "#f = sio.loadmat('/content/drive/MyDrive/res_sq_flt2_2.mat')\n",
        "#inp = f['res_sq_flt']\n",
        "inp = res_sq_flt\n",
        "\n",
        "#Load data\n",
        "f2 = sio.loadmat('/content/drive/MyDrive/Optical DNN Project/Mustafa COVID DATA/label.mat')\n",
        "\n",
        "out = f2['label']"
      ],
      "execution_count": 17,
      "outputs": []
    },
    {
      "cell_type": "code",
      "metadata": {
        "id": "pYBJB9YglGiX",
        "colab": {
          "base_uri": "https://localhost:8080/"
        },
        "outputId": "0ddbcfe5-6902-4939-a41e-e8d724279dd0"
      },
      "source": [
        "input_data = inp\n",
        "output_data = out\n",
        "\n",
        "print('input_data : ', input_data.shape, input_data.dtype)\n",
        "print('output_class : ', output_data.shape, output_data.dtype)\n",
        "print()"
      ],
      "execution_count": 18,
      "outputs": [
        {
          "output_type": "stream",
          "text": [
            "input_data :  (2481, 484) float64\n",
            "output_class :  (2481, 1) uint8\n",
            "\n"
          ],
          "name": "stdout"
        }
      ]
    },
    {
      "cell_type": "code",
      "metadata": {
        "id": "kdjC6qIyUMOc",
        "colab": {
          "base_uri": "https://localhost:8080/"
        },
        "outputId": "1395dbd8-2e03-4558-8a75-dfb3939ecae5"
      },
      "source": [
        "input_data.shape"
      ],
      "execution_count": 19,
      "outputs": [
        {
          "output_type": "execute_result",
          "data": {
            "text/plain": [
              "(2481, 484)"
            ]
          },
          "metadata": {
            "tags": []
          },
          "execution_count": 19
        }
      ]
    },
    {
      "cell_type": "code",
      "metadata": {
        "id": "JMVZ-aoTk1wf",
        "colab": {
          "base_uri": "https://localhost:8080/"
        },
        "outputId": "a887ad9a-3cdd-4a02-b58d-ece67a00497f"
      },
      "source": [
        "oran = 0.20\n",
        "X_train, X_test, y_train, y_test = train_test_split(input_data, output_data, test_size=oran)\n",
        "\n",
        "print('Test data : ', X_test.shape, X_test.dtype)\n",
        "print('Training data : ', X_train.shape, X_train.dtype)\n",
        "print()"
      ],
      "execution_count": 20,
      "outputs": [
        {
          "output_type": "stream",
          "text": [
            "Test data :  (497, 484) float64\n",
            "Training data :  (1984, 484) float64\n",
            "\n"
          ],
          "name": "stdout"
        }
      ]
    },
    {
      "cell_type": "code",
      "metadata": {
        "id": "SycmK62goI2t"
      },
      "source": [
        "model = Sequential()\n",
        "model.add(Dense(1, input_dim=484, activation='sigmoid'))"
      ],
      "execution_count": 21,
      "outputs": []
    },
    {
      "cell_type": "code",
      "metadata": {
        "id": "Sg1arrHHoSF1",
        "colab": {
          "base_uri": "https://localhost:8080/"
        },
        "outputId": "be65ad11-f9e5-4c69-d491-3518481e7bdc"
      },
      "source": [
        "loss='binary_crossentropy'\n",
        "metrics = ['accuracy']  # network accuracy metric to be determined after each epoch\n",
        "\n",
        "opt1 = SGD(lr=0.001, momentum=0.9)\n",
        "opt2 = Adam(lr=0.001, beta_1=0.9, beta_2=0.999)\n",
        "\n",
        "model.compile(optimizer=opt2, loss=loss, metrics=metrics)\n",
        "model.summary()"
      ],
      "execution_count": 22,
      "outputs": [
        {
          "output_type": "stream",
          "text": [
            "Model: \"sequential_1\"\n",
            "_________________________________________________________________\n",
            "Layer (type)                 Output Shape              Param #   \n",
            "=================================================================\n",
            "dense_1 (Dense)              (None, 1)                 485       \n",
            "=================================================================\n",
            "Total params: 485\n",
            "Trainable params: 485\n",
            "Non-trainable params: 0\n",
            "_________________________________________________________________\n"
          ],
          "name": "stdout"
        }
      ]
    },
    {
      "cell_type": "code",
      "metadata": {
        "id": "ZavprgepoUEE",
        "colab": {
          "base_uri": "https://localhost:8080/"
        },
        "outputId": "f60a966f-a5c2-425b-b834-59727d6276bc"
      },
      "source": [
        "#setting final parameters for the network and it begins to train\n",
        "number_of_iterations = 30\n",
        "batch_size = 50\n",
        "\n",
        "#history=model.fit(X_train, y_train, validation_data=(X_test, y_test), epochs=3)\n",
        "history=model.fit(X_train, y_train, batch_size=batch_size, epochs=number_of_iterations, verbose=1, validation_data=(X_test, y_test))\n",
        "#Number of iterations run: 900"
      ],
      "execution_count": 23,
      "outputs": [
        {
          "output_type": "stream",
          "text": [
            "Epoch 1/30\n",
            "40/40 [==============================] - 0s 4ms/step - loss: 0.6943 - accuracy: 0.4950 - val_loss: 0.6884 - val_accuracy: 0.5010\n",
            "Epoch 2/30\n",
            "40/40 [==============================] - 0s 2ms/step - loss: 0.6773 - accuracy: 0.5494 - val_loss: 0.6729 - val_accuracy: 0.5875\n",
            "Epoch 3/30\n",
            "40/40 [==============================] - 0s 2ms/step - loss: 0.6633 - accuracy: 0.6154 - val_loss: 0.6601 - val_accuracy: 0.6821\n",
            "Epoch 4/30\n",
            "40/40 [==============================] - 0s 2ms/step - loss: 0.6511 - accuracy: 0.6512 - val_loss: 0.6498 - val_accuracy: 0.6942\n",
            "Epoch 5/30\n",
            "40/40 [==============================] - 0s 2ms/step - loss: 0.6411 - accuracy: 0.6729 - val_loss: 0.6422 - val_accuracy: 0.7002\n",
            "Epoch 6/30\n",
            "40/40 [==============================] - 0s 3ms/step - loss: 0.6320 - accuracy: 0.6910 - val_loss: 0.6335 - val_accuracy: 0.7203\n",
            "Epoch 7/30\n",
            "40/40 [==============================] - 0s 2ms/step - loss: 0.6241 - accuracy: 0.6935 - val_loss: 0.6257 - val_accuracy: 0.7264\n",
            "Epoch 8/30\n",
            "40/40 [==============================] - 0s 2ms/step - loss: 0.6170 - accuracy: 0.6941 - val_loss: 0.6202 - val_accuracy: 0.7183\n",
            "Epoch 9/30\n",
            "40/40 [==============================] - 0s 2ms/step - loss: 0.6109 - accuracy: 0.6976 - val_loss: 0.6147 - val_accuracy: 0.7143\n",
            "Epoch 10/30\n",
            "40/40 [==============================] - 0s 2ms/step - loss: 0.6055 - accuracy: 0.7001 - val_loss: 0.6091 - val_accuracy: 0.7203\n",
            "Epoch 11/30\n",
            "40/40 [==============================] - 0s 2ms/step - loss: 0.6004 - accuracy: 0.7011 - val_loss: 0.6055 - val_accuracy: 0.7143\n",
            "Epoch 12/30\n",
            "40/40 [==============================] - 0s 2ms/step - loss: 0.5959 - accuracy: 0.7026 - val_loss: 0.6011 - val_accuracy: 0.7183\n",
            "Epoch 13/30\n",
            "40/40 [==============================] - 0s 2ms/step - loss: 0.5920 - accuracy: 0.7036 - val_loss: 0.5968 - val_accuracy: 0.7264\n",
            "Epoch 14/30\n",
            "40/40 [==============================] - 0s 2ms/step - loss: 0.5877 - accuracy: 0.7056 - val_loss: 0.5945 - val_accuracy: 0.7243\n",
            "Epoch 15/30\n",
            "40/40 [==============================] - 0s 2ms/step - loss: 0.5844 - accuracy: 0.7077 - val_loss: 0.5911 - val_accuracy: 0.7284\n",
            "Epoch 16/30\n",
            "40/40 [==============================] - 0s 2ms/step - loss: 0.5813 - accuracy: 0.7041 - val_loss: 0.5869 - val_accuracy: 0.7304\n",
            "Epoch 17/30\n",
            "40/40 [==============================] - 0s 2ms/step - loss: 0.5783 - accuracy: 0.7067 - val_loss: 0.5850 - val_accuracy: 0.7284\n",
            "Epoch 18/30\n",
            "40/40 [==============================] - 0s 2ms/step - loss: 0.5753 - accuracy: 0.7112 - val_loss: 0.5824 - val_accuracy: 0.7264\n",
            "Epoch 19/30\n",
            "40/40 [==============================] - 0s 3ms/step - loss: 0.5726 - accuracy: 0.7082 - val_loss: 0.5806 - val_accuracy: 0.7223\n",
            "Epoch 20/30\n",
            "40/40 [==============================] - 0s 2ms/step - loss: 0.5703 - accuracy: 0.7127 - val_loss: 0.5765 - val_accuracy: 0.7344\n",
            "Epoch 21/30\n",
            "40/40 [==============================] - 0s 2ms/step - loss: 0.5676 - accuracy: 0.7117 - val_loss: 0.5766 - val_accuracy: 0.7243\n",
            "Epoch 22/30\n",
            "40/40 [==============================] - 0s 2ms/step - loss: 0.5658 - accuracy: 0.7087 - val_loss: 0.5733 - val_accuracy: 0.7344\n",
            "Epoch 23/30\n",
            "40/40 [==============================] - 0s 2ms/step - loss: 0.5637 - accuracy: 0.7082 - val_loss: 0.5711 - val_accuracy: 0.7384\n",
            "Epoch 24/30\n",
            "40/40 [==============================] - 0s 2ms/step - loss: 0.5616 - accuracy: 0.7132 - val_loss: 0.5707 - val_accuracy: 0.7304\n",
            "Epoch 25/30\n",
            "40/40 [==============================] - 0s 2ms/step - loss: 0.5594 - accuracy: 0.7127 - val_loss: 0.5682 - val_accuracy: 0.7364\n",
            "Epoch 26/30\n",
            "40/40 [==============================] - 0s 2ms/step - loss: 0.5578 - accuracy: 0.7097 - val_loss: 0.5670 - val_accuracy: 0.7364\n",
            "Epoch 27/30\n",
            "40/40 [==============================] - 0s 2ms/step - loss: 0.5558 - accuracy: 0.7142 - val_loss: 0.5648 - val_accuracy: 0.7404\n",
            "Epoch 28/30\n",
            "40/40 [==============================] - 0s 3ms/step - loss: 0.5543 - accuracy: 0.7157 - val_loss: 0.5636 - val_accuracy: 0.7404\n",
            "Epoch 29/30\n",
            "40/40 [==============================] - 0s 2ms/step - loss: 0.5526 - accuracy: 0.7162 - val_loss: 0.5610 - val_accuracy: 0.7364\n",
            "Epoch 30/30\n",
            "40/40 [==============================] - 0s 2ms/step - loss: 0.5511 - accuracy: 0.7172 - val_loss: 0.5611 - val_accuracy: 0.7364\n"
          ],
          "name": "stdout"
        }
      ]
    },
    {
      "cell_type": "code",
      "metadata": {
        "id": "32jFj14Qz_qx",
        "colab": {
          "base_uri": "https://localhost:8080/",
          "height": 571
        },
        "outputId": "d33f2a6e-3a94-4fe3-a1fb-b3477f43ebce"
      },
      "source": [
        "from google.colab import files\n",
        "ac=plt.figure()\n",
        "plt.plot(history.history['accuracy'])\n",
        "plt.plot(history.history['val_accuracy'])\n",
        "plt.title('model accuracy')\n",
        "plt.ylabel('accuracy')\n",
        "plt.xlabel('epoch')\n",
        "plt.legend(['train', 'test'], loc='upper left')\n",
        "ac.show()\n",
        "#ac.savefig('acc-1.png')\n",
        "#files.download('acc-1.png')\n",
        "\n",
        "# summarize history for loss\n",
        "ls=plt.figure()\n",
        "plt.plot(history.history['loss'])\n",
        "plt.plot(history.history['val_loss'])\n",
        "plt.title('model loss')\n",
        "plt.ylabel('loss')\n",
        "plt.xlabel('epoch')\n",
        "plt.legend(['train', 'test'], loc='upper left')\n",
        "ls.show()\n",
        "#ls.savefig('loss-1.png')\n",
        "#files.download('loss-1.png')"
      ],
      "execution_count": 24,
      "outputs": [
        {
          "output_type": "display_data",
          "data": {
            "image/png": "[encoded data removed]",
            "text/plain": [
              "<Figure size 432x288 with 1 Axes>"
            ]
          },
          "metadata": {
            "tags": [],
            "needs_background": "light"
          }
        },
        {
          "output_type": "display_data",
          "data": {
            "image/png": "[encoded data removed]",
            "text/plain": [
              "<Figure size 432x288 with 1 Axes>"
            ]
          },
          "metadata": {
            "tags": [],
            "needs_background": "light"
          }
        }
      ]
    },
    {
      "cell_type": "code",
      "metadata": {
        "id": "yExu5w-b_pk5"
      },
      "source": [
        "sio.savemat('/content/drive/MyDrive/Optical DNN Project/Mustafa COVID DATA/data_pow10e6ugur/network_res.mat', {'y':out, 'X_test':X_test, 'X_train':X_train, 'y_test':y_test, 'y_train':y_train, 'acc':history.history['accuracy'], 'val_acc':history.history['val_accuracy'], 'loss':history.history['loss'], 'val_loss':history.history['val_loss']})"
      ],
      "execution_count": 25,
      "outputs": []
    },
    {
      "cell_type": "code",
      "metadata": {
        "id": "gSIIagkbcyLK",
        "colab": {
          "base_uri": "https://localhost:8080/",
          "height": 358
        },
        "outputId": "c3371aa5-e279-4a7c-e6f2-235735895615"
      },
      "source": [
        "def plot_confusion_matrix(cm, classes,\n",
        "\n",
        "                        normalize=False,\n",
        "\n",
        "                        title='Confusion matrix',\n",
        "\n",
        "                        cmap=plt.cm.Blues):\n",
        "\n",
        "    \"\"\"\n",
        "\n",
        "    This function prints and plots the confusion matrix.\n",
        "\n",
        "    Normalization can be applied by setting `normalize=True`.\n",
        "\n",
        "    \"\"\"\n",
        "\n",
        "    plt.imshow(cm, interpolation='nearest', cmap=cmap)\n",
        "\n",
        "    plt.title(title)\n",
        "\n",
        "    plt.colorbar()\n",
        "\n",
        "    tick_marks = np.arange(len(classes))\n",
        "\n",
        "    plt.xticks(tick_marks, classes, rotation=45)\n",
        "\n",
        "    plt.yticks(tick_marks, classes)\n",
        "\n",
        "\n",
        "\n",
        "    if normalize:\n",
        "\n",
        "        cm = cm.astype('float') / cm.sum(axis=1)[:, np.newaxis]\n",
        "\n",
        "        print(\"Normalized confusion matrix\")\n",
        "\n",
        "    else:\n",
        "\n",
        "        print('Confusion matrix, without normalization')\n",
        "\n",
        "\n",
        "\n",
        "    print(cm)\n",
        "\n",
        "\n",
        "\n",
        "    thresh = cm.max() / 2.\n",
        "\n",
        "    for i, j in itertools.product(range(cm.shape[0]), range(cm.shape[1])):\n",
        "\n",
        "        plt.text(j, i, cm[i, j],\n",
        "\n",
        "            horizontalalignment=\"center\",\n",
        "\n",
        "            color=\"white\" if cm[i, j] > thresh else \"black\")\n",
        "\n",
        "\n",
        "\n",
        "    plt.tight_layout()\n",
        "\n",
        "    plt.ylabel('True label')\n",
        "\n",
        "    plt.xlabel('Predicted label')\n",
        "\n",
        "\n",
        "\n",
        "\n",
        "%matplotlib inline\n",
        "\n",
        "from sklearn.metrics import confusion_matrix\n",
        "\n",
        "import itertools\n",
        "\n",
        "import matplotlib.pyplot as plt\n",
        "\n",
        "\n",
        "\n",
        "cm_plot_labels = ['no_side_effects','had_side_effects']\n",
        "\n",
        "\n",
        "\n",
        "cm = confusion_matrix(y_true=y_test, y_pred=np.round(model.predict(X_test)))\n",
        "\n",
        "\n",
        "\n",
        "plot_confusion_matrix(cm=cm, classes=cm_plot_labels, title='Confusion Matrix')"
      ],
      "execution_count": 26,
      "outputs": [
        {
          "output_type": "stream",
          "text": [
            "Confusion matrix, without normalization\n",
            "[[209  58]\n",
            " [ 73 157]]\n"
          ],
          "name": "stdout"
        },
        {
          "output_type": "display_data",
          "data": {
            "image/png": "[encoded data removed]",
            "text/plain": [
              "<Figure size 432x288 with 2 Axes>"
            ]
          },
          "metadata": {
            "tags": [],
            "needs_background": "light"
          }
        }
      ]
    },
    {
      "cell_type": "code",
      "metadata": {
        "id": "Ja4N5r2n8KtW",
        "colab": {
          "base_uri": "https://localhost:8080/",
          "height": 284
        },
        "outputId": "639d5ba2-9b07-4ddd-da23-f75552520f50"
      },
      "source": [
        "y_pred=np.round(model.predict(X_test))\n",
        "y_true=np.argmax(y_test,1)\n",
        "\n",
        "plt.plot(y_pred)"
      ],
      "execution_count": null,
      "outputs": [
        {
          "output_type": "execute_result",
          "data": {
            "text/plain": [
              "[<matplotlib.lines.Line2D at 0x7fd5311ac8d0>]"
            ]
          },
          "metadata": {
            "tags": []
          },
          "execution_count": 24
        },
        {
          "output_type": "display_data",
          "data": {
            "image/png": "[encoded data removed]",
            "text/plain": [
              "<Figure size 432x288 with 1 Axes>"
            ]
          },
          "metadata": {
            "tags": [],
            "needs_background": "light"
          }
        }
      ]
    }
  ]
}