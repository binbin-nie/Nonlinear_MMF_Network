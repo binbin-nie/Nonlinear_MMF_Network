{
  "nbformat": 4,
  "nbformat_minor": 0,
  "metadata": {
    "colab": {
      "name": "Sinc_TBPM_CP.ipynb",
      "provenance": [],
      "collapsed_sections": [],
      "machine_shape": "hm",
      "authorship_tag": "ABX9TyNvKZTZK73ZNdRIb4dH4xNE",
      "include_colab_link": true
    },
    "kernelspec": {
      "name": "python3",
      "display_name": "Python 3"
    },
    "accelerator": "GPU"
  },
  "cells": [
    {
      "cell_type": "markdown",
      "metadata": {
        "id": "view-in-github",
        "colab_type": "text"
      },
      "source": [
        "<a href=\"https://colab.research.google.com/github/ugurtegin/Nonlinear_MMF_Network/blob/main/Simulations/Sinc_TBPM_CP.ipynb\" target=\"_parent\"><img src=\"https://colab.research.google.com/assets/colab-badge.svg\" alt=\"Open In Colab\"/></a>"
      ]
    },
    {
      "cell_type": "code",
      "metadata": {
        "id": "4_pfCzFEYH8J",
        "outputId": "3ead8e0a-d5be-4976-ac9d-cb07f1673cb6",
        "colab": {
          "base_uri": "https://localhost:8080/"
        }
      },
      "source": [
        "from google.colab import drive\n",
        "\n",
        "import numpy as np\n",
        "import cupy as cp\n",
        "import matplotlib.pyplot as plt\n",
        "import scipy.io as sio\n",
        "import time\n",
        "\n",
        "# This will prompt for authorization.\n",
        "drive.mount('/content/drive')"
      ],
      "execution_count": null,
      "outputs": [
        {
          "output_type": "stream",
          "text": [
            "Drive already mounted at /content/drive; to attempt to forcibly remount, call drive.mount(\"/content/drive\", force_remount=True).\n"
          ],
          "name": "stdout"
        }
      ]
    },
    {
      "cell_type": "code",
      "metadata": {
        "id": "7Nga_JnkhcWB"
      },
      "source": [
        "int_vect = -1*cp.pi + (cp.pi+cp.pi)*cp.random.rand(1000,1)\n",
        "out_sinc=cp.sinc(int_vect)\n",
        "\n",
        "randmat = cp.random.rand(64,64)\n",
        "\n",
        "sio.savemat('/content/drive/My Drive/SincSim/out_sinc.mat',{'out_sinc':out_sinc.get()})\n",
        "sio.savemat('/content/drive/My Drive/SincSim/int_vect.mat',{'int_vect':int_vect.get()})\n",
        "sio.savemat('/content/drive/My Drive/SincSim/randmat.mat',{'randmat':randmat.get()})\n",
        "\n",
        "#plt.scatter(int_vect,out_sinc)\n",
        "#plt.show()\n",
        "\n",
        "#plt.imshow(randmat)\n",
        "#plt.colorbar()\n",
        "#plt.show()"
      ],
      "execution_count": null,
      "outputs": []
    },
    {
      "cell_type": "code",
      "metadata": {
        "id": "BOxQV2dPYKnw"
      },
      "source": [
        "def gaus2d(x=0, y=0, mx=0, my=0, sx=1, sy=1,p=60,w=26.5e-6):\n",
        "  \"\"\"define normalized 2D gaussian\"\"\"\n",
        "\n",
        "  return np.exp(-2*((np.sqrt(x**2+y**2)/w)**p))\n",
        "\n",
        "\n",
        "spacewidth=54.1442e-6\n",
        "\n",
        "xres=54.1442e-6/64\n",
        "x = np.linspace(-spacewidth*0.5,spacewidth*0.5,int(spacewidth/xres))\n",
        "\n",
        "x1, y1 = np.meshgrid(x, x) # get 2D variables instead of 1D\n",
        "z = gaus2d(x1, y1)\n",
        "\n",
        "# plt.imshow(z)\n",
        "# plt.colorbar()\n",
        "\n",
        "#plt.plot(x,z[32,:])\n",
        "#plt.grid()\n",
        "#plt.xlim((-27.0721e-6,25e-6))\n",
        "#plt.show()\n",
        "\n",
        "cp_super_gauss2d =cp.asarray(z)\n",
        "cp_super_gauss2d = cp.repeat(cp_super_gauss2d[:,:,cp.newaxis], 2048, axis=2)\n",
        "\n",
        "#plt.imshow(z)\n",
        "#plt.colorbar()\n",
        "#plt.show()\n"
      ],
      "execution_count": null,
      "outputs": []
    },
    {
      "cell_type": "code",
      "metadata": {
        "id": "abIJFTsfPrjX"
      },
      "source": [
        "sampesize = 1000"
      ],
      "execution_count": null,
      "outputs": []
    },
    {
      "cell_type": "code",
      "metadata": {
        "id": "J8ZyZYEeoUzl",
        "outputId": "79dca235-a778-4a9c-d44d-ffa264d352d3",
        "colab": {
          "base_uri": "https://localhost:8080/"
        }
      },
      "source": [
        "tt = time.time()\n",
        "c = 299792458 # [m/s]\n",
        "n0 = 1.44                   # Refractive index of medium\n",
        "lambda_c = 1030e-9          # Central wavelength of the input pulse in [m]\n",
        "#k0 = 2*pi/lambda_c         # [1/m]\n",
        "#k = k0*n0                  # [1/m]\n",
        "\n",
        "## TIME SPACE DOMAIN\n",
        "timewidth = 20e-12          # Width of the time window in [s]\n",
        "tres = timewidth/((2**11))\n",
        "t = cp.arange(-timewidth*0.5,(timewidth*0.5),tres)\n",
        "#t = -timewidth*0.5:tres:timewidth*0.5 # Time in [s]\n",
        "timesteps=len(t)\n",
        "\n",
        "spacewidth=54.1442e-6\n",
        "xres = spacewidth/((2**6))\n",
        "#x = -spacewidth*0.5:xres:spacewidth*0.5 # Time in [s]\n",
        "x = cp.arange(-spacewidth*0.5,(spacewidth*0.5),xres)\n",
        "xsteps=len(x)\n",
        "y = x\n",
        "[X,Y,T] = cp.meshgrid(x,y,t)\n",
        "\n",
        "## FOURIER DOMAIN\n",
        "fs=1/timewidth\n",
        "freq = c/lambda_c+fs*cp.linspace(-timesteps/2,timesteps/2,num = timesteps)\n",
        "#freq=c/lambda_c+fs*linspace(-(timesteps-1)/2,(timesteps-1)/2,timesteps) # [Hz]\n",
        "wave=c/freq # [m]\n",
        "w=2*cp.pi*c/lambda_c # [Hz]\n",
        "omegas=2*cp.pi*freq\n",
        "wt = omegas-w\n",
        "\n",
        "#kx = 2*pi/xsteps/xres*x;\n",
        "#kx = 2*pi/xres*x;\n",
        "\n",
        "#CHECK KX\n",
        "a = cp.pi/xres  # grid points in \"frequency\" domain--> {2*pi*(points/mm)}\n",
        "N = len(x)\n",
        "zbam = cp.arange(-a,(a-2*a/N)+(2*a/N),2*a/N)\n",
        "kx = cp.transpose(zbam) # \"frequency\" domain indexing ky = kx; \n",
        "ky = kx\n",
        "[KX,KY,WT] = cp.meshgrid(kx,ky,wt);\n",
        "## OPERATORS\n",
        "k0 = w*n0/c\n",
        "n2 = 3.2e-20       #Kerr coefficient (m^2/W)\n",
        "R = 25e-6\n",
        "beta2 = 24.8e-27\n",
        "beta3 = 23.3e-42\n",
        "gamma = (2*cp.pi*n2/(lambda_c))\n",
        "delta = 0.01\n",
        "NL1 = -1j*((k0*delta)/(R*R))*((X**2)+(Y**2))\n",
        "\n",
        "D1 = (0.5*1j/k0)*((-1j*(KX))**2+(-1j*(KY))**2)\n",
        "D2 = ((-0.5*1j*beta2)*(-1j*(WT))**2)+((beta3/6)*(-1j*(WT))**3)\n",
        "D = D1 + D2\n",
        "dz = 555e-6/16\n",
        "DFR = cp.exp(D*dz/2)\n",
        "\n",
        "## INPUT \n",
        "flength = 555e-6*10\n",
        "fstep = flength/dz\n",
        "x_fwhm = 25e-6\n",
        "t_fwhm = 1e-12\n",
        "Ppeak = 10e6 # kW\n",
        "\n",
        "for musti in range(sampesize):\n",
        "  slm = int_vect[musti]*randmat\n",
        "  slm = cp.exp(1j*slm)\n",
        "  slm2 = cp.repeat(slm[:,:,cp.newaxis], 2048, axis=2)\n",
        "  A = slm2*cp.sqrt(Ppeak/(cp.pi*x_fwhm*x_fwhm))*cp.exp( - ((X**2)/(2*(x_fwhm/2.35482)**2)+ (Y**2)/(2*(x_fwhm/2.35482)**2) + (T**2)/(2*(t_fwhm/2.35482)**2)));\n",
        "  ### MAIN FUNCTION\n",
        "  Ain = A\n",
        "  #Asave = cp.zeros((sampesize,64,64,1024), dtype=complex)\n",
        "\n",
        "\n",
        "  for ugur in range(int(fstep)):\n",
        "      #print((ugur*dz)+dz)\n",
        "      Einf=cp.fft.fftshift(cp.fft.fftn(Ain));\n",
        "      Ein2=cp.fft.ifftn(cp.fft.ifftshift(Einf*DFR));\n",
        "      Eout = Ein2;\n",
        "      \n",
        "      NL2 = 1j*gamma*cp.abs(Eout)**2;\n",
        "      NL = NL1+NL2;\n",
        "      Eout = Eout*cp.exp(NL*dz);\n",
        "      \n",
        "      Einf=cp.fft.fftshift(cp.fft.fftn(Eout));\n",
        "      Ein2=cp.fft.ifftn(cp.fft.ifftshift(Einf*DFR));\n",
        "      #Ain = Ein2;\n",
        "      Ain =cp.multiply(cp_super_gauss2d,Ein2);\n",
        "\n",
        "  \n",
        "  Ain_cpu=Ain.get()\n",
        "  sio.savemat('/content/drive/My Drive/SincSim/data'+str(musti)+'.mat', {'Ain':Ain_cpu})\n",
        "\n",
        "elapsed = time.time() - tt\n",
        "print(elapsed)"
      ],
      "execution_count": null,
      "outputs": [
        {
          "output_type": "stream",
          "text": [
            "3844.582463502884\n"
          ],
          "name": "stdout"
        }
      ]
    },
    {
      "cell_type": "code",
      "metadata": {
        "id": "H-LJtqi-m0ja",
        "outputId": "70823cb7-a851-48fa-efcd-4dd58dc6a890",
        "colab": {
          "base_uri": "https://localhost:8080/"
        }
      },
      "source": [
        "s =np.squeeze(np.sum(np.squeeze(np.sum(Ain.get(),axis=0)),axis=0))\n",
        "s_in =np.squeeze(np.sum(np.squeeze(np.sum(A.get(),axis=0)),axis=0))\n",
        "sf=np.fft.fftshift(np.fft.fft(s))\n",
        "sf_in=np.fft.fftshift(np.fft.fft(s_in))\n",
        "\n",
        "fig=plt.figure(figsize=(10,5))\n",
        "plt.plot(wave.get()*1e9,10*np.log10(np.abs(sf)**2),label='Output Spectrum')\n",
        "plt.plot(wave.get()*1e9,10*np.log10(np.abs(sf_in)**2),label='Input Spectrum')\n",
        "plt.legend()\n",
        "plt.grid()\n",
        "plt.xlabel('nm')\n",
        "plt.show()\n",
        "\n",
        "phss =np.sum(Ain_cpu,axis=2)\n",
        "plt.imshow((np.abs(phss)**2))\n",
        "plt.colorbar()\n",
        "plt.show()"
      ],
      "execution_count": null,
      "outputs": [
        {
          "output_type": "stream",
          "text": [
            "/usr/local/lib/python3.6/dist-packages/ipykernel_launcher.py:8: RuntimeWarning: divide by zero encountered in log10\n",
            "  \n"
          ],
          "name": "stderr"
        },
        {
          "output_type": "display_data",
          "data": {
            "image/png": "[encoded data removed]",
            "text/plain": [
              "<Figure size 720x360 with 1 Axes>"
            ]
          },
          "metadata": {
            "tags": [],
            "needs_background": "light"
          }
        },
        {
          "output_type": "display_data",
          "data": {
            "image/png": "[encoded data removed]",
            "text/plain": [
              "<Figure size 432x288 with 2 Axes>"
            ]
          },
          "metadata": {
            "tags": [],
            "needs_background": "light"
          }
        }
      ]
    },
    {
      "cell_type": "code",
      "metadata": {
        "id": "_FqiS0V-b4WI"
      },
      "source": [
        "#signal = np.squeeze(np.sum(Ain_cpu[:,:,:],axis=2))"
      ],
      "execution_count": null,
      "outputs": []
    },
    {
      "cell_type": "code",
      "metadata": {
        "id": "4chgOAtwtnqa"
      },
      "source": [
        "#plt.imshow(np.abs(signal)**2/np.max(np.max(np.abs(signal)**2)))\n",
        "#plt.colorbar()\n",
        "#plt.show()"
      ],
      "execution_count": null,
      "outputs": []
    },
    {
      "cell_type": "code",
      "metadata": {
        "id": "UE4BrdeScCNd"
      },
      "source": [
        ""
      ],
      "execution_count": null,
      "outputs": []
    }
  ]
}