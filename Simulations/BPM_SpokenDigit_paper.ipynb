{
  "nbformat": 4,
  "nbformat_minor": 0,
  "metadata": {
    "colab": {
      "name": "BPM_SpokenDigit_paper.ipynb",
      "provenance": [],
      "collapsed_sections": [],
      "machine_shape": "hm",
      "include_colab_link": true
    },
    "kernelspec": {
      "name": "python3",
      "display_name": "Python 3"
    },
    "accelerator": "GPU"
  },
  "cells": [
    {
      "cell_type": "markdown",
      "metadata": {
        "id": "view-in-github",
        "colab_type": "text"
      },
      "source": [
        "<a href=\"https://colab.research.google.com/github/ugurtegin/Nonlinear_MMF_Network/blob/main/Simulations/BPM_SpokenDigit_paper.ipynb\" target=\"_parent\"><img src=\"https://colab.research.google.com/assets/colab-badge.svg\" alt=\"Open In Colab\"/></a>"
      ]
    },
    {
      "cell_type": "code",
      "metadata": {
        "id": "plRoSF3YWrl5",
        "colab": {
          "base_uri": "https://localhost:8080/"
        },
        "outputId": "8892ffdb-fca4-42c7-c111-a7b997e9998c"
      },
      "source": [
        "import numpy as np\n",
        "import matplotlib.pyplot as plt\n",
        "import scipy.io as sio\n",
        "import tensorflow as tf\n",
        "\n",
        "\n",
        "from tensorflow import keras\n",
        "from sklearn.model_selection import train_test_split\n",
        "from tensorflow.keras.models import Model,Sequential\n",
        "from tensorflow.keras.layers import Input, Activation, LSTM\n",
        "from tensorflow.keras.layers import Dense, Dropout, Flatten, Conv2D, MaxPooling2D, AveragePooling2D \n",
        "from tensorflow.keras.optimizers import SGD, Adam\n",
        "from tensorflow.keras.utils import to_categorical, normalize\n",
        "\n",
        "# Load the Drive helper and mount\n",
        "from google.colab import drive\n",
        "\n",
        "# This will prompt for authorization.\n",
        "drive.mount('/content/drive')"
      ],
      "execution_count": null,
      "outputs": [
        {
          "output_type": "stream",
          "text": [
            "Mounted at /content/drive\n"
          ],
          "name": "stdout"
        }
      ]
    },
    {
      "cell_type": "code",
      "metadata": {
        "id": "PDK63hJmW5D4"
      },
      "source": [
        "import scipy.io as sio\n",
        "f = sio.loadmat('/content/drive/MyDrive/Optical DNN Project/1. MMF_Network_Paper/BPM_audio_digit_pred/flattened_longer.mat')\n",
        "inp2 = f['flattened']\n",
        "\n",
        "#Load data\n",
        "f2 = sio.loadmat('/content/drive/MyDrive/Optical DNN Project/1. MMF_Network_Paper/BPM_audio_digit_pred/label2_2.mat')\n",
        "\n",
        "out = f2['label2_2']\n"
      ],
      "execution_count": null,
      "outputs": []
    },
    {
      "cell_type": "code",
      "metadata": {
        "id": "pYBJB9YglGiX",
        "colab": {
          "base_uri": "https://localhost:8080/"
        },
        "outputId": "5bab8210-ead9-4c1a-d69b-9827328a5cbf"
      },
      "source": [
        "input_data = inp2\n",
        "output_data = to_categorical(out-1)\n",
        "\n",
        "print('input_data : ', input_data.shape, input_data.dtype)\n",
        "print('output_class : ', output_data.shape, output_data.dtype)\n",
        "print()"
      ],
      "execution_count": null,
      "outputs": [
        {
          "output_type": "stream",
          "text": [
            "input_data :  (3000, 484) float64\n",
            "output_class :  (3000, 6) float32\n",
            "\n"
          ],
          "name": "stdout"
        }
      ]
    },
    {
      "cell_type": "code",
      "metadata": {
        "id": "JMVZ-aoTk1wf",
        "colab": {
          "base_uri": "https://localhost:8080/"
        },
        "outputId": "5bbb9449-4f87-4a29-b54e-9e639c2336e1"
      },
      "source": [
        "oran = 0.20\n",
        "X_train, X_test, y_train, y_test = train_test_split(input_data, output_data, test_size=oran)\n",
        "\n",
        "print('Test data : ', X_test.shape, X_test.dtype)\n",
        "print('Training data : ', X_train.shape, X_train.dtype)\n",
        "print()"
      ],
      "execution_count": null,
      "outputs": [
        {
          "output_type": "stream",
          "text": [
            "Test data :  (600, 484) float64\n",
            "Training data :  (2400, 484) float64\n",
            "\n"
          ],
          "name": "stdout"
        }
      ]
    },
    {
      "cell_type": "code",
      "metadata": {
        "id": "SycmK62goI2t"
      },
      "source": [
        "model = Sequential()\n",
        "model.add(Dense(6, input_dim=484, activation='softmax'))"
      ],
      "execution_count": null,
      "outputs": []
    },
    {
      "cell_type": "code",
      "metadata": {
        "id": "Sg1arrHHoSF1",
        "colab": {
          "base_uri": "https://localhost:8080/"
        },
        "outputId": "d9c6aa91-687e-4ba6-d65a-cb180ceba304"
      },
      "source": [
        "loss='categorical_crossentropy' # mean_absolute_error, cosine_proximity\n",
        "metrics = ['accuracy']  # network accuracy metric to be determined after each epoch, mean_absolute_error, cosine_proximity\n",
        "\n",
        "opt1 = SGD(lr=0.001, momentum=0.9)\n",
        "opt2 = Adam(lr=0.001, beta_1=0.9, beta_2=0.999)\n",
        "\n",
        "model.compile(optimizer=opt2, loss=loss, metrics=metrics)\n",
        "model.summary()"
      ],
      "execution_count": null,
      "outputs": [
        {
          "output_type": "stream",
          "text": [
            "Model: \"sequential\"\n",
            "_________________________________________________________________\n",
            "Layer (type)                 Output Shape              Param #   \n",
            "=================================================================\n",
            "dense (Dense)                (None, 6)                 2910      \n",
            "=================================================================\n",
            "Total params: 2,910\n",
            "Trainable params: 2,910\n",
            "Non-trainable params: 0\n",
            "_________________________________________________________________\n"
          ],
          "name": "stdout"
        }
      ]
    },
    {
      "cell_type": "code",
      "metadata": {
        "id": "ZavprgepoUEE",
        "colab": {
          "base_uri": "https://localhost:8080/"
        },
        "outputId": "90cd9722-75cb-4d5c-9a98-5f795d385574"
      },
      "source": [
        "#setting final parameters for the network and it begins to train\n",
        "number_of_iterations = 50\n",
        "batch_size = 50\n",
        "\n",
        "#history=model.fit(X_train, y_train, validation_data=(X_test, y_test), epochs=number_of_iterations)\n",
        "history=model.fit(X_train, y_train, batch_size=batch_size, epochs=number_of_iterations, verbose=1, validation_data=(X_test, y_test))\n",
        "#Number of iterations run: 900"
      ],
      "execution_count": null,
      "outputs": [
        {
          "output_type": "stream",
          "text": [
            "Epoch 1/50\n",
            "48/48 [==============================] - 0s 5ms/step - loss: 1.7880 - accuracy: 0.1921 - val_loss: 1.7610 - val_accuracy: 0.2317\n",
            "Epoch 2/50\n",
            "48/48 [==============================] - 0s 2ms/step - loss: 1.7370 - accuracy: 0.3158 - val_loss: 1.7201 - val_accuracy: 0.3567\n",
            "Epoch 3/50\n",
            "48/48 [==============================] - 0s 2ms/step - loss: 1.6922 - accuracy: 0.4054 - val_loss: 1.6894 - val_accuracy: 0.3850\n",
            "Epoch 4/50\n",
            "48/48 [==============================] - 0s 2ms/step - loss: 1.6536 - accuracy: 0.4538 - val_loss: 1.6609 - val_accuracy: 0.3967\n",
            "Epoch 5/50\n",
            "48/48 [==============================] - 0s 2ms/step - loss: 1.6187 - accuracy: 0.4571 - val_loss: 1.6335 - val_accuracy: 0.4183\n",
            "Epoch 6/50\n",
            "48/48 [==============================] - 0s 2ms/step - loss: 1.5869 - accuracy: 0.4804 - val_loss: 1.6103 - val_accuracy: 0.4367\n",
            "Epoch 7/50\n",
            "48/48 [==============================] - 0s 2ms/step - loss: 1.5587 - accuracy: 0.4883 - val_loss: 1.5883 - val_accuracy: 0.4483\n",
            "Epoch 8/50\n",
            "48/48 [==============================] - 0s 2ms/step - loss: 1.5322 - accuracy: 0.4992 - val_loss: 1.5680 - val_accuracy: 0.4567\n",
            "Epoch 9/50\n",
            "48/48 [==============================] - 0s 2ms/step - loss: 1.5080 - accuracy: 0.5179 - val_loss: 1.5493 - val_accuracy: 0.4550\n",
            "Epoch 10/50\n",
            "48/48 [==============================] - 0s 2ms/step - loss: 1.4850 - accuracy: 0.5183 - val_loss: 1.5330 - val_accuracy: 0.4533\n",
            "Epoch 11/50\n",
            "48/48 [==============================] - 0s 2ms/step - loss: 1.4645 - accuracy: 0.5217 - val_loss: 1.5161 - val_accuracy: 0.4583\n",
            "Epoch 12/50\n",
            "48/48 [==============================] - 0s 2ms/step - loss: 1.4452 - accuracy: 0.5321 - val_loss: 1.5016 - val_accuracy: 0.4600\n",
            "Epoch 13/50\n",
            "48/48 [==============================] - 0s 2ms/step - loss: 1.4274 - accuracy: 0.5358 - val_loss: 1.4870 - val_accuracy: 0.4683\n",
            "Epoch 14/50\n",
            "48/48 [==============================] - 0s 2ms/step - loss: 1.4110 - accuracy: 0.5396 - val_loss: 1.4756 - val_accuracy: 0.4683\n",
            "Epoch 15/50\n",
            "48/48 [==============================] - 0s 2ms/step - loss: 1.3947 - accuracy: 0.5404 - val_loss: 1.4664 - val_accuracy: 0.4667\n",
            "Epoch 16/50\n",
            "48/48 [==============================] - 0s 2ms/step - loss: 1.3803 - accuracy: 0.5496 - val_loss: 1.4508 - val_accuracy: 0.4833\n",
            "Epoch 17/50\n",
            "48/48 [==============================] - 0s 2ms/step - loss: 1.3664 - accuracy: 0.5512 - val_loss: 1.4421 - val_accuracy: 0.4700\n",
            "Epoch 18/50\n",
            "48/48 [==============================] - 0s 2ms/step - loss: 1.3537 - accuracy: 0.5537 - val_loss: 1.4336 - val_accuracy: 0.4817\n",
            "Epoch 19/50\n",
            "48/48 [==============================] - 0s 2ms/step - loss: 1.3402 - accuracy: 0.5600 - val_loss: 1.4225 - val_accuracy: 0.4783\n",
            "Epoch 20/50\n",
            "48/48 [==============================] - 0s 2ms/step - loss: 1.3283 - accuracy: 0.5575 - val_loss: 1.4127 - val_accuracy: 0.4833\n",
            "Epoch 21/50\n",
            "48/48 [==============================] - 0s 2ms/step - loss: 1.3172 - accuracy: 0.5638 - val_loss: 1.4040 - val_accuracy: 0.4900\n",
            "Epoch 22/50\n",
            "48/48 [==============================] - 0s 2ms/step - loss: 1.3072 - accuracy: 0.5612 - val_loss: 1.3968 - val_accuracy: 0.4950\n",
            "Epoch 23/50\n",
            "48/48 [==============================] - 0s 2ms/step - loss: 1.2960 - accuracy: 0.5650 - val_loss: 1.3875 - val_accuracy: 0.5033\n",
            "Epoch 24/50\n",
            "48/48 [==============================] - 0s 2ms/step - loss: 1.2872 - accuracy: 0.5696 - val_loss: 1.3805 - val_accuracy: 0.5017\n",
            "Epoch 25/50\n",
            "48/48 [==============================] - 0s 2ms/step - loss: 1.2777 - accuracy: 0.5704 - val_loss: 1.3735 - val_accuracy: 0.5100\n",
            "Epoch 26/50\n",
            "48/48 [==============================] - 0s 2ms/step - loss: 1.2684 - accuracy: 0.5729 - val_loss: 1.3656 - val_accuracy: 0.5017\n",
            "Epoch 27/50\n",
            "48/48 [==============================] - 0s 3ms/step - loss: 1.2600 - accuracy: 0.5775 - val_loss: 1.3612 - val_accuracy: 0.5050\n",
            "Epoch 28/50\n",
            "48/48 [==============================] - 0s 2ms/step - loss: 1.2523 - accuracy: 0.5796 - val_loss: 1.3575 - val_accuracy: 0.5050\n",
            "Epoch 29/50\n",
            "48/48 [==============================] - 0s 2ms/step - loss: 1.2437 - accuracy: 0.5854 - val_loss: 1.3468 - val_accuracy: 0.5200\n",
            "Epoch 30/50\n",
            "48/48 [==============================] - 0s 2ms/step - loss: 1.2373 - accuracy: 0.5850 - val_loss: 1.3421 - val_accuracy: 0.5200\n",
            "Epoch 31/50\n",
            "48/48 [==============================] - 0s 2ms/step - loss: 1.2295 - accuracy: 0.5838 - val_loss: 1.3398 - val_accuracy: 0.5133\n",
            "Epoch 32/50\n",
            "48/48 [==============================] - 0s 2ms/step - loss: 1.2228 - accuracy: 0.5850 - val_loss: 1.3352 - val_accuracy: 0.5200\n",
            "Epoch 33/50\n",
            "48/48 [==============================] - 0s 2ms/step - loss: 1.2162 - accuracy: 0.5900 - val_loss: 1.3259 - val_accuracy: 0.5333\n",
            "Epoch 34/50\n",
            "48/48 [==============================] - 0s 2ms/step - loss: 1.2096 - accuracy: 0.5850 - val_loss: 1.3232 - val_accuracy: 0.5283\n",
            "Epoch 35/50\n",
            "48/48 [==============================] - 0s 2ms/step - loss: 1.2023 - accuracy: 0.5896 - val_loss: 1.3192 - val_accuracy: 0.5267\n",
            "Epoch 36/50\n",
            "48/48 [==============================] - 0s 2ms/step - loss: 1.1962 - accuracy: 0.5946 - val_loss: 1.3142 - val_accuracy: 0.5300\n",
            "Epoch 37/50\n",
            "48/48 [==============================] - 0s 2ms/step - loss: 1.1915 - accuracy: 0.5958 - val_loss: 1.3114 - val_accuracy: 0.5433\n",
            "Epoch 38/50\n",
            "48/48 [==============================] - 0s 2ms/step - loss: 1.1856 - accuracy: 0.5971 - val_loss: 1.3053 - val_accuracy: 0.5400\n",
            "Epoch 39/50\n",
            "48/48 [==============================] - 0s 2ms/step - loss: 1.1800 - accuracy: 0.6000 - val_loss: 1.3013 - val_accuracy: 0.5350\n",
            "Epoch 40/50\n",
            "48/48 [==============================] - 0s 2ms/step - loss: 1.1748 - accuracy: 0.6033 - val_loss: 1.2981 - val_accuracy: 0.5367\n",
            "Epoch 41/50\n",
            "48/48 [==============================] - 0s 2ms/step - loss: 1.1693 - accuracy: 0.5979 - val_loss: 1.2928 - val_accuracy: 0.5467\n",
            "Epoch 42/50\n",
            "48/48 [==============================] - 0s 2ms/step - loss: 1.1638 - accuracy: 0.6054 - val_loss: 1.2897 - val_accuracy: 0.5450\n",
            "Epoch 43/50\n",
            "48/48 [==============================] - 0s 2ms/step - loss: 1.1595 - accuracy: 0.6042 - val_loss: 1.2904 - val_accuracy: 0.5417\n",
            "Epoch 44/50\n",
            "48/48 [==============================] - 0s 2ms/step - loss: 1.1542 - accuracy: 0.6058 - val_loss: 1.2822 - val_accuracy: 0.5550\n",
            "Epoch 45/50\n",
            "48/48 [==============================] - 0s 2ms/step - loss: 1.1500 - accuracy: 0.6079 - val_loss: 1.2815 - val_accuracy: 0.5450\n",
            "Epoch 46/50\n",
            "48/48 [==============================] - 0s 2ms/step - loss: 1.1462 - accuracy: 0.6125 - val_loss: 1.2762 - val_accuracy: 0.5467\n",
            "Epoch 47/50\n",
            "48/48 [==============================] - 0s 2ms/step - loss: 1.1405 - accuracy: 0.6175 - val_loss: 1.2772 - val_accuracy: 0.5483\n",
            "Epoch 48/50\n",
            "48/48 [==============================] - 0s 2ms/step - loss: 1.1366 - accuracy: 0.6142 - val_loss: 1.2728 - val_accuracy: 0.5483\n",
            "Epoch 49/50\n",
            "48/48 [==============================] - 0s 2ms/step - loss: 1.1329 - accuracy: 0.6142 - val_loss: 1.2704 - val_accuracy: 0.5500\n",
            "Epoch 50/50\n",
            "48/48 [==============================] - 0s 3ms/step - loss: 1.1293 - accuracy: 0.6175 - val_loss: 1.2697 - val_accuracy: 0.5533\n"
          ],
          "name": "stdout"
        }
      ]
    },
    {
      "cell_type": "code",
      "metadata": {
        "id": "32jFj14Qz_qx",
        "colab": {
          "base_uri": "https://localhost:8080/",
          "height": 573
        },
        "outputId": "11a688a8-f90c-4586-8d66-e3be8dcdda48"
      },
      "source": [
        "from google.colab import files\n",
        "# summarize history for loss\n",
        "ls=plt.figure()\n",
        "plt.plot(history.history['accuracy'])\n",
        "plt.plot(history.history['val_accuracy'])\n",
        "plt.title('model accuracy')\n",
        "plt.ylabel('accuracy')\n",
        "plt.xlabel('epoch')\n",
        "plt.legend(['train', 'test'], loc='upper left')\n",
        "#plt.ylim(0.02,0.4)\n",
        "ls.show()\n",
        "\n",
        "ls=plt.figure()\n",
        "plt.plot(history.history['loss'])\n",
        "plt.plot(history.history['val_loss'])\n",
        "plt.title('model loss')\n",
        "plt.ylabel('loss')\n",
        "plt.xlabel('epoch')\n",
        "plt.legend(['train', 'test'], loc='upper left')\n",
        "#plt.ylim(0.02,0.4)\n",
        "ls.show()\n",
        "#ls.savefig('/content/drive/My Drive/Sinc/loss-exp.png')\n",
        "#files.download('loss-1.png')"
      ],
      "execution_count": null,
      "outputs": [
        {
          "output_type": "display_data",
          "data": {
            "image/png": "[encoded data removed]",
            "text/plain": [
              "<Figure size 432x288 with 1 Axes>"
            ]
          },
          "metadata": {
            "tags": [],
            "needs_background": "light"
          }
        },
        {
          "output_type": "display_data",
          "data": {
            "image/png": "[encoded data removed]",
            "text/plain": [
              "<Figure size 432x288 with 1 Axes>"
            ]
          },
          "metadata": {
            "tags": [],
            "needs_background": "light"
          }
        }
      ]
    },
    {
      "cell_type": "code",
      "metadata": {
        "id": "Cm1EwzISl5PA"
      },
      "source": [
        "acc=history.history['accuracy']\n",
        "val_acc=history.history['val_accuracy']\n",
        "los=history.history['loss']\n",
        "val_los=history.history['val_loss']\n",
        "\n",
        "sio.savemat('/content/drive/MyDrive/Optical DNN Project/1. MMF_Network_Paper/BPM_audio_digit_pred/speaker_acc_val_acc.mat',{'acc':acc,'val_acc':val_acc})\n",
        "sio.savemat('/content/drive/MyDrive/Optical DNN Project/1. MMF_Network_Paper/BPM_audio_digit_pred/speaker_loss_val_loss.mat',{'loss':los,'val_loss':val_los})"
      ],
      "execution_count": null,
      "outputs": []
    },
    {
      "cell_type": "code",
      "metadata": {
        "id": "w2ePFauUMPfj"
      },
      "source": [
        ""
      ],
      "execution_count": null,
      "outputs": []
    }
  ]
}