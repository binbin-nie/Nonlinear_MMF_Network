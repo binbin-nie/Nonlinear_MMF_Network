{
  "nbformat": 4,
  "nbformat_minor": 0,
  "metadata": {
    "accelerator": "GPU",
    "colab": {
      "name": "NYC_Covid.ipynb",
      "provenance": [],
      "collapsed_sections": [],
      "machine_shape": "hm",
      "include_colab_link": true
    },
    "kernelspec": {
      "display_name": "Python 3",
      "name": "python3"
    }
  },
  "cells": [
    {
      "cell_type": "markdown",
      "metadata": {
        "id": "view-in-github",
        "colab_type": "text"
      },
      "source": [
        "<a href=\"https://colab.research.google.com/github/ugurtegin/Nonlinear_MMF_Network/blob/main/NYC_Mobility_Covid.ipynb\" target=\"_parent\"><img src=\"https://colab.research.google.com/assets/colab-badge.svg\" alt=\"Open In Colab\"/></a>"
      ]
    },
    {
      "cell_type": "code",
      "metadata": {
        "id": "plRoSF3YWrl5",
        "outputId": "5a3c2880-b67d-4873-8008-5ee5dd291c88",
        "colab": {
          "base_uri": "https://localhost:8080/"
        }
      },
      "source": [
        "import numpy as np\n",
        "import matplotlib.pyplot as plt\n",
        "import scipy.io as sio\n",
        "import tensorflow as tf\n",
        "\n",
        "from tensorflow import keras\n",
        "from sklearn.model_selection import train_test_split\n",
        "from tensorflow.keras.models import Model,Sequential\n",
        "from tensorflow.keras.layers import Input, Activation, LSTM\n",
        "from tensorflow.keras.layers import Dense, Dropout, Flatten, Conv2D, MaxPooling2D, AveragePooling2D \n",
        "from tensorflow.keras.optimizers import SGD, Adam\n",
        "from tensorflow.keras.utils import to_categorical\n",
        "\n",
        "# Load the Drive helper and mount\n",
        "from google.colab import drive\n",
        "\n",
        "# This will prompt for authorization.\n",
        "drive.mount('/content/drive')"
      ],
      "execution_count": null,
      "outputs": [
        {
          "output_type": "stream",
          "text": [
            "Drive already mounted at /content/drive; to attempt to forcibly remount, call drive.mount(\"/content/drive\", force_remount=True).\n"
          ],
          "name": "stdout"
        }
      ]
    },
    {
      "cell_type": "code",
      "metadata": {
        "id": "PDK63hJmW5D4"
      },
      "source": [
        "import scipy.io as sio\n",
        "f = sio.loadmat('/content/drive/My Drive/NYC_Covid/res_sq_flt23.mat')\n",
        "inp = f['res_sq_flt']\n",
        "\n",
        "\n",
        "f2 = sio.loadmat('/content/drive/My Drive/NYC_Covid/label.mat')\n",
        "out = f2['label']\n"
      ],
      "execution_count": null,
      "outputs": []
    },
    {
      "cell_type": "markdown",
      "metadata": {
        "id": "0rh1E24b81ts"
      },
      "source": [
        "# Experimental Data"
      ]
    },
    {
      "cell_type": "code",
      "metadata": {
        "id": "pMmOo-YuWxf3",
        "outputId": "a9ffa1e1-2d03-42ac-e0de-31650e536a83",
        "colab": {
          "base_uri": "https://localhost:8080/"
        }
      },
      "source": [
        "ugur = len(np.transpose(inp))\n",
        "print(ugur)"
      ],
      "execution_count": null,
      "outputs": [
        {
          "output_type": "stream",
          "text": [
            "25\n"
          ],
          "name": "stdout"
        }
      ]
    },
    {
      "cell_type": "code",
      "metadata": {
        "id": "pYBJB9YglGiX",
        "outputId": "509e76da-bb8f-4586-bcda-85424a2a2408",
        "colab": {
          "base_uri": "https://localhost:8080/"
        }
      },
      "source": [
        "input_data = inp\n",
        "output_data = out.T\n",
        "#output_data = to_categorical(out)\n",
        "\n",
        "print('input_data : ', input_data.shape, input_data.dtype)\n",
        "print('output_class : ', output_data.shape, output_data.dtype)\n",
        "print()"
      ],
      "execution_count": null,
      "outputs": [
        {
          "output_type": "stream",
          "text": [
            "input_data :  (210, 25) float64\n",
            "output_class :  (210, 1) float64\n",
            "\n"
          ],
          "name": "stdout"
        }
      ]
    },
    {
      "cell_type": "code",
      "metadata": {
        "id": "JMVZ-aoTk1wf",
        "outputId": "23f0dc8d-dce8-42fd-f9bb-ebfea4b7730c",
        "colab": {
          "base_uri": "https://localhost:8080/"
        }
      },
      "source": [
        "oran = 0.20\n",
        "X_train, X_test, y_train, y_test = train_test_split(input_data, output_data, test_size=oran)\n",
        "\n",
        "print('Test data : ', X_test.shape, X_test.dtype)\n",
        "print('Training data : ', X_train.shape, X_train.dtype)\n",
        "print()"
      ],
      "execution_count": null,
      "outputs": [
        {
          "output_type": "stream",
          "text": [
            "Test data :  (42, 25) float64\n",
            "Training data :  (168, 25) float64\n",
            "\n"
          ],
          "name": "stdout"
        }
      ]
    },
    {
      "cell_type": "code",
      "metadata": {
        "id": "SycmK62goI2t"
      },
      "source": [
        "model = Sequential()\n",
        "model.add(Dense(1, input_dim=ugur, activation='linear'))"
      ],
      "execution_count": null,
      "outputs": []
    },
    {
      "cell_type": "code",
      "metadata": {
        "id": "Sg1arrHHoSF1",
        "outputId": "68604840-1b21-460e-f4f3-f7147e294f87",
        "colab": {
          "base_uri": "https://localhost:8080/"
        }
      },
      "source": [
        "loss='mean_squared_error' # mean_absolute_error, cosine_proximity\n",
        "#loss='categorical_crossentropy'\n",
        "metrics = ['mean_squared_error']  # network accuracy metric to be determined after each epoch, mean_absolute_error, cosine_proximity\n",
        "#metrics = ['accuracy']  # network accuracy metric to be determined after each epoch\n",
        "\n",
        "opt1 = SGD(lr=0.001, momentum=0.9)\n",
        "opt2 = Adam(lr=0.001, beta_1=0.9, beta_2=0.999)\n",
        "\n",
        "model.compile(optimizer=opt2, loss=loss, metrics=metrics)\n",
        "model.summary()"
      ],
      "execution_count": null,
      "outputs": [
        {
          "output_type": "stream",
          "text": [
            "Model: \"sequential_6\"\n",
            "_________________________________________________________________\n",
            "Layer (type)                 Output Shape              Param #   \n",
            "=================================================================\n",
            "dense_6 (Dense)              (None, 1)                 26        \n",
            "=================================================================\n",
            "Total params: 26\n",
            "Trainable params: 26\n",
            "Non-trainable params: 0\n",
            "_________________________________________________________________\n"
          ],
          "name": "stdout"
        }
      ]
    },
    {
      "cell_type": "code",
      "metadata": {
        "id": "ZavprgepoUEE",
        "outputId": "e9de5a30-ab8f-46be-8cbf-933b794b18a8",
        "colab": {
          "base_uri": "https://localhost:8080/"
        }
      },
      "source": [
        "#setting final parameters for the network and it begins to train\n",
        "number_of_iterations = 150\n",
        "batch_size = 32\n",
        "\n",
        "#history=model.fit(X_train, y_train, validation_data=(X_test, y_test), epochs=number_of_iterations)\n",
        "history=model.fit(X_train, y_train, batch_size=batch_size, epochs=number_of_iterations, verbose=1, validation_data=(X_test, y_test))\n",
        "#Number of iterations run: 900"
      ],
      "execution_count": null,
      "outputs": [
        {
          "output_type": "stream",
          "text": [
            "Epoch 1/150\n",
            "6/6 [==============================] - 0s 19ms/step - loss: 1.2037 - mean_squared_error: 1.2037 - val_loss: 0.8138 - val_mean_squared_error: 0.8138\n",
            "Epoch 2/150\n",
            "6/6 [==============================] - 0s 5ms/step - loss: 1.0938 - mean_squared_error: 1.0938 - val_loss: 0.7392 - val_mean_squared_error: 0.7392\n",
            "Epoch 3/150\n",
            "6/6 [==============================] - 0s 5ms/step - loss: 0.9974 - mean_squared_error: 0.9974 - val_loss: 0.6737 - val_mean_squared_error: 0.6737\n",
            "Epoch 4/150\n",
            "6/6 [==============================] - 0s 5ms/step - loss: 0.9048 - mean_squared_error: 0.9048 - val_loss: 0.6167 - val_mean_squared_error: 0.6167\n",
            "Epoch 5/150\n",
            "6/6 [==============================] - 0s 5ms/step - loss: 0.8254 - mean_squared_error: 0.8254 - val_loss: 0.5663 - val_mean_squared_error: 0.5663\n",
            "Epoch 6/150\n",
            "6/6 [==============================] - 0s 5ms/step - loss: 0.7572 - mean_squared_error: 0.7572 - val_loss: 0.5230 - val_mean_squared_error: 0.5230\n",
            "Epoch 7/150\n",
            "6/6 [==============================] - 0s 5ms/step - loss: 0.6943 - mean_squared_error: 0.6943 - val_loss: 0.4861 - val_mean_squared_error: 0.4861\n",
            "Epoch 8/150\n",
            "6/6 [==============================] - 0s 5ms/step - loss: 0.6426 - mean_squared_error: 0.6426 - val_loss: 0.4541 - val_mean_squared_error: 0.4541\n",
            "Epoch 9/150\n",
            "6/6 [==============================] - 0s 5ms/step - loss: 0.5962 - mean_squared_error: 0.5962 - val_loss: 0.4263 - val_mean_squared_error: 0.4263\n",
            "Epoch 10/150\n",
            "6/6 [==============================] - 0s 5ms/step - loss: 0.5544 - mean_squared_error: 0.5544 - val_loss: 0.4024 - val_mean_squared_error: 0.4024\n",
            "Epoch 11/150\n",
            "6/6 [==============================] - 0s 5ms/step - loss: 0.5205 - mean_squared_error: 0.5205 - val_loss: 0.3824 - val_mean_squared_error: 0.3824\n",
            "Epoch 12/150\n",
            "6/6 [==============================] - 0s 5ms/step - loss: 0.4903 - mean_squared_error: 0.4903 - val_loss: 0.3659 - val_mean_squared_error: 0.3659\n",
            "Epoch 13/150\n",
            "6/6 [==============================] - 0s 5ms/step - loss: 0.4633 - mean_squared_error: 0.4633 - val_loss: 0.3523 - val_mean_squared_error: 0.3523\n",
            "Epoch 14/150\n",
            "6/6 [==============================] - 0s 6ms/step - loss: 0.4422 - mean_squared_error: 0.4422 - val_loss: 0.3405 - val_mean_squared_error: 0.3405\n",
            "Epoch 15/150\n",
            "6/6 [==============================] - 0s 6ms/step - loss: 0.4230 - mean_squared_error: 0.4230 - val_loss: 0.3300 - val_mean_squared_error: 0.3300\n",
            "Epoch 16/150\n",
            "6/6 [==============================] - 0s 5ms/step - loss: 0.4059 - mean_squared_error: 0.4059 - val_loss: 0.3204 - val_mean_squared_error: 0.3204\n",
            "Epoch 17/150\n",
            "6/6 [==============================] - 0s 6ms/step - loss: 0.3917 - mean_squared_error: 0.3917 - val_loss: 0.3116 - val_mean_squared_error: 0.3116\n",
            "Epoch 18/150\n",
            "6/6 [==============================] - 0s 6ms/step - loss: 0.3774 - mean_squared_error: 0.3774 - val_loss: 0.3033 - val_mean_squared_error: 0.3033\n",
            "Epoch 19/150\n",
            "6/6 [==============================] - 0s 6ms/step - loss: 0.3637 - mean_squared_error: 0.3637 - val_loss: 0.2956 - val_mean_squared_error: 0.2956\n",
            "Epoch 20/150\n",
            "6/6 [==============================] - 0s 5ms/step - loss: 0.3514 - mean_squared_error: 0.3514 - val_loss: 0.2884 - val_mean_squared_error: 0.2884\n",
            "Epoch 21/150\n",
            "6/6 [==============================] - 0s 5ms/step - loss: 0.3409 - mean_squared_error: 0.3409 - val_loss: 0.2815 - val_mean_squared_error: 0.2815\n",
            "Epoch 22/150\n",
            "6/6 [==============================] - 0s 6ms/step - loss: 0.3302 - mean_squared_error: 0.3302 - val_loss: 0.2749 - val_mean_squared_error: 0.2749\n",
            "Epoch 23/150\n",
            "6/6 [==============================] - 0s 6ms/step - loss: 0.3200 - mean_squared_error: 0.3200 - val_loss: 0.2679 - val_mean_squared_error: 0.2679\n",
            "Epoch 24/150\n",
            "6/6 [==============================] - 0s 6ms/step - loss: 0.3108 - mean_squared_error: 0.3108 - val_loss: 0.2613 - val_mean_squared_error: 0.2613\n",
            "Epoch 25/150\n",
            "6/6 [==============================] - 0s 6ms/step - loss: 0.3012 - mean_squared_error: 0.3012 - val_loss: 0.2549 - val_mean_squared_error: 0.2549\n",
            "Epoch 26/150\n",
            "6/6 [==============================] - 0s 6ms/step - loss: 0.2928 - mean_squared_error: 0.2928 - val_loss: 0.2493 - val_mean_squared_error: 0.2493\n",
            "Epoch 27/150\n",
            "6/6 [==============================] - 0s 6ms/step - loss: 0.2861 - mean_squared_error: 0.2861 - val_loss: 0.2441 - val_mean_squared_error: 0.2441\n",
            "Epoch 28/150\n",
            "6/6 [==============================] - 0s 5ms/step - loss: 0.2785 - mean_squared_error: 0.2785 - val_loss: 0.2390 - val_mean_squared_error: 0.2390\n",
            "Epoch 29/150\n",
            "6/6 [==============================] - 0s 6ms/step - loss: 0.2722 - mean_squared_error: 0.2722 - val_loss: 0.2340 - val_mean_squared_error: 0.2340\n",
            "Epoch 30/150\n",
            "6/6 [==============================] - 0s 5ms/step - loss: 0.2657 - mean_squared_error: 0.2657 - val_loss: 0.2289 - val_mean_squared_error: 0.2289\n",
            "Epoch 31/150\n",
            "6/6 [==============================] - 0s 6ms/step - loss: 0.2601 - mean_squared_error: 0.2601 - val_loss: 0.2235 - val_mean_squared_error: 0.2235\n",
            "Epoch 32/150\n",
            "6/6 [==============================] - 0s 5ms/step - loss: 0.2545 - mean_squared_error: 0.2545 - val_loss: 0.2186 - val_mean_squared_error: 0.2186\n",
            "Epoch 33/150\n",
            "6/6 [==============================] - 0s 6ms/step - loss: 0.2497 - mean_squared_error: 0.2497 - val_loss: 0.2134 - val_mean_squared_error: 0.2134\n",
            "Epoch 34/150\n",
            "6/6 [==============================] - 0s 6ms/step - loss: 0.2442 - mean_squared_error: 0.2442 - val_loss: 0.2089 - val_mean_squared_error: 0.2089\n",
            "Epoch 35/150\n",
            "6/6 [==============================] - 0s 5ms/step - loss: 0.2393 - mean_squared_error: 0.2393 - val_loss: 0.2047 - val_mean_squared_error: 0.2047\n",
            "Epoch 36/150\n",
            "6/6 [==============================] - 0s 5ms/step - loss: 0.2340 - mean_squared_error: 0.2340 - val_loss: 0.2009 - val_mean_squared_error: 0.2009\n",
            "Epoch 37/150\n",
            "6/6 [==============================] - 0s 5ms/step - loss: 0.2298 - mean_squared_error: 0.2298 - val_loss: 0.1968 - val_mean_squared_error: 0.1968\n",
            "Epoch 38/150\n",
            "6/6 [==============================] - 0s 5ms/step - loss: 0.2251 - mean_squared_error: 0.2251 - val_loss: 0.1928 - val_mean_squared_error: 0.1928\n",
            "Epoch 39/150\n",
            "6/6 [==============================] - 0s 6ms/step - loss: 0.2214 - mean_squared_error: 0.2214 - val_loss: 0.1894 - val_mean_squared_error: 0.1894\n",
            "Epoch 40/150\n",
            "6/6 [==============================] - 0s 6ms/step - loss: 0.2172 - mean_squared_error: 0.2172 - val_loss: 0.1865 - val_mean_squared_error: 0.1865\n",
            "Epoch 41/150\n",
            "6/6 [==============================] - 0s 6ms/step - loss: 0.2135 - mean_squared_error: 0.2135 - val_loss: 0.1830 - val_mean_squared_error: 0.1830\n",
            "Epoch 42/150\n",
            "6/6 [==============================] - 0s 5ms/step - loss: 0.2098 - mean_squared_error: 0.2098 - val_loss: 0.1794 - val_mean_squared_error: 0.1794\n",
            "Epoch 43/150\n",
            "6/6 [==============================] - 0s 6ms/step - loss: 0.2059 - mean_squared_error: 0.2059 - val_loss: 0.1758 - val_mean_squared_error: 0.1758\n",
            "Epoch 44/150\n",
            "6/6 [==============================] - 0s 6ms/step - loss: 0.2024 - mean_squared_error: 0.2024 - val_loss: 0.1720 - val_mean_squared_error: 0.1720\n",
            "Epoch 45/150\n",
            "6/6 [==============================] - 0s 6ms/step - loss: 0.1990 - mean_squared_error: 0.1990 - val_loss: 0.1683 - val_mean_squared_error: 0.1683\n",
            "Epoch 46/150\n",
            "6/6 [==============================] - 0s 6ms/step - loss: 0.1957 - mean_squared_error: 0.1957 - val_loss: 0.1653 - val_mean_squared_error: 0.1653\n",
            "Epoch 47/150\n",
            "6/6 [==============================] - 0s 6ms/step - loss: 0.1927 - mean_squared_error: 0.1927 - val_loss: 0.1632 - val_mean_squared_error: 0.1632\n",
            "Epoch 48/150\n",
            "6/6 [==============================] - 0s 6ms/step - loss: 0.1900 - mean_squared_error: 0.1900 - val_loss: 0.1607 - val_mean_squared_error: 0.1607\n",
            "Epoch 49/150\n",
            "6/6 [==============================] - 0s 5ms/step - loss: 0.1872 - mean_squared_error: 0.1872 - val_loss: 0.1582 - val_mean_squared_error: 0.1582\n",
            "Epoch 50/150\n",
            "6/6 [==============================] - 0s 6ms/step - loss: 0.1844 - mean_squared_error: 0.1844 - val_loss: 0.1562 - val_mean_squared_error: 0.1562\n",
            "Epoch 51/150\n",
            "6/6 [==============================] - 0s 6ms/step - loss: 0.1819 - mean_squared_error: 0.1819 - val_loss: 0.1539 - val_mean_squared_error: 0.1539\n",
            "Epoch 52/150\n",
            "6/6 [==============================] - 0s 6ms/step - loss: 0.1795 - mean_squared_error: 0.1795 - val_loss: 0.1513 - val_mean_squared_error: 0.1513\n",
            "Epoch 53/150\n",
            "6/6 [==============================] - 0s 6ms/step - loss: 0.1770 - mean_squared_error: 0.1770 - val_loss: 0.1484 - val_mean_squared_error: 0.1484\n",
            "Epoch 54/150\n",
            "6/6 [==============================] - 0s 5ms/step - loss: 0.1744 - mean_squared_error: 0.1744 - val_loss: 0.1455 - val_mean_squared_error: 0.1455\n",
            "Epoch 55/150\n",
            "6/6 [==============================] - 0s 5ms/step - loss: 0.1719 - mean_squared_error: 0.1719 - val_loss: 0.1431 - val_mean_squared_error: 0.1431\n",
            "Epoch 56/150\n",
            "6/6 [==============================] - 0s 6ms/step - loss: 0.1696 - mean_squared_error: 0.1696 - val_loss: 0.1407 - val_mean_squared_error: 0.1407\n",
            "Epoch 57/150\n",
            "6/6 [==============================] - 0s 5ms/step - loss: 0.1673 - mean_squared_error: 0.1673 - val_loss: 0.1381 - val_mean_squared_error: 0.1381\n",
            "Epoch 58/150\n",
            "6/6 [==============================] - 0s 6ms/step - loss: 0.1652 - mean_squared_error: 0.1652 - val_loss: 0.1359 - val_mean_squared_error: 0.1359\n",
            "Epoch 59/150\n",
            "6/6 [==============================] - 0s 6ms/step - loss: 0.1631 - mean_squared_error: 0.1631 - val_loss: 0.1337 - val_mean_squared_error: 0.1337\n",
            "Epoch 60/150\n",
            "6/6 [==============================] - 0s 6ms/step - loss: 0.1610 - mean_squared_error: 0.1610 - val_loss: 0.1313 - val_mean_squared_error: 0.1313\n",
            "Epoch 61/150\n",
            "6/6 [==============================] - 0s 5ms/step - loss: 0.1588 - mean_squared_error: 0.1588 - val_loss: 0.1296 - val_mean_squared_error: 0.1296\n",
            "Epoch 62/150\n",
            "6/6 [==============================] - 0s 5ms/step - loss: 0.1569 - mean_squared_error: 0.1569 - val_loss: 0.1275 - val_mean_squared_error: 0.1275\n",
            "Epoch 63/150\n",
            "6/6 [==============================] - 0s 5ms/step - loss: 0.1549 - mean_squared_error: 0.1549 - val_loss: 0.1253 - val_mean_squared_error: 0.1253\n",
            "Epoch 64/150\n",
            "6/6 [==============================] - 0s 5ms/step - loss: 0.1531 - mean_squared_error: 0.1531 - val_loss: 0.1234 - val_mean_squared_error: 0.1234\n",
            "Epoch 65/150\n",
            "6/6 [==============================] - 0s 6ms/step - loss: 0.1514 - mean_squared_error: 0.1514 - val_loss: 0.1220 - val_mean_squared_error: 0.1220\n",
            "Epoch 66/150\n",
            "6/6 [==============================] - 0s 6ms/step - loss: 0.1495 - mean_squared_error: 0.1495 - val_loss: 0.1203 - val_mean_squared_error: 0.1203\n",
            "Epoch 67/150\n",
            "6/6 [==============================] - 0s 5ms/step - loss: 0.1480 - mean_squared_error: 0.1480 - val_loss: 0.1181 - val_mean_squared_error: 0.1181\n",
            "Epoch 68/150\n",
            "6/6 [==============================] - 0s 5ms/step - loss: 0.1460 - mean_squared_error: 0.1460 - val_loss: 0.1161 - val_mean_squared_error: 0.1161\n",
            "Epoch 69/150\n",
            "6/6 [==============================] - 0s 5ms/step - loss: 0.1448 - mean_squared_error: 0.1448 - val_loss: 0.1141 - val_mean_squared_error: 0.1141\n",
            "Epoch 70/150\n",
            "6/6 [==============================] - 0s 5ms/step - loss: 0.1431 - mean_squared_error: 0.1431 - val_loss: 0.1127 - val_mean_squared_error: 0.1127\n",
            "Epoch 71/150\n",
            "6/6 [==============================] - 0s 5ms/step - loss: 0.1417 - mean_squared_error: 0.1417 - val_loss: 0.1113 - val_mean_squared_error: 0.1113\n",
            "Epoch 72/150\n",
            "6/6 [==============================] - 0s 5ms/step - loss: 0.1402 - mean_squared_error: 0.1402 - val_loss: 0.1105 - val_mean_squared_error: 0.1105\n",
            "Epoch 73/150\n",
            "6/6 [==============================] - 0s 6ms/step - loss: 0.1387 - mean_squared_error: 0.1387 - val_loss: 0.1097 - val_mean_squared_error: 0.1097\n",
            "Epoch 74/150\n",
            "6/6 [==============================] - 0s 5ms/step - loss: 0.1372 - mean_squared_error: 0.1372 - val_loss: 0.1086 - val_mean_squared_error: 0.1086\n",
            "Epoch 75/150\n",
            "6/6 [==============================] - 0s 5ms/step - loss: 0.1362 - mean_squared_error: 0.1362 - val_loss: 0.1076 - val_mean_squared_error: 0.1076\n",
            "Epoch 76/150\n",
            "6/6 [==============================] - 0s 5ms/step - loss: 0.1344 - mean_squared_error: 0.1344 - val_loss: 0.1068 - val_mean_squared_error: 0.1068\n",
            "Epoch 77/150\n",
            "6/6 [==============================] - 0s 5ms/step - loss: 0.1329 - mean_squared_error: 0.1329 - val_loss: 0.1061 - val_mean_squared_error: 0.1061\n",
            "Epoch 78/150\n",
            "6/6 [==============================] - 0s 5ms/step - loss: 0.1316 - mean_squared_error: 0.1316 - val_loss: 0.1053 - val_mean_squared_error: 0.1053\n",
            "Epoch 79/150\n",
            "6/6 [==============================] - 0s 5ms/step - loss: 0.1303 - mean_squared_error: 0.1303 - val_loss: 0.1043 - val_mean_squared_error: 0.1043\n",
            "Epoch 80/150\n",
            "6/6 [==============================] - 0s 5ms/step - loss: 0.1292 - mean_squared_error: 0.1292 - val_loss: 0.1030 - val_mean_squared_error: 0.1030\n",
            "Epoch 81/150\n",
            "6/6 [==============================] - 0s 6ms/step - loss: 0.1279 - mean_squared_error: 0.1279 - val_loss: 0.1018 - val_mean_squared_error: 0.1018\n",
            "Epoch 82/150\n",
            "6/6 [==============================] - 0s 5ms/step - loss: 0.1267 - mean_squared_error: 0.1267 - val_loss: 0.1012 - val_mean_squared_error: 0.1012\n",
            "Epoch 83/150\n",
            "6/6 [==============================] - 0s 6ms/step - loss: 0.1258 - mean_squared_error: 0.1258 - val_loss: 0.1010 - val_mean_squared_error: 0.1010\n",
            "Epoch 84/150\n",
            "6/6 [==============================] - 0s 5ms/step - loss: 0.1247 - mean_squared_error: 0.1247 - val_loss: 0.1002 - val_mean_squared_error: 0.1002\n",
            "Epoch 85/150\n",
            "6/6 [==============================] - 0s 6ms/step - loss: 0.1236 - mean_squared_error: 0.1236 - val_loss: 0.0996 - val_mean_squared_error: 0.0996\n",
            "Epoch 86/150\n",
            "6/6 [==============================] - 0s 6ms/step - loss: 0.1225 - mean_squared_error: 0.1225 - val_loss: 0.0986 - val_mean_squared_error: 0.0986\n",
            "Epoch 87/150\n",
            "6/6 [==============================] - 0s 6ms/step - loss: 0.1211 - mean_squared_error: 0.1211 - val_loss: 0.0980 - val_mean_squared_error: 0.0980\n",
            "Epoch 88/150\n",
            "6/6 [==============================] - 0s 6ms/step - loss: 0.1201 - mean_squared_error: 0.1201 - val_loss: 0.0973 - val_mean_squared_error: 0.0973\n",
            "Epoch 89/150\n",
            "6/6 [==============================] - 0s 6ms/step - loss: 0.1192 - mean_squared_error: 0.1192 - val_loss: 0.0969 - val_mean_squared_error: 0.0969\n",
            "Epoch 90/150\n",
            "6/6 [==============================] - 0s 6ms/step - loss: 0.1181 - mean_squared_error: 0.1181 - val_loss: 0.0959 - val_mean_squared_error: 0.0959\n",
            "Epoch 91/150\n",
            "6/6 [==============================] - 0s 6ms/step - loss: 0.1170 - mean_squared_error: 0.1170 - val_loss: 0.0954 - val_mean_squared_error: 0.0954\n",
            "Epoch 92/150\n",
            "6/6 [==============================] - 0s 5ms/step - loss: 0.1161 - mean_squared_error: 0.1161 - val_loss: 0.0950 - val_mean_squared_error: 0.0950\n",
            "Epoch 93/150\n",
            "6/6 [==============================] - 0s 5ms/step - loss: 0.1151 - mean_squared_error: 0.1151 - val_loss: 0.0944 - val_mean_squared_error: 0.0944\n",
            "Epoch 94/150\n",
            "6/6 [==============================] - 0s 6ms/step - loss: 0.1141 - mean_squared_error: 0.1141 - val_loss: 0.0939 - val_mean_squared_error: 0.0939\n",
            "Epoch 95/150\n",
            "6/6 [==============================] - 0s 6ms/step - loss: 0.1132 - mean_squared_error: 0.1132 - val_loss: 0.0932 - val_mean_squared_error: 0.0932\n",
            "Epoch 96/150\n",
            "6/6 [==============================] - 0s 5ms/step - loss: 0.1124 - mean_squared_error: 0.1124 - val_loss: 0.0926 - val_mean_squared_error: 0.0926\n",
            "Epoch 97/150\n",
            "6/6 [==============================] - 0s 5ms/step - loss: 0.1115 - mean_squared_error: 0.1115 - val_loss: 0.0919 - val_mean_squared_error: 0.0919\n",
            "Epoch 98/150\n",
            "6/6 [==============================] - 0s 5ms/step - loss: 0.1107 - mean_squared_error: 0.1107 - val_loss: 0.0912 - val_mean_squared_error: 0.0912\n",
            "Epoch 99/150\n",
            "6/6 [==============================] - 0s 6ms/step - loss: 0.1099 - mean_squared_error: 0.1099 - val_loss: 0.0901 - val_mean_squared_error: 0.0901\n",
            "Epoch 100/150\n",
            "6/6 [==============================] - 0s 6ms/step - loss: 0.1089 - mean_squared_error: 0.1089 - val_loss: 0.0892 - val_mean_squared_error: 0.0892\n",
            "Epoch 101/150\n",
            "6/6 [==============================] - 0s 6ms/step - loss: 0.1079 - mean_squared_error: 0.1079 - val_loss: 0.0884 - val_mean_squared_error: 0.0884\n",
            "Epoch 102/150\n",
            "6/6 [==============================] - 0s 6ms/step - loss: 0.1071 - mean_squared_error: 0.1071 - val_loss: 0.0881 - val_mean_squared_error: 0.0881\n",
            "Epoch 103/150\n",
            "6/6 [==============================] - 0s 5ms/step - loss: 0.1063 - mean_squared_error: 0.1063 - val_loss: 0.0876 - val_mean_squared_error: 0.0876\n",
            "Epoch 104/150\n",
            "6/6 [==============================] - 0s 6ms/step - loss: 0.1056 - mean_squared_error: 0.1056 - val_loss: 0.0869 - val_mean_squared_error: 0.0869\n",
            "Epoch 105/150\n",
            "6/6 [==============================] - 0s 5ms/step - loss: 0.1049 - mean_squared_error: 0.1049 - val_loss: 0.0865 - val_mean_squared_error: 0.0865\n",
            "Epoch 106/150\n",
            "6/6 [==============================] - 0s 5ms/step - loss: 0.1041 - mean_squared_error: 0.1041 - val_loss: 0.0862 - val_mean_squared_error: 0.0862\n",
            "Epoch 107/150\n",
            "6/6 [==============================] - 0s 6ms/step - loss: 0.1034 - mean_squared_error: 0.1034 - val_loss: 0.0858 - val_mean_squared_error: 0.0858\n",
            "Epoch 108/150\n",
            "6/6 [==============================] - 0s 6ms/step - loss: 0.1027 - mean_squared_error: 0.1027 - val_loss: 0.0849 - val_mean_squared_error: 0.0849\n",
            "Epoch 109/150\n",
            "6/6 [==============================] - 0s 5ms/step - loss: 0.1018 - mean_squared_error: 0.1018 - val_loss: 0.0845 - val_mean_squared_error: 0.0845\n",
            "Epoch 110/150\n",
            "6/6 [==============================] - 0s 6ms/step - loss: 0.1012 - mean_squared_error: 0.1012 - val_loss: 0.0840 - val_mean_squared_error: 0.0840\n",
            "Epoch 111/150\n",
            "6/6 [==============================] - 0s 5ms/step - loss: 0.1003 - mean_squared_error: 0.1003 - val_loss: 0.0836 - val_mean_squared_error: 0.0836\n",
            "Epoch 112/150\n",
            "6/6 [==============================] - 0s 6ms/step - loss: 0.0997 - mean_squared_error: 0.0997 - val_loss: 0.0831 - val_mean_squared_error: 0.0831\n",
            "Epoch 113/150\n",
            "6/6 [==============================] - 0s 6ms/step - loss: 0.0990 - mean_squared_error: 0.0990 - val_loss: 0.0827 - val_mean_squared_error: 0.0827\n",
            "Epoch 114/150\n",
            "6/6 [==============================] - 0s 6ms/step - loss: 0.0983 - mean_squared_error: 0.0983 - val_loss: 0.0819 - val_mean_squared_error: 0.0819\n",
            "Epoch 115/150\n",
            "6/6 [==============================] - 0s 6ms/step - loss: 0.0976 - mean_squared_error: 0.0976 - val_loss: 0.0814 - val_mean_squared_error: 0.0814\n",
            "Epoch 116/150\n",
            "6/6 [==============================] - 0s 6ms/step - loss: 0.0970 - mean_squared_error: 0.0970 - val_loss: 0.0812 - val_mean_squared_error: 0.0812\n",
            "Epoch 117/150\n",
            "6/6 [==============================] - 0s 6ms/step - loss: 0.0964 - mean_squared_error: 0.0964 - val_loss: 0.0808 - val_mean_squared_error: 0.0808\n",
            "Epoch 118/150\n",
            "6/6 [==============================] - 0s 6ms/step - loss: 0.0955 - mean_squared_error: 0.0955 - val_loss: 0.0799 - val_mean_squared_error: 0.0799\n",
            "Epoch 119/150\n",
            "6/6 [==============================] - 0s 6ms/step - loss: 0.0949 - mean_squared_error: 0.0949 - val_loss: 0.0795 - val_mean_squared_error: 0.0795\n",
            "Epoch 120/150\n",
            "6/6 [==============================] - 0s 6ms/step - loss: 0.0943 - mean_squared_error: 0.0943 - val_loss: 0.0791 - val_mean_squared_error: 0.0791\n",
            "Epoch 121/150\n",
            "6/6 [==============================] - 0s 6ms/step - loss: 0.0936 - mean_squared_error: 0.0936 - val_loss: 0.0788 - val_mean_squared_error: 0.0788\n",
            "Epoch 122/150\n",
            "6/6 [==============================] - 0s 6ms/step - loss: 0.0930 - mean_squared_error: 0.0930 - val_loss: 0.0785 - val_mean_squared_error: 0.0785\n",
            "Epoch 123/150\n",
            "6/6 [==============================] - 0s 5ms/step - loss: 0.0923 - mean_squared_error: 0.0923 - val_loss: 0.0786 - val_mean_squared_error: 0.0786\n",
            "Epoch 124/150\n",
            "6/6 [==============================] - 0s 6ms/step - loss: 0.0917 - mean_squared_error: 0.0917 - val_loss: 0.0784 - val_mean_squared_error: 0.0784\n",
            "Epoch 125/150\n",
            "6/6 [==============================] - 0s 6ms/step - loss: 0.0912 - mean_squared_error: 0.0912 - val_loss: 0.0782 - val_mean_squared_error: 0.0782\n",
            "Epoch 126/150\n",
            "6/6 [==============================] - 0s 5ms/step - loss: 0.0906 - mean_squared_error: 0.0906 - val_loss: 0.0776 - val_mean_squared_error: 0.0776\n",
            "Epoch 127/150\n",
            "6/6 [==============================] - 0s 6ms/step - loss: 0.0900 - mean_squared_error: 0.0900 - val_loss: 0.0773 - val_mean_squared_error: 0.0773\n",
            "Epoch 128/150\n",
            "6/6 [==============================] - 0s 5ms/step - loss: 0.0894 - mean_squared_error: 0.0894 - val_loss: 0.0773 - val_mean_squared_error: 0.0773\n",
            "Epoch 129/150\n",
            "6/6 [==============================] - 0s 5ms/step - loss: 0.0889 - mean_squared_error: 0.0889 - val_loss: 0.0776 - val_mean_squared_error: 0.0776\n",
            "Epoch 130/150\n",
            "6/6 [==============================] - 0s 6ms/step - loss: 0.0882 - mean_squared_error: 0.0882 - val_loss: 0.0779 - val_mean_squared_error: 0.0779\n",
            "Epoch 131/150\n",
            "6/6 [==============================] - 0s 6ms/step - loss: 0.0876 - mean_squared_error: 0.0876 - val_loss: 0.0778 - val_mean_squared_error: 0.0778\n",
            "Epoch 132/150\n",
            "6/6 [==============================] - 0s 5ms/step - loss: 0.0871 - mean_squared_error: 0.0871 - val_loss: 0.0771 - val_mean_squared_error: 0.0771\n",
            "Epoch 133/150\n",
            "6/6 [==============================] - 0s 5ms/step - loss: 0.0865 - mean_squared_error: 0.0865 - val_loss: 0.0763 - val_mean_squared_error: 0.0763\n",
            "Epoch 134/150\n",
            "6/6 [==============================] - 0s 6ms/step - loss: 0.0862 - mean_squared_error: 0.0862 - val_loss: 0.0761 - val_mean_squared_error: 0.0761\n",
            "Epoch 135/150\n",
            "6/6 [==============================] - 0s 6ms/step - loss: 0.0855 - mean_squared_error: 0.0855 - val_loss: 0.0754 - val_mean_squared_error: 0.0754\n",
            "Epoch 136/150\n",
            "6/6 [==============================] - 0s 6ms/step - loss: 0.0850 - mean_squared_error: 0.0850 - val_loss: 0.0750 - val_mean_squared_error: 0.0750\n",
            "Epoch 137/150\n",
            "6/6 [==============================] - 0s 5ms/step - loss: 0.0845 - mean_squared_error: 0.0845 - val_loss: 0.0743 - val_mean_squared_error: 0.0743\n",
            "Epoch 138/150\n",
            "6/6 [==============================] - 0s 6ms/step - loss: 0.0844 - mean_squared_error: 0.0844 - val_loss: 0.0739 - val_mean_squared_error: 0.0739\n",
            "Epoch 139/150\n",
            "6/6 [==============================] - 0s 5ms/step - loss: 0.0837 - mean_squared_error: 0.0837 - val_loss: 0.0733 - val_mean_squared_error: 0.0733\n",
            "Epoch 140/150\n",
            "6/6 [==============================] - 0s 6ms/step - loss: 0.0832 - mean_squared_error: 0.0832 - val_loss: 0.0732 - val_mean_squared_error: 0.0732\n",
            "Epoch 141/150\n",
            "6/6 [==============================] - 0s 5ms/step - loss: 0.0829 - mean_squared_error: 0.0829 - val_loss: 0.0733 - val_mean_squared_error: 0.0733\n",
            "Epoch 142/150\n",
            "6/6 [==============================] - 0s 6ms/step - loss: 0.0823 - mean_squared_error: 0.0823 - val_loss: 0.0733 - val_mean_squared_error: 0.0733\n",
            "Epoch 143/150\n",
            "6/6 [==============================] - 0s 6ms/step - loss: 0.0818 - mean_squared_error: 0.0818 - val_loss: 0.0734 - val_mean_squared_error: 0.0734\n",
            "Epoch 144/150\n",
            "6/6 [==============================] - 0s 5ms/step - loss: 0.0813 - mean_squared_error: 0.0813 - val_loss: 0.0736 - val_mean_squared_error: 0.0736\n",
            "Epoch 145/150\n",
            "6/6 [==============================] - 0s 5ms/step - loss: 0.0809 - mean_squared_error: 0.0809 - val_loss: 0.0736 - val_mean_squared_error: 0.0736\n",
            "Epoch 146/150\n",
            "6/6 [==============================] - 0s 6ms/step - loss: 0.0805 - mean_squared_error: 0.0805 - val_loss: 0.0736 - val_mean_squared_error: 0.0736\n",
            "Epoch 147/150\n",
            "6/6 [==============================] - 0s 6ms/step - loss: 0.0800 - mean_squared_error: 0.0800 - val_loss: 0.0733 - val_mean_squared_error: 0.0733\n",
            "Epoch 148/150\n",
            "6/6 [==============================] - 0s 5ms/step - loss: 0.0794 - mean_squared_error: 0.0794 - val_loss: 0.0730 - val_mean_squared_error: 0.0730\n",
            "Epoch 149/150\n",
            "6/6 [==============================] - 0s 6ms/step - loss: 0.0791 - mean_squared_error: 0.0791 - val_loss: 0.0726 - val_mean_squared_error: 0.0726\n",
            "Epoch 150/150\n",
            "6/6 [==============================] - 0s 5ms/step - loss: 0.0785 - mean_squared_error: 0.0785 - val_loss: 0.0727 - val_mean_squared_error: 0.0727\n"
          ],
          "name": "stdout"
        }
      ]
    },
    {
      "cell_type": "code",
      "metadata": {
        "id": "32jFj14Qz_qx",
        "outputId": "af48e380-d3c8-406e-8da3-e5aae41bd660",
        "colab": {
          "base_uri": "https://localhost:8080/",
          "height": 295
        }
      },
      "source": [
        "from google.colab import files\n",
        "ls=plt.figure()\n",
        "plt.plot(history.history['loss'])\n",
        "plt.plot(history.history['val_loss'])\n",
        "plt.title('model loss')\n",
        "plt.ylabel('loss')\n",
        "plt.xlabel('epoch')\n",
        "plt.legend(['train', 'test'], loc='upper left')\n",
        "ls.show()\n",
        "ls.savefig('/content/drive/My Drive/NYC_Covid/loss-expset_intel.png')\n",
        "#files.download('loss-1.png')"
      ],
      "execution_count": null,
      "outputs": [
        {
          "output_type": "display_data",
          "data": {
            "image/png": "[encoded data removed]",
            "text/plain": [
              "<Figure size 432x288 with 1 Axes>"
            ]
          },
          "metadata": {
            "tags": [],
            "needs_background": "light"
          }
        }
      ]
    },
    {
      "cell_type": "code",
      "metadata": {
        "id": "ofMIsQfS3slr",
        "outputId": "7746c7dd-d4ac-4a7e-b3bc-6b7259a3d554",
        "colab": {
          "base_uri": "https://localhost:8080/"
        }
      },
      "source": [
        "abit = model.predict(X_test)\n",
        "from sklearn.metrics import mean_squared_error\n",
        "print('MSE ' + str(mean_squared_error(abit, y_test)))\n",
        "print('RMSE ' + str(np.sqrt(mean_squared_error(abit, y_test))))"
      ],
      "execution_count": null,
      "outputs": [
        {
          "output_type": "stream",
          "text": [
            "MSE 0.07268890367995778\n",
            "RMSE 0.26960879748249644\n"
          ],
          "name": "stdout"
        }
      ]
    },
    {
      "cell_type": "code",
      "metadata": {
        "id": "sv0iP24XOhHK",
        "outputId": "92908474-12d7-40c6-ca8a-dd27a8aac543",
        "colab": {
          "base_uri": "https://localhost:8080/",
          "height": 265
        }
      },
      "source": [
        "ls=plt.figure()\n",
        "plt.plot(abit,'ro')\n",
        "plt.plot(y_test,'bo')\n",
        "plt.legend(['DNNs prediction', 'Ground Truth'], loc='upper right')\n",
        "ls.show()\n",
        "ls.savefig('/content/drive/My Drive/NYC_Covid/loss-expset_res_intel.png')\n"
      ],
      "execution_count": null,
      "outputs": [
        {
          "output_type": "display_data",
          "data": {
            "image/png": "[encoded data removed]",
            "text/plain": [
              "<Figure size 432x288 with 1 Axes>"
            ]
          },
          "metadata": {
            "tags": [],
            "needs_background": "light"
          }
        }
      ]
    },
    {
      "cell_type": "code",
      "metadata": {
        "id": "DXy42VNzHGSi",
        "outputId": "6346e5e0-556f-460b-e19f-60f4c758103a",
        "colab": {
          "base_uri": "https://localhost:8080/"
        }
      },
      "source": [
        "abit = model.predict(inp)\n",
        "from sklearn.metrics import mean_squared_error\n",
        "print('MSE ' + str(mean_squared_error(abit, out.T)))\n",
        "print('RMSE ' + str(np.sqrt(mean_squared_error(abit, out.T))))"
      ],
      "execution_count": null,
      "outputs": [
        {
          "output_type": "stream",
          "text": [
            "MSE 0.07699382113509365\n",
            "RMSE 0.2774776047451283\n"
          ],
          "name": "stdout"
        }
      ]
    },
    {
      "cell_type": "code",
      "metadata": {
        "id": "TSBwguZlwYOM",
        "outputId": "090bd059-cedf-4299-a9fc-a29a4990f3eb",
        "colab": {
          "base_uri": "https://localhost:8080/",
          "height": 269
        }
      },
      "source": [
        "ls=plt.figure()\n",
        "plt.plot(abit,'ro')\n",
        "plt.plot(out.T,'bo')\n",
        "plt.legend(['DNNs prediction', 'Ground Truth'], loc='upper right')\n",
        "ls.show()\n",
        "ls.savefig('/content/drive/My Drive/NYC_Covid/loss-expset_res_alldata_intel.png')"
      ],
      "execution_count": null,
      "outputs": [
        {
          "output_type": "display_data",
          "data": {
            "image/png": "[encoded data removed]",
            "text/plain": [
              "<Figure size 432x288 with 1 Axes>"
            ]
          },
          "metadata": {
            "tags": [],
            "needs_background": "light"
          }
        }
      ]
    }
  ]
}
